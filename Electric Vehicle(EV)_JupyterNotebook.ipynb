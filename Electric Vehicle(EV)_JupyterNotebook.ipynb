{
 "cells": [
  {
   "cell_type": "code",
   "execution_count": 348,
   "id": "85cf94f5",
   "metadata": {},
   "outputs": [],
   "source": [
    "import numpy as np \n",
    "import pandas as pd \n",
    "import seaborn as sns\n",
    "import statsmodels.api as sm\n",
    "\n",
    "import matplotlib.pyplot as plt\n",
    "import plotly.express as ex\n",
    "from scipy.stats import ttest_rel,ttest_ind\n",
    "\n",
    "import matplotlib as matplot\n",
    "%matplotlib inline\n",
    "\n",
    "import plotly.graph_objects as go\n",
    "from plotly.subplots import make_subplots\n",
    "from plotly.offline import init_notebook_mode, iplot\n",
    "\n",
    "from sklearn.preprocessing import LabelEncoder\n",
    "from sklearn.model_selection import train_test_split\n",
    "from sklearn.neighbors import KNeighborsClassifier\n",
    "from sklearn.svm import SVC\n",
    "from sklearn.metrics import confusion_matrix\n",
    "from sklearn.linear_model import LogisticRegression"
   ]
  },
  {
   "cell_type": "code",
   "execution_count": 349,
   "id": "3ef80686",
   "metadata": {},
   "outputs": [
    {
     "data": {
      "text/html": [
       "<div>\n",
       "<style scoped>\n",
       "    .dataframe tbody tr th:only-of-type {\n",
       "        vertical-align: middle;\n",
       "    }\n",
       "\n",
       "    .dataframe tbody tr th {\n",
       "        vertical-align: top;\n",
       "    }\n",
       "\n",
       "    .dataframe thead th {\n",
       "        text-align: right;\n",
       "    }\n",
       "</style>\n",
       "<table border=\"1\" class=\"dataframe\">\n",
       "  <thead>\n",
       "    <tr style=\"text-align: right;\">\n",
       "      <th></th>\n",
       "      <th>Brand</th>\n",
       "      <th>Model</th>\n",
       "      <th>AccelSec</th>\n",
       "      <th>TopSpeed_KmH</th>\n",
       "      <th>Range_Km</th>\n",
       "      <th>Efficiency_WhKm</th>\n",
       "      <th>FastCharge_KmH</th>\n",
       "      <th>RapidCharge</th>\n",
       "      <th>PowerTrain</th>\n",
       "      <th>PlugType</th>\n",
       "      <th>BodyStyle</th>\n",
       "      <th>Segment</th>\n",
       "      <th>Seats</th>\n",
       "      <th>PriceEuro</th>\n",
       "    </tr>\n",
       "  </thead>\n",
       "  <tbody>\n",
       "    <tr>\n",
       "      <th>0</th>\n",
       "      <td>Tesla</td>\n",
       "      <td>Model 3 Long Range Dual Motor</td>\n",
       "      <td>4.6</td>\n",
       "      <td>233</td>\n",
       "      <td>450</td>\n",
       "      <td>161</td>\n",
       "      <td>940</td>\n",
       "      <td>Yes</td>\n",
       "      <td>AWD</td>\n",
       "      <td>Type 2 CCS</td>\n",
       "      <td>Sedan</td>\n",
       "      <td>D</td>\n",
       "      <td>5</td>\n",
       "      <td>55480</td>\n",
       "    </tr>\n",
       "    <tr>\n",
       "      <th>1</th>\n",
       "      <td>Volkswagen</td>\n",
       "      <td>ID.3 Pure</td>\n",
       "      <td>10.0</td>\n",
       "      <td>160</td>\n",
       "      <td>270</td>\n",
       "      <td>167</td>\n",
       "      <td>250</td>\n",
       "      <td>Yes</td>\n",
       "      <td>RWD</td>\n",
       "      <td>Type 2 CCS</td>\n",
       "      <td>Hatchback</td>\n",
       "      <td>C</td>\n",
       "      <td>5</td>\n",
       "      <td>30000</td>\n",
       "    </tr>\n",
       "    <tr>\n",
       "      <th>2</th>\n",
       "      <td>Polestar</td>\n",
       "      <td>2</td>\n",
       "      <td>4.7</td>\n",
       "      <td>210</td>\n",
       "      <td>400</td>\n",
       "      <td>181</td>\n",
       "      <td>620</td>\n",
       "      <td>Yes</td>\n",
       "      <td>AWD</td>\n",
       "      <td>Type 2 CCS</td>\n",
       "      <td>Liftback</td>\n",
       "      <td>D</td>\n",
       "      <td>5</td>\n",
       "      <td>56440</td>\n",
       "    </tr>\n",
       "    <tr>\n",
       "      <th>3</th>\n",
       "      <td>BMW</td>\n",
       "      <td>iX3</td>\n",
       "      <td>6.8</td>\n",
       "      <td>180</td>\n",
       "      <td>360</td>\n",
       "      <td>206</td>\n",
       "      <td>560</td>\n",
       "      <td>Yes</td>\n",
       "      <td>RWD</td>\n",
       "      <td>Type 2 CCS</td>\n",
       "      <td>SUV</td>\n",
       "      <td>D</td>\n",
       "      <td>5</td>\n",
       "      <td>68040</td>\n",
       "    </tr>\n",
       "    <tr>\n",
       "      <th>4</th>\n",
       "      <td>Honda</td>\n",
       "      <td>e</td>\n",
       "      <td>9.5</td>\n",
       "      <td>145</td>\n",
       "      <td>170</td>\n",
       "      <td>168</td>\n",
       "      <td>190</td>\n",
       "      <td>Yes</td>\n",
       "      <td>RWD</td>\n",
       "      <td>Type 2 CCS</td>\n",
       "      <td>Hatchback</td>\n",
       "      <td>B</td>\n",
       "      <td>4</td>\n",
       "      <td>32997</td>\n",
       "    </tr>\n",
       "  </tbody>\n",
       "</table>\n",
       "</div>"
      ],
      "text/plain": [
       "         Brand                          Model  AccelSec  TopSpeed_KmH  \\\n",
       "0       Tesla   Model 3 Long Range Dual Motor       4.6           233   \n",
       "1  Volkswagen                       ID.3 Pure      10.0           160   \n",
       "2    Polestar                               2       4.7           210   \n",
       "3         BMW                            iX3        6.8           180   \n",
       "4       Honda                              e        9.5           145   \n",
       "\n",
       "   Range_Km  Efficiency_WhKm FastCharge_KmH RapidCharge PowerTrain  \\\n",
       "0       450              161            940         Yes        AWD   \n",
       "1       270              167            250         Yes        RWD   \n",
       "2       400              181            620         Yes        AWD   \n",
       "3       360              206            560         Yes        RWD   \n",
       "4       170              168            190         Yes        RWD   \n",
       "\n",
       "     PlugType  BodyStyle Segment  Seats  PriceEuro  \n",
       "0  Type 2 CCS      Sedan       D      5      55480  \n",
       "1  Type 2 CCS  Hatchback       C      5      30000  \n",
       "2  Type 2 CCS   Liftback       D      5      56440  \n",
       "3  Type 2 CCS        SUV       D      5      68040  \n",
       "4  Type 2 CCS  Hatchback       B      4      32997  "
      ]
     },
     "execution_count": 349,
     "metadata": {},
     "output_type": "execute_result"
    }
   ],
   "source": [
    "EV = pd.read_csv('C:/Users/HP/Desktop/DS Project by FEYNN LAB/For Project EV/For 3/ElectricCarData_Clean.csv')\n",
    "EV.head()"
   ]
  },
  {
   "cell_type": "markdown",
   "id": "92bb0939",
   "metadata": {},
   "source": [
    "### EDA"
   ]
  },
  {
   "cell_type": "code",
   "execution_count": 350,
   "id": "7a456422",
   "metadata": {},
   "outputs": [
    {
     "data": {
      "text/plain": [
       "(103, 14)"
      ]
     },
     "execution_count": 350,
     "metadata": {},
     "output_type": "execute_result"
    }
   ],
   "source": [
    "EV.shape"
   ]
  },
  {
   "cell_type": "code",
   "execution_count": 351,
   "id": "2d92d79d",
   "metadata": {},
   "outputs": [
    {
     "data": {
      "text/plain": [
       "Brand               object\n",
       "Model               object\n",
       "AccelSec           float64\n",
       "TopSpeed_KmH         int64\n",
       "Range_Km             int64\n",
       "Efficiency_WhKm      int64\n",
       "FastCharge_KmH      object\n",
       "RapidCharge         object\n",
       "PowerTrain          object\n",
       "PlugType            object\n",
       "BodyStyle           object\n",
       "Segment             object\n",
       "Seats                int64\n",
       "PriceEuro            int64\n",
       "dtype: object"
      ]
     },
     "execution_count": 351,
     "metadata": {},
     "output_type": "execute_result"
    }
   ],
   "source": [
    "EV.dtypes"
   ]
  },
  {
   "cell_type": "code",
   "execution_count": 352,
   "id": "e6a80aa3",
   "metadata": {},
   "outputs": [
    {
     "name": "stdout",
     "output_type": "stream",
     "text": [
      "<class 'pandas.core.frame.DataFrame'>\n",
      "RangeIndex: 103 entries, 0 to 102\n",
      "Data columns (total 14 columns):\n",
      " #   Column           Non-Null Count  Dtype  \n",
      "---  ------           --------------  -----  \n",
      " 0   Brand            103 non-null    object \n",
      " 1   Model            103 non-null    object \n",
      " 2   AccelSec         103 non-null    float64\n",
      " 3   TopSpeed_KmH     103 non-null    int64  \n",
      " 4   Range_Km         103 non-null    int64  \n",
      " 5   Efficiency_WhKm  103 non-null    int64  \n",
      " 6   FastCharge_KmH   103 non-null    object \n",
      " 7   RapidCharge      103 non-null    object \n",
      " 8   PowerTrain       103 non-null    object \n",
      " 9   PlugType         103 non-null    object \n",
      " 10  BodyStyle        103 non-null    object \n",
      " 11  Segment          103 non-null    object \n",
      " 12  Seats            103 non-null    int64  \n",
      " 13  PriceEuro        103 non-null    int64  \n",
      "dtypes: float64(1), int64(5), object(8)\n",
      "memory usage: 11.4+ KB\n"
     ]
    }
   ],
   "source": [
    "EV.info()"
   ]
  },
  {
   "cell_type": "code",
   "execution_count": 353,
   "id": "ccc60682",
   "metadata": {},
   "outputs": [
    {
     "data": {
      "text/html": [
       "<div>\n",
       "<style scoped>\n",
       "    .dataframe tbody tr th:only-of-type {\n",
       "        vertical-align: middle;\n",
       "    }\n",
       "\n",
       "    .dataframe tbody tr th {\n",
       "        vertical-align: top;\n",
       "    }\n",
       "\n",
       "    .dataframe thead th {\n",
       "        text-align: right;\n",
       "    }\n",
       "</style>\n",
       "<table border=\"1\" class=\"dataframe\">\n",
       "  <thead>\n",
       "    <tr style=\"text-align: right;\">\n",
       "      <th></th>\n",
       "      <th>AccelSec</th>\n",
       "      <th>TopSpeed_KmH</th>\n",
       "      <th>Range_Km</th>\n",
       "      <th>Efficiency_WhKm</th>\n",
       "      <th>Seats</th>\n",
       "      <th>PriceEuro</th>\n",
       "    </tr>\n",
       "  </thead>\n",
       "  <tbody>\n",
       "    <tr>\n",
       "      <th>count</th>\n",
       "      <td>103.000000</td>\n",
       "      <td>103.000000</td>\n",
       "      <td>103.000000</td>\n",
       "      <td>103.000000</td>\n",
       "      <td>103.000000</td>\n",
       "      <td>103.000000</td>\n",
       "    </tr>\n",
       "    <tr>\n",
       "      <th>mean</th>\n",
       "      <td>7.396117</td>\n",
       "      <td>179.194175</td>\n",
       "      <td>338.786408</td>\n",
       "      <td>189.165049</td>\n",
       "      <td>4.883495</td>\n",
       "      <td>55811.563107</td>\n",
       "    </tr>\n",
       "    <tr>\n",
       "      <th>std</th>\n",
       "      <td>3.017430</td>\n",
       "      <td>43.573030</td>\n",
       "      <td>126.014444</td>\n",
       "      <td>29.566839</td>\n",
       "      <td>0.795834</td>\n",
       "      <td>34134.665280</td>\n",
       "    </tr>\n",
       "    <tr>\n",
       "      <th>min</th>\n",
       "      <td>2.100000</td>\n",
       "      <td>123.000000</td>\n",
       "      <td>95.000000</td>\n",
       "      <td>104.000000</td>\n",
       "      <td>2.000000</td>\n",
       "      <td>20129.000000</td>\n",
       "    </tr>\n",
       "    <tr>\n",
       "      <th>25%</th>\n",
       "      <td>5.100000</td>\n",
       "      <td>150.000000</td>\n",
       "      <td>250.000000</td>\n",
       "      <td>168.000000</td>\n",
       "      <td>5.000000</td>\n",
       "      <td>34429.500000</td>\n",
       "    </tr>\n",
       "    <tr>\n",
       "      <th>50%</th>\n",
       "      <td>7.300000</td>\n",
       "      <td>160.000000</td>\n",
       "      <td>340.000000</td>\n",
       "      <td>180.000000</td>\n",
       "      <td>5.000000</td>\n",
       "      <td>45000.000000</td>\n",
       "    </tr>\n",
       "    <tr>\n",
       "      <th>75%</th>\n",
       "      <td>9.000000</td>\n",
       "      <td>200.000000</td>\n",
       "      <td>400.000000</td>\n",
       "      <td>203.000000</td>\n",
       "      <td>5.000000</td>\n",
       "      <td>65000.000000</td>\n",
       "    </tr>\n",
       "    <tr>\n",
       "      <th>max</th>\n",
       "      <td>22.400000</td>\n",
       "      <td>410.000000</td>\n",
       "      <td>970.000000</td>\n",
       "      <td>273.000000</td>\n",
       "      <td>7.000000</td>\n",
       "      <td>215000.000000</td>\n",
       "    </tr>\n",
       "  </tbody>\n",
       "</table>\n",
       "</div>"
      ],
      "text/plain": [
       "         AccelSec  TopSpeed_KmH    Range_Km  Efficiency_WhKm       Seats  \\\n",
       "count  103.000000    103.000000  103.000000       103.000000  103.000000   \n",
       "mean     7.396117    179.194175  338.786408       189.165049    4.883495   \n",
       "std      3.017430     43.573030  126.014444        29.566839    0.795834   \n",
       "min      2.100000    123.000000   95.000000       104.000000    2.000000   \n",
       "25%      5.100000    150.000000  250.000000       168.000000    5.000000   \n",
       "50%      7.300000    160.000000  340.000000       180.000000    5.000000   \n",
       "75%      9.000000    200.000000  400.000000       203.000000    5.000000   \n",
       "max     22.400000    410.000000  970.000000       273.000000    7.000000   \n",
       "\n",
       "           PriceEuro  \n",
       "count     103.000000  \n",
       "mean    55811.563107  \n",
       "std     34134.665280  \n",
       "min     20129.000000  \n",
       "25%     34429.500000  \n",
       "50%     45000.000000  \n",
       "75%     65000.000000  \n",
       "max    215000.000000  "
      ]
     },
     "execution_count": 353,
     "metadata": {},
     "output_type": "execute_result"
    }
   ],
   "source": [
    "EV.describe()"
   ]
  },
  {
   "cell_type": "code",
   "execution_count": 354,
   "id": "65aabe16",
   "metadata": {},
   "outputs": [
    {
     "data": {
      "text/plain": [
       "Brand              0\n",
       "Model              0\n",
       "AccelSec           0\n",
       "TopSpeed_KmH       0\n",
       "Range_Km           0\n",
       "Efficiency_WhKm    0\n",
       "FastCharge_KmH     0\n",
       "RapidCharge        0\n",
       "PowerTrain         0\n",
       "PlugType           0\n",
       "BodyStyle          0\n",
       "Segment            0\n",
       "Seats              0\n",
       "PriceEuro          0\n",
       "dtype: int64"
      ]
     },
     "execution_count": 354,
     "metadata": {},
     "output_type": "execute_result"
    }
   ],
   "source": [
    "EV.isnull().sum()"
   ]
  },
  {
   "cell_type": "code",
   "execution_count": 355,
   "id": "fa3d17ad",
   "metadata": {},
   "outputs": [
    {
     "data": {
      "text/plain": [
       "Index(['Brand', 'Model', 'AccelSec', 'TopSpeed_KmH', 'Range_Km',\n",
       "       'Efficiency_WhKm', 'FastCharge_KmH', 'RapidCharge', 'PowerTrain',\n",
       "       'PlugType', 'BodyStyle', 'Segment', 'Seats', 'PriceEuro'],\n",
       "      dtype='object')"
      ]
     },
     "execution_count": 355,
     "metadata": {},
     "output_type": "execute_result"
    }
   ],
   "source": [
    "EV.columns"
   ]
  },
  {
   "cell_type": "code",
   "execution_count": 356,
   "id": "89619fdd",
   "metadata": {},
   "outputs": [
    {
     "data": {
      "text/plain": [
       "Brand               33\n",
       "Model              102\n",
       "AccelSec            55\n",
       "TopSpeed_KmH        25\n",
       "Range_Km            50\n",
       "Efficiency_WhKm     54\n",
       "FastCharge_KmH      51\n",
       "RapidCharge          2\n",
       "PowerTrain           3\n",
       "PlugType             4\n",
       "BodyStyle            9\n",
       "Segment              8\n",
       "Seats                5\n",
       "PriceEuro           87\n",
       "dtype: int64"
      ]
     },
     "execution_count": 356,
     "metadata": {},
     "output_type": "execute_result"
    }
   ],
   "source": [
    "EV.nunique()"
   ]
  },
  {
   "cell_type": "code",
   "execution_count": 357,
   "id": "b27e666d",
   "metadata": {},
   "outputs": [
    {
     "name": "stdout",
     "output_type": "stream",
     "text": [
      "103\n",
      "103\n",
      "103\n",
      "103\n",
      "103\n",
      "103\n",
      "103\n",
      "103\n",
      "103\n",
      "103\n",
      "103\n",
      "103\n",
      "103\n",
      "103\n"
     ]
    }
   ],
   "source": [
    "for i in EV.columns :\n",
    "    z=EV[i].value_counts().sum()\n",
    "    print(z)"
   ]
  },
  {
   "cell_type": "code",
   "execution_count": 358,
   "id": "07b7bdc2",
   "metadata": {},
   "outputs": [
    {
     "data": {
      "text/plain": [
       "103"
      ]
     },
     "execution_count": 358,
     "metadata": {},
     "output_type": "execute_result"
    }
   ],
   "source": [
    "EV[\"AccelSec\"].value_counts().sum()"
   ]
  },
  {
   "cell_type": "code",
   "execution_count": 359,
   "id": "2f35d97b",
   "metadata": {},
   "outputs": [
    {
     "data": {
      "text/plain": [
       "<AxesSubplot:>"
      ]
     },
     "execution_count": 359,
     "metadata": {},
     "output_type": "execute_result"
    },
    {
     "data": {
      "image/png": "[encoded data removed]",
      "text/plain": [
       "<Figure size 432x288 with 1 Axes>"
      ]
     },
     "metadata": {
      "needs_background": "light"
     },
     "output_type": "display_data"
    }
   ],
   "source": [
    "EV['PriceEuro'].hist(bins=10)"
   ]
  },
  {
   "cell_type": "code",
   "execution_count": 360,
   "id": "70568658",
   "metadata": {},
   "outputs": [
    {
     "data": {
      "image/png": "[encoded data removed]",
      "text/plain": [
       "<Figure size 432x288 with 1 Axes>"
      ]
     },
     "metadata": {
      "needs_background": "light"
     },
     "output_type": "display_data"
    }
   ],
   "source": [
    "EV.plot(kind=\"scatter\",x='TopSpeed_KmH',y='PriceEuro',color='Red',marker='+')\n",
    "plt.xlabel(\"TopSpeed\")\n",
    "plt.ylabel(\"Price\")\n",
    "plt.show()"
   ]
  },
  {
   "cell_type": "code",
   "execution_count": 361,
   "id": "b12c1e86",
   "metadata": {},
   "outputs": [
    {
     "data": {
      "text/html": [
       "<div>\n",
       "<style scoped>\n",
       "    .dataframe tbody tr th:only-of-type {\n",
       "        vertical-align: middle;\n",
       "    }\n",
       "\n",
       "    .dataframe tbody tr th {\n",
       "        vertical-align: top;\n",
       "    }\n",
       "\n",
       "    .dataframe thead th {\n",
       "        text-align: right;\n",
       "    }\n",
       "</style>\n",
       "<table border=\"1\" class=\"dataframe\">\n",
       "  <thead>\n",
       "    <tr style=\"text-align: right;\">\n",
       "      <th></th>\n",
       "      <th>PowerTrain</th>\n",
       "      <th>Model</th>\n",
       "    </tr>\n",
       "  </thead>\n",
       "  <tbody>\n",
       "    <tr>\n",
       "      <th>0</th>\n",
       "      <td>AWD</td>\n",
       "      <td>41</td>\n",
       "    </tr>\n",
       "    <tr>\n",
       "      <th>1</th>\n",
       "      <td>FWD</td>\n",
       "      <td>37</td>\n",
       "    </tr>\n",
       "    <tr>\n",
       "      <th>2</th>\n",
       "      <td>RWD</td>\n",
       "      <td>25</td>\n",
       "    </tr>\n",
       "  </tbody>\n",
       "</table>\n",
       "</div>"
      ],
      "text/plain": [
       "  PowerTrain  Model\n",
       "0        AWD     41\n",
       "1        FWD     37\n",
       "2        RWD     25"
      ]
     },
     "execution_count": 361,
     "metadata": {},
     "output_type": "execute_result"
    }
   ],
   "source": [
    "EV.groupby('PowerTrain')['Model'].agg('count').reset_index()"
   ]
  },
  {
   "cell_type": "code",
   "execution_count": 362,
   "id": "8730b0c0",
   "metadata": {},
   "outputs": [
    {
     "data": {
      "text/html": [
       "<div>\n",
       "<style scoped>\n",
       "    .dataframe tbody tr th:only-of-type {\n",
       "        vertical-align: middle;\n",
       "    }\n",
       "\n",
       "    .dataframe tbody tr th {\n",
       "        vertical-align: top;\n",
       "    }\n",
       "\n",
       "    .dataframe thead th {\n",
       "        text-align: right;\n",
       "    }\n",
       "</style>\n",
       "<table border=\"1\" class=\"dataframe\">\n",
       "  <thead>\n",
       "    <tr style=\"text-align: right;\">\n",
       "      <th></th>\n",
       "      <th>AccelSec</th>\n",
       "      <th>TopSpeed_KmH</th>\n",
       "      <th>Range_Km</th>\n",
       "      <th>Efficiency_WhKm</th>\n",
       "      <th>Seats</th>\n",
       "      <th>PriceEuro</th>\n",
       "    </tr>\n",
       "  </thead>\n",
       "  <tbody>\n",
       "    <tr>\n",
       "      <th>AccelSec</th>\n",
       "      <td>1.000000</td>\n",
       "      <td>-0.786195</td>\n",
       "      <td>-0.677062</td>\n",
       "      <td>-0.382904</td>\n",
       "      <td>-0.175335</td>\n",
       "      <td>-0.627174</td>\n",
       "    </tr>\n",
       "    <tr>\n",
       "      <th>TopSpeed_KmH</th>\n",
       "      <td>-0.786195</td>\n",
       "      <td>1.000000</td>\n",
       "      <td>0.746662</td>\n",
       "      <td>0.355675</td>\n",
       "      <td>0.126470</td>\n",
       "      <td>0.829057</td>\n",
       "    </tr>\n",
       "    <tr>\n",
       "      <th>Range_Km</th>\n",
       "      <td>-0.677062</td>\n",
       "      <td>0.746662</td>\n",
       "      <td>1.000000</td>\n",
       "      <td>0.313077</td>\n",
       "      <td>0.300163</td>\n",
       "      <td>0.674844</td>\n",
       "    </tr>\n",
       "    <tr>\n",
       "      <th>Efficiency_WhKm</th>\n",
       "      <td>-0.382904</td>\n",
       "      <td>0.355675</td>\n",
       "      <td>0.313077</td>\n",
       "      <td>1.000000</td>\n",
       "      <td>0.301230</td>\n",
       "      <td>0.396705</td>\n",
       "    </tr>\n",
       "    <tr>\n",
       "      <th>Seats</th>\n",
       "      <td>-0.175335</td>\n",
       "      <td>0.126470</td>\n",
       "      <td>0.300163</td>\n",
       "      <td>0.301230</td>\n",
       "      <td>1.000000</td>\n",
       "      <td>0.020920</td>\n",
       "    </tr>\n",
       "    <tr>\n",
       "      <th>PriceEuro</th>\n",
       "      <td>-0.627174</td>\n",
       "      <td>0.829057</td>\n",
       "      <td>0.674844</td>\n",
       "      <td>0.396705</td>\n",
       "      <td>0.020920</td>\n",
       "      <td>1.000000</td>\n",
       "    </tr>\n",
       "  </tbody>\n",
       "</table>\n",
       "</div>"
      ],
      "text/plain": [
       "                 AccelSec  TopSpeed_KmH  Range_Km  Efficiency_WhKm     Seats  \\\n",
       "AccelSec         1.000000     -0.786195 -0.677062        -0.382904 -0.175335   \n",
       "TopSpeed_KmH    -0.786195      1.000000  0.746662         0.355675  0.126470   \n",
       "Range_Km        -0.677062      0.746662  1.000000         0.313077  0.300163   \n",
       "Efficiency_WhKm -0.382904      0.355675  0.313077         1.000000  0.301230   \n",
       "Seats           -0.175335      0.126470  0.300163         0.301230  1.000000   \n",
       "PriceEuro       -0.627174      0.829057  0.674844         0.396705  0.020920   \n",
       "\n",
       "                 PriceEuro  \n",
       "AccelSec         -0.627174  \n",
       "TopSpeed_KmH      0.829057  \n",
       "Range_Km          0.674844  \n",
       "Efficiency_WhKm   0.396705  \n",
       "Seats             0.020920  \n",
       "PriceEuro         1.000000  "
      ]
     },
     "execution_count": 362,
     "metadata": {},
     "output_type": "execute_result"
    }
   ],
   "source": [
    "EV.corr()"
   ]
  },
  {
   "cell_type": "code",
   "execution_count": 371,
   "id": "9d7d0398",
   "metadata": {},
   "outputs": [
    {
     "data": {
      "image/png": "[encoded data removed]",
      "text/plain": [
       "<Figure size 360x360 with 1 Axes>"
      ]
     },
     "metadata": {
      "needs_background": "light"
     },
     "output_type": "display_data"
    }
   ],
   "source": [
    "f = plt.figure(figsize = (5, 5))\n",
    "plt.matshow(df.corr(), fignum = f.number)\n",
    "plt.xticks(range(df.select_dtypes(['number']).shape[1]), df.select_dtypes(['number']).columns, rotation=90)\n",
    "plt.yticks(range(df.select_dtypes(['number']).shape[1]), df.select_dtypes(['number']).columns)\n",
    "plt.show()"
   ]
  },
  {
   "cell_type": "code",
   "execution_count": 372,
   "id": "97b92466",
   "metadata": {},
   "outputs": [
    {
     "data": {
      "text/plain": [
       "Index(['AccelSec', 'TopSpeed_KmH', 'Range_Km', 'Efficiency_WhKm', 'Seats',\n",
       "       'PriceEuro'],\n",
       "      dtype='object')"
      ]
     },
     "execution_count": 372,
     "metadata": {},
     "output_type": "execute_result"
    }
   ],
   "source": [
    "x=EV.select_dtypes(exclude=[\"object\"]).columns\n",
    "x"
   ]
  },
  {
   "cell_type": "code",
   "execution_count": 373,
   "id": "fcd594f8",
   "metadata": {},
   "outputs": [
    {
     "name": "stdout",
     "output_type": "stream",
     "text": [
      "AccelSec\n"
     ]
    },
    {
     "data": {
      "image/png": "[encoded data removed]",
      "text/plain": [
       "<Figure size 432x288 with 1 Axes>"
      ]
     },
     "metadata": {
      "needs_background": "light"
     },
     "output_type": "display_data"
    },
    {
     "name": "stdout",
     "output_type": "stream",
     "text": [
      "TopSpeed_KmH\n"
     ]
    },
    {
     "data": {
      "image/png": "[encoded data removed]",
      "text/plain": [
       "<Figure size 432x288 with 1 Axes>"
      ]
     },
     "metadata": {
      "needs_background": "light"
     },
     "output_type": "display_data"
    },
    {
     "name": "stdout",
     "output_type": "stream",
     "text": [
      "Range_Km\n"
     ]
    },
    {
     "data": {
      "image/png": "[encoded data removed]",
      "text/plain": [
       "<Figure size 432x288 with 1 Axes>"
      ]
     },
     "metadata": {
      "needs_background": "light"
     },
     "output_type": "display_data"
    },
    {
     "name": "stdout",
     "output_type": "stream",
     "text": [
      "Efficiency_WhKm\n"
     ]
    },
    {
     "data": {
      "image/png": "[encoded data removed]",
      "text/plain": [
       "<Figure size 432x288 with 1 Axes>"
      ]
     },
     "metadata": {
      "needs_background": "light"
     },
     "output_type": "display_data"
    },
    {
     "name": "stdout",
     "output_type": "stream",
     "text": [
      "Seats\n"
     ]
    },
    {
     "data": {
      "image/png": "[encoded data removed]",
      "text/plain": [
       "<Figure size 432x288 with 1 Axes>"
      ]
     },
     "metadata": {
      "needs_background": "light"
     },
     "output_type": "display_data"
    },
    {
     "name": "stdout",
     "output_type": "stream",
     "text": [
      "PriceEuro\n"
     ]
    },
    {
     "data": {
      "image/png": "[encoded data removed]",
      "text/plain": [
       "<Figure size 432x288 with 1 Axes>"
      ]
     },
     "metadata": {
      "needs_background": "light"
     },
     "output_type": "display_data"
    }
   ],
   "source": [
    "for i in x:\n",
    "    plt.figure(i)\n",
    "    print(i)\n",
    "    plt.boxplot(df[i])\n",
    "    plt.show()"
   ]
  },
  {
   "cell_type": "markdown",
   "id": "d2deebaa",
   "metadata": {},
   "source": [
    "### Brand vs Price_Euro"
   ]
  },
  {
   "cell_type": "code",
   "execution_count": 363,
   "id": "a7a15838",
   "metadata": {},
   "outputs": [
    {
     "data": {
      "application/vnd.plotly.v1+json": {
       "config": {
        "plotlyServerURL": "https://plot.ly"
       },
       "data": [
        {
         "alignmentgroup": "True",
         "boxpoints": "all",
         "customdata": [
          [
           "Model 3 Long Range Dual Motor"
          ],
          [
           "Model 3 Standard Range Plus"
          ],
          [
           "Model Y Long Range Dual Motor"
          ],
          [
           "Model 3 Long Range Performance"
          ],
          [
           "Cybertruck Tri Motor"
          ],
          [
           "Model S Long Range"
          ],
          [
           "Roadster "
          ],
          [
           "Model X Long Range"
          ],
          [
           "Model S Performance"
          ],
          [
           "Model Y Long Range Performance"
          ],
          [
           "Cybertruck Dual Motor"
          ],
          [
           "Model X Performance"
          ],
          [
           "Cybertruck Single Motor"
          ]
         ],
         "hovertemplate": "Brand=%{y}<br>Price (€)=%{x}<br>Model=%{customdata[0]}<extra></extra>",
         "legendgroup": "Tesla ",
         "marker": {
          "color": "#F8766D"
         },
         "name": "Tesla ",
         "notched": false,
         "offsetgroup": "Tesla ",
         "orientation": "h",
         "showlegend": true,
         "type": "box",
         "x": [
          55480,
          46380,
          58620,
          61480,
          75000,
          79990,
          215000,
          85990,
          96990,
          65620,
          55000,
          102990,
          45000
         ],
         "x0": " ",
         "xaxis": "x",
         "y": [
          "Tesla ",
          "Tesla ",
          "Tesla ",
          "Tesla ",
          "Tesla ",
          "Tesla ",
          "Tesla ",
          "Tesla ",
          "Tesla ",
          "Tesla ",
          "Tesla ",
          "Tesla ",
          "Tesla "
         ],
         "y0": " ",
         "yaxis": "y"
        },
        {
         "alignmentgroup": "True",
         "boxpoints": "all",
         "customdata": [
          [
           "ID.3 Pure"
          ],
          [
           "e-Golf "
          ],
          [
           "ID.3 Pro S"
          ],
          [
           "e-Up! "
          ],
          [
           "ID.4 "
          ],
          [
           "ID.3 Pro"
          ],
          [
           "ID.3 1st"
          ],
          [
           "ID.3 Pro Performance"
          ]
         ],
         "hovertemplate": "Brand=%{y}<br>Price (€)=%{x}<br>Model=%{customdata[0]}<extra></extra>",
         "legendgroup": "Volkswagen ",
         "marker": {
          "color": "#A3A500"
         },
         "name": "Volkswagen ",
         "notched": false,
         "offsetgroup": "Volkswagen ",
         "orientation": "h",
         "showlegend": true,
         "type": "box",
         "x": [
          30000,
          31900,
          40936,
          21421,
          45000,
          33000,
          38987,
          35575
         ],
         "x0": " ",
         "xaxis": "x",
         "y": [
          "Volkswagen ",
          "Volkswagen ",
          "Volkswagen ",
          "Volkswagen ",
          "Volkswagen ",
          "Volkswagen ",
          "Volkswagen ",
          "Volkswagen "
         ],
         "y0": " ",
         "yaxis": "y"
        },
        {
         "alignmentgroup": "True",
         "boxpoints": "all",
         "customdata": [
          [
           "2"
          ]
         ],
         "hovertemplate": "Brand=%{y}<br>Price (€)=%{x}<br>Model=%{customdata[0]}<extra></extra>",
         "legendgroup": "Polestar ",
         "marker": {
          "color": "#00BF7D"
         },
         "name": "Polestar ",
         "notched": false,
         "offsetgroup": "Polestar ",
         "orientation": "h",
         "showlegend": true,
         "type": "box",
         "x": [
          56440
         ],
         "x0": " ",
         "xaxis": "x",
         "y": [
          "Polestar "
         ],
         "y0": " ",
         "yaxis": "y"
        },
        {
         "alignmentgroup": "True",
         "boxpoints": "all",
         "customdata": [
          [
           "iX3 "
          ],
          [
           "i4 "
          ],
          [
           "i3 120 Ah"
          ],
          [
           "i3s 120 Ah"
          ]
         ],
         "hovertemplate": "Brand=%{y}<br>Price (€)=%{x}<br>Model=%{customdata[0]}<extra></extra>",
         "legendgroup": "BMW ",
         "marker": {
          "color": "#00B0F6"
         },
         "name": "BMW ",
         "notched": false,
         "offsetgroup": "BMW ",
         "orientation": "h",
         "showlegend": true,
         "type": "box",
         "x": [
          68040,
          65000,
          38017,
          41526
         ],
         "x0": " ",
         "xaxis": "x",
         "y": [
          "BMW ",
          "BMW ",
          "BMW ",
          "BMW "
         ],
         "y0": " ",
         "yaxis": "y"
        },
        {
         "alignmentgroup": "True",
         "boxpoints": "all",
         "customdata": [
          [
           "e "
          ],
          [
           "e Advance"
          ]
         ],
         "hovertemplate": "Brand=%{y}<br>Price (€)=%{x}<br>Model=%{customdata[0]}<extra></extra>",
         "legendgroup": "Honda ",
         "marker": {
          "color": "#E76BF3"
         },
         "name": "Honda ",
         "notched": false,
         "offsetgroup": "Honda ",
         "orientation": "h",
         "showlegend": true,
         "type": "box",
         "x": [
          32997,
          35921
         ],
         "x0": " ",
         "xaxis": "x",
         "y": [
          "Honda ",
          "Honda "
         ],
         "y0": " ",
         "yaxis": "y"
        },
        {
         "alignmentgroup": "True",
         "boxpoints": "all",
         "customdata": [
          [
           "Air "
          ]
         ],
         "hovertemplate": "Brand=%{y}<br>Price (€)=%{x}<br>Model=%{customdata[0]}<extra></extra>",
         "legendgroup": "Lucid ",
         "marker": {
          "color": "#F8766D"
         },
         "name": "Lucid ",
         "notched": false,
         "offsetgroup": "Lucid ",
         "orientation": "h",
         "showlegend": true,
         "type": "box",
         "x": [
          105000
         ],
         "x0": " ",
         "xaxis": "x",
         "y": [
          "Lucid "
         ],
         "y0": " ",
         "yaxis": "y"
        },
        {
         "alignmentgroup": "True",
         "boxpoints": "all",
         "customdata": [
          [
           "e-208 "
          ],
          [
           "e-2008 SUV "
          ]
         ],
         "hovertemplate": "Brand=%{y}<br>Price (€)=%{x}<br>Model=%{customdata[0]}<extra></extra>",
         "legendgroup": "Peugeot ",
         "marker": {
          "color": "#A3A500"
         },
         "name": "Peugeot ",
         "notched": false,
         "offsetgroup": "Peugeot ",
         "orientation": "h",
         "showlegend": true,
         "type": "box",
         "x": [
          29682,
          34361
         ],
         "x0": " ",
         "xaxis": "x",
         "y": [
          "Peugeot ",
          "Peugeot "
         ],
         "y0": " ",
         "yaxis": "y"
        },
        {
         "alignmentgroup": "True",
         "boxpoints": "all",
         "customdata": [
          [
           "Q4 e-tron "
          ],
          [
           "e-tron GT "
          ],
          [
           "e-tron 50 quattro"
          ],
          [
           "e-tron Sportback 55 quattro"
          ],
          [
           "e-tron 55 quattro"
          ],
          [
           "Q4 Sportback e-tron "
          ],
          [
           "e-tron Sportback 50 quattro"
          ],
          [
           "e-tron S 55 quattro"
          ],
          [
           "e-tron S Sportback 55 quattro"
          ]
         ],
         "hovertemplate": "Brand=%{y}<br>Price (€)=%{x}<br>Model=%{customdata[0]}<extra></extra>",
         "legendgroup": "Audi ",
         "marker": {
          "color": "#00BF7D"
         },
         "name": "Audi ",
         "notched": false,
         "offsetgroup": "Audi ",
         "orientation": "h",
         "showlegend": true,
         "type": "box",
         "x": [
          55000,
          125000,
          67358,
          81639,
          79445,
          57500,
          69551,
          93800,
          96050
         ],
         "x0": " ",
         "xaxis": "x",
         "y": [
          "Audi ",
          "Audi ",
          "Audi ",
          "Audi ",
          "Audi ",
          "Audi ",
          "Audi ",
          "Audi ",
          "Audi "
         ],
         "y0": " ",
         "yaxis": "y"
        },
        {
         "alignmentgroup": "True",
         "boxpoints": "all",
         "customdata": [
          [
           "EQC 400 4MATIC"
          ],
          [
           "EQA "
          ],
          [
           "EQV 300 Long"
          ]
         ],
         "hovertemplate": "Brand=%{y}<br>Price (€)=%{x}<br>Model=%{customdata[0]}<extra></extra>",
         "legendgroup": "Mercedes ",
         "marker": {
          "color": "#00B0F6"
         },
         "name": "Mercedes ",
         "notched": false,
         "offsetgroup": "Mercedes ",
         "orientation": "h",
         "showlegend": true,
         "type": "box",
         "x": [
          69484,
          45000,
          70631
         ],
         "x0": " ",
         "xaxis": "x",
         "y": [
          "Mercedes ",
          "Mercedes ",
          "Mercedes "
         ],
         "y0": " ",
         "yaxis": "y"
        },
        {
         "alignmentgroup": "True",
         "boxpoints": "all",
         "customdata": [
          [
           "Leaf "
          ],
          [
           "Leaf e+"
          ],
          [
           "Ariya 87kWh"
          ],
          [
           "e-NV200 Evalia "
          ],
          [
           "Ariya e-4ORCE 87kWh"
          ],
          [
           "Ariya 63kWh"
          ],
          [
           "Ariya e-4ORCE 63kWh"
          ],
          [
           "Ariya e-4ORCE 87kWh Performance"
          ]
         ],
         "hovertemplate": "Brand=%{y}<br>Price (€)=%{x}<br>Model=%{customdata[0]}<extra></extra>",
         "legendgroup": "Nissan ",
         "marker": {
          "color": "#E76BF3"
         },
         "name": "Nissan ",
         "notched": false,
         "offsetgroup": "Nissan ",
         "orientation": "h",
         "showlegend": true,
         "type": "box",
         "x": [
          29234,
          37237,
          50000,
          33246,
          57500,
          45000,
          50000,
          65000
         ],
         "x0": " ",
         "xaxis": "x",
         "y": [
          "Nissan ",
          "Nissan ",
          "Nissan ",
          "Nissan ",
          "Nissan ",
          "Nissan ",
          "Nissan ",
          "Nissan "
         ],
         "y0": " ",
         "yaxis": "y"
        },
        {
         "alignmentgroup": "True",
         "boxpoints": "all",
         "customdata": [
          [
           "Kona Electric 64 kWh"
          ],
          [
           "IONIQ Electric"
          ],
          [
           "Kona Electric 39 kWh"
          ]
         ],
         "hovertemplate": "Brand=%{y}<br>Price (€)=%{x}<br>Model=%{customdata[0]}<extra></extra>",
         "legendgroup": "Hyundai ",
         "marker": {
          "color": "#F8766D"
         },
         "name": "Hyundai ",
         "notched": false,
         "offsetgroup": "Hyundai ",
         "orientation": "h",
         "showlegend": true,
         "type": "box",
         "x": [
          40795,
          34459,
          33971
         ],
         "x0": " ",
         "xaxis": "x",
         "y": [
          "Hyundai ",
          "Hyundai ",
          "Hyundai "
         ],
         "y0": " ",
         "yaxis": "y"
        },
        {
         "alignmentgroup": "True",
         "boxpoints": "all",
         "customdata": [
          [
           "Taycan Turbo S"
          ],
          [
           "Taycan 4S"
          ],
          [
           "Taycan 4S Plus"
          ],
          [
           "Taycan Cross Turismo "
          ],
          [
           "Taycan Turbo"
          ]
         ],
         "hovertemplate": "Brand=%{y}<br>Price (€)=%{x}<br>Model=%{customdata[0]}<extra></extra>",
         "legendgroup": "Porsche ",
         "marker": {
          "color": "#A3A500"
         },
         "name": "Porsche ",
         "notched": false,
         "offsetgroup": "Porsche ",
         "orientation": "h",
         "showlegend": true,
         "type": "box",
         "x": [
          180781,
          102945,
          109302,
          150000,
          148301
         ],
         "x0": " ",
         "xaxis": "x",
         "y": [
          "Porsche ",
          "Porsche ",
          "Porsche ",
          "Porsche ",
          "Porsche "
         ],
         "y0": " ",
         "yaxis": "y"
        },
        {
         "alignmentgroup": "True",
         "boxpoints": "all",
         "customdata": [
          [
           "ZS EV"
          ]
         ],
         "hovertemplate": "Brand=%{y}<br>Price (€)=%{x}<br>Model=%{customdata[0]}<extra></extra>",
         "legendgroup": "MG ",
         "marker": {
          "color": "#00BF7D"
         },
         "name": "MG ",
         "notched": false,
         "offsetgroup": "MG ",
         "orientation": "h",
         "showlegend": true,
         "type": "box",
         "x": [
          30000
         ],
         "x0": " ",
         "xaxis": "x",
         "y": [
          "MG "
         ],
         "y0": " ",
         "yaxis": "y"
        },
        {
         "alignmentgroup": "True",
         "boxpoints": "all",
         "customdata": [
          [
           "Cooper SE "
          ]
         ],
         "hovertemplate": "Brand=%{y}<br>Price (€)=%{x}<br>Model=%{customdata[0]}<extra></extra>",
         "legendgroup": "Mini ",
         "marker": {
          "color": "#00B0F6"
         },
         "name": "Mini ",
         "notched": false,
         "offsetgroup": "Mini ",
         "orientation": "h",
         "showlegend": true,
         "type": "box",
         "x": [
          31681
         ],
         "x0": " ",
         "xaxis": "x",
         "y": [
          "Mini "
         ],
         "y0": " ",
         "yaxis": "y"
        },
        {
         "alignmentgroup": "True",
         "boxpoints": "all",
         "customdata": [
          [
           "Corsa-e "
          ],
          [
           "Ampera-e "
          ],
          [
           "Mokka-e "
          ]
         ],
         "hovertemplate": "Brand=%{y}<br>Price (€)=%{x}<br>Model=%{customdata[0]}<extra></extra>",
         "legendgroup": "Opel ",
         "marker": {
          "color": "#E76BF3"
         },
         "name": "Opel ",
         "notched": false,
         "offsetgroup": "Opel ",
         "orientation": "h",
         "showlegend": true,
         "type": "box",
         "x": [
          29146,
          41906,
          35000
         ],
         "x0": " ",
         "xaxis": "x",
         "y": [
          "Opel ",
          "Opel ",
          "Opel "
         ],
         "y0": " ",
         "yaxis": "y"
        },
        {
         "alignmentgroup": "True",
         "boxpoints": "all",
         "customdata": [
          [
           "Enyaq iV 50"
          ],
          [
           "CITIGOe iV "
          ],
          [
           "Enyaq iV 80"
          ],
          [
           "Enyaq iV 80X"
          ],
          [
           "Enyaq iV vRS"
          ],
          [
           "Enyaq iV 60"
          ]
         ],
         "hovertemplate": "Brand=%{y}<br>Price (€)=%{x}<br>Model=%{customdata[0]}<extra></extra>",
         "legendgroup": "Skoda ",
         "marker": {
          "color": "#F8766D"
         },
         "name": "Skoda ",
         "notched": false,
         "offsetgroup": "Skoda ",
         "orientation": "h",
         "showlegend": true,
         "type": "box",
         "x": [
          35000,
          24534,
          40000,
          45000,
          47500,
          37500
         ],
         "x0": " ",
         "xaxis": "x",
         "y": [
          "Skoda ",
          "Skoda ",
          "Skoda ",
          "Skoda ",
          "Skoda ",
          "Skoda "
         ],
         "y0": " ",
         "yaxis": "y"
        },
        {
         "alignmentgroup": "True",
         "boxpoints": "all",
         "customdata": [
          [
           "XC40 P8 AWD Recharge"
          ]
         ],
         "hovertemplate": "Brand=%{y}<br>Price (€)=%{x}<br>Model=%{customdata[0]}<extra></extra>",
         "legendgroup": "Volvo ",
         "marker": {
          "color": "#A3A500"
         },
         "name": "Volvo ",
         "notched": false,
         "offsetgroup": "Volvo ",
         "orientation": "h",
         "showlegend": true,
         "type": "box",
         "x": [
          60437
         ],
         "x0": " ",
         "xaxis": "x",
         "y": [
          "Volvo "
         ],
         "y0": " ",
         "yaxis": "y"
        },
        {
         "alignmentgroup": "True",
         "boxpoints": "all",
         "customdata": [
          [
           "e-Niro 64 kWh"
          ],
          [
           "e-Soul 64 kWh"
          ],
          [
           "e-Niro 39 kWh"
          ],
          [
           "e-Soul 64 kWh"
          ],
          [
           "e-Soul 39 kWh"
          ]
         ],
         "hovertemplate": "Brand=%{y}<br>Price (€)=%{x}<br>Model=%{customdata[0]}<extra></extra>",
         "legendgroup": "Kia ",
         "marker": {
          "color": "#00BF7D"
         },
         "name": "Kia ",
         "notched": false,
         "offsetgroup": "Kia ",
         "orientation": "h",
         "showlegend": true,
         "type": "box",
         "x": [
          38105,
          36837,
          34400,
          36837,
          33133
         ],
         "x0": " ",
         "xaxis": "x",
         "y": [
          "Kia ",
          "Kia ",
          "Kia ",
          "Kia ",
          "Kia "
         ],
         "y0": " ",
         "yaxis": "y"
        },
        {
         "alignmentgroup": "True",
         "boxpoints": "all",
         "customdata": [
          [
           "Zoe ZE50 R110"
          ],
          [
           "Zoe ZE50 R135"
          ],
          [
           "Twingo ZE"
          ],
          [
           "Zoe ZE40 R110"
          ],
          [
           "Kangoo Maxi ZE 33"
          ]
         ],
         "hovertemplate": "Brand=%{y}<br>Price (€)=%{x}<br>Model=%{customdata[0]}<extra></extra>",
         "legendgroup": "Renault ",
         "marker": {
          "color": "#00B0F6"
         },
         "name": "Renault ",
         "notched": false,
         "offsetgroup": "Renault ",
         "orientation": "h",
         "showlegend": true,
         "type": "box",
         "x": [
          31184,
          33133,
          24790,
          29234,
          38000
         ],
         "x0": " ",
         "xaxis": "x",
         "y": [
          "Renault ",
          "Renault ",
          "Renault ",
          "Renault ",
          "Renault "
         ],
         "y0": " ",
         "yaxis": "y"
        },
        {
         "alignmentgroup": "True",
         "boxpoints": "all",
         "customdata": [
          [
           "MX-30 "
          ]
         ],
         "hovertemplate": "Brand=%{y}<br>Price (€)=%{x}<br>Model=%{customdata[0]}<extra></extra>",
         "legendgroup": "Mazda ",
         "marker": {
          "color": "#E76BF3"
         },
         "name": "Mazda ",
         "notched": false,
         "offsetgroup": "Mazda ",
         "orientation": "h",
         "showlegend": true,
         "type": "box",
         "x": [
          32646
         ],
         "x0": " ",
         "xaxis": "x",
         "y": [
          "Mazda "
         ],
         "y0": " ",
         "yaxis": "y"
        },
        {
         "alignmentgroup": "True",
         "boxpoints": "all",
         "customdata": [
          [
           "UX 300e"
          ]
         ],
         "hovertemplate": "Brand=%{y}<br>Price (€)=%{x}<br>Model=%{customdata[0]}<extra></extra>",
         "legendgroup": "Lexus ",
         "marker": {
          "color": "#F8766D"
         },
         "name": "Lexus ",
         "notched": false,
         "offsetgroup": "Lexus ",
         "orientation": "h",
         "showlegend": true,
         "type": "box",
         "x": [
          50000
         ],
         "x0": " ",
         "xaxis": "x",
         "y": [
          "Lexus "
         ],
         "y0": " ",
         "yaxis": "y"
        },
        {
         "alignmentgroup": "True",
         "boxpoints": "all",
         "customdata": [
          [
           "el-Born "
          ]
         ],
         "hovertemplate": "Brand=%{y}<br>Price (€)=%{x}<br>Model=%{customdata[0]}<extra></extra>",
         "legendgroup": "CUPRA ",
         "marker": {
          "color": "#A3A500"
         },
         "name": "CUPRA ",
         "notched": false,
         "offsetgroup": "CUPRA ",
         "orientation": "h",
         "showlegend": true,
         "type": "box",
         "x": [
          45000
         ],
         "x0": " ",
         "xaxis": "x",
         "y": [
          "CUPRA "
         ],
         "y0": " ",
         "yaxis": "y"
        },
        {
         "alignmentgroup": "True",
         "boxpoints": "all",
         "customdata": [
          [
           "Mii Electric "
          ]
         ],
         "hovertemplate": "Brand=%{y}<br>Price (€)=%{x}<br>Model=%{customdata[0]}<extra></extra>",
         "legendgroup": "SEAT ",
         "marker": {
          "color": "#00BF7D"
         },
         "name": "SEAT ",
         "notched": false,
         "offsetgroup": "SEAT ",
         "orientation": "h",
         "showlegend": true,
         "type": "box",
         "x": [
          20129
         ],
         "x0": " ",
         "xaxis": "x",
         "y": [
          "SEAT "
         ],
         "y0": " ",
         "yaxis": "y"
        },
        {
         "alignmentgroup": "True",
         "boxpoints": "all",
         "customdata": [
          [
           "One "
          ]
         ],
         "hovertemplate": "Brand=%{y}<br>Price (€)=%{x}<br>Model=%{customdata[0]}<extra></extra>",
         "legendgroup": "Lightyear ",
         "marker": {
          "color": "#00B0F6"
         },
         "name": "Lightyear ",
         "notched": false,
         "offsetgroup": "Lightyear ",
         "orientation": "h",
         "showlegend": true,
         "type": "box",
         "x": [
          149000
         ],
         "x0": " ",
         "xaxis": "x",
         "y": [
          "Lightyear "
         ],
         "y0": " ",
         "yaxis": "y"
        },
        {
         "alignmentgroup": "True",
         "boxpoints": "all",
         "customdata": [
          [
           "U5 "
          ]
         ],
         "hovertemplate": "Brand=%{y}<br>Price (€)=%{x}<br>Model=%{customdata[0]}<extra></extra>",
         "legendgroup": "Aiways ",
         "marker": {
          "color": "#E76BF3"
         },
         "name": "Aiways ",
         "notched": false,
         "offsetgroup": "Aiways ",
         "orientation": "h",
         "showlegend": true,
         "type": "box",
         "x": [
          36057
         ],
         "x0": " ",
         "xaxis": "x",
         "y": [
          "Aiways "
         ],
         "y0": " ",
         "yaxis": "y"
        },
        {
         "alignmentgroup": "True",
         "boxpoints": "all",
         "customdata": [
          [
           "3 Crossback E-Tense"
          ]
         ],
         "hovertemplate": "Brand=%{y}<br>Price (€)=%{x}<br>Model=%{customdata[0]}<extra></extra>",
         "legendgroup": "DS ",
         "marker": {
          "color": "#F8766D"
         },
         "name": "DS ",
         "notched": false,
         "offsetgroup": "DS ",
         "orientation": "h",
         "showlegend": true,
         "type": "box",
         "x": [
          37422
         ],
         "x0": " ",
         "xaxis": "x",
         "y": [
          "DS "
         ],
         "y0": " ",
         "yaxis": "y"
        },
        {
         "alignmentgroup": "True",
         "boxpoints": "all",
         "customdata": [
          [
           "e-C4 "
          ]
         ],
         "hovertemplate": "Brand=%{y}<br>Price (€)=%{x}<br>Model=%{customdata[0]}<extra></extra>",
         "legendgroup": "Citroen ",
         "marker": {
          "color": "#A3A500"
         },
         "name": "Citroen ",
         "notched": false,
         "offsetgroup": "Citroen ",
         "orientation": "h",
         "showlegend": true,
         "type": "box",
         "x": [
          40000
         ],
         "x0": " ",
         "xaxis": "x",
         "y": [
          "Citroen "
         ],
         "y0": " ",
         "yaxis": "y"
        },
        {
         "alignmentgroup": "True",
         "boxpoints": "all",
         "customdata": [
          [
           "I-Pace "
          ]
         ],
         "hovertemplate": "Brand=%{y}<br>Price (€)=%{x}<br>Model=%{customdata[0]}<extra></extra>",
         "legendgroup": "Jaguar ",
         "marker": {
          "color": "#00BF7D"
         },
         "name": "Jaguar ",
         "notched": false,
         "offsetgroup": "Jaguar ",
         "orientation": "h",
         "showlegend": true,
         "type": "box",
         "x": [
          75351
         ],
         "x0": " ",
         "xaxis": "x",
         "y": [
          "Jaguar "
         ],
         "y0": " ",
         "yaxis": "y"
        },
        {
         "alignmentgroup": "True",
         "boxpoints": "all",
         "customdata": [
          [
           "Mustang Mach-E ER RWD"
          ],
          [
           "Mustang Mach-E ER AWD"
          ],
          [
           "Mustang Mach-E SR AWD"
          ],
          [
           "Mustang Mach-E SR RWD"
          ]
         ],
         "hovertemplate": "Brand=%{y}<br>Price (€)=%{x}<br>Model=%{customdata[0]}<extra></extra>",
         "legendgroup": "Ford ",
         "marker": {
          "color": "#00B0F6"
         },
         "name": "Ford ",
         "notched": false,
         "offsetgroup": "Ford ",
         "orientation": "h",
         "showlegend": true,
         "type": "box",
         "x": [
          54475,
          62900,
          54000,
          46900
         ],
         "x0": " ",
         "xaxis": "x",
         "y": [
          "Ford ",
          "Ford ",
          "Ford ",
          "Ford "
         ],
         "y0": " ",
         "yaxis": "y"
        },
        {
         "alignmentgroup": "True",
         "boxpoints": "all",
         "customdata": [
          [
           "M-Byte 95 kWh 4WD"
          ],
          [
           "M-Byte 72 kWh 2WD"
          ],
          [
           "M-Byte 95 kWh 2WD"
          ]
         ],
         "hovertemplate": "Brand=%{y}<br>Price (€)=%{x}<br>Model=%{customdata[0]}<extra></extra>",
         "legendgroup": "Byton ",
         "marker": {
          "color": "#E76BF3"
         },
         "name": "Byton ",
         "notched": false,
         "offsetgroup": "Byton ",
         "orientation": "h",
         "showlegend": true,
         "type": "box",
         "x": [
          64000,
          53500,
          62000
         ],
         "x0": " ",
         "xaxis": "x",
         "y": [
          "Byton ",
          "Byton ",
          "Byton "
         ],
         "y0": " ",
         "yaxis": "y"
        },
        {
         "alignmentgroup": "True",
         "boxpoints": "all",
         "customdata": [
          [
           "Sion "
          ]
         ],
         "hovertemplate": "Brand=%{y}<br>Price (€)=%{x}<br>Model=%{customdata[0]}<extra></extra>",
         "legendgroup": "Sono ",
         "marker": {
          "color": "#F8766D"
         },
         "name": "Sono ",
         "notched": false,
         "offsetgroup": "Sono ",
         "orientation": "h",
         "showlegend": true,
         "type": "box",
         "x": [
          25500
         ],
         "x0": " ",
         "xaxis": "x",
         "y": [
          "Sono "
         ],
         "y0": " ",
         "yaxis": "y"
        },
        {
         "alignmentgroup": "True",
         "boxpoints": "all",
         "customdata": [
          [
           "EQ forfour "
          ],
          [
           "EQ fortwo coupe"
          ],
          [
           "EQ fortwo cabrio"
          ]
         ],
         "hovertemplate": "Brand=%{y}<br>Price (€)=%{x}<br>Model=%{customdata[0]}<extra></extra>",
         "legendgroup": "Smart ",
         "marker": {
          "color": "#A3A500"
         },
         "name": "Smart ",
         "notched": false,
         "offsetgroup": "Smart ",
         "orientation": "h",
         "showlegend": true,
         "type": "box",
         "x": [
          22030,
          21387,
          24565
         ],
         "x0": " ",
         "xaxis": "x",
         "y": [
          "Smart ",
          "Smart ",
          "Smart "
         ],
         "y0": " ",
         "yaxis": "y"
        },
        {
         "alignmentgroup": "True",
         "boxpoints": "all",
         "customdata": [
          [
           "500e Hatchback"
          ],
          [
           "500e Convertible"
          ]
         ],
         "hovertemplate": "Brand=%{y}<br>Price (€)=%{x}<br>Model=%{customdata[0]}<extra></extra>",
         "legendgroup": "Fiat ",
         "marker": {
          "color": "#00BF7D"
         },
         "name": "Fiat ",
         "notched": false,
         "offsetgroup": "Fiat ",
         "orientation": "h",
         "showlegend": true,
         "type": "box",
         "x": [
          34900,
          37900
         ],
         "x0": " ",
         "xaxis": "x",
         "y": [
          "Fiat ",
          "Fiat "
         ],
         "y0": " ",
         "yaxis": "y"
        }
       ],
       "layout": {
        "boxmode": "overlay",
        "height": 1000,
        "legend": {
         "title": {
          "text": "Brand"
         },
         "tracegroupgap": 0
        },
        "template": {
         "data": {
          "bar": [
           {
            "error_x": {
             "color": "rgb(51,51,51)"
            },
            "error_y": {
             "color": "rgb(51,51,51)"
            },
            "marker": {
             "line": {
              "color": "rgb(237,237,237)",
              "width": 0.5
             },
             "pattern": {
              "fillmode": "overlay",
              "size": 10,
              "solidity": 0.2
             }
            },
            "type": "bar"
           }
          ],
          "barpolar": [
           {
            "marker": {
             "line": {
              "color": "rgb(237,237,237)",
              "width": 0.5
             },
             "pattern": {
              "fillmode": "overlay",
              "size": 10,
              "solidity": 0.2
             }
            },
            "type": "barpolar"
           }
          ],
          "carpet": [
           {
            "aaxis": {
             "endlinecolor": "rgb(51,51,51)",
             "gridcolor": "white",
             "linecolor": "white",
             "minorgridcolor": "white",
             "startlinecolor": "rgb(51,51,51)"
            },
            "baxis": {
             "endlinecolor": "rgb(51,51,51)",
             "gridcolor": "white",
             "linecolor": "white",
             "minorgridcolor": "white",
             "startlinecolor": "rgb(51,51,51)"
            },
            "type": "carpet"
           }
          ],
          "choropleth": [
           {
            "colorbar": {
             "outlinewidth": 0,
             "tickcolor": "rgb(237,237,237)",
             "ticklen": 6,
             "ticks": "inside"
            },
            "type": "choropleth"
           }
          ],
          "contour": [
           {
            "colorbar": {
             "outlinewidth": 0,
             "tickcolor": "rgb(237,237,237)",
             "ticklen": 6,
             "ticks": "inside"
            },
            "colorscale": [
             [
              0,
              "rgb(20,44,66)"
             ],
             [
              1,
              "rgb(90,179,244)"
             ]
            ],
            "type": "contour"
           }
          ],
          "contourcarpet": [
           {
            "colorbar": {
             "outlinewidth": 0,
             "tickcolor": "rgb(237,237,237)",
             "ticklen": 6,
             "ticks": "inside"
            },
            "type": "contourcarpet"
           }
          ],
          "heatmap": [
           {
            "colorbar": {
             "outlinewidth": 0,
             "tickcolor": "rgb(237,237,237)",
             "ticklen": 6,
             "ticks": "inside"
            },
            "colorscale": [
             [
              0,
              "rgb(20,44,66)"
             ],
             [
              1,
              "rgb(90,179,244)"
             ]
            ],
            "type": "heatmap"
           }
          ],
          "heatmapgl": [
           {
            "colorbar": {
             "outlinewidth": 0,
             "tickcolor": "rgb(237,237,237)",
             "ticklen": 6,
             "ticks": "inside"
            },
            "colorscale": [
             [
              0,
              "rgb(20,44,66)"
             ],
             [
              1,
              "rgb(90,179,244)"
             ]
            ],
            "type": "heatmapgl"
           }
          ],
          "histogram": [
           {
            "marker": {
             "pattern": {
              "fillmode": "overlay",
              "size": 10,
              "solidity": 0.2
             }
            },
            "type": "histogram"
           }
          ],
          "histogram2d": [
           {
            "colorbar": {
             "outlinewidth": 0,
             "tickcolor": "rgb(237,237,237)",
             "ticklen": 6,
             "ticks": "inside"
            },
            "colorscale": [
             [
              0,
              "rgb(20,44,66)"
             ],
             [
              1,
              "rgb(90,179,244)"
             ]
            ],
            "type": "histogram2d"
           }
          ],
          "histogram2dcontour": [
           {
            "colorbar": {
             "outlinewidth": 0,
             "tickcolor": "rgb(237,237,237)",
             "ticklen": 6,
             "ticks": "inside"
            },
            "colorscale": [
             [
              0,
              "rgb(20,44,66)"
             ],
             [
              1,
              "rgb(90,179,244)"
             ]
            ],
            "type": "histogram2dcontour"
           }
          ],
          "mesh3d": [
           {
            "colorbar": {
             "outlinewidth": 0,
             "tickcolor": "rgb(237,237,237)",
             "ticklen": 6,
             "ticks": "inside"
            },
            "type": "mesh3d"
           }
          ],
          "parcoords": [
           {
            "line": {
             "colorbar": {
              "outlinewidth": 0,
              "tickcolor": "rgb(237,237,237)",
              "ticklen": 6,
              "ticks": "inside"
             }
            },
            "type": "parcoords"
           }
          ],
          "pie": [
           {
            "automargin": true,
            "type": "pie"
           }
          ],
          "scatter": [
           {
            "marker": {
             "colorbar": {
              "outlinewidth": 0,
              "tickcolor": "rgb(237,237,237)",
              "ticklen": 6,
              "ticks": "inside"
             }
            },
            "type": "scatter"
           }
          ],
          "scatter3d": [
           {
            "line": {
             "colorbar": {
              "outlinewidth": 0,
              "tickcolor": "rgb(237,237,237)",
              "ticklen": 6,
              "ticks": "inside"
             }
            },
            "marker": {
             "colorbar": {
              "outlinewidth": 0,
              "tickcolor": "rgb(237,237,237)",
              "ticklen": 6,
              "ticks": "inside"
             }
            },
            "type": "scatter3d"
           }
          ],
          "scattercarpet": [
           {
            "marker": {
             "colorbar": {
              "outlinewidth": 0,
              "tickcolor": "rgb(237,237,237)",
              "ticklen": 6,
              "ticks": "inside"
             }
            },
            "type": "scattercarpet"
           }
          ],
          "scattergeo": [
           {
            "marker": {
             "colorbar": {
              "outlinewidth": 0,
              "tickcolor": "rgb(237,237,237)",
              "ticklen": 6,
              "ticks": "inside"
             }
            },
            "type": "scattergeo"
           }
          ],
          "scattergl": [
           {
            "marker": {
             "colorbar": {
              "outlinewidth": 0,
              "tickcolor": "rgb(237,237,237)",
              "ticklen": 6,
              "ticks": "inside"
             }
            },
            "type": "scattergl"
           }
          ],
          "scattermapbox": [
           {
            "marker": {
             "colorbar": {
              "outlinewidth": 0,
              "tickcolor": "rgb(237,237,237)",
              "ticklen": 6,
              "ticks": "inside"
             }
            },
            "type": "scattermapbox"
           }
          ],
          "scatterpolar": [
           {
            "marker": {
             "colorbar": {
              "outlinewidth": 0,
              "tickcolor": "rgb(237,237,237)",
              "ticklen": 6,
              "ticks": "inside"
             }
            },
            "type": "scatterpolar"
           }
          ],
          "scatterpolargl": [
           {
            "marker": {
             "colorbar": {
              "outlinewidth": 0,
              "tickcolor": "rgb(237,237,237)",
              "ticklen": 6,
              "ticks": "inside"
             }
            },
            "type": "scatterpolargl"
           }
          ],
          "scatterternary": [
           {
            "marker": {
             "colorbar": {
              "outlinewidth": 0,
              "tickcolor": "rgb(237,237,237)",
              "ticklen": 6,
              "ticks": "inside"
             }
            },
            "type": "scatterternary"
           }
          ],
          "surface": [
           {
            "colorbar": {
             "outlinewidth": 0,
             "tickcolor": "rgb(237,237,237)",
             "ticklen": 6,
             "ticks": "inside"
            },
            "colorscale": [
             [
              0,
              "rgb(20,44,66)"
             ],
             [
              1,
              "rgb(90,179,244)"
             ]
            ],
            "type": "surface"
           }
          ],
          "table": [
           {
            "cells": {
             "fill": {
              "color": "rgb(237,237,237)"
             },
             "line": {
              "color": "white"
             }
            },
            "header": {
             "fill": {
              "color": "rgb(217,217,217)"
             },
             "line": {
              "color": "white"
             }
            },
            "type": "table"
           }
          ]
         },
         "layout": {
          "annotationdefaults": {
           "arrowhead": 0,
           "arrowwidth": 1
          },
          "autotypenumbers": "strict",
          "coloraxis": {
           "colorbar": {
            "outlinewidth": 0,
            "tickcolor": "rgb(237,237,237)",
            "ticklen": 6,
            "ticks": "inside"
           }
          },
          "colorscale": {
           "sequential": [
            [
             0,
             "rgb(20,44,66)"
            ],
            [
             1,
             "rgb(90,179,244)"
            ]
           ],
           "sequentialminus": [
            [
             0,
             "rgb(20,44,66)"
            ],
            [
             1,
             "rgb(90,179,244)"
            ]
           ]
          },
          "colorway": [
           "#F8766D",
           "#A3A500",
           "#00BF7D",
           "#00B0F6",
           "#E76BF3"
          ],
          "font": {
           "color": "rgb(51,51,51)"
          },
          "geo": {
           "bgcolor": "white",
           "lakecolor": "white",
           "landcolor": "rgb(237,237,237)",
           "showlakes": true,
           "showland": true,
           "subunitcolor": "white"
          },
          "hoverlabel": {
           "align": "left"
          },
          "hovermode": "closest",
          "paper_bgcolor": "white",
          "plot_bgcolor": "rgb(237,237,237)",
          "polar": {
           "angularaxis": {
            "gridcolor": "white",
            "linecolor": "white",
            "showgrid": true,
            "tickcolor": "rgb(51,51,51)",
            "ticks": "outside"
           },
           "bgcolor": "rgb(237,237,237)",
           "radialaxis": {
            "gridcolor": "white",
            "linecolor": "white",
            "showgrid": true,
            "tickcolor": "rgb(51,51,51)",
            "ticks": "outside"
           }
          },
          "scene": {
           "xaxis": {
            "backgroundcolor": "rgb(237,237,237)",
            "gridcolor": "white",
            "gridwidth": 2,
            "linecolor": "white",
            "showbackground": true,
            "showgrid": true,
            "tickcolor": "rgb(51,51,51)",
            "ticks": "outside",
            "zerolinecolor": "white"
           },
           "yaxis": {
            "backgroundcolor": "rgb(237,237,237)",
            "gridcolor": "white",
            "gridwidth": 2,
            "linecolor": "white",
            "showbackground": true,
            "showgrid": true,
            "tickcolor": "rgb(51,51,51)",
            "ticks": "outside",
            "zerolinecolor": "white"
           },
           "zaxis": {
            "backgroundcolor": "rgb(237,237,237)",
            "gridcolor": "white",
            "gridwidth": 2,
            "linecolor": "white",
            "showbackground": true,
            "showgrid": true,
            "tickcolor": "rgb(51,51,51)",
            "ticks": "outside",
            "zerolinecolor": "white"
           }
          },
          "shapedefaults": {
           "fillcolor": "black",
           "line": {
            "width": 0
           },
           "opacity": 0.3
          },
          "ternary": {
           "aaxis": {
            "gridcolor": "white",
            "linecolor": "white",
            "showgrid": true,
            "tickcolor": "rgb(51,51,51)",
            "ticks": "outside"
           },
           "baxis": {
            "gridcolor": "white",
            "linecolor": "white",
            "showgrid": true,
            "tickcolor": "rgb(51,51,51)",
            "ticks": "outside"
           },
           "bgcolor": "rgb(237,237,237)",
           "caxis": {
            "gridcolor": "white",
            "linecolor": "white",
            "showgrid": true,
            "tickcolor": "rgb(51,51,51)",
            "ticks": "outside"
           }
          },
          "xaxis": {
           "automargin": true,
           "gridcolor": "white",
           "linecolor": "white",
           "showgrid": true,
           "tickcolor": "rgb(51,51,51)",
           "ticks": "outside",
           "title": {
            "standoff": 15
           },
           "zerolinecolor": "white"
          },
          "yaxis": {
           "automargin": true,
           "gridcolor": "white",
           "linecolor": "white",
           "showgrid": true,
           "tickcolor": "rgb(51,51,51)",
           "ticks": "outside",
           "title": {
            "standoff": 15
           },
           "zerolinecolor": "white"
          }
         }
        },
        "title": {
         "text": "Price and Brand"
        },
        "width": 900,
        "xaxis": {
         "anchor": "y",
         "domain": [
          0,
          1
         ],
         "title": {
          "text": "Price (€)"
         }
        },
        "yaxis": {
         "anchor": "x",
         "categoryarray": [
          "Fiat ",
          "Smart ",
          "Sono ",
          "Byton ",
          "Ford ",
          "Jaguar ",
          "Citroen ",
          "DS ",
          "Aiways ",
          "Lightyear ",
          "SEAT ",
          "CUPRA ",
          "Lexus ",
          "Mazda ",
          "Renault ",
          "Kia ",
          "Volvo ",
          "Skoda ",
          "Opel ",
          "Mini ",
          "MG ",
          "Porsche ",
          "Hyundai ",
          "Nissan ",
          "Mercedes ",
          "Audi ",
          "Peugeot ",
          "Lucid ",
          "Honda ",
          "BMW ",
          "Polestar ",
          "Volkswagen ",
          "Tesla "
         ],
         "categoryorder": "array",
         "domain": [
          0,
          1
         ],
         "title": {
          "text": "Brand"
         }
        }
       }
      },
      "text/html": [
       "<div>                            <div id=\"f1c0bd8e-0ba8-4030-bf7c-539762ecfd2b\" class=\"plotly-graph-div\" style=\"height:1000px; width:900px;\"></div>            <script type=\"text/javascript\">                require([\"plotly\"], function(Plotly) {                    window.PLOTLYENV=window.PLOTLYENV || {};                                    if (document.getElementById(\"f1c0bd8e-0ba8-4030-bf7c-539762ecfd2b\")) {                    Plotly.newPlot(                        \"f1c0bd8e-0ba8-4030-bf7c-539762ecfd2b\",                        [{\"alignmentgroup\":\"True\",\"boxpoints\":\"all\",\"customdata\":[[\"Model 3 Long Range Dual Motor\"],[\"Model 3 Standard Range Plus\"],[\"Model Y Long Range Dual Motor\"],[\"Model 3 Long Range Performance\"],[\"Cybertruck Tri Motor\"],[\"Model S Long Range\"],[\"Roadster \"],[\"Model X Long Range\"],[\"Model S Performance\"],[\"Model Y Long Range Performance\"],[\"Cybertruck Dual Motor\"],[\"Model X Performance\"],[\"Cybertruck Single Motor\"]],\"hovertemplate\":\"Brand=%{y}<br>Price (\\u20ac)=%{x}<br>Model=%{customdata[0]}<extra></extra>\",\"legendgroup\":\"Tesla \",\"marker\":{\"color\":\"#F8766D\"},\"name\":\"Tesla \",\"notched\":false,\"offsetgroup\":\"Tesla \",\"orientation\":\"h\",\"showlegend\":true,\"x\":[55480,46380,58620,61480,75000,79990,215000,85990,96990,65620,55000,102990,45000],\"x0\":\" \",\"xaxis\":\"x\",\"y\":[\"Tesla \",\"Tesla \",\"Tesla \",\"Tesla \",\"Tesla \",\"Tesla \",\"Tesla \",\"Tesla \",\"Tesla \",\"Tesla \",\"Tesla \",\"Tesla \",\"Tesla \"],\"y0\":\" \",\"yaxis\":\"y\",\"type\":\"box\"},{\"alignmentgroup\":\"True\",\"boxpoints\":\"all\",\"customdata\":[[\"ID.3 Pure\"],[\"e-Golf \"],[\"ID.3 Pro S\"],[\"e-Up! \"],[\"ID.4 \"],[\"ID.3 Pro\"],[\"ID.3 1st\"],[\"ID.3 Pro Performance\"]],\"hovertemplate\":\"Brand=%{y}<br>Price (\\u20ac)=%{x}<br>Model=%{customdata[0]}<extra></extra>\",\"legendgroup\":\"Volkswagen \",\"marker\":{\"color\":\"#A3A500\"},\"name\":\"Volkswagen \",\"notched\":false,\"offsetgroup\":\"Volkswagen \",\"orientation\":\"h\",\"showlegend\":true,\"x\":[30000,31900,40936,21421,45000,33000,38987,35575],\"x0\":\" \",\"xaxis\":\"x\",\"y\":[\"Volkswagen \",\"Volkswagen \",\"Volkswagen \",\"Volkswagen \",\"Volkswagen \",\"Volkswagen \",\"Volkswagen \",\"Volkswagen \"],\"y0\":\" \",\"yaxis\":\"y\",\"type\":\"box\"},{\"alignmentgroup\":\"True\",\"boxpoints\":\"all\",\"customdata\":[[\"2\"]],\"hovertemplate\":\"Brand=%{y}<br>Price (\\u20ac)=%{x}<br>Model=%{customdata[0]}<extra></extra>\",\"legendgroup\":\"Polestar \",\"marker\":{\"color\":\"#00BF7D\"},\"name\":\"Polestar \",\"notched\":false,\"offsetgroup\":\"Polestar \",\"orientation\":\"h\",\"showlegend\":true,\"x\":[56440],\"x0\":\" \",\"xaxis\":\"x\",\"y\":[\"Polestar \"],\"y0\":\" \",\"yaxis\":\"y\",\"type\":\"box\"},{\"alignmentgroup\":\"True\",\"boxpoints\":\"all\",\"customdata\":[[\"iX3 \"],[\"i4 \"],[\"i3 120 Ah\"],[\"i3s 120 Ah\"]],\"hovertemplate\":\"Brand=%{y}<br>Price (\\u20ac)=%{x}<br>Model=%{customdata[0]}<extra></extra>\",\"legendgroup\":\"BMW \",\"marker\":{\"color\":\"#00B0F6\"},\"name\":\"BMW \",\"notched\":false,\"offsetgroup\":\"BMW \",\"orientation\":\"h\",\"showlegend\":true,\"x\":[68040,65000,38017,41526],\"x0\":\" \",\"xaxis\":\"x\",\"y\":[\"BMW \",\"BMW \",\"BMW \",\"BMW \"],\"y0\":\" \",\"yaxis\":\"y\",\"type\":\"box\"},{\"alignmentgroup\":\"True\",\"boxpoints\":\"all\",\"customdata\":[[\"e \"],[\"e Advance\"]],\"hovertemplate\":\"Brand=%{y}<br>Price (\\u20ac)=%{x}<br>Model=%{customdata[0]}<extra></extra>\",\"legendgroup\":\"Honda \",\"marker\":{\"color\":\"#E76BF3\"},\"name\":\"Honda \",\"notched\":false,\"offsetgroup\":\"Honda \",\"orientation\":\"h\",\"showlegend\":true,\"x\":[32997,35921],\"x0\":\" \",\"xaxis\":\"x\",\"y\":[\"Honda \",\"Honda \"],\"y0\":\" \",\"yaxis\":\"y\",\"type\":\"box\"},{\"alignmentgroup\":\"True\",\"boxpoints\":\"all\",\"customdata\":[[\"Air \"]],\"hovertemplate\":\"Brand=%{y}<br>Price (\\u20ac)=%{x}<br>Model=%{customdata[0]}<extra></extra>\",\"legendgroup\":\"Lucid \",\"marker\":{\"color\":\"#F8766D\"},\"name\":\"Lucid \",\"notched\":false,\"offsetgroup\":\"Lucid \",\"orientation\":\"h\",\"showlegend\":true,\"x\":[105000],\"x0\":\" \",\"xaxis\":\"x\",\"y\":[\"Lucid \"],\"y0\":\" \",\"yaxis\":\"y\",\"type\":\"box\"},{\"alignmentgroup\":\"True\",\"boxpoints\":\"all\",\"customdata\":[[\"e-208 \"],[\"e-2008 SUV \"]],\"hovertemplate\":\"Brand=%{y}<br>Price (\\u20ac)=%{x}<br>Model=%{customdata[0]}<extra></extra>\",\"legendgroup\":\"Peugeot \",\"marker\":{\"color\":\"#A3A500\"},\"name\":\"Peugeot \",\"notched\":false,\"offsetgroup\":\"Peugeot \",\"orientation\":\"h\",\"showlegend\":true,\"x\":[29682,34361],\"x0\":\" \",\"xaxis\":\"x\",\"y\":[\"Peugeot \",\"Peugeot \"],\"y0\":\" \",\"yaxis\":\"y\",\"type\":\"box\"},{\"alignmentgroup\":\"True\",\"boxpoints\":\"all\",\"customdata\":[[\"Q4 e-tron \"],[\"e-tron GT \"],[\"e-tron 50 quattro\"],[\"e-tron Sportback 55 quattro\"],[\"e-tron 55 quattro\"],[\"Q4 Sportback e-tron \"],[\"e-tron Sportback 50 quattro\"],[\"e-tron S 55 quattro\"],[\"e-tron S Sportback 55 quattro\"]],\"hovertemplate\":\"Brand=%{y}<br>Price (\\u20ac)=%{x}<br>Model=%{customdata[0]}<extra></extra>\",\"legendgroup\":\"Audi \",\"marker\":{\"color\":\"#00BF7D\"},\"name\":\"Audi \",\"notched\":false,\"offsetgroup\":\"Audi \",\"orientation\":\"h\",\"showlegend\":true,\"x\":[55000,125000,67358,81639,79445,57500,69551,93800,96050],\"x0\":\" \",\"xaxis\":\"x\",\"y\":[\"Audi \",\"Audi \",\"Audi \",\"Audi \",\"Audi \",\"Audi \",\"Audi \",\"Audi \",\"Audi \"],\"y0\":\" \",\"yaxis\":\"y\",\"type\":\"box\"},{\"alignmentgroup\":\"True\",\"boxpoints\":\"all\",\"customdata\":[[\"EQC 400 4MATIC\"],[\"EQA \"],[\"EQV 300 Long\"]],\"hovertemplate\":\"Brand=%{y}<br>Price (\\u20ac)=%{x}<br>Model=%{customdata[0]}<extra></extra>\",\"legendgroup\":\"Mercedes \",\"marker\":{\"color\":\"#00B0F6\"},\"name\":\"Mercedes \",\"notched\":false,\"offsetgroup\":\"Mercedes \",\"orientation\":\"h\",\"showlegend\":true,\"x\":[69484,45000,70631],\"x0\":\" \",\"xaxis\":\"x\",\"y\":[\"Mercedes \",\"Mercedes \",\"Mercedes \"],\"y0\":\" \",\"yaxis\":\"y\",\"type\":\"box\"},{\"alignmentgroup\":\"True\",\"boxpoints\":\"all\",\"customdata\":[[\"Leaf \"],[\"Leaf e+\"],[\"Ariya 87kWh\"],[\"e-NV200 Evalia \"],[\"Ariya e-4ORCE 87kWh\"],[\"Ariya 63kWh\"],[\"Ariya e-4ORCE 63kWh\"],[\"Ariya e-4ORCE 87kWh Performance\"]],\"hovertemplate\":\"Brand=%{y}<br>Price (\\u20ac)=%{x}<br>Model=%{customdata[0]}<extra></extra>\",\"legendgroup\":\"Nissan \",\"marker\":{\"color\":\"#E76BF3\"},\"name\":\"Nissan \",\"notched\":false,\"offsetgroup\":\"Nissan \",\"orientation\":\"h\",\"showlegend\":true,\"x\":[29234,37237,50000,33246,57500,45000,50000,65000],\"x0\":\" \",\"xaxis\":\"x\",\"y\":[\"Nissan \",\"Nissan \",\"Nissan \",\"Nissan \",\"Nissan \",\"Nissan \",\"Nissan \",\"Nissan \"],\"y0\":\" \",\"yaxis\":\"y\",\"type\":\"box\"},{\"alignmentgroup\":\"True\",\"boxpoints\":\"all\",\"customdata\":[[\"Kona Electric 64 kWh\"],[\"IONIQ Electric\"],[\"Kona Electric 39 kWh\"]],\"hovertemplate\":\"Brand=%{y}<br>Price (\\u20ac)=%{x}<br>Model=%{customdata[0]}<extra></extra>\",\"legendgroup\":\"Hyundai \",\"marker\":{\"color\":\"#F8766D\"},\"name\":\"Hyundai \",\"notched\":false,\"offsetgroup\":\"Hyundai \",\"orientation\":\"h\",\"showlegend\":true,\"x\":[40795,34459,33971],\"x0\":\" \",\"xaxis\":\"x\",\"y\":[\"Hyundai \",\"Hyundai \",\"Hyundai \"],\"y0\":\" \",\"yaxis\":\"y\",\"type\":\"box\"},{\"alignmentgroup\":\"True\",\"boxpoints\":\"all\",\"customdata\":[[\"Taycan Turbo S\"],[\"Taycan 4S\"],[\"Taycan 4S Plus\"],[\"Taycan Cross Turismo \"],[\"Taycan Turbo\"]],\"hovertemplate\":\"Brand=%{y}<br>Price (\\u20ac)=%{x}<br>Model=%{customdata[0]}<extra></extra>\",\"legendgroup\":\"Porsche \",\"marker\":{\"color\":\"#A3A500\"},\"name\":\"Porsche \",\"notched\":false,\"offsetgroup\":\"Porsche \",\"orientation\":\"h\",\"showlegend\":true,\"x\":[180781,102945,109302,150000,148301],\"x0\":\" \",\"xaxis\":\"x\",\"y\":[\"Porsche \",\"Porsche \",\"Porsche \",\"Porsche \",\"Porsche \"],\"y0\":\" \",\"yaxis\":\"y\",\"type\":\"box\"},{\"alignmentgroup\":\"True\",\"boxpoints\":\"all\",\"customdata\":[[\"ZS EV\"]],\"hovertemplate\":\"Brand=%{y}<br>Price (\\u20ac)=%{x}<br>Model=%{customdata[0]}<extra></extra>\",\"legendgroup\":\"MG \",\"marker\":{\"color\":\"#00BF7D\"},\"name\":\"MG \",\"notched\":false,\"offsetgroup\":\"MG \",\"orientation\":\"h\",\"showlegend\":true,\"x\":[30000],\"x0\":\" \",\"xaxis\":\"x\",\"y\":[\"MG \"],\"y0\":\" \",\"yaxis\":\"y\",\"type\":\"box\"},{\"alignmentgroup\":\"True\",\"boxpoints\":\"all\",\"customdata\":[[\"Cooper SE \"]],\"hovertemplate\":\"Brand=%{y}<br>Price (\\u20ac)=%{x}<br>Model=%{customdata[0]}<extra></extra>\",\"legendgroup\":\"Mini \",\"marker\":{\"color\":\"#00B0F6\"},\"name\":\"Mini \",\"notched\":false,\"offsetgroup\":\"Mini \",\"orientation\":\"h\",\"showlegend\":true,\"x\":[31681],\"x0\":\" \",\"xaxis\":\"x\",\"y\":[\"Mini \"],\"y0\":\" \",\"yaxis\":\"y\",\"type\":\"box\"},{\"alignmentgroup\":\"True\",\"boxpoints\":\"all\",\"customdata\":[[\"Corsa-e \"],[\"Ampera-e \"],[\"Mokka-e \"]],\"hovertemplate\":\"Brand=%{y}<br>Price (\\u20ac)=%{x}<br>Model=%{customdata[0]}<extra></extra>\",\"legendgroup\":\"Opel \",\"marker\":{\"color\":\"#E76BF3\"},\"name\":\"Opel \",\"notched\":false,\"offsetgroup\":\"Opel \",\"orientation\":\"h\",\"showlegend\":true,\"x\":[29146,41906,35000],\"x0\":\" \",\"xaxis\":\"x\",\"y\":[\"Opel \",\"Opel \",\"Opel \"],\"y0\":\" \",\"yaxis\":\"y\",\"type\":\"box\"},{\"alignmentgroup\":\"True\",\"boxpoints\":\"all\",\"customdata\":[[\"Enyaq iV 50\"],[\"CITIGOe iV \"],[\"Enyaq iV 80\"],[\"Enyaq iV 80X\"],[\"Enyaq iV vRS\"],[\"Enyaq iV 60\"]],\"hovertemplate\":\"Brand=%{y}<br>Price (\\u20ac)=%{x}<br>Model=%{customdata[0]}<extra></extra>\",\"legendgroup\":\"Skoda \",\"marker\":{\"color\":\"#F8766D\"},\"name\":\"Skoda \",\"notched\":false,\"offsetgroup\":\"Skoda \",\"orientation\":\"h\",\"showlegend\":true,\"x\":[35000,24534,40000,45000,47500,37500],\"x0\":\" \",\"xaxis\":\"x\",\"y\":[\"Skoda \",\"Skoda \",\"Skoda \",\"Skoda \",\"Skoda \",\"Skoda \"],\"y0\":\" \",\"yaxis\":\"y\",\"type\":\"box\"},{\"alignmentgroup\":\"True\",\"boxpoints\":\"all\",\"customdata\":[[\"XC40 P8 AWD Recharge\"]],\"hovertemplate\":\"Brand=%{y}<br>Price (\\u20ac)=%{x}<br>Model=%{customdata[0]}<extra></extra>\",\"legendgroup\":\"Volvo \",\"marker\":{\"color\":\"#A3A500\"},\"name\":\"Volvo \",\"notched\":false,\"offsetgroup\":\"Volvo \",\"orientation\":\"h\",\"showlegend\":true,\"x\":[60437],\"x0\":\" \",\"xaxis\":\"x\",\"y\":[\"Volvo \"],\"y0\":\" \",\"yaxis\":\"y\",\"type\":\"box\"},{\"alignmentgroup\":\"True\",\"boxpoints\":\"all\",\"customdata\":[[\"e-Niro 64 kWh\"],[\"e-Soul 64 kWh\"],[\"e-Niro 39 kWh\"],[\"e-Soul 64 kWh\"],[\"e-Soul 39 kWh\"]],\"hovertemplate\":\"Brand=%{y}<br>Price (\\u20ac)=%{x}<br>Model=%{customdata[0]}<extra></extra>\",\"legendgroup\":\"Kia \",\"marker\":{\"color\":\"#00BF7D\"},\"name\":\"Kia \",\"notched\":false,\"offsetgroup\":\"Kia \",\"orientation\":\"h\",\"showlegend\":true,\"x\":[38105,36837,34400,36837,33133],\"x0\":\" \",\"xaxis\":\"x\",\"y\":[\"Kia \",\"Kia \",\"Kia \",\"Kia \",\"Kia \"],\"y0\":\" \",\"yaxis\":\"y\",\"type\":\"box\"},{\"alignmentgroup\":\"True\",\"boxpoints\":\"all\",\"customdata\":[[\"Zoe ZE50 R110\"],[\"Zoe ZE50 R135\"],[\"Twingo ZE\"],[\"Zoe ZE40 R110\"],[\"Kangoo Maxi ZE 33\"]],\"hovertemplate\":\"Brand=%{y}<br>Price (\\u20ac)=%{x}<br>Model=%{customdata[0]}<extra></extra>\",\"legendgroup\":\"Renault \",\"marker\":{\"color\":\"#00B0F6\"},\"name\":\"Renault \",\"notched\":false,\"offsetgroup\":\"Renault \",\"orientation\":\"h\",\"showlegend\":true,\"x\":[31184,33133,24790,29234,38000],\"x0\":\" \",\"xaxis\":\"x\",\"y\":[\"Renault \",\"Renault \",\"Renault \",\"Renault \",\"Renault \"],\"y0\":\" \",\"yaxis\":\"y\",\"type\":\"box\"},{\"alignmentgroup\":\"True\",\"boxpoints\":\"all\",\"customdata\":[[\"MX-30 \"]],\"hovertemplate\":\"Brand=%{y}<br>Price (\\u20ac)=%{x}<br>Model=%{customdata[0]}<extra></extra>\",\"legendgroup\":\"Mazda \",\"marker\":{\"color\":\"#E76BF3\"},\"name\":\"Mazda \",\"notched\":false,\"offsetgroup\":\"Mazda \",\"orientation\":\"h\",\"showlegend\":true,\"x\":[32646],\"x0\":\" \",\"xaxis\":\"x\",\"y\":[\"Mazda \"],\"y0\":\" \",\"yaxis\":\"y\",\"type\":\"box\"},{\"alignmentgroup\":\"True\",\"boxpoints\":\"all\",\"customdata\":[[\"UX 300e\"]],\"hovertemplate\":\"Brand=%{y}<br>Price (\\u20ac)=%{x}<br>Model=%{customdata[0]}<extra></extra>\",\"legendgroup\":\"Lexus \",\"marker\":{\"color\":\"#F8766D\"},\"name\":\"Lexus \",\"notched\":false,\"offsetgroup\":\"Lexus \",\"orientation\":\"h\",\"showlegend\":true,\"x\":[50000],\"x0\":\" \",\"xaxis\":\"x\",\"y\":[\"Lexus \"],\"y0\":\" \",\"yaxis\":\"y\",\"type\":\"box\"},{\"alignmentgroup\":\"True\",\"boxpoints\":\"all\",\"customdata\":[[\"el-Born \"]],\"hovertemplate\":\"Brand=%{y}<br>Price (\\u20ac)=%{x}<br>Model=%{customdata[0]}<extra></extra>\",\"legendgroup\":\"CUPRA \",\"marker\":{\"color\":\"#A3A500\"},\"name\":\"CUPRA \",\"notched\":false,\"offsetgroup\":\"CUPRA \",\"orientation\":\"h\",\"showlegend\":true,\"x\":[45000],\"x0\":\" \",\"xaxis\":\"x\",\"y\":[\"CUPRA \"],\"y0\":\" \",\"yaxis\":\"y\",\"type\":\"box\"},{\"alignmentgroup\":\"True\",\"boxpoints\":\"all\",\"customdata\":[[\"Mii Electric \"]],\"hovertemplate\":\"Brand=%{y}<br>Price (\\u20ac)=%{x}<br>Model=%{customdata[0]}<extra></extra>\",\"legendgroup\":\"SEAT \",\"marker\":{\"color\":\"#00BF7D\"},\"name\":\"SEAT \",\"notched\":false,\"offsetgroup\":\"SEAT \",\"orientation\":\"h\",\"showlegend\":true,\"x\":[20129],\"x0\":\" \",\"xaxis\":\"x\",\"y\":[\"SEAT \"],\"y0\":\" \",\"yaxis\":\"y\",\"type\":\"box\"},{\"alignmentgroup\":\"True\",\"boxpoints\":\"all\",\"customdata\":[[\"One \"]],\"hovertemplate\":\"Brand=%{y}<br>Price (\\u20ac)=%{x}<br>Model=%{customdata[0]}<extra></extra>\",\"legendgroup\":\"Lightyear \",\"marker\":{\"color\":\"#00B0F6\"},\"name\":\"Lightyear \",\"notched\":false,\"offsetgroup\":\"Lightyear \",\"orientation\":\"h\",\"showlegend\":true,\"x\":[149000],\"x0\":\" \",\"xaxis\":\"x\",\"y\":[\"Lightyear \"],\"y0\":\" \",\"yaxis\":\"y\",\"type\":\"box\"},{\"alignmentgroup\":\"True\",\"boxpoints\":\"all\",\"customdata\":[[\"U5 \"]],\"hovertemplate\":\"Brand=%{y}<br>Price (\\u20ac)=%{x}<br>Model=%{customdata[0]}<extra></extra>\",\"legendgroup\":\"Aiways \",\"marker\":{\"color\":\"#E76BF3\"},\"name\":\"Aiways \",\"notched\":false,\"offsetgroup\":\"Aiways \",\"orientation\":\"h\",\"showlegend\":true,\"x\":[36057],\"x0\":\" \",\"xaxis\":\"x\",\"y\":[\"Aiways \"],\"y0\":\" \",\"yaxis\":\"y\",\"type\":\"box\"},{\"alignmentgroup\":\"True\",\"boxpoints\":\"all\",\"customdata\":[[\"3 Crossback E-Tense\"]],\"hovertemplate\":\"Brand=%{y}<br>Price (\\u20ac)=%{x}<br>Model=%{customdata[0]}<extra></extra>\",\"legendgroup\":\"DS \",\"marker\":{\"color\":\"#F8766D\"},\"name\":\"DS \",\"notched\":false,\"offsetgroup\":\"DS \",\"orientation\":\"h\",\"showlegend\":true,\"x\":[37422],\"x0\":\" \",\"xaxis\":\"x\",\"y\":[\"DS \"],\"y0\":\" \",\"yaxis\":\"y\",\"type\":\"box\"},{\"alignmentgroup\":\"True\",\"boxpoints\":\"all\",\"customdata\":[[\"e-C4 \"]],\"hovertemplate\":\"Brand=%{y}<br>Price (\\u20ac)=%{x}<br>Model=%{customdata[0]}<extra></extra>\",\"legendgroup\":\"Citroen \",\"marker\":{\"color\":\"#A3A500\"},\"name\":\"Citroen \",\"notched\":false,\"offsetgroup\":\"Citroen \",\"orientation\":\"h\",\"showlegend\":true,\"x\":[40000],\"x0\":\" \",\"xaxis\":\"x\",\"y\":[\"Citroen \"],\"y0\":\" \",\"yaxis\":\"y\",\"type\":\"box\"},{\"alignmentgroup\":\"True\",\"boxpoints\":\"all\",\"customdata\":[[\"I-Pace \"]],\"hovertemplate\":\"Brand=%{y}<br>Price (\\u20ac)=%{x}<br>Model=%{customdata[0]}<extra></extra>\",\"legendgroup\":\"Jaguar \",\"marker\":{\"color\":\"#00BF7D\"},\"name\":\"Jaguar \",\"notched\":false,\"offsetgroup\":\"Jaguar \",\"orientation\":\"h\",\"showlegend\":true,\"x\":[75351],\"x0\":\" \",\"xaxis\":\"x\",\"y\":[\"Jaguar \"],\"y0\":\" \",\"yaxis\":\"y\",\"type\":\"box\"},{\"alignmentgroup\":\"True\",\"boxpoints\":\"all\",\"customdata\":[[\"Mustang Mach-E ER RWD\"],[\"Mustang Mach-E ER AWD\"],[\"Mustang Mach-E SR AWD\"],[\"Mustang Mach-E SR RWD\"]],\"hovertemplate\":\"Brand=%{y}<br>Price (\\u20ac)=%{x}<br>Model=%{customdata[0]}<extra></extra>\",\"legendgroup\":\"Ford \",\"marker\":{\"color\":\"#00B0F6\"},\"name\":\"Ford \",\"notched\":false,\"offsetgroup\":\"Ford \",\"orientation\":\"h\",\"showlegend\":true,\"x\":[54475,62900,54000,46900],\"x0\":\" \",\"xaxis\":\"x\",\"y\":[\"Ford \",\"Ford \",\"Ford \",\"Ford \"],\"y0\":\" \",\"yaxis\":\"y\",\"type\":\"box\"},{\"alignmentgroup\":\"True\",\"boxpoints\":\"all\",\"customdata\":[[\"M-Byte 95 kWh 4WD\"],[\"M-Byte 72 kWh 2WD\"],[\"M-Byte 95 kWh 2WD\"]],\"hovertemplate\":\"Brand=%{y}<br>Price (\\u20ac)=%{x}<br>Model=%{customdata[0]}<extra></extra>\",\"legendgroup\":\"Byton \",\"marker\":{\"color\":\"#E76BF3\"},\"name\":\"Byton \",\"notched\":false,\"offsetgroup\":\"Byton \",\"orientation\":\"h\",\"showlegend\":true,\"x\":[64000,53500,62000],\"x0\":\" \",\"xaxis\":\"x\",\"y\":[\"Byton \",\"Byton \",\"Byton \"],\"y0\":\" \",\"yaxis\":\"y\",\"type\":\"box\"},{\"alignmentgroup\":\"True\",\"boxpoints\":\"all\",\"customdata\":[[\"Sion \"]],\"hovertemplate\":\"Brand=%{y}<br>Price (\\u20ac)=%{x}<br>Model=%{customdata[0]}<extra></extra>\",\"legendgroup\":\"Sono \",\"marker\":{\"color\":\"#F8766D\"},\"name\":\"Sono \",\"notched\":false,\"offsetgroup\":\"Sono \",\"orientation\":\"h\",\"showlegend\":true,\"x\":[25500],\"x0\":\" \",\"xaxis\":\"x\",\"y\":[\"Sono \"],\"y0\":\" \",\"yaxis\":\"y\",\"type\":\"box\"},{\"alignmentgroup\":\"True\",\"boxpoints\":\"all\",\"customdata\":[[\"EQ forfour \"],[\"EQ fortwo coupe\"],[\"EQ fortwo cabrio\"]],\"hovertemplate\":\"Brand=%{y}<br>Price (\\u20ac)=%{x}<br>Model=%{customdata[0]}<extra></extra>\",\"legendgroup\":\"Smart \",\"marker\":{\"color\":\"#A3A500\"},\"name\":\"Smart \",\"notched\":false,\"offsetgroup\":\"Smart \",\"orientation\":\"h\",\"showlegend\":true,\"x\":[22030,21387,24565],\"x0\":\" \",\"xaxis\":\"x\",\"y\":[\"Smart \",\"Smart \",\"Smart \"],\"y0\":\" \",\"yaxis\":\"y\",\"type\":\"box\"},{\"alignmentgroup\":\"True\",\"boxpoints\":\"all\",\"customdata\":[[\"500e Hatchback\"],[\"500e Convertible\"]],\"hovertemplate\":\"Brand=%{y}<br>Price (\\u20ac)=%{x}<br>Model=%{customdata[0]}<extra></extra>\",\"legendgroup\":\"Fiat \",\"marker\":{\"color\":\"#00BF7D\"},\"name\":\"Fiat \",\"notched\":false,\"offsetgroup\":\"Fiat \",\"orientation\":\"h\",\"showlegend\":true,\"x\":[34900,37900],\"x0\":\" \",\"xaxis\":\"x\",\"y\":[\"Fiat \",\"Fiat \"],\"y0\":\" \",\"yaxis\":\"y\",\"type\":\"box\"}],                        {\"template\":{\"data\":{\"barpolar\":[{\"marker\":{\"line\":{\"color\":\"rgb(237,237,237)\",\"width\":0.5},\"pattern\":{\"fillmode\":\"overlay\",\"size\":10,\"solidity\":0.2}},\"type\":\"barpolar\"}],\"bar\":[{\"error_x\":{\"color\":\"rgb(51,51,51)\"},\"error_y\":{\"color\":\"rgb(51,51,51)\"},\"marker\":{\"line\":{\"color\":\"rgb(237,237,237)\",\"width\":0.5},\"pattern\":{\"fillmode\":\"overlay\",\"size\":10,\"solidity\":0.2}},\"type\":\"bar\"}],\"carpet\":[{\"aaxis\":{\"endlinecolor\":\"rgb(51,51,51)\",\"gridcolor\":\"white\",\"linecolor\":\"white\",\"minorgridcolor\":\"white\",\"startlinecolor\":\"rgb(51,51,51)\"},\"baxis\":{\"endlinecolor\":\"rgb(51,51,51)\",\"gridcolor\":\"white\",\"linecolor\":\"white\",\"minorgridcolor\":\"white\",\"startlinecolor\":\"rgb(51,51,51)\"},\"type\":\"carpet\"}],\"choropleth\":[{\"colorbar\":{\"outlinewidth\":0,\"tickcolor\":\"rgb(237,237,237)\",\"ticklen\":6,\"ticks\":\"inside\"},\"type\":\"choropleth\"}],\"contourcarpet\":[{\"colorbar\":{\"outlinewidth\":0,\"tickcolor\":\"rgb(237,237,237)\",\"ticklen\":6,\"ticks\":\"inside\"},\"type\":\"contourcarpet\"}],\"contour\":[{\"colorbar\":{\"outlinewidth\":0,\"tickcolor\":\"rgb(237,237,237)\",\"ticklen\":6,\"ticks\":\"inside\"},\"colorscale\":[[0,\"rgb(20,44,66)\"],[1,\"rgb(90,179,244)\"]],\"type\":\"contour\"}],\"heatmapgl\":[{\"colorbar\":{\"outlinewidth\":0,\"tickcolor\":\"rgb(237,237,237)\",\"ticklen\":6,\"ticks\":\"inside\"},\"colorscale\":[[0,\"rgb(20,44,66)\"],[1,\"rgb(90,179,244)\"]],\"type\":\"heatmapgl\"}],\"heatmap\":[{\"colorbar\":{\"outlinewidth\":0,\"tickcolor\":\"rgb(237,237,237)\",\"ticklen\":6,\"ticks\":\"inside\"},\"colorscale\":[[0,\"rgb(20,44,66)\"],[1,\"rgb(90,179,244)\"]],\"type\":\"heatmap\"}],\"histogram2dcontour\":[{\"colorbar\":{\"outlinewidth\":0,\"tickcolor\":\"rgb(237,237,237)\",\"ticklen\":6,\"ticks\":\"inside\"},\"colorscale\":[[0,\"rgb(20,44,66)\"],[1,\"rgb(90,179,244)\"]],\"type\":\"histogram2dcontour\"}],\"histogram2d\":[{\"colorbar\":{\"outlinewidth\":0,\"tickcolor\":\"rgb(237,237,237)\",\"ticklen\":6,\"ticks\":\"inside\"},\"colorscale\":[[0,\"rgb(20,44,66)\"],[1,\"rgb(90,179,244)\"]],\"type\":\"histogram2d\"}],\"histogram\":[{\"marker\":{\"pattern\":{\"fillmode\":\"overlay\",\"size\":10,\"solidity\":0.2}},\"type\":\"histogram\"}],\"mesh3d\":[{\"colorbar\":{\"outlinewidth\":0,\"tickcolor\":\"rgb(237,237,237)\",\"ticklen\":6,\"ticks\":\"inside\"},\"type\":\"mesh3d\"}],\"parcoords\":[{\"line\":{\"colorbar\":{\"outlinewidth\":0,\"tickcolor\":\"rgb(237,237,237)\",\"ticklen\":6,\"ticks\":\"inside\"}},\"type\":\"parcoords\"}],\"pie\":[{\"automargin\":true,\"type\":\"pie\"}],\"scatter3d\":[{\"line\":{\"colorbar\":{\"outlinewidth\":0,\"tickcolor\":\"rgb(237,237,237)\",\"ticklen\":6,\"ticks\":\"inside\"}},\"marker\":{\"colorbar\":{\"outlinewidth\":0,\"tickcolor\":\"rgb(237,237,237)\",\"ticklen\":6,\"ticks\":\"inside\"}},\"type\":\"scatter3d\"}],\"scattercarpet\":[{\"marker\":{\"colorbar\":{\"outlinewidth\":0,\"tickcolor\":\"rgb(237,237,237)\",\"ticklen\":6,\"ticks\":\"inside\"}},\"type\":\"scattercarpet\"}],\"scattergeo\":[{\"marker\":{\"colorbar\":{\"outlinewidth\":0,\"tickcolor\":\"rgb(237,237,237)\",\"ticklen\":6,\"ticks\":\"inside\"}},\"type\":\"scattergeo\"}],\"scattergl\":[{\"marker\":{\"colorbar\":{\"outlinewidth\":0,\"tickcolor\":\"rgb(237,237,237)\",\"ticklen\":6,\"ticks\":\"inside\"}},\"type\":\"scattergl\"}],\"scattermapbox\":[{\"marker\":{\"colorbar\":{\"outlinewidth\":0,\"tickcolor\":\"rgb(237,237,237)\",\"ticklen\":6,\"ticks\":\"inside\"}},\"type\":\"scattermapbox\"}],\"scatterpolargl\":[{\"marker\":{\"colorbar\":{\"outlinewidth\":0,\"tickcolor\":\"rgb(237,237,237)\",\"ticklen\":6,\"ticks\":\"inside\"}},\"type\":\"scatterpolargl\"}],\"scatterpolar\":[{\"marker\":{\"colorbar\":{\"outlinewidth\":0,\"tickcolor\":\"rgb(237,237,237)\",\"ticklen\":6,\"ticks\":\"inside\"}},\"type\":\"scatterpolar\"}],\"scatter\":[{\"marker\":{\"colorbar\":{\"outlinewidth\":0,\"tickcolor\":\"rgb(237,237,237)\",\"ticklen\":6,\"ticks\":\"inside\"}},\"type\":\"scatter\"}],\"scatterternary\":[{\"marker\":{\"colorbar\":{\"outlinewidth\":0,\"tickcolor\":\"rgb(237,237,237)\",\"ticklen\":6,\"ticks\":\"inside\"}},\"type\":\"scatterternary\"}],\"surface\":[{\"colorbar\":{\"outlinewidth\":0,\"tickcolor\":\"rgb(237,237,237)\",\"ticklen\":6,\"ticks\":\"inside\"},\"colorscale\":[[0,\"rgb(20,44,66)\"],[1,\"rgb(90,179,244)\"]],\"type\":\"surface\"}],\"table\":[{\"cells\":{\"fill\":{\"color\":\"rgb(237,237,237)\"},\"line\":{\"color\":\"white\"}},\"header\":{\"fill\":{\"color\":\"rgb(217,217,217)\"},\"line\":{\"color\":\"white\"}},\"type\":\"table\"}]},\"layout\":{\"annotationdefaults\":{\"arrowhead\":0,\"arrowwidth\":1},\"autotypenumbers\":\"strict\",\"coloraxis\":{\"colorbar\":{\"outlinewidth\":0,\"tickcolor\":\"rgb(237,237,237)\",\"ticklen\":6,\"ticks\":\"inside\"}},\"colorscale\":{\"sequential\":[[0,\"rgb(20,44,66)\"],[1,\"rgb(90,179,244)\"]],\"sequentialminus\":[[0,\"rgb(20,44,66)\"],[1,\"rgb(90,179,244)\"]]},\"colorway\":[\"#F8766D\",\"#A3A500\",\"#00BF7D\",\"#00B0F6\",\"#E76BF3\"],\"font\":{\"color\":\"rgb(51,51,51)\"},\"geo\":{\"bgcolor\":\"white\",\"lakecolor\":\"white\",\"landcolor\":\"rgb(237,237,237)\",\"showlakes\":true,\"showland\":true,\"subunitcolor\":\"white\"},\"hoverlabel\":{\"align\":\"left\"},\"hovermode\":\"closest\",\"paper_bgcolor\":\"white\",\"plot_bgcolor\":\"rgb(237,237,237)\",\"polar\":{\"angularaxis\":{\"gridcolor\":\"white\",\"linecolor\":\"white\",\"showgrid\":true,\"tickcolor\":\"rgb(51,51,51)\",\"ticks\":\"outside\"},\"bgcolor\":\"rgb(237,237,237)\",\"radialaxis\":{\"gridcolor\":\"white\",\"linecolor\":\"white\",\"showgrid\":true,\"tickcolor\":\"rgb(51,51,51)\",\"ticks\":\"outside\"}},\"scene\":{\"xaxis\":{\"backgroundcolor\":\"rgb(237,237,237)\",\"gridcolor\":\"white\",\"gridwidth\":2,\"linecolor\":\"white\",\"showbackground\":true,\"showgrid\":true,\"tickcolor\":\"rgb(51,51,51)\",\"ticks\":\"outside\",\"zerolinecolor\":\"white\"},\"yaxis\":{\"backgroundcolor\":\"rgb(237,237,237)\",\"gridcolor\":\"white\",\"gridwidth\":2,\"linecolor\":\"white\",\"showbackground\":true,\"showgrid\":true,\"tickcolor\":\"rgb(51,51,51)\",\"ticks\":\"outside\",\"zerolinecolor\":\"white\"},\"zaxis\":{\"backgroundcolor\":\"rgb(237,237,237)\",\"gridcolor\":\"white\",\"gridwidth\":2,\"linecolor\":\"white\",\"showbackground\":true,\"showgrid\":true,\"tickcolor\":\"rgb(51,51,51)\",\"ticks\":\"outside\",\"zerolinecolor\":\"white\"}},\"shapedefaults\":{\"fillcolor\":\"black\",\"line\":{\"width\":0},\"opacity\":0.3},\"ternary\":{\"aaxis\":{\"gridcolor\":\"white\",\"linecolor\":\"white\",\"showgrid\":true,\"tickcolor\":\"rgb(51,51,51)\",\"ticks\":\"outside\"},\"baxis\":{\"gridcolor\":\"white\",\"linecolor\":\"white\",\"showgrid\":true,\"tickcolor\":\"rgb(51,51,51)\",\"ticks\":\"outside\"},\"bgcolor\":\"rgb(237,237,237)\",\"caxis\":{\"gridcolor\":\"white\",\"linecolor\":\"white\",\"showgrid\":true,\"tickcolor\":\"rgb(51,51,51)\",\"ticks\":\"outside\"}},\"xaxis\":{\"automargin\":true,\"gridcolor\":\"white\",\"linecolor\":\"white\",\"showgrid\":true,\"tickcolor\":\"rgb(51,51,51)\",\"ticks\":\"outside\",\"title\":{\"standoff\":15},\"zerolinecolor\":\"white\"},\"yaxis\":{\"automargin\":true,\"gridcolor\":\"white\",\"linecolor\":\"white\",\"showgrid\":true,\"tickcolor\":\"rgb(51,51,51)\",\"ticks\":\"outside\",\"title\":{\"standoff\":15},\"zerolinecolor\":\"white\"}}},\"xaxis\":{\"anchor\":\"y\",\"domain\":[0.0,1.0],\"title\":{\"text\":\"Price (\\u20ac)\"}},\"yaxis\":{\"anchor\":\"x\",\"domain\":[0.0,1.0],\"title\":{\"text\":\"Brand\"},\"categoryorder\":\"array\",\"categoryarray\":[\"Fiat \",\"Smart \",\"Sono \",\"Byton \",\"Ford \",\"Jaguar \",\"Citroen \",\"DS \",\"Aiways \",\"Lightyear \",\"SEAT \",\"CUPRA \",\"Lexus \",\"Mazda \",\"Renault \",\"Kia \",\"Volvo \",\"Skoda \",\"Opel \",\"Mini \",\"MG \",\"Porsche \",\"Hyundai \",\"Nissan \",\"Mercedes \",\"Audi \",\"Peugeot \",\"Lucid \",\"Honda \",\"BMW \",\"Polestar \",\"Volkswagen \",\"Tesla \"]},\"legend\":{\"title\":{\"text\":\"Brand\"},\"tracegroupgap\":0},\"title\":{\"text\":\"Price and Brand\"},\"boxmode\":\"overlay\",\"height\":1000,\"width\":900},                        {\"responsive\": true}                    ).then(function(){\n",
       "                            \n",
       "var gd = document.getElementById('f1c0bd8e-0ba8-4030-bf7c-539762ecfd2b');\n",
       "var x = new MutationObserver(function (mutations, observer) {{\n",
       "        var display = window.getComputedStyle(gd).display;\n",
       "        if (!display || display === 'none') {{\n",
       "            console.log([gd, 'removed!']);\n",
       "            Plotly.purge(gd);\n",
       "            observer.disconnect();\n",
       "        }}\n",
       "}});\n",
       "\n",
       "// Listen for the removal of the full notebook cells\n",
       "var notebookContainer = gd.closest('#notebook-container');\n",
       "if (notebookContainer) {{\n",
       "    x.observe(notebookContainer, {childList: true});\n",
       "}}\n",
       "\n",
       "// Listen for the clearing of the current output cell\n",
       "var outputEl = gd.closest('.output');\n",
       "if (outputEl) {{\n",
       "    x.observe(outputEl, {childList: true});\n",
       "}}\n",
       "\n",
       "                        })                };                });            </script>        </div>"
      ]
     },
     "metadata": {},
     "output_type": "display_data"
    }
   ],
   "source": [
    "fig = ex.box(EV,x='PriceEuro',y ='Brand' , color='Brand', points='all', hover_data=['Model'] ,\n",
    "           height=1000, width= 900, orientation='h', title='Price and Brand' , template='ggplot2' ,\n",
    "            labels=dict(PriceEuro='Price (€)'))\n",
    "fig.show()"
   ]
  },
  {
   "cell_type": "markdown",
   "id": "b3f2172e",
   "metadata": {},
   "source": [
    "We can see from this graph that Porsche have the most expensive cars in the market with the average price of 148.301k Euro, but the Tesla Roadster is the most expensive with the price 215k Euro and the SEAT Mii Electric and Smart is the most affordable with the price range of 20-21k Euro."
   ]
  },
  {
   "cell_type": "markdown",
   "id": "114da783",
   "metadata": {},
   "source": [
    "### Acceleration and Top_Speed"
   ]
  },
  {
   "cell_type": "code",
   "execution_count": 365,
   "id": "2b5c68c3",
   "metadata": {},
   "outputs": [
    {
     "data": {
      "application/vnd.plotly.v1+json": {
       "config": {
        "plotlyServerURL": "https://plot.ly"
       },
       "data": [
        {
         "customdata": [
          [
           "Model 3 Long Range Dual Motor"
          ],
          [
           "Model 3 Standard Range Plus"
          ],
          [
           "Model Y Long Range Dual Motor"
          ],
          [
           "Model 3 Long Range Performance"
          ],
          [
           "Cybertruck Tri Motor"
          ],
          [
           "Model S Long Range"
          ],
          [
           "Roadster "
          ],
          [
           "Model X Long Range"
          ],
          [
           "Model S Performance"
          ],
          [
           "Model Y Long Range Performance"
          ],
          [
           "Cybertruck Dual Motor"
          ],
          [
           "Model X Performance"
          ],
          [
           "Cybertruck Single Motor"
          ]
         ],
         "hovertemplate": "Brand=Tesla <br>Top Speed (Km/H)=%{x}<br>Acceleration (Sec)=%{y}<br>Model=%{customdata[0]}<extra></extra>",
         "legendgroup": "Tesla ",
         "marker": {
          "color": "#F8766D",
          "opacity": 0.8,
          "size": 8,
          "symbol": "circle"
         },
         "mode": "markers",
         "name": "Tesla ",
         "orientation": "v",
         "showlegend": true,
         "type": "scatter",
         "x": [
          233,
          225,
          217,
          261,
          210,
          250,
          410,
          250,
          261,
          241,
          190,
          250,
          180
         ],
         "xaxis": "x",
         "y": [
          4.6,
          5.6,
          5.1,
          3.4,
          3,
          3.8,
          2.1,
          4.6,
          2.5,
          3.7,
          5,
          2.8,
          7
         ],
         "yaxis": "y"
        },
        {
         "customdata": [
          [
           "ID.3 Pure"
          ],
          [
           "e-Golf "
          ],
          [
           "ID.3 Pro S"
          ],
          [
           "e-Up! "
          ],
          [
           "ID.4 "
          ],
          [
           "ID.3 Pro"
          ],
          [
           "ID.3 1st"
          ],
          [
           "ID.3 Pro Performance"
          ]
         ],
         "hovertemplate": "Brand=Volkswagen <br>Top Speed (Km/H)=%{x}<br>Acceleration (Sec)=%{y}<br>Model=%{customdata[0]}<extra></extra>",
         "legendgroup": "Volkswagen ",
         "marker": {
          "color": "#A3A500",
          "opacity": 0.8,
          "size": 8,
          "symbol": "circle"
         },
         "mode": "markers",
         "name": "Volkswagen ",
         "orientation": "v",
         "showlegend": true,
         "type": "scatter",
         "x": [
          160,
          150,
          160,
          130,
          160,
          160,
          160,
          160
         ],
         "xaxis": "x",
         "y": [
          10,
          9.6,
          7.9,
          11.9,
          7.5,
          9,
          7.3,
          7.3
         ],
         "yaxis": "y"
        },
        {
         "customdata": [
          [
           "2"
          ]
         ],
         "hovertemplate": "Brand=Polestar <br>Top Speed (Km/H)=%{x}<br>Acceleration (Sec)=%{y}<br>Model=%{customdata[0]}<extra></extra>",
         "legendgroup": "Polestar ",
         "marker": {
          "color": "#00BF7D",
          "opacity": 0.8,
          "size": 8,
          "symbol": "circle"
         },
         "mode": "markers",
         "name": "Polestar ",
         "orientation": "v",
         "showlegend": true,
         "type": "scatter",
         "x": [
          210
         ],
         "xaxis": "x",
         "y": [
          4.7
         ],
         "yaxis": "y"
        },
        {
         "customdata": [
          [
           "iX3 "
          ],
          [
           "i4 "
          ],
          [
           "i3 120 Ah"
          ],
          [
           "i3s 120 Ah"
          ]
         ],
         "hovertemplate": "Brand=BMW <br>Top Speed (Km/H)=%{x}<br>Acceleration (Sec)=%{y}<br>Model=%{customdata[0]}<extra></extra>",
         "legendgroup": "BMW ",
         "marker": {
          "color": "#00B0F6",
          "opacity": 0.8,
          "size": 8,
          "symbol": "circle"
         },
         "mode": "markers",
         "name": "BMW ",
         "orientation": "v",
         "showlegend": true,
         "type": "scatter",
         "x": [
          180,
          200,
          150,
          160
         ],
         "xaxis": "x",
         "y": [
          6.8,
          4,
          7.3,
          6.9
         ],
         "yaxis": "y"
        },
        {
         "customdata": [
          [
           "e "
          ],
          [
           "e Advance"
          ]
         ],
         "hovertemplate": "Brand=Honda <br>Top Speed (Km/H)=%{x}<br>Acceleration (Sec)=%{y}<br>Model=%{customdata[0]}<extra></extra>",
         "legendgroup": "Honda ",
         "marker": {
          "color": "#E76BF3",
          "opacity": 0.8,
          "size": 8,
          "symbol": "circle"
         },
         "mode": "markers",
         "name": "Honda ",
         "orientation": "v",
         "showlegend": true,
         "type": "scatter",
         "x": [
          145,
          145
         ],
         "xaxis": "x",
         "y": [
          9.5,
          8.3
         ],
         "yaxis": "y"
        },
        {
         "customdata": [
          [
           "Air "
          ]
         ],
         "hovertemplate": "Brand=Lucid <br>Top Speed (Km/H)=%{x}<br>Acceleration (Sec)=%{y}<br>Model=%{customdata[0]}<extra></extra>",
         "legendgroup": "Lucid ",
         "marker": {
          "color": "#F8766D",
          "opacity": 0.8,
          "size": 8,
          "symbol": "circle"
         },
         "mode": "markers",
         "name": "Lucid ",
         "orientation": "v",
         "showlegend": true,
         "type": "scatter",
         "x": [
          250
         ],
         "xaxis": "x",
         "y": [
          2.8
         ],
         "yaxis": "y"
        },
        {
         "customdata": [
          [
           "e-208 "
          ],
          [
           "e-2008 SUV "
          ]
         ],
         "hovertemplate": "Brand=Peugeot <br>Top Speed (Km/H)=%{x}<br>Acceleration (Sec)=%{y}<br>Model=%{customdata[0]}<extra></extra>",
         "legendgroup": "Peugeot ",
         "marker": {
          "color": "#A3A500",
          "opacity": 0.8,
          "size": 8,
          "symbol": "circle"
         },
         "mode": "markers",
         "name": "Peugeot ",
         "orientation": "v",
         "showlegend": true,
         "type": "scatter",
         "x": [
          150,
          150
         ],
         "xaxis": "x",
         "y": [
          8.1,
          8.5
         ],
         "yaxis": "y"
        },
        {
         "customdata": [
          [
           "Q4 e-tron "
          ],
          [
           "e-tron GT "
          ],
          [
           "e-tron 50 quattro"
          ],
          [
           "e-tron Sportback 55 quattro"
          ],
          [
           "e-tron 55 quattro"
          ],
          [
           "Q4 Sportback e-tron "
          ],
          [
           "e-tron Sportback 50 quattro"
          ],
          [
           "e-tron S 55 quattro"
          ],
          [
           "e-tron S Sportback 55 quattro"
          ]
         ],
         "hovertemplate": "Brand=Audi <br>Top Speed (Km/H)=%{x}<br>Acceleration (Sec)=%{y}<br>Model=%{customdata[0]}<extra></extra>",
         "legendgroup": "Audi ",
         "marker": {
          "color": "#00BF7D",
          "opacity": 0.8,
          "size": 8,
          "symbol": "circle"
         },
         "mode": "markers",
         "name": "Audi ",
         "orientation": "v",
         "showlegend": true,
         "type": "scatter",
         "x": [
          180,
          240,
          190,
          200,
          200,
          180,
          190,
          210,
          210
         ],
         "xaxis": "x",
         "y": [
          6.3,
          3.5,
          6.8,
          5.7,
          5.7,
          6.3,
          6.8,
          4.5,
          4.5
         ],
         "yaxis": "y"
        },
        {
         "customdata": [
          [
           "EQC 400 4MATIC"
          ],
          [
           "EQA "
          ],
          [
           "EQV 300 Long"
          ]
         ],
         "hovertemplate": "Brand=Mercedes <br>Top Speed (Km/H)=%{x}<br>Acceleration (Sec)=%{y}<br>Model=%{customdata[0]}<extra></extra>",
         "legendgroup": "Mercedes ",
         "marker": {
          "color": "#00B0F6",
          "opacity": 0.8,
          "size": 8,
          "symbol": "circle"
         },
         "mode": "markers",
         "name": "Mercedes ",
         "orientation": "v",
         "showlegend": true,
         "type": "scatter",
         "x": [
          180,
          200,
          140
         ],
         "xaxis": "x",
         "y": [
          5.1,
          5,
          10
         ],
         "yaxis": "y"
        },
        {
         "customdata": [
          [
           "Leaf "
          ],
          [
           "Leaf e+"
          ],
          [
           "Ariya 87kWh"
          ],
          [
           "e-NV200 Evalia "
          ],
          [
           "Ariya e-4ORCE 87kWh"
          ],
          [
           "Ariya 63kWh"
          ],
          [
           "Ariya e-4ORCE 63kWh"
          ],
          [
           "Ariya e-4ORCE 87kWh Performance"
          ]
         ],
         "hovertemplate": "Brand=Nissan <br>Top Speed (Km/H)=%{x}<br>Acceleration (Sec)=%{y}<br>Model=%{customdata[0]}<extra></extra>",
         "legendgroup": "Nissan ",
         "marker": {
          "color": "#E76BF3",
          "opacity": 0.8,
          "size": 8,
          "symbol": "circle"
         },
         "mode": "markers",
         "name": "Nissan ",
         "orientation": "v",
         "showlegend": true,
         "type": "scatter",
         "x": [
          144,
          157,
          160,
          123,
          200,
          160,
          200,
          200
         ],
         "xaxis": "x",
         "y": [
          7.9,
          7.3,
          7.6,
          14,
          5.7,
          7.5,
          5.9,
          5.1
         ],
         "yaxis": "y"
        },
        {
         "customdata": [
          [
           "Kona Electric 64 kWh"
          ],
          [
           "IONIQ Electric"
          ],
          [
           "Kona Electric 39 kWh"
          ]
         ],
         "hovertemplate": "Brand=Hyundai <br>Top Speed (Km/H)=%{x}<br>Acceleration (Sec)=%{y}<br>Model=%{customdata[0]}<extra></extra>",
         "legendgroup": "Hyundai ",
         "marker": {
          "color": "#F8766D",
          "opacity": 0.8,
          "size": 8,
          "symbol": "circle"
         },
         "mode": "markers",
         "name": "Hyundai ",
         "orientation": "v",
         "showlegend": true,
         "type": "scatter",
         "x": [
          167,
          165,
          155
         ],
         "xaxis": "x",
         "y": [
          7.9,
          9.7,
          9.9
         ],
         "yaxis": "y"
        },
        {
         "customdata": [
          [
           "Taycan Turbo S"
          ],
          [
           "Taycan 4S"
          ],
          [
           "Taycan 4S Plus"
          ],
          [
           "Taycan Cross Turismo "
          ],
          [
           "Taycan Turbo"
          ]
         ],
         "hovertemplate": "Brand=Porsche <br>Top Speed (Km/H)=%{x}<br>Acceleration (Sec)=%{y}<br>Model=%{customdata[0]}<extra></extra>",
         "legendgroup": "Porsche ",
         "marker": {
          "color": "#A3A500",
          "opacity": 0.8,
          "size": 8,
          "symbol": "circle"
         },
         "mode": "markers",
         "name": "Porsche ",
         "orientation": "v",
         "showlegend": true,
         "type": "scatter",
         "x": [
          260,
          250,
          250,
          250,
          260
         ],
         "xaxis": "x",
         "y": [
          2.8,
          4,
          4,
          3.5,
          3.2
         ],
         "yaxis": "y"
        },
        {
         "customdata": [
          [
           "ZS EV"
          ]
         ],
         "hovertemplate": "Brand=MG <br>Top Speed (Km/H)=%{x}<br>Acceleration (Sec)=%{y}<br>Model=%{customdata[0]}<extra></extra>",
         "legendgroup": "MG ",
         "marker": {
          "color": "#00BF7D",
          "opacity": 0.8,
          "size": 8,
          "symbol": "circle"
         },
         "mode": "markers",
         "name": "MG ",
         "orientation": "v",
         "showlegend": true,
         "type": "scatter",
         "x": [
          140
         ],
         "xaxis": "x",
         "y": [
          8.2
         ],
         "yaxis": "y"
        },
        {
         "customdata": [
          [
           "Cooper SE "
          ]
         ],
         "hovertemplate": "Brand=Mini <br>Top Speed (Km/H)=%{x}<br>Acceleration (Sec)=%{y}<br>Model=%{customdata[0]}<extra></extra>",
         "legendgroup": "Mini ",
         "marker": {
          "color": "#00B0F6",
          "opacity": 0.8,
          "size": 8,
          "symbol": "circle"
         },
         "mode": "markers",
         "name": "Mini ",
         "orientation": "v",
         "showlegend": true,
         "type": "scatter",
         "x": [
          150
         ],
         "xaxis": "x",
         "y": [
          7.3
         ],
         "yaxis": "y"
        },
        {
         "customdata": [
          [
           "Corsa-e "
          ],
          [
           "Ampera-e "
          ],
          [
           "Mokka-e "
          ]
         ],
         "hovertemplate": "Brand=Opel <br>Top Speed (Km/H)=%{x}<br>Acceleration (Sec)=%{y}<br>Model=%{customdata[0]}<extra></extra>",
         "legendgroup": "Opel ",
         "marker": {
          "color": "#E76BF3",
          "opacity": 0.8,
          "size": 8,
          "symbol": "circle"
         },
         "mode": "markers",
         "name": "Opel ",
         "orientation": "v",
         "showlegend": true,
         "type": "scatter",
         "x": [
          150,
          150,
          150
         ],
         "xaxis": "x",
         "y": [
          8.1,
          7.3,
          8.5
         ],
         "yaxis": "y"
        },
        {
         "customdata": [
          [
           "Enyaq iV 50"
          ],
          [
           "CITIGOe iV "
          ],
          [
           "Enyaq iV 80"
          ],
          [
           "Enyaq iV 80X"
          ],
          [
           "Enyaq iV vRS"
          ],
          [
           "Enyaq iV 60"
          ]
         ],
         "hovertemplate": "Brand=Skoda <br>Top Speed (Km/H)=%{x}<br>Acceleration (Sec)=%{y}<br>Model=%{customdata[0]}<extra></extra>",
         "legendgroup": "Skoda ",
         "marker": {
          "color": "#F8766D",
          "opacity": 0.8,
          "size": 8,
          "symbol": "circle"
         },
         "mode": "markers",
         "name": "Skoda ",
         "orientation": "v",
         "showlegend": true,
         "type": "scatter",
         "x": [
          160,
          130,
          160,
          160,
          180,
          160
         ],
         "xaxis": "x",
         "y": [
          10,
          12.3,
          8.8,
          7,
          6.2,
          9
         ],
         "yaxis": "y"
        },
        {
         "customdata": [
          [
           "XC40 P8 AWD Recharge"
          ]
         ],
         "hovertemplate": "Brand=Volvo <br>Top Speed (Km/H)=%{x}<br>Acceleration (Sec)=%{y}<br>Model=%{customdata[0]}<extra></extra>",
         "legendgroup": "Volvo ",
         "marker": {
          "color": "#A3A500",
          "opacity": 0.8,
          "size": 8,
          "symbol": "circle"
         },
         "mode": "markers",
         "name": "Volvo ",
         "orientation": "v",
         "showlegend": true,
         "type": "scatter",
         "x": [
          180
         ],
         "xaxis": "x",
         "y": [
          4.9
         ],
         "yaxis": "y"
        },
        {
         "customdata": [
          [
           "e-Niro 64 kWh"
          ],
          [
           "e-Soul 64 kWh"
          ],
          [
           "e-Niro 39 kWh"
          ],
          [
           "e-Soul 64 kWh"
          ],
          [
           "e-Soul 39 kWh"
          ]
         ],
         "hovertemplate": "Brand=Kia <br>Top Speed (Km/H)=%{x}<br>Acceleration (Sec)=%{y}<br>Model=%{customdata[0]}<extra></extra>",
         "legendgroup": "Kia ",
         "marker": {
          "color": "#00BF7D",
          "opacity": 0.8,
          "size": 8,
          "symbol": "circle"
         },
         "mode": "markers",
         "name": "Kia ",
         "orientation": "v",
         "showlegend": true,
         "type": "scatter",
         "x": [
          167,
          167,
          155,
          167,
          157
         ],
         "xaxis": "x",
         "y": [
          7.8,
          7.9,
          9.8,
          7.9,
          9.9
         ],
         "yaxis": "y"
        },
        {
         "customdata": [
          [
           "Zoe ZE50 R110"
          ],
          [
           "Zoe ZE50 R135"
          ],
          [
           "Twingo ZE"
          ],
          [
           "Zoe ZE40 R110"
          ],
          [
           "Kangoo Maxi ZE 33"
          ]
         ],
         "hovertemplate": "Brand=Renault <br>Top Speed (Km/H)=%{x}<br>Acceleration (Sec)=%{y}<br>Model=%{customdata[0]}<extra></extra>",
         "legendgroup": "Renault ",
         "marker": {
          "color": "#00B0F6",
          "opacity": 0.8,
          "size": 8,
          "symbol": "circle"
         },
         "mode": "markers",
         "name": "Renault ",
         "orientation": "v",
         "showlegend": true,
         "type": "scatter",
         "x": [
          135,
          140,
          135,
          135,
          130
         ],
         "xaxis": "x",
         "y": [
          11.4,
          9.5,
          12.6,
          11.4,
          22.4
         ],
         "yaxis": "y"
        },
        {
         "customdata": [
          [
           "MX-30 "
          ]
         ],
         "hovertemplate": "Brand=Mazda <br>Top Speed (Km/H)=%{x}<br>Acceleration (Sec)=%{y}<br>Model=%{customdata[0]}<extra></extra>",
         "legendgroup": "Mazda ",
         "marker": {
          "color": "#E76BF3",
          "opacity": 0.8,
          "size": 8,
          "symbol": "circle"
         },
         "mode": "markers",
         "name": "Mazda ",
         "orientation": "v",
         "showlegend": true,
         "type": "scatter",
         "x": [
          150
         ],
         "xaxis": "x",
         "y": [
          9
         ],
         "yaxis": "y"
        },
        {
         "customdata": [
          [
           "UX 300e"
          ]
         ],
         "hovertemplate": "Brand=Lexus <br>Top Speed (Km/H)=%{x}<br>Acceleration (Sec)=%{y}<br>Model=%{customdata[0]}<extra></extra>",
         "legendgroup": "Lexus ",
         "marker": {
          "color": "#F8766D",
          "opacity": 0.8,
          "size": 8,
          "symbol": "circle"
         },
         "mode": "markers",
         "name": "Lexus ",
         "orientation": "v",
         "showlegend": true,
         "type": "scatter",
         "x": [
          160
         ],
         "xaxis": "x",
         "y": [
          7.5
         ],
         "yaxis": "y"
        },
        {
         "customdata": [
          [
           "el-Born "
          ]
         ],
         "hovertemplate": "Brand=CUPRA <br>Top Speed (Km/H)=%{x}<br>Acceleration (Sec)=%{y}<br>Model=%{customdata[0]}<extra></extra>",
         "legendgroup": "CUPRA ",
         "marker": {
          "color": "#A3A500",
          "opacity": 0.8,
          "size": 8,
          "symbol": "circle"
         },
         "mode": "markers",
         "name": "CUPRA ",
         "orientation": "v",
         "showlegend": true,
         "type": "scatter",
         "x": [
          160
         ],
         "xaxis": "x",
         "y": [
          6.5
         ],
         "yaxis": "y"
        },
        {
         "customdata": [
          [
           "Mii Electric "
          ]
         ],
         "hovertemplate": "Brand=SEAT <br>Top Speed (Km/H)=%{x}<br>Acceleration (Sec)=%{y}<br>Model=%{customdata[0]}<extra></extra>",
         "legendgroup": "SEAT ",
         "marker": {
          "color": "#00BF7D",
          "opacity": 0.8,
          "size": 8,
          "symbol": "circle"
         },
         "mode": "markers",
         "name": "SEAT ",
         "orientation": "v",
         "showlegend": true,
         "type": "scatter",
         "x": [
          130
         ],
         "xaxis": "x",
         "y": [
          12.3
         ],
         "yaxis": "y"
        },
        {
         "customdata": [
          [
           "One "
          ]
         ],
         "hovertemplate": "Brand=Lightyear <br>Top Speed (Km/H)=%{x}<br>Acceleration (Sec)=%{y}<br>Model=%{customdata[0]}<extra></extra>",
         "legendgroup": "Lightyear ",
         "marker": {
          "color": "#00B0F6",
          "opacity": 0.8,
          "size": 8,
          "symbol": "circle"
         },
         "mode": "markers",
         "name": "Lightyear ",
         "orientation": "v",
         "showlegend": true,
         "type": "scatter",
         "x": [
          150
         ],
         "xaxis": "x",
         "y": [
          10
         ],
         "yaxis": "y"
        },
        {
         "customdata": [
          [
           "U5 "
          ]
         ],
         "hovertemplate": "Brand=Aiways <br>Top Speed (Km/H)=%{x}<br>Acceleration (Sec)=%{y}<br>Model=%{customdata[0]}<extra></extra>",
         "legendgroup": "Aiways ",
         "marker": {
          "color": "#E76BF3",
          "opacity": 0.8,
          "size": 8,
          "symbol": "circle"
         },
         "mode": "markers",
         "name": "Aiways ",
         "orientation": "v",
         "showlegend": true,
         "type": "scatter",
         "x": [
          150
         ],
         "xaxis": "x",
         "y": [
          9
         ],
         "yaxis": "y"
        },
        {
         "customdata": [
          [
           "3 Crossback E-Tense"
          ]
         ],
         "hovertemplate": "Brand=DS <br>Top Speed (Km/H)=%{x}<br>Acceleration (Sec)=%{y}<br>Model=%{customdata[0]}<extra></extra>",
         "legendgroup": "DS ",
         "marker": {
          "color": "#F8766D",
          "opacity": 0.8,
          "size": 8,
          "symbol": "circle"
         },
         "mode": "markers",
         "name": "DS ",
         "orientation": "v",
         "showlegend": true,
         "type": "scatter",
         "x": [
          150
         ],
         "xaxis": "x",
         "y": [
          8.7
         ],
         "yaxis": "y"
        },
        {
         "customdata": [
          [
           "e-C4 "
          ]
         ],
         "hovertemplate": "Brand=Citroen <br>Top Speed (Km/H)=%{x}<br>Acceleration (Sec)=%{y}<br>Model=%{customdata[0]}<extra></extra>",
         "legendgroup": "Citroen ",
         "marker": {
          "color": "#A3A500",
          "opacity": 0.8,
          "size": 8,
          "symbol": "circle"
         },
         "mode": "markers",
         "name": "Citroen ",
         "orientation": "v",
         "showlegend": true,
         "type": "scatter",
         "x": [
          150
         ],
         "xaxis": "x",
         "y": [
          9.7
         ],
         "yaxis": "y"
        },
        {
         "customdata": [
          [
           "I-Pace "
          ]
         ],
         "hovertemplate": "Brand=Jaguar <br>Top Speed (Km/H)=%{x}<br>Acceleration (Sec)=%{y}<br>Model=%{customdata[0]}<extra></extra>",
         "legendgroup": "Jaguar ",
         "marker": {
          "color": "#00BF7D",
          "opacity": 0.8,
          "size": 8,
          "symbol": "circle"
         },
         "mode": "markers",
         "name": "Jaguar ",
         "orientation": "v",
         "showlegend": true,
         "type": "scatter",
         "x": [
          200
         ],
         "xaxis": "x",
         "y": [
          4.8
         ],
         "yaxis": "y"
        },
        {
         "customdata": [
          [
           "Mustang Mach-E ER RWD"
          ],
          [
           "Mustang Mach-E ER AWD"
          ],
          [
           "Mustang Mach-E SR AWD"
          ],
          [
           "Mustang Mach-E SR RWD"
          ]
         ],
         "hovertemplate": "Brand=Ford <br>Top Speed (Km/H)=%{x}<br>Acceleration (Sec)=%{y}<br>Model=%{customdata[0]}<extra></extra>",
         "legendgroup": "Ford ",
         "marker": {
          "color": "#00B0F6",
          "opacity": 0.8,
          "size": 8,
          "symbol": "circle"
         },
         "mode": "markers",
         "name": "Ford ",
         "orientation": "v",
         "showlegend": true,
         "type": "scatter",
         "x": [
          180,
          180,
          180,
          180
         ],
         "xaxis": "x",
         "y": [
          7,
          6,
          6,
          6.6
         ],
         "yaxis": "y"
        },
        {
         "customdata": [
          [
           "M-Byte 95 kWh 4WD"
          ],
          [
           "M-Byte 72 kWh 2WD"
          ],
          [
           "M-Byte 95 kWh 2WD"
          ]
         ],
         "hovertemplate": "Brand=Byton <br>Top Speed (Km/H)=%{x}<br>Acceleration (Sec)=%{y}<br>Model=%{customdata[0]}<extra></extra>",
         "legendgroup": "Byton ",
         "marker": {
          "color": "#E76BF3",
          "opacity": 0.8,
          "size": 8,
          "symbol": "circle"
         },
         "mode": "markers",
         "name": "Byton ",
         "orientation": "v",
         "showlegend": true,
         "type": "scatter",
         "x": [
          190,
          190,
          190
         ],
         "xaxis": "x",
         "y": [
          5.5,
          7.5,
          7.5
         ],
         "yaxis": "y"
        },
        {
         "customdata": [
          [
           "Sion "
          ]
         ],
         "hovertemplate": "Brand=Sono <br>Top Speed (Km/H)=%{x}<br>Acceleration (Sec)=%{y}<br>Model=%{customdata[0]}<extra></extra>",
         "legendgroup": "Sono ",
         "marker": {
          "color": "#F8766D",
          "opacity": 0.8,
          "size": 8,
          "symbol": "circle"
         },
         "mode": "markers",
         "name": "Sono ",
         "orientation": "v",
         "showlegend": true,
         "type": "scatter",
         "x": [
          140
         ],
         "xaxis": "x",
         "y": [
          9
         ],
         "yaxis": "y"
        },
        {
         "customdata": [
          [
           "EQ forfour "
          ],
          [
           "EQ fortwo coupe"
          ],
          [
           "EQ fortwo cabrio"
          ]
         ],
         "hovertemplate": "Brand=Smart <br>Top Speed (Km/H)=%{x}<br>Acceleration (Sec)=%{y}<br>Model=%{customdata[0]}<extra></extra>",
         "legendgroup": "Smart ",
         "marker": {
          "color": "#A3A500",
          "opacity": 0.8,
          "size": 8,
          "symbol": "circle"
         },
         "mode": "markers",
         "name": "Smart ",
         "orientation": "v",
         "showlegend": true,
         "type": "scatter",
         "x": [
          130,
          130,
          130
         ],
         "xaxis": "x",
         "y": [
          12.7,
          11.6,
          11.9
         ],
         "yaxis": "y"
        },
        {
         "customdata": [
          [
           "500e Hatchback"
          ],
          [
           "500e Convertible"
          ]
         ],
         "hovertemplate": "Brand=Fiat <br>Top Speed (Km/H)=%{x}<br>Acceleration (Sec)=%{y}<br>Model=%{customdata[0]}<extra></extra>",
         "legendgroup": "Fiat ",
         "marker": {
          "color": "#00BF7D",
          "opacity": 0.8,
          "size": 8,
          "symbol": "circle"
         },
         "mode": "markers",
         "name": "Fiat ",
         "orientation": "v",
         "showlegend": true,
         "type": "scatter",
         "x": [
          150,
          150
         ],
         "xaxis": "x",
         "y": [
          9,
          9
         ],
         "yaxis": "y"
        }
       ],
       "layout": {
        "height": 650,
        "legend": {
         "title": {
          "text": "Brand"
         },
         "tracegroupgap": 0
        },
        "template": {
         "data": {
          "bar": [
           {
            "error_x": {
             "color": "rgb(51,51,51)"
            },
            "error_y": {
             "color": "rgb(51,51,51)"
            },
            "marker": {
             "line": {
              "color": "rgb(237,237,237)",
              "width": 0.5
             },
             "pattern": {
              "fillmode": "overlay",
              "size": 10,
              "solidity": 0.2
             }
            },
            "type": "bar"
           }
          ],
          "barpolar": [
           {
            "marker": {
             "line": {
              "color": "rgb(237,237,237)",
              "width": 0.5
             },
             "pattern": {
              "fillmode": "overlay",
              "size": 10,
              "solidity": 0.2
             }
            },
            "type": "barpolar"
           }
          ],
          "carpet": [
           {
            "aaxis": {
             "endlinecolor": "rgb(51,51,51)",
             "gridcolor": "white",
             "linecolor": "white",
             "minorgridcolor": "white",
             "startlinecolor": "rgb(51,51,51)"
            },
            "baxis": {
             "endlinecolor": "rgb(51,51,51)",
             "gridcolor": "white",
             "linecolor": "white",
             "minorgridcolor": "white",
             "startlinecolor": "rgb(51,51,51)"
            },
            "type": "carpet"
           }
          ],
          "choropleth": [
           {
            "colorbar": {
             "outlinewidth": 0,
             "tickcolor": "rgb(237,237,237)",
             "ticklen": 6,
             "ticks": "inside"
            },
            "type": "choropleth"
           }
          ],
          "contour": [
           {
            "colorbar": {
             "outlinewidth": 0,
             "tickcolor": "rgb(237,237,237)",
             "ticklen": 6,
             "ticks": "inside"
            },
            "colorscale": [
             [
              0,
              "rgb(20,44,66)"
             ],
             [
              1,
              "rgb(90,179,244)"
             ]
            ],
            "type": "contour"
           }
          ],
          "contourcarpet": [
           {
            "colorbar": {
             "outlinewidth": 0,
             "tickcolor": "rgb(237,237,237)",
             "ticklen": 6,
             "ticks": "inside"
            },
            "type": "contourcarpet"
           }
          ],
          "heatmap": [
           {
            "colorbar": {
             "outlinewidth": 0,
             "tickcolor": "rgb(237,237,237)",
             "ticklen": 6,
             "ticks": "inside"
            },
            "colorscale": [
             [
              0,
              "rgb(20,44,66)"
             ],
             [
              1,
              "rgb(90,179,244)"
             ]
            ],
            "type": "heatmap"
           }
          ],
          "heatmapgl": [
           {
            "colorbar": {
             "outlinewidth": 0,
             "tickcolor": "rgb(237,237,237)",
             "ticklen": 6,
             "ticks": "inside"
            },
            "colorscale": [
             [
              0,
              "rgb(20,44,66)"
             ],
             [
              1,
              "rgb(90,179,244)"
             ]
            ],
            "type": "heatmapgl"
           }
          ],
          "histogram": [
           {
            "marker": {
             "pattern": {
              "fillmode": "overlay",
              "size": 10,
              "solidity": 0.2
             }
            },
            "type": "histogram"
           }
          ],
          "histogram2d": [
           {
            "colorbar": {
             "outlinewidth": 0,
             "tickcolor": "rgb(237,237,237)",
             "ticklen": 6,
             "ticks": "inside"
            },
            "colorscale": [
             [
              0,
              "rgb(20,44,66)"
             ],
             [
              1,
              "rgb(90,179,244)"
             ]
            ],
            "type": "histogram2d"
           }
          ],
          "histogram2dcontour": [
           {
            "colorbar": {
             "outlinewidth": 0,
             "tickcolor": "rgb(237,237,237)",
             "ticklen": 6,
             "ticks": "inside"
            },
            "colorscale": [
             [
              0,
              "rgb(20,44,66)"
             ],
             [
              1,
              "rgb(90,179,244)"
             ]
            ],
            "type": "histogram2dcontour"
           }
          ],
          "mesh3d": [
           {
            "colorbar": {
             "outlinewidth": 0,
             "tickcolor": "rgb(237,237,237)",
             "ticklen": 6,
             "ticks": "inside"
            },
            "type": "mesh3d"
           }
          ],
          "parcoords": [
           {
            "line": {
             "colorbar": {
              "outlinewidth": 0,
              "tickcolor": "rgb(237,237,237)",
              "ticklen": 6,
              "ticks": "inside"
             }
            },
            "type": "parcoords"
           }
          ],
          "pie": [
           {
            "automargin": true,
            "type": "pie"
           }
          ],
          "scatter": [
           {
            "marker": {
             "colorbar": {
              "outlinewidth": 0,
              "tickcolor": "rgb(237,237,237)",
              "ticklen": 6,
              "ticks": "inside"
             }
            },
            "type": "scatter"
           }
          ],
          "scatter3d": [
           {
            "line": {
             "colorbar": {
              "outlinewidth": 0,
              "tickcolor": "rgb(237,237,237)",
              "ticklen": 6,
              "ticks": "inside"
             }
            },
            "marker": {
             "colorbar": {
              "outlinewidth": 0,
              "tickcolor": "rgb(237,237,237)",
              "ticklen": 6,
              "ticks": "inside"
             }
            },
            "type": "scatter3d"
           }
          ],
          "scattercarpet": [
           {
            "marker": {
             "colorbar": {
              "outlinewidth": 0,
              "tickcolor": "rgb(237,237,237)",
              "ticklen": 6,
              "ticks": "inside"
             }
            },
            "type": "scattercarpet"
           }
          ],
          "scattergeo": [
           {
            "marker": {
             "colorbar": {
              "outlinewidth": 0,
              "tickcolor": "rgb(237,237,237)",
              "ticklen": 6,
              "ticks": "inside"
             }
            },
            "type": "scattergeo"
           }
          ],
          "scattergl": [
           {
            "marker": {
             "colorbar": {
              "outlinewidth": 0,
              "tickcolor": "rgb(237,237,237)",
              "ticklen": 6,
              "ticks": "inside"
             }
            },
            "type": "scattergl"
           }
          ],
          "scattermapbox": [
           {
            "marker": {
             "colorbar": {
              "outlinewidth": 0,
              "tickcolor": "rgb(237,237,237)",
              "ticklen": 6,
              "ticks": "inside"
             }
            },
            "type": "scattermapbox"
           }
          ],
          "scatterpolar": [
           {
            "marker": {
             "colorbar": {
              "outlinewidth": 0,
              "tickcolor": "rgb(237,237,237)",
              "ticklen": 6,
              "ticks": "inside"
             }
            },
            "type": "scatterpolar"
           }
          ],
          "scatterpolargl": [
           {
            "marker": {
             "colorbar": {
              "outlinewidth": 0,
              "tickcolor": "rgb(237,237,237)",
              "ticklen": 6,
              "ticks": "inside"
             }
            },
            "type": "scatterpolargl"
           }
          ],
          "scatterternary": [
           {
            "marker": {
             "colorbar": {
              "outlinewidth": 0,
              "tickcolor": "rgb(237,237,237)",
              "ticklen": 6,
              "ticks": "inside"
             }
            },
            "type": "scatterternary"
           }
          ],
          "surface": [
           {
            "colorbar": {
             "outlinewidth": 0,
             "tickcolor": "rgb(237,237,237)",
             "ticklen": 6,
             "ticks": "inside"
            },
            "colorscale": [
             [
              0,
              "rgb(20,44,66)"
             ],
             [
              1,
              "rgb(90,179,244)"
             ]
            ],
            "type": "surface"
           }
          ],
          "table": [
           {
            "cells": {
             "fill": {
              "color": "rgb(237,237,237)"
             },
             "line": {
              "color": "white"
             }
            },
            "header": {
             "fill": {
              "color": "rgb(217,217,217)"
             },
             "line": {
              "color": "white"
             }
            },
            "type": "table"
           }
          ]
         },
         "layout": {
          "annotationdefaults": {
           "arrowhead": 0,
           "arrowwidth": 1
          },
          "autotypenumbers": "strict",
          "coloraxis": {
           "colorbar": {
            "outlinewidth": 0,
            "tickcolor": "rgb(237,237,237)",
            "ticklen": 6,
            "ticks": "inside"
           }
          },
          "colorscale": {
           "sequential": [
            [
             0,
             "rgb(20,44,66)"
            ],
            [
             1,
             "rgb(90,179,244)"
            ]
           ],
           "sequentialminus": [
            [
             0,
             "rgb(20,44,66)"
            ],
            [
             1,
             "rgb(90,179,244)"
            ]
           ]
          },
          "colorway": [
           "#F8766D",
           "#A3A500",
           "#00BF7D",
           "#00B0F6",
           "#E76BF3"
          ],
          "font": {
           "color": "rgb(51,51,51)"
          },
          "geo": {
           "bgcolor": "white",
           "lakecolor": "white",
           "landcolor": "rgb(237,237,237)",
           "showlakes": true,
           "showland": true,
           "subunitcolor": "white"
          },
          "hoverlabel": {
           "align": "left"
          },
          "hovermode": "closest",
          "paper_bgcolor": "white",
          "plot_bgcolor": "rgb(237,237,237)",
          "polar": {
           "angularaxis": {
            "gridcolor": "white",
            "linecolor": "white",
            "showgrid": true,
            "tickcolor": "rgb(51,51,51)",
            "ticks": "outside"
           },
           "bgcolor": "rgb(237,237,237)",
           "radialaxis": {
            "gridcolor": "white",
            "linecolor": "white",
            "showgrid": true,
            "tickcolor": "rgb(51,51,51)",
            "ticks": "outside"
           }
          },
          "scene": {
           "xaxis": {
            "backgroundcolor": "rgb(237,237,237)",
            "gridcolor": "white",
            "gridwidth": 2,
            "linecolor": "white",
            "showbackground": true,
            "showgrid": true,
            "tickcolor": "rgb(51,51,51)",
            "ticks": "outside",
            "zerolinecolor": "white"
           },
           "yaxis": {
            "backgroundcolor": "rgb(237,237,237)",
            "gridcolor": "white",
            "gridwidth": 2,
            "linecolor": "white",
            "showbackground": true,
            "showgrid": true,
            "tickcolor": "rgb(51,51,51)",
            "ticks": "outside",
            "zerolinecolor": "white"
           },
           "zaxis": {
            "backgroundcolor": "rgb(237,237,237)",
            "gridcolor": "white",
            "gridwidth": 2,
            "linecolor": "white",
            "showbackground": true,
            "showgrid": true,
            "tickcolor": "rgb(51,51,51)",
            "ticks": "outside",
            "zerolinecolor": "white"
           }
          },
          "shapedefaults": {
           "fillcolor": "black",
           "line": {
            "width": 0
           },
           "opacity": 0.3
          },
          "ternary": {
           "aaxis": {
            "gridcolor": "white",
            "linecolor": "white",
            "showgrid": true,
            "tickcolor": "rgb(51,51,51)",
            "ticks": "outside"
           },
           "baxis": {
            "gridcolor": "white",
            "linecolor": "white",
            "showgrid": true,
            "tickcolor": "rgb(51,51,51)",
            "ticks": "outside"
           },
           "bgcolor": "rgb(237,237,237)",
           "caxis": {
            "gridcolor": "white",
            "linecolor": "white",
            "showgrid": true,
            "tickcolor": "rgb(51,51,51)",
            "ticks": "outside"
           }
          },
          "xaxis": {
           "automargin": true,
           "gridcolor": "white",
           "linecolor": "white",
           "showgrid": true,
           "tickcolor": "rgb(51,51,51)",
           "ticks": "outside",
           "title": {
            "standoff": 15
           },
           "zerolinecolor": "white"
          },
          "yaxis": {
           "automargin": true,
           "gridcolor": "white",
           "linecolor": "white",
           "showgrid": true,
           "tickcolor": "rgb(51,51,51)",
           "ticks": "outside",
           "title": {
            "standoff": 15
           },
           "zerolinecolor": "white"
          }
         }
        },
        "title": {
         "text": "Acceleration and Top Speed"
        },
        "width": 900,
        "xaxis": {
         "anchor": "y",
         "domain": [
          0,
          1
         ],
         "title": {
          "text": "Top Speed (Km/H)"
         }
        },
        "yaxis": {
         "anchor": "x",
         "domain": [
          0,
          1
         ],
         "title": {
          "text": "Acceleration (Sec)"
         }
        }
       }
      },
      "text/html": [
       "<div>                            <div id=\"43f278ba-9a3b-4b28-8076-db32340f0c62\" class=\"plotly-graph-div\" style=\"height:650px; width:900px;\"></div>            <script type=\"text/javascript\">                require([\"plotly\"], function(Plotly) {                    window.PLOTLYENV=window.PLOTLYENV || {};                                    if (document.getElementById(\"43f278ba-9a3b-4b28-8076-db32340f0c62\")) {                    Plotly.newPlot(                        \"43f278ba-9a3b-4b28-8076-db32340f0c62\",                        [{\"customdata\":[[\"Model 3 Long Range Dual Motor\"],[\"Model 3 Standard Range Plus\"],[\"Model Y Long Range Dual Motor\"],[\"Model 3 Long Range Performance\"],[\"Cybertruck Tri Motor\"],[\"Model S Long Range\"],[\"Roadster \"],[\"Model X Long Range\"],[\"Model S Performance\"],[\"Model Y Long Range Performance\"],[\"Cybertruck Dual Motor\"],[\"Model X Performance\"],[\"Cybertruck Single Motor\"]],\"hovertemplate\":\"Brand=Tesla <br>Top Speed (Km/H)=%{x}<br>Acceleration (Sec)=%{y}<br>Model=%{customdata[0]}<extra></extra>\",\"legendgroup\":\"Tesla \",\"marker\":{\"color\":\"#F8766D\",\"opacity\":0.8,\"symbol\":\"circle\",\"size\":8},\"mode\":\"markers\",\"name\":\"Tesla \",\"orientation\":\"v\",\"showlegend\":true,\"x\":[233,225,217,261,210,250,410,250,261,241,190,250,180],\"xaxis\":\"x\",\"y\":[4.6,5.6,5.1,3.4,3.0,3.8,2.1,4.6,2.5,3.7,5.0,2.8,7.0],\"yaxis\":\"y\",\"type\":\"scatter\"},{\"customdata\":[[\"ID.3 Pure\"],[\"e-Golf \"],[\"ID.3 Pro S\"],[\"e-Up! \"],[\"ID.4 \"],[\"ID.3 Pro\"],[\"ID.3 1st\"],[\"ID.3 Pro Performance\"]],\"hovertemplate\":\"Brand=Volkswagen <br>Top Speed (Km/H)=%{x}<br>Acceleration (Sec)=%{y}<br>Model=%{customdata[0]}<extra></extra>\",\"legendgroup\":\"Volkswagen \",\"marker\":{\"color\":\"#A3A500\",\"opacity\":0.8,\"symbol\":\"circle\",\"size\":8},\"mode\":\"markers\",\"name\":\"Volkswagen \",\"orientation\":\"v\",\"showlegend\":true,\"x\":[160,150,160,130,160,160,160,160],\"xaxis\":\"x\",\"y\":[10.0,9.6,7.9,11.9,7.5,9.0,7.3,7.3],\"yaxis\":\"y\",\"type\":\"scatter\"},{\"customdata\":[[\"2\"]],\"hovertemplate\":\"Brand=Polestar <br>Top Speed (Km/H)=%{x}<br>Acceleration (Sec)=%{y}<br>Model=%{customdata[0]}<extra></extra>\",\"legendgroup\":\"Polestar \",\"marker\":{\"color\":\"#00BF7D\",\"opacity\":0.8,\"symbol\":\"circle\",\"size\":8},\"mode\":\"markers\",\"name\":\"Polestar \",\"orientation\":\"v\",\"showlegend\":true,\"x\":[210],\"xaxis\":\"x\",\"y\":[4.7],\"yaxis\":\"y\",\"type\":\"scatter\"},{\"customdata\":[[\"iX3 \"],[\"i4 \"],[\"i3 120 Ah\"],[\"i3s 120 Ah\"]],\"hovertemplate\":\"Brand=BMW <br>Top Speed (Km/H)=%{x}<br>Acceleration (Sec)=%{y}<br>Model=%{customdata[0]}<extra></extra>\",\"legendgroup\":\"BMW \",\"marker\":{\"color\":\"#00B0F6\",\"opacity\":0.8,\"symbol\":\"circle\",\"size\":8},\"mode\":\"markers\",\"name\":\"BMW \",\"orientation\":\"v\",\"showlegend\":true,\"x\":[180,200,150,160],\"xaxis\":\"x\",\"y\":[6.8,4.0,7.3,6.9],\"yaxis\":\"y\",\"type\":\"scatter\"},{\"customdata\":[[\"e \"],[\"e Advance\"]],\"hovertemplate\":\"Brand=Honda <br>Top Speed (Km/H)=%{x}<br>Acceleration (Sec)=%{y}<br>Model=%{customdata[0]}<extra></extra>\",\"legendgroup\":\"Honda \",\"marker\":{\"color\":\"#E76BF3\",\"opacity\":0.8,\"symbol\":\"circle\",\"size\":8},\"mode\":\"markers\",\"name\":\"Honda \",\"orientation\":\"v\",\"showlegend\":true,\"x\":[145,145],\"xaxis\":\"x\",\"y\":[9.5,8.3],\"yaxis\":\"y\",\"type\":\"scatter\"},{\"customdata\":[[\"Air \"]],\"hovertemplate\":\"Brand=Lucid <br>Top Speed (Km/H)=%{x}<br>Acceleration (Sec)=%{y}<br>Model=%{customdata[0]}<extra></extra>\",\"legendgroup\":\"Lucid \",\"marker\":{\"color\":\"#F8766D\",\"opacity\":0.8,\"symbol\":\"circle\",\"size\":8},\"mode\":\"markers\",\"name\":\"Lucid \",\"orientation\":\"v\",\"showlegend\":true,\"x\":[250],\"xaxis\":\"x\",\"y\":[2.8],\"yaxis\":\"y\",\"type\":\"scatter\"},{\"customdata\":[[\"e-208 \"],[\"e-2008 SUV \"]],\"hovertemplate\":\"Brand=Peugeot <br>Top Speed (Km/H)=%{x}<br>Acceleration (Sec)=%{y}<br>Model=%{customdata[0]}<extra></extra>\",\"legendgroup\":\"Peugeot \",\"marker\":{\"color\":\"#A3A500\",\"opacity\":0.8,\"symbol\":\"circle\",\"size\":8},\"mode\":\"markers\",\"name\":\"Peugeot \",\"orientation\":\"v\",\"showlegend\":true,\"x\":[150,150],\"xaxis\":\"x\",\"y\":[8.1,8.5],\"yaxis\":\"y\",\"type\":\"scatter\"},{\"customdata\":[[\"Q4 e-tron \"],[\"e-tron GT \"],[\"e-tron 50 quattro\"],[\"e-tron Sportback 55 quattro\"],[\"e-tron 55 quattro\"],[\"Q4 Sportback e-tron \"],[\"e-tron Sportback 50 quattro\"],[\"e-tron S 55 quattro\"],[\"e-tron S Sportback 55 quattro\"]],\"hovertemplate\":\"Brand=Audi <br>Top Speed (Km/H)=%{x}<br>Acceleration (Sec)=%{y}<br>Model=%{customdata[0]}<extra></extra>\",\"legendgroup\":\"Audi \",\"marker\":{\"color\":\"#00BF7D\",\"opacity\":0.8,\"symbol\":\"circle\",\"size\":8},\"mode\":\"markers\",\"name\":\"Audi \",\"orientation\":\"v\",\"showlegend\":true,\"x\":[180,240,190,200,200,180,190,210,210],\"xaxis\":\"x\",\"y\":[6.3,3.5,6.8,5.7,5.7,6.3,6.8,4.5,4.5],\"yaxis\":\"y\",\"type\":\"scatter\"},{\"customdata\":[[\"EQC 400 4MATIC\"],[\"EQA \"],[\"EQV 300 Long\"]],\"hovertemplate\":\"Brand=Mercedes <br>Top Speed (Km/H)=%{x}<br>Acceleration (Sec)=%{y}<br>Model=%{customdata[0]}<extra></extra>\",\"legendgroup\":\"Mercedes \",\"marker\":{\"color\":\"#00B0F6\",\"opacity\":0.8,\"symbol\":\"circle\",\"size\":8},\"mode\":\"markers\",\"name\":\"Mercedes \",\"orientation\":\"v\",\"showlegend\":true,\"x\":[180,200,140],\"xaxis\":\"x\",\"y\":[5.1,5.0,10.0],\"yaxis\":\"y\",\"type\":\"scatter\"},{\"customdata\":[[\"Leaf \"],[\"Leaf e+\"],[\"Ariya 87kWh\"],[\"e-NV200 Evalia \"],[\"Ariya e-4ORCE 87kWh\"],[\"Ariya 63kWh\"],[\"Ariya e-4ORCE 63kWh\"],[\"Ariya e-4ORCE 87kWh Performance\"]],\"hovertemplate\":\"Brand=Nissan <br>Top Speed (Km/H)=%{x}<br>Acceleration (Sec)=%{y}<br>Model=%{customdata[0]}<extra></extra>\",\"legendgroup\":\"Nissan \",\"marker\":{\"color\":\"#E76BF3\",\"opacity\":0.8,\"symbol\":\"circle\",\"size\":8},\"mode\":\"markers\",\"name\":\"Nissan \",\"orientation\":\"v\",\"showlegend\":true,\"x\":[144,157,160,123,200,160,200,200],\"xaxis\":\"x\",\"y\":[7.9,7.3,7.6,14.0,5.7,7.5,5.9,5.1],\"yaxis\":\"y\",\"type\":\"scatter\"},{\"customdata\":[[\"Kona Electric 64 kWh\"],[\"IONIQ Electric\"],[\"Kona Electric 39 kWh\"]],\"hovertemplate\":\"Brand=Hyundai <br>Top Speed (Km/H)=%{x}<br>Acceleration (Sec)=%{y}<br>Model=%{customdata[0]}<extra></extra>\",\"legendgroup\":\"Hyundai \",\"marker\":{\"color\":\"#F8766D\",\"opacity\":0.8,\"symbol\":\"circle\",\"size\":8},\"mode\":\"markers\",\"name\":\"Hyundai \",\"orientation\":\"v\",\"showlegend\":true,\"x\":[167,165,155],\"xaxis\":\"x\",\"y\":[7.9,9.7,9.9],\"yaxis\":\"y\",\"type\":\"scatter\"},{\"customdata\":[[\"Taycan Turbo S\"],[\"Taycan 4S\"],[\"Taycan 4S Plus\"],[\"Taycan Cross Turismo \"],[\"Taycan Turbo\"]],\"hovertemplate\":\"Brand=Porsche <br>Top Speed (Km/H)=%{x}<br>Acceleration (Sec)=%{y}<br>Model=%{customdata[0]}<extra></extra>\",\"legendgroup\":\"Porsche \",\"marker\":{\"color\":\"#A3A500\",\"opacity\":0.8,\"symbol\":\"circle\",\"size\":8},\"mode\":\"markers\",\"name\":\"Porsche \",\"orientation\":\"v\",\"showlegend\":true,\"x\":[260,250,250,250,260],\"xaxis\":\"x\",\"y\":[2.8,4.0,4.0,3.5,3.2],\"yaxis\":\"y\",\"type\":\"scatter\"},{\"customdata\":[[\"ZS EV\"]],\"hovertemplate\":\"Brand=MG <br>Top Speed (Km/H)=%{x}<br>Acceleration (Sec)=%{y}<br>Model=%{customdata[0]}<extra></extra>\",\"legendgroup\":\"MG \",\"marker\":{\"color\":\"#00BF7D\",\"opacity\":0.8,\"symbol\":\"circle\",\"size\":8},\"mode\":\"markers\",\"name\":\"MG \",\"orientation\":\"v\",\"showlegend\":true,\"x\":[140],\"xaxis\":\"x\",\"y\":[8.2],\"yaxis\":\"y\",\"type\":\"scatter\"},{\"customdata\":[[\"Cooper SE \"]],\"hovertemplate\":\"Brand=Mini <br>Top Speed (Km/H)=%{x}<br>Acceleration (Sec)=%{y}<br>Model=%{customdata[0]}<extra></extra>\",\"legendgroup\":\"Mini \",\"marker\":{\"color\":\"#00B0F6\",\"opacity\":0.8,\"symbol\":\"circle\",\"size\":8},\"mode\":\"markers\",\"name\":\"Mini \",\"orientation\":\"v\",\"showlegend\":true,\"x\":[150],\"xaxis\":\"x\",\"y\":[7.3],\"yaxis\":\"y\",\"type\":\"scatter\"},{\"customdata\":[[\"Corsa-e \"],[\"Ampera-e \"],[\"Mokka-e \"]],\"hovertemplate\":\"Brand=Opel <br>Top Speed (Km/H)=%{x}<br>Acceleration (Sec)=%{y}<br>Model=%{customdata[0]}<extra></extra>\",\"legendgroup\":\"Opel \",\"marker\":{\"color\":\"#E76BF3\",\"opacity\":0.8,\"symbol\":\"circle\",\"size\":8},\"mode\":\"markers\",\"name\":\"Opel \",\"orientation\":\"v\",\"showlegend\":true,\"x\":[150,150,150],\"xaxis\":\"x\",\"y\":[8.1,7.3,8.5],\"yaxis\":\"y\",\"type\":\"scatter\"},{\"customdata\":[[\"Enyaq iV 50\"],[\"CITIGOe iV \"],[\"Enyaq iV 80\"],[\"Enyaq iV 80X\"],[\"Enyaq iV vRS\"],[\"Enyaq iV 60\"]],\"hovertemplate\":\"Brand=Skoda <br>Top Speed (Km/H)=%{x}<br>Acceleration (Sec)=%{y}<br>Model=%{customdata[0]}<extra></extra>\",\"legendgroup\":\"Skoda \",\"marker\":{\"color\":\"#F8766D\",\"opacity\":0.8,\"symbol\":\"circle\",\"size\":8},\"mode\":\"markers\",\"name\":\"Skoda \",\"orientation\":\"v\",\"showlegend\":true,\"x\":[160,130,160,160,180,160],\"xaxis\":\"x\",\"y\":[10.0,12.3,8.8,7.0,6.2,9.0],\"yaxis\":\"y\",\"type\":\"scatter\"},{\"customdata\":[[\"XC40 P8 AWD Recharge\"]],\"hovertemplate\":\"Brand=Volvo <br>Top Speed (Km/H)=%{x}<br>Acceleration (Sec)=%{y}<br>Model=%{customdata[0]}<extra></extra>\",\"legendgroup\":\"Volvo \",\"marker\":{\"color\":\"#A3A500\",\"opacity\":0.8,\"symbol\":\"circle\",\"size\":8},\"mode\":\"markers\",\"name\":\"Volvo \",\"orientation\":\"v\",\"showlegend\":true,\"x\":[180],\"xaxis\":\"x\",\"y\":[4.9],\"yaxis\":\"y\",\"type\":\"scatter\"},{\"customdata\":[[\"e-Niro 64 kWh\"],[\"e-Soul 64 kWh\"],[\"e-Niro 39 kWh\"],[\"e-Soul 64 kWh\"],[\"e-Soul 39 kWh\"]],\"hovertemplate\":\"Brand=Kia <br>Top Speed (Km/H)=%{x}<br>Acceleration (Sec)=%{y}<br>Model=%{customdata[0]}<extra></extra>\",\"legendgroup\":\"Kia \",\"marker\":{\"color\":\"#00BF7D\",\"opacity\":0.8,\"symbol\":\"circle\",\"size\":8},\"mode\":\"markers\",\"name\":\"Kia \",\"orientation\":\"v\",\"showlegend\":true,\"x\":[167,167,155,167,157],\"xaxis\":\"x\",\"y\":[7.8,7.9,9.8,7.9,9.9],\"yaxis\":\"y\",\"type\":\"scatter\"},{\"customdata\":[[\"Zoe ZE50 R110\"],[\"Zoe ZE50 R135\"],[\"Twingo ZE\"],[\"Zoe ZE40 R110\"],[\"Kangoo Maxi ZE 33\"]],\"hovertemplate\":\"Brand=Renault <br>Top Speed (Km/H)=%{x}<br>Acceleration (Sec)=%{y}<br>Model=%{customdata[0]}<extra></extra>\",\"legendgroup\":\"Renault \",\"marker\":{\"color\":\"#00B0F6\",\"opacity\":0.8,\"symbol\":\"circle\",\"size\":8},\"mode\":\"markers\",\"name\":\"Renault \",\"orientation\":\"v\",\"showlegend\":true,\"x\":[135,140,135,135,130],\"xaxis\":\"x\",\"y\":[11.4,9.5,12.6,11.4,22.4],\"yaxis\":\"y\",\"type\":\"scatter\"},{\"customdata\":[[\"MX-30 \"]],\"hovertemplate\":\"Brand=Mazda <br>Top Speed (Km/H)=%{x}<br>Acceleration (Sec)=%{y}<br>Model=%{customdata[0]}<extra></extra>\",\"legendgroup\":\"Mazda \",\"marker\":{\"color\":\"#E76BF3\",\"opacity\":0.8,\"symbol\":\"circle\",\"size\":8},\"mode\":\"markers\",\"name\":\"Mazda \",\"orientation\":\"v\",\"showlegend\":true,\"x\":[150],\"xaxis\":\"x\",\"y\":[9.0],\"yaxis\":\"y\",\"type\":\"scatter\"},{\"customdata\":[[\"UX 300e\"]],\"hovertemplate\":\"Brand=Lexus <br>Top Speed (Km/H)=%{x}<br>Acceleration (Sec)=%{y}<br>Model=%{customdata[0]}<extra></extra>\",\"legendgroup\":\"Lexus \",\"marker\":{\"color\":\"#F8766D\",\"opacity\":0.8,\"symbol\":\"circle\",\"size\":8},\"mode\":\"markers\",\"name\":\"Lexus \",\"orientation\":\"v\",\"showlegend\":true,\"x\":[160],\"xaxis\":\"x\",\"y\":[7.5],\"yaxis\":\"y\",\"type\":\"scatter\"},{\"customdata\":[[\"el-Born \"]],\"hovertemplate\":\"Brand=CUPRA <br>Top Speed (Km/H)=%{x}<br>Acceleration (Sec)=%{y}<br>Model=%{customdata[0]}<extra></extra>\",\"legendgroup\":\"CUPRA \",\"marker\":{\"color\":\"#A3A500\",\"opacity\":0.8,\"symbol\":\"circle\",\"size\":8},\"mode\":\"markers\",\"name\":\"CUPRA \",\"orientation\":\"v\",\"showlegend\":true,\"x\":[160],\"xaxis\":\"x\",\"y\":[6.5],\"yaxis\":\"y\",\"type\":\"scatter\"},{\"customdata\":[[\"Mii Electric \"]],\"hovertemplate\":\"Brand=SEAT <br>Top Speed (Km/H)=%{x}<br>Acceleration (Sec)=%{y}<br>Model=%{customdata[0]}<extra></extra>\",\"legendgroup\":\"SEAT \",\"marker\":{\"color\":\"#00BF7D\",\"opacity\":0.8,\"symbol\":\"circle\",\"size\":8},\"mode\":\"markers\",\"name\":\"SEAT \",\"orientation\":\"v\",\"showlegend\":true,\"x\":[130],\"xaxis\":\"x\",\"y\":[12.3],\"yaxis\":\"y\",\"type\":\"scatter\"},{\"customdata\":[[\"One \"]],\"hovertemplate\":\"Brand=Lightyear <br>Top Speed (Km/H)=%{x}<br>Acceleration (Sec)=%{y}<br>Model=%{customdata[0]}<extra></extra>\",\"legendgroup\":\"Lightyear \",\"marker\":{\"color\":\"#00B0F6\",\"opacity\":0.8,\"symbol\":\"circle\",\"size\":8},\"mode\":\"markers\",\"name\":\"Lightyear \",\"orientation\":\"v\",\"showlegend\":true,\"x\":[150],\"xaxis\":\"x\",\"y\":[10.0],\"yaxis\":\"y\",\"type\":\"scatter\"},{\"customdata\":[[\"U5 \"]],\"hovertemplate\":\"Brand=Aiways <br>Top Speed (Km/H)=%{x}<br>Acceleration (Sec)=%{y}<br>Model=%{customdata[0]}<extra></extra>\",\"legendgroup\":\"Aiways \",\"marker\":{\"color\":\"#E76BF3\",\"opacity\":0.8,\"symbol\":\"circle\",\"size\":8},\"mode\":\"markers\",\"name\":\"Aiways \",\"orientation\":\"v\",\"showlegend\":true,\"x\":[150],\"xaxis\":\"x\",\"y\":[9.0],\"yaxis\":\"y\",\"type\":\"scatter\"},{\"customdata\":[[\"3 Crossback E-Tense\"]],\"hovertemplate\":\"Brand=DS <br>Top Speed (Km/H)=%{x}<br>Acceleration (Sec)=%{y}<br>Model=%{customdata[0]}<extra></extra>\",\"legendgroup\":\"DS \",\"marker\":{\"color\":\"#F8766D\",\"opacity\":0.8,\"symbol\":\"circle\",\"size\":8},\"mode\":\"markers\",\"name\":\"DS \",\"orientation\":\"v\",\"showlegend\":true,\"x\":[150],\"xaxis\":\"x\",\"y\":[8.7],\"yaxis\":\"y\",\"type\":\"scatter\"},{\"customdata\":[[\"e-C4 \"]],\"hovertemplate\":\"Brand=Citroen <br>Top Speed (Km/H)=%{x}<br>Acceleration (Sec)=%{y}<br>Model=%{customdata[0]}<extra></extra>\",\"legendgroup\":\"Citroen \",\"marker\":{\"color\":\"#A3A500\",\"opacity\":0.8,\"symbol\":\"circle\",\"size\":8},\"mode\":\"markers\",\"name\":\"Citroen \",\"orientation\":\"v\",\"showlegend\":true,\"x\":[150],\"xaxis\":\"x\",\"y\":[9.7],\"yaxis\":\"y\",\"type\":\"scatter\"},{\"customdata\":[[\"I-Pace \"]],\"hovertemplate\":\"Brand=Jaguar <br>Top Speed (Km/H)=%{x}<br>Acceleration (Sec)=%{y}<br>Model=%{customdata[0]}<extra></extra>\",\"legendgroup\":\"Jaguar \",\"marker\":{\"color\":\"#00BF7D\",\"opacity\":0.8,\"symbol\":\"circle\",\"size\":8},\"mode\":\"markers\",\"name\":\"Jaguar \",\"orientation\":\"v\",\"showlegend\":true,\"x\":[200],\"xaxis\":\"x\",\"y\":[4.8],\"yaxis\":\"y\",\"type\":\"scatter\"},{\"customdata\":[[\"Mustang Mach-E ER RWD\"],[\"Mustang Mach-E ER AWD\"],[\"Mustang Mach-E SR AWD\"],[\"Mustang Mach-E SR RWD\"]],\"hovertemplate\":\"Brand=Ford <br>Top Speed (Km/H)=%{x}<br>Acceleration (Sec)=%{y}<br>Model=%{customdata[0]}<extra></extra>\",\"legendgroup\":\"Ford \",\"marker\":{\"color\":\"#00B0F6\",\"opacity\":0.8,\"symbol\":\"circle\",\"size\":8},\"mode\":\"markers\",\"name\":\"Ford \",\"orientation\":\"v\",\"showlegend\":true,\"x\":[180,180,180,180],\"xaxis\":\"x\",\"y\":[7.0,6.0,6.0,6.6],\"yaxis\":\"y\",\"type\":\"scatter\"},{\"customdata\":[[\"M-Byte 95 kWh 4WD\"],[\"M-Byte 72 kWh 2WD\"],[\"M-Byte 95 kWh 2WD\"]],\"hovertemplate\":\"Brand=Byton <br>Top Speed (Km/H)=%{x}<br>Acceleration (Sec)=%{y}<br>Model=%{customdata[0]}<extra></extra>\",\"legendgroup\":\"Byton \",\"marker\":{\"color\":\"#E76BF3\",\"opacity\":0.8,\"symbol\":\"circle\",\"size\":8},\"mode\":\"markers\",\"name\":\"Byton \",\"orientation\":\"v\",\"showlegend\":true,\"x\":[190,190,190],\"xaxis\":\"x\",\"y\":[5.5,7.5,7.5],\"yaxis\":\"y\",\"type\":\"scatter\"},{\"customdata\":[[\"Sion \"]],\"hovertemplate\":\"Brand=Sono <br>Top Speed (Km/H)=%{x}<br>Acceleration (Sec)=%{y}<br>Model=%{customdata[0]}<extra></extra>\",\"legendgroup\":\"Sono \",\"marker\":{\"color\":\"#F8766D\",\"opacity\":0.8,\"symbol\":\"circle\",\"size\":8},\"mode\":\"markers\",\"name\":\"Sono \",\"orientation\":\"v\",\"showlegend\":true,\"x\":[140],\"xaxis\":\"x\",\"y\":[9.0],\"yaxis\":\"y\",\"type\":\"scatter\"},{\"customdata\":[[\"EQ forfour \"],[\"EQ fortwo coupe\"],[\"EQ fortwo cabrio\"]],\"hovertemplate\":\"Brand=Smart <br>Top Speed (Km/H)=%{x}<br>Acceleration (Sec)=%{y}<br>Model=%{customdata[0]}<extra></extra>\",\"legendgroup\":\"Smart \",\"marker\":{\"color\":\"#A3A500\",\"opacity\":0.8,\"symbol\":\"circle\",\"size\":8},\"mode\":\"markers\",\"name\":\"Smart \",\"orientation\":\"v\",\"showlegend\":true,\"x\":[130,130,130],\"xaxis\":\"x\",\"y\":[12.7,11.6,11.9],\"yaxis\":\"y\",\"type\":\"scatter\"},{\"customdata\":[[\"500e Hatchback\"],[\"500e Convertible\"]],\"hovertemplate\":\"Brand=Fiat <br>Top Speed (Km/H)=%{x}<br>Acceleration (Sec)=%{y}<br>Model=%{customdata[0]}<extra></extra>\",\"legendgroup\":\"Fiat \",\"marker\":{\"color\":\"#00BF7D\",\"opacity\":0.8,\"symbol\":\"circle\",\"size\":8},\"mode\":\"markers\",\"name\":\"Fiat \",\"orientation\":\"v\",\"showlegend\":true,\"x\":[150,150],\"xaxis\":\"x\",\"y\":[9.0,9.0],\"yaxis\":\"y\",\"type\":\"scatter\"}],                        {\"template\":{\"data\":{\"barpolar\":[{\"marker\":{\"line\":{\"color\":\"rgb(237,237,237)\",\"width\":0.5},\"pattern\":{\"fillmode\":\"overlay\",\"size\":10,\"solidity\":0.2}},\"type\":\"barpolar\"}],\"bar\":[{\"error_x\":{\"color\":\"rgb(51,51,51)\"},\"error_y\":{\"color\":\"rgb(51,51,51)\"},\"marker\":{\"line\":{\"color\":\"rgb(237,237,237)\",\"width\":0.5},\"pattern\":{\"fillmode\":\"overlay\",\"size\":10,\"solidity\":0.2}},\"type\":\"bar\"}],\"carpet\":[{\"aaxis\":{\"endlinecolor\":\"rgb(51,51,51)\",\"gridcolor\":\"white\",\"linecolor\":\"white\",\"minorgridcolor\":\"white\",\"startlinecolor\":\"rgb(51,51,51)\"},\"baxis\":{\"endlinecolor\":\"rgb(51,51,51)\",\"gridcolor\":\"white\",\"linecolor\":\"white\",\"minorgridcolor\":\"white\",\"startlinecolor\":\"rgb(51,51,51)\"},\"type\":\"carpet\"}],\"choropleth\":[{\"colorbar\":{\"outlinewidth\":0,\"tickcolor\":\"rgb(237,237,237)\",\"ticklen\":6,\"ticks\":\"inside\"},\"type\":\"choropleth\"}],\"contourcarpet\":[{\"colorbar\":{\"outlinewidth\":0,\"tickcolor\":\"rgb(237,237,237)\",\"ticklen\":6,\"ticks\":\"inside\"},\"type\":\"contourcarpet\"}],\"contour\":[{\"colorbar\":{\"outlinewidth\":0,\"tickcolor\":\"rgb(237,237,237)\",\"ticklen\":6,\"ticks\":\"inside\"},\"colorscale\":[[0,\"rgb(20,44,66)\"],[1,\"rgb(90,179,244)\"]],\"type\":\"contour\"}],\"heatmapgl\":[{\"colorbar\":{\"outlinewidth\":0,\"tickcolor\":\"rgb(237,237,237)\",\"ticklen\":6,\"ticks\":\"inside\"},\"colorscale\":[[0,\"rgb(20,44,66)\"],[1,\"rgb(90,179,244)\"]],\"type\":\"heatmapgl\"}],\"heatmap\":[{\"colorbar\":{\"outlinewidth\":0,\"tickcolor\":\"rgb(237,237,237)\",\"ticklen\":6,\"ticks\":\"inside\"},\"colorscale\":[[0,\"rgb(20,44,66)\"],[1,\"rgb(90,179,244)\"]],\"type\":\"heatmap\"}],\"histogram2dcontour\":[{\"colorbar\":{\"outlinewidth\":0,\"tickcolor\":\"rgb(237,237,237)\",\"ticklen\":6,\"ticks\":\"inside\"},\"colorscale\":[[0,\"rgb(20,44,66)\"],[1,\"rgb(90,179,244)\"]],\"type\":\"histogram2dcontour\"}],\"histogram2d\":[{\"colorbar\":{\"outlinewidth\":0,\"tickcolor\":\"rgb(237,237,237)\",\"ticklen\":6,\"ticks\":\"inside\"},\"colorscale\":[[0,\"rgb(20,44,66)\"],[1,\"rgb(90,179,244)\"]],\"type\":\"histogram2d\"}],\"histogram\":[{\"marker\":{\"pattern\":{\"fillmode\":\"overlay\",\"size\":10,\"solidity\":0.2}},\"type\":\"histogram\"}],\"mesh3d\":[{\"colorbar\":{\"outlinewidth\":0,\"tickcolor\":\"rgb(237,237,237)\",\"ticklen\":6,\"ticks\":\"inside\"},\"type\":\"mesh3d\"}],\"parcoords\":[{\"line\":{\"colorbar\":{\"outlinewidth\":0,\"tickcolor\":\"rgb(237,237,237)\",\"ticklen\":6,\"ticks\":\"inside\"}},\"type\":\"parcoords\"}],\"pie\":[{\"automargin\":true,\"type\":\"pie\"}],\"scatter3d\":[{\"line\":{\"colorbar\":{\"outlinewidth\":0,\"tickcolor\":\"rgb(237,237,237)\",\"ticklen\":6,\"ticks\":\"inside\"}},\"marker\":{\"colorbar\":{\"outlinewidth\":0,\"tickcolor\":\"rgb(237,237,237)\",\"ticklen\":6,\"ticks\":\"inside\"}},\"type\":\"scatter3d\"}],\"scattercarpet\":[{\"marker\":{\"colorbar\":{\"outlinewidth\":0,\"tickcolor\":\"rgb(237,237,237)\",\"ticklen\":6,\"ticks\":\"inside\"}},\"type\":\"scattercarpet\"}],\"scattergeo\":[{\"marker\":{\"colorbar\":{\"outlinewidth\":0,\"tickcolor\":\"rgb(237,237,237)\",\"ticklen\":6,\"ticks\":\"inside\"}},\"type\":\"scattergeo\"}],\"scattergl\":[{\"marker\":{\"colorbar\":{\"outlinewidth\":0,\"tickcolor\":\"rgb(237,237,237)\",\"ticklen\":6,\"ticks\":\"inside\"}},\"type\":\"scattergl\"}],\"scattermapbox\":[{\"marker\":{\"colorbar\":{\"outlinewidth\":0,\"tickcolor\":\"rgb(237,237,237)\",\"ticklen\":6,\"ticks\":\"inside\"}},\"type\":\"scattermapbox\"}],\"scatterpolargl\":[{\"marker\":{\"colorbar\":{\"outlinewidth\":0,\"tickcolor\":\"rgb(237,237,237)\",\"ticklen\":6,\"ticks\":\"inside\"}},\"type\":\"scatterpolargl\"}],\"scatterpolar\":[{\"marker\":{\"colorbar\":{\"outlinewidth\":0,\"tickcolor\":\"rgb(237,237,237)\",\"ticklen\":6,\"ticks\":\"inside\"}},\"type\":\"scatterpolar\"}],\"scatter\":[{\"marker\":{\"colorbar\":{\"outlinewidth\":0,\"tickcolor\":\"rgb(237,237,237)\",\"ticklen\":6,\"ticks\":\"inside\"}},\"type\":\"scatter\"}],\"scatterternary\":[{\"marker\":{\"colorbar\":{\"outlinewidth\":0,\"tickcolor\":\"rgb(237,237,237)\",\"ticklen\":6,\"ticks\":\"inside\"}},\"type\":\"scatterternary\"}],\"surface\":[{\"colorbar\":{\"outlinewidth\":0,\"tickcolor\":\"rgb(237,237,237)\",\"ticklen\":6,\"ticks\":\"inside\"},\"colorscale\":[[0,\"rgb(20,44,66)\"],[1,\"rgb(90,179,244)\"]],\"type\":\"surface\"}],\"table\":[{\"cells\":{\"fill\":{\"color\":\"rgb(237,237,237)\"},\"line\":{\"color\":\"white\"}},\"header\":{\"fill\":{\"color\":\"rgb(217,217,217)\"},\"line\":{\"color\":\"white\"}},\"type\":\"table\"}]},\"layout\":{\"annotationdefaults\":{\"arrowhead\":0,\"arrowwidth\":1},\"autotypenumbers\":\"strict\",\"coloraxis\":{\"colorbar\":{\"outlinewidth\":0,\"tickcolor\":\"rgb(237,237,237)\",\"ticklen\":6,\"ticks\":\"inside\"}},\"colorscale\":{\"sequential\":[[0,\"rgb(20,44,66)\"],[1,\"rgb(90,179,244)\"]],\"sequentialminus\":[[0,\"rgb(20,44,66)\"],[1,\"rgb(90,179,244)\"]]},\"colorway\":[\"#F8766D\",\"#A3A500\",\"#00BF7D\",\"#00B0F6\",\"#E76BF3\"],\"font\":{\"color\":\"rgb(51,51,51)\"},\"geo\":{\"bgcolor\":\"white\",\"lakecolor\":\"white\",\"landcolor\":\"rgb(237,237,237)\",\"showlakes\":true,\"showland\":true,\"subunitcolor\":\"white\"},\"hoverlabel\":{\"align\":\"left\"},\"hovermode\":\"closest\",\"paper_bgcolor\":\"white\",\"plot_bgcolor\":\"rgb(237,237,237)\",\"polar\":{\"angularaxis\":{\"gridcolor\":\"white\",\"linecolor\":\"white\",\"showgrid\":true,\"tickcolor\":\"rgb(51,51,51)\",\"ticks\":\"outside\"},\"bgcolor\":\"rgb(237,237,237)\",\"radialaxis\":{\"gridcolor\":\"white\",\"linecolor\":\"white\",\"showgrid\":true,\"tickcolor\":\"rgb(51,51,51)\",\"ticks\":\"outside\"}},\"scene\":{\"xaxis\":{\"backgroundcolor\":\"rgb(237,237,237)\",\"gridcolor\":\"white\",\"gridwidth\":2,\"linecolor\":\"white\",\"showbackground\":true,\"showgrid\":true,\"tickcolor\":\"rgb(51,51,51)\",\"ticks\":\"outside\",\"zerolinecolor\":\"white\"},\"yaxis\":{\"backgroundcolor\":\"rgb(237,237,237)\",\"gridcolor\":\"white\",\"gridwidth\":2,\"linecolor\":\"white\",\"showbackground\":true,\"showgrid\":true,\"tickcolor\":\"rgb(51,51,51)\",\"ticks\":\"outside\",\"zerolinecolor\":\"white\"},\"zaxis\":{\"backgroundcolor\":\"rgb(237,237,237)\",\"gridcolor\":\"white\",\"gridwidth\":2,\"linecolor\":\"white\",\"showbackground\":true,\"showgrid\":true,\"tickcolor\":\"rgb(51,51,51)\",\"ticks\":\"outside\",\"zerolinecolor\":\"white\"}},\"shapedefaults\":{\"fillcolor\":\"black\",\"line\":{\"width\":0},\"opacity\":0.3},\"ternary\":{\"aaxis\":{\"gridcolor\":\"white\",\"linecolor\":\"white\",\"showgrid\":true,\"tickcolor\":\"rgb(51,51,51)\",\"ticks\":\"outside\"},\"baxis\":{\"gridcolor\":\"white\",\"linecolor\":\"white\",\"showgrid\":true,\"tickcolor\":\"rgb(51,51,51)\",\"ticks\":\"outside\"},\"bgcolor\":\"rgb(237,237,237)\",\"caxis\":{\"gridcolor\":\"white\",\"linecolor\":\"white\",\"showgrid\":true,\"tickcolor\":\"rgb(51,51,51)\",\"ticks\":\"outside\"}},\"xaxis\":{\"automargin\":true,\"gridcolor\":\"white\",\"linecolor\":\"white\",\"showgrid\":true,\"tickcolor\":\"rgb(51,51,51)\",\"ticks\":\"outside\",\"title\":{\"standoff\":15},\"zerolinecolor\":\"white\"},\"yaxis\":{\"automargin\":true,\"gridcolor\":\"white\",\"linecolor\":\"white\",\"showgrid\":true,\"tickcolor\":\"rgb(51,51,51)\",\"ticks\":\"outside\",\"title\":{\"standoff\":15},\"zerolinecolor\":\"white\"}}},\"xaxis\":{\"anchor\":\"y\",\"domain\":[0.0,1.0],\"title\":{\"text\":\"Top Speed (Km/H)\"}},\"yaxis\":{\"anchor\":\"x\",\"domain\":[0.0,1.0],\"title\":{\"text\":\"Acceleration (Sec)\"}},\"legend\":{\"title\":{\"text\":\"Brand\"},\"tracegroupgap\":0},\"title\":{\"text\":\"Acceleration and Top Speed\"},\"height\":650,\"width\":900},                        {\"responsive\": true}                    ).then(function(){\n",
       "                            \n",
       "var gd = document.getElementById('43f278ba-9a3b-4b28-8076-db32340f0c62');\n",
       "var x = new MutationObserver(function (mutations, observer) {{\n",
       "        var display = window.getComputedStyle(gd).display;\n",
       "        if (!display || display === 'none') {{\n",
       "            console.log([gd, 'removed!']);\n",
       "            Plotly.purge(gd);\n",
       "            observer.disconnect();\n",
       "        }}\n",
       "}});\n",
       "\n",
       "// Listen for the removal of the full notebook cells\n",
       "var notebookContainer = gd.closest('#notebook-container');\n",
       "if (notebookContainer) {{\n",
       "    x.observe(notebookContainer, {childList: true});\n",
       "}}\n",
       "\n",
       "// Listen for the clearing of the current output cell\n",
       "var outputEl = gd.closest('.output');\n",
       "if (outputEl) {{\n",
       "    x.observe(outputEl, {childList: true});\n",
       "}}\n",
       "\n",
       "                        })                };                });            </script>        </div>"
      ]
     },
     "metadata": {},
     "output_type": "display_data"
    }
   ],
   "source": [
    "fig = ex.scatter(EV,x = 'TopSpeed_KmH',y = 'AccelSec', color = 'Brand', hover_data=['Model'] ,\n",
    "           opacity=0.8 , title='Acceleration and Top Speed' , height=650 , width=900 , template='ggplot2' ,\n",
    "                labels=dict(AccelSec='Acceleration (Sec)', TopSpeed_KmH='Top Speed (Km/H)'))\n",
    "\n",
    "fig.update_traces(marker={'size': 8}) # adjusting the markers size\n",
    "fig.show()"
   ]
  },
  {
   "cell_type": "markdown",
   "id": "f96cd469",
   "metadata": {},
   "source": [
    " We can see from here that the Tesla Roadster can go from 0 to 100 Km/H in 2.1 Seconds and its top speed is 410 Km/H, which make it the best car in terms of top speed and acceleration, with most of the cars lying between 140-270 Km/H top speed and 2-10 Seconds acceleration."
   ]
  },
  {
   "cell_type": "markdown",
   "id": "b0414b46",
   "metadata": {},
   "source": [
    "###  Range and Fast Charging"
   ]
  },
  {
   "cell_type": "code",
   "execution_count": 366,
   "id": "177df390",
   "metadata": {},
   "outputs": [
    {
     "data": {
      "application/vnd.plotly.v1+json": {
       "config": {
        "plotlyServerURL": "https://plot.ly"
       },
       "data": [
        {
         "customdata": [
          [
           "Model 3 Long Range Dual Motor"
          ],
          [
           "Model 3 Standard Range Plus"
          ],
          [
           "Model Y Long Range Dual Motor"
          ],
          [
           "Model 3 Long Range Performance"
          ],
          [
           "Cybertruck Tri Motor"
          ],
          [
           "Model S Long Range"
          ],
          [
           "Roadster "
          ],
          [
           "Model X Long Range"
          ],
          [
           "Model S Performance"
          ],
          [
           "Model Y Long Range Performance"
          ],
          [
           "Cybertruck Dual Motor"
          ],
          [
           "Model X Performance"
          ],
          [
           "Cybertruck Single Motor"
          ]
         ],
         "hovertemplate": "Brand=Tesla <br>Fast Charging (Km/H)=%{x}<br>Range (Km)=%{y}<br>Model=%{customdata[0]}<extra></extra>",
         "legendgroup": "Tesla ",
         "marker": {
          "color": "#F8766D",
          "opacity": 0.8,
          "size": 8,
          "symbol": "circle"
         },
         "mode": "markers",
         "name": "Tesla ",
         "orientation": "v",
         "showlegend": true,
         "type": "scatter",
         "x": [
          "940",
          "650",
          "930",
          "910",
          "710",
          "560",
          "920",
          "490",
          "550",
          "900",
          "710",
          "480",
          "740"
         ],
         "xaxis": "x",
         "y": [
          450,
          310,
          425,
          435,
          750,
          515,
          970,
          450,
          505,
          410,
          460,
          440,
          390
         ],
         "yaxis": "y"
        },
        {
         "customdata": [
          [
           "ID.3 Pure"
          ],
          [
           "e-Golf "
          ],
          [
           "ID.3 Pro S"
          ],
          [
           "e-Up! "
          ],
          [
           "ID.4 "
          ],
          [
           "ID.3 Pro"
          ],
          [
           "ID.3 1st"
          ],
          [
           "ID.3 Pro Performance"
          ]
         ],
         "hovertemplate": "Brand=Volkswagen <br>Fast Charging (Km/H)=%{x}<br>Range (Km)=%{y}<br>Model=%{customdata[0]}<extra></extra>",
         "legendgroup": "Volkswagen ",
         "marker": {
          "color": "#A3A500",
          "opacity": 0.8,
          "size": 8,
          "symbol": "circle"
         },
         "mode": "markers",
         "name": "Volkswagen ",
         "orientation": "v",
         "showlegend": true,
         "type": "scatter",
         "x": [
          "250",
          "220",
          "590",
          "170",
          "560",
          "490",
          "470",
          "470"
         ],
         "xaxis": "x",
         "y": [
          270,
          190,
          440,
          195,
          420,
          350,
          340,
          340
         ],
         "yaxis": "y"
        },
        {
         "customdata": [
          [
           "2"
          ]
         ],
         "hovertemplate": "Brand=Polestar <br>Fast Charging (Km/H)=%{x}<br>Range (Km)=%{y}<br>Model=%{customdata[0]}<extra></extra>",
         "legendgroup": "Polestar ",
         "marker": {
          "color": "#00BF7D",
          "opacity": 0.8,
          "size": 8,
          "symbol": "circle"
         },
         "mode": "markers",
         "name": "Polestar ",
         "orientation": "v",
         "showlegend": true,
         "type": "scatter",
         "x": [
          "620"
         ],
         "xaxis": "x",
         "y": [
          400
         ],
         "yaxis": "y"
        },
        {
         "customdata": [
          [
           "iX3 "
          ],
          [
           "i4 "
          ],
          [
           "i3 120 Ah"
          ],
          [
           "i3s 120 Ah"
          ]
         ],
         "hovertemplate": "Brand=BMW <br>Fast Charging (Km/H)=%{x}<br>Range (Km)=%{y}<br>Model=%{customdata[0]}<extra></extra>",
         "legendgroup": "BMW ",
         "marker": {
          "color": "#00B0F6",
          "opacity": 0.8,
          "size": 8,
          "symbol": "circle"
         },
         "mode": "markers",
         "name": "BMW ",
         "orientation": "v",
         "showlegend": true,
         "type": "scatter",
         "x": [
          "560",
          "650",
          "270",
          "260"
         ],
         "xaxis": "x",
         "y": [
          360,
          450,
          235,
          230
         ],
         "yaxis": "y"
        },
        {
         "customdata": [
          [
           "e "
          ],
          [
           "e Advance"
          ]
         ],
         "hovertemplate": "Brand=Honda <br>Fast Charging (Km/H)=%{x}<br>Range (Km)=%{y}<br>Model=%{customdata[0]}<extra></extra>",
         "legendgroup": "Honda ",
         "marker": {
          "color": "#E76BF3",
          "opacity": 0.8,
          "size": 8,
          "symbol": "circle"
         },
         "mode": "markers",
         "name": "Honda ",
         "orientation": "v",
         "showlegend": true,
         "type": "scatter",
         "x": [
          "190",
          "190"
         ],
         "xaxis": "x",
         "y": [
          170,
          170
         ],
         "yaxis": "y"
        },
        {
         "customdata": [
          [
           "Air "
          ]
         ],
         "hovertemplate": "Brand=Lucid <br>Fast Charging (Km/H)=%{x}<br>Range (Km)=%{y}<br>Model=%{customdata[0]}<extra></extra>",
         "legendgroup": "Lucid ",
         "marker": {
          "color": "#F8766D",
          "opacity": 0.8,
          "size": 8,
          "symbol": "circle"
         },
         "mode": "markers",
         "name": "Lucid ",
         "orientation": "v",
         "showlegend": true,
         "type": "scatter",
         "x": [
          "620"
         ],
         "xaxis": "x",
         "y": [
          610
         ],
         "yaxis": "y"
        },
        {
         "customdata": [
          [
           "e-208 "
          ],
          [
           "e-2008 SUV "
          ]
         ],
         "hovertemplate": "Brand=Peugeot <br>Fast Charging (Km/H)=%{x}<br>Range (Km)=%{y}<br>Model=%{customdata[0]}<extra></extra>",
         "legendgroup": "Peugeot ",
         "marker": {
          "color": "#A3A500",
          "opacity": 0.8,
          "size": 8,
          "symbol": "circle"
         },
         "mode": "markers",
         "name": "Peugeot ",
         "orientation": "v",
         "showlegend": true,
         "type": "scatter",
         "x": [
          "420",
          "380"
         ],
         "xaxis": "x",
         "y": [
          275,
          250
         ],
         "yaxis": "y"
        },
        {
         "customdata": [
          [
           "Q4 e-tron "
          ],
          [
           "e-tron GT "
          ],
          [
           "e-tron 50 quattro"
          ],
          [
           "e-tron Sportback 55 quattro"
          ],
          [
           "e-tron 55 quattro"
          ],
          [
           "Q4 Sportback e-tron "
          ],
          [
           "e-tron Sportback 50 quattro"
          ],
          [
           "e-tron S 55 quattro"
          ],
          [
           "e-tron S Sportback 55 quattro"
          ]
         ],
         "hovertemplate": "Brand=Audi <br>Fast Charging (Km/H)=%{x}<br>Range (Km)=%{y}<br>Model=%{customdata[0]}<extra></extra>",
         "legendgroup": "Audi ",
         "marker": {
          "color": "#00BF7D",
          "opacity": 0.8,
          "size": 8,
          "symbol": "circle"
         },
         "mode": "markers",
         "name": "Audi ",
         "orientation": "v",
         "showlegend": true,
         "type": "scatter",
         "x": [
          "540",
          "850",
          "450",
          "610",
          "590",
          "550",
          "470",
          "510",
          "540"
         ],
         "xaxis": "x",
         "y": [
          400,
          425,
          280,
          380,
          365,
          410,
          295,
          320,
          335
         ],
         "yaxis": "y"
        },
        {
         "customdata": [
          [
           "EQC 400 4MATIC"
          ],
          [
           "EQA "
          ],
          [
           "EQV 300 Long"
          ]
         ],
         "hovertemplate": "Brand=Mercedes <br>Fast Charging (Km/H)=%{x}<br>Range (Km)=%{y}<br>Model=%{customdata[0]}<extra></extra>",
         "legendgroup": "Mercedes ",
         "marker": {
          "color": "#00B0F6",
          "opacity": 0.8,
          "size": 8,
          "symbol": "circle"
         },
         "mode": "markers",
         "name": "Mercedes ",
         "orientation": "v",
         "showlegend": true,
         "type": "scatter",
         "x": [
          "440",
          "440",
          "290"
         ],
         "xaxis": "x",
         "y": [
          370,
          350,
          330
         ],
         "yaxis": "y"
        },
        {
         "customdata": [
          [
           "Leaf "
          ],
          [
           "Leaf e+"
          ],
          [
           "Ariya 87kWh"
          ],
          [
           "e-NV200 Evalia "
          ],
          [
           "Ariya e-4ORCE 87kWh"
          ],
          [
           "Ariya 63kWh"
          ],
          [
           "Ariya e-4ORCE 63kWh"
          ],
          [
           "Ariya e-4ORCE 87kWh Performance"
          ]
         ],
         "hovertemplate": "Brand=Nissan <br>Fast Charging (Km/H)=%{x}<br>Range (Km)=%{y}<br>Model=%{customdata[0]}<extra></extra>",
         "legendgroup": "Nissan ",
         "marker": {
          "color": "#E76BF3",
          "opacity": 0.8,
          "size": 8,
          "symbol": "circle"
         },
         "mode": "markers",
         "name": "Nissan ",
         "orientation": "v",
         "showlegend": true,
         "type": "scatter",
         "x": [
          "230",
          "390",
          "520",
          "190",
          "500",
          "440",
          "440",
          "450"
         ],
         "xaxis": "x",
         "y": [
          220,
          325,
          440,
          190,
          420,
          330,
          325,
          375
         ],
         "yaxis": "y"
        },
        {
         "customdata": [
          [
           "Kona Electric 64 kWh"
          ],
          [
           "IONIQ Electric"
          ],
          [
           "Kona Electric 39 kWh"
          ]
         ],
         "hovertemplate": "Brand=Hyundai <br>Fast Charging (Km/H)=%{x}<br>Range (Km)=%{y}<br>Model=%{customdata[0]}<extra></extra>",
         "legendgroup": "Hyundai ",
         "marker": {
          "color": "#F8766D",
          "opacity": 0.8,
          "size": 8,
          "symbol": "circle"
         },
         "mode": "markers",
         "name": "Hyundai ",
         "orientation": "v",
         "showlegend": true,
         "type": "scatter",
         "x": [
          "380",
          "210",
          "210"
         ],
         "xaxis": "x",
         "y": [
          400,
          250,
          255
         ],
         "yaxis": "y"
        },
        {
         "customdata": [
          [
           "Taycan Turbo S"
          ],
          [
           "Taycan 4S"
          ],
          [
           "Taycan 4S Plus"
          ],
          [
           "Taycan Cross Turismo "
          ],
          [
           "Taycan Turbo"
          ]
         ],
         "hovertemplate": "Brand=Porsche <br>Fast Charging (Km/H)=%{x}<br>Range (Km)=%{y}<br>Model=%{customdata[0]}<extra></extra>",
         "legendgroup": "Porsche ",
         "marker": {
          "color": "#A3A500",
          "opacity": 0.8,
          "size": 8,
          "symbol": "circle"
         },
         "mode": "markers",
         "name": "Porsche ",
         "orientation": "v",
         "showlegend": true,
         "type": "scatter",
         "x": [
          "780",
          "730",
          "890",
          "770",
          "810"
         ],
         "xaxis": "x",
         "y": [
          375,
          365,
          425,
          385,
          390
         ],
         "yaxis": "y"
        },
        {
         "customdata": [
          [
           "ZS EV"
          ]
         ],
         "hovertemplate": "Brand=MG <br>Fast Charging (Km/H)=%{x}<br>Range (Km)=%{y}<br>Model=%{customdata[0]}<extra></extra>",
         "legendgroup": "MG ",
         "marker": {
          "color": "#00BF7D",
          "opacity": 0.8,
          "size": 8,
          "symbol": "circle"
         },
         "mode": "markers",
         "name": "MG ",
         "orientation": "v",
         "showlegend": true,
         "type": "scatter",
         "x": [
          "260"
         ],
         "xaxis": "x",
         "y": [
          220
         ],
         "yaxis": "y"
        },
        {
         "customdata": [
          [
           "Cooper SE "
          ]
         ],
         "hovertemplate": "Brand=Mini <br>Fast Charging (Km/H)=%{x}<br>Range (Km)=%{y}<br>Model=%{customdata[0]}<extra></extra>",
         "legendgroup": "Mini ",
         "marker": {
          "color": "#00B0F6",
          "opacity": 0.8,
          "size": 8,
          "symbol": "circle"
         },
         "mode": "markers",
         "name": "Mini ",
         "orientation": "v",
         "showlegend": true,
         "type": "scatter",
         "x": [
          "260"
         ],
         "xaxis": "x",
         "y": [
          185
         ],
         "yaxis": "y"
        },
        {
         "customdata": [
          [
           "Corsa-e "
          ],
          [
           "Ampera-e "
          ],
          [
           "Mokka-e "
          ]
         ],
         "hovertemplate": "Brand=Opel <br>Fast Charging (Km/H)=%{x}<br>Range (Km)=%{y}<br>Model=%{customdata[0]}<extra></extra>",
         "legendgroup": "Opel ",
         "marker": {
          "color": "#E76BF3",
          "opacity": 0.8,
          "size": 8,
          "symbol": "circle"
         },
         "mode": "markers",
         "name": "Opel ",
         "orientation": "v",
         "showlegend": true,
         "type": "scatter",
         "x": [
          "420",
          "210",
          "390"
         ],
         "xaxis": "x",
         "y": [
          275,
          335,
          255
         ],
         "yaxis": "y"
        },
        {
         "customdata": [
          [
           "Enyaq iV 50"
          ],
          [
           "CITIGOe iV "
          ],
          [
           "Enyaq iV 80"
          ],
          [
           "Enyaq iV 80X"
          ],
          [
           "Enyaq iV vRS"
          ],
          [
           "Enyaq iV 60"
          ]
         ],
         "hovertemplate": "Brand=Skoda <br>Fast Charging (Km/H)=%{x}<br>Range (Km)=%{y}<br>Model=%{customdata[0]}<extra></extra>",
         "legendgroup": "Skoda ",
         "marker": {
          "color": "#F8766D",
          "opacity": 0.8,
          "size": 8,
          "symbol": "circle"
         },
         "mode": "markers",
         "name": "Skoda ",
         "orientation": "v",
         "showlegend": true,
         "type": "scatter",
         "x": [
          "230",
          "170",
          "560",
          "540",
          "540",
          "440"
         ],
         "xaxis": "x",
         "y": [
          290,
          195,
          420,
          400,
          400,
          320
         ],
         "yaxis": "y"
        },
        {
         "customdata": [
          [
           "XC40 P8 AWD Recharge"
          ]
         ],
         "hovertemplate": "Brand=Volvo <br>Fast Charging (Km/H)=%{x}<br>Range (Km)=%{y}<br>Model=%{customdata[0]}<extra></extra>",
         "legendgroup": "Volvo ",
         "marker": {
          "color": "#A3A500",
          "opacity": 0.8,
          "size": 8,
          "symbol": "circle"
         },
         "mode": "markers",
         "name": "Volvo ",
         "orientation": "v",
         "showlegend": true,
         "type": "scatter",
         "x": [
          "470"
         ],
         "xaxis": "x",
         "y": [
          375
         ],
         "yaxis": "y"
        },
        {
         "customdata": [
          [
           "e-Niro 64 kWh"
          ],
          [
           "e-Soul 64 kWh"
          ],
          [
           "e-Niro 39 kWh"
          ],
          [
           "e-Soul 64 kWh"
          ],
          [
           "e-Soul 39 kWh"
          ]
         ],
         "hovertemplate": "Brand=Kia <br>Fast Charging (Km/H)=%{x}<br>Range (Km)=%{y}<br>Model=%{customdata[0]}<extra></extra>",
         "legendgroup": "Kia ",
         "marker": {
          "color": "#00BF7D",
          "opacity": 0.8,
          "size": 8,
          "symbol": "circle"
         },
         "mode": "markers",
         "name": "Kia ",
         "orientation": "v",
         "showlegend": true,
         "type": "scatter",
         "x": [
          "350",
          "340",
          "230",
          "320",
          "220"
         ],
         "xaxis": "x",
         "y": [
          370,
          365,
          235,
          365,
          230
         ],
         "yaxis": "y"
        },
        {
         "customdata": [
          [
           "Zoe ZE50 R110"
          ],
          [
           "Zoe ZE50 R135"
          ],
          [
           "Twingo ZE"
          ],
          [
           "Zoe ZE40 R110"
          ],
          [
           "Kangoo Maxi ZE 33"
          ]
         ],
         "hovertemplate": "Brand=Renault <br>Fast Charging (Km/H)=%{x}<br>Range (Km)=%{y}<br>Model=%{customdata[0]}<extra></extra>",
         "legendgroup": "Renault ",
         "marker": {
          "color": "#00B0F6",
          "opacity": 0.8,
          "size": 8,
          "symbol": "circle"
         },
         "mode": "markers",
         "name": "Renault ",
         "orientation": "v",
         "showlegend": true,
         "type": "scatter",
         "x": [
          "230",
          "230",
          "-",
          "230",
          "-"
         ],
         "xaxis": "x",
         "y": [
          315,
          310,
          130,
          255,
          160
         ],
         "yaxis": "y"
        },
        {
         "customdata": [
          [
           "MX-30 "
          ]
         ],
         "hovertemplate": "Brand=Mazda <br>Fast Charging (Km/H)=%{x}<br>Range (Km)=%{y}<br>Model=%{customdata[0]}<extra></extra>",
         "legendgroup": "Mazda ",
         "marker": {
          "color": "#E76BF3",
          "opacity": 0.8,
          "size": 8,
          "symbol": "circle"
         },
         "mode": "markers",
         "name": "Mazda ",
         "orientation": "v",
         "showlegend": true,
         "type": "scatter",
         "x": [
          "240"
         ],
         "xaxis": "x",
         "y": [
          180
         ],
         "yaxis": "y"
        },
        {
         "customdata": [
          [
           "UX 300e"
          ]
         ],
         "hovertemplate": "Brand=Lexus <br>Fast Charging (Km/H)=%{x}<br>Range (Km)=%{y}<br>Model=%{customdata[0]}<extra></extra>",
         "legendgroup": "Lexus ",
         "marker": {
          "color": "#F8766D",
          "opacity": 0.8,
          "size": 8,
          "symbol": "circle"
         },
         "mode": "markers",
         "name": "Lexus ",
         "orientation": "v",
         "showlegend": true,
         "type": "scatter",
         "x": [
          "190"
         ],
         "xaxis": "x",
         "y": [
          270
         ],
         "yaxis": "y"
        },
        {
         "customdata": [
          [
           "el-Born "
          ]
         ],
         "hovertemplate": "Brand=CUPRA <br>Fast Charging (Km/H)=%{x}<br>Range (Km)=%{y}<br>Model=%{customdata[0]}<extra></extra>",
         "legendgroup": "CUPRA ",
         "marker": {
          "color": "#A3A500",
          "opacity": 0.8,
          "size": 8,
          "symbol": "circle"
         },
         "mode": "markers",
         "name": "CUPRA ",
         "orientation": "v",
         "showlegend": true,
         "type": "scatter",
         "x": [
          "570"
         ],
         "xaxis": "x",
         "y": [
          425
         ],
         "yaxis": "y"
        },
        {
         "customdata": [
          [
           "Mii Electric "
          ]
         ],
         "hovertemplate": "Brand=SEAT <br>Fast Charging (Km/H)=%{x}<br>Range (Km)=%{y}<br>Model=%{customdata[0]}<extra></extra>",
         "legendgroup": "SEAT ",
         "marker": {
          "color": "#00BF7D",
          "opacity": 0.8,
          "size": 8,
          "symbol": "circle"
         },
         "mode": "markers",
         "name": "SEAT ",
         "orientation": "v",
         "showlegend": true,
         "type": "scatter",
         "x": [
          "170"
         ],
         "xaxis": "x",
         "y": [
          195
         ],
         "yaxis": "y"
        },
        {
         "customdata": [
          [
           "One "
          ]
         ],
         "hovertemplate": "Brand=Lightyear <br>Fast Charging (Km/H)=%{x}<br>Range (Km)=%{y}<br>Model=%{customdata[0]}<extra></extra>",
         "legendgroup": "Lightyear ",
         "marker": {
          "color": "#00B0F6",
          "opacity": 0.8,
          "size": 8,
          "symbol": "circle"
         },
         "mode": "markers",
         "name": "Lightyear ",
         "orientation": "v",
         "showlegend": true,
         "type": "scatter",
         "x": [
          "540"
         ],
         "xaxis": "x",
         "y": [
          575
         ],
         "yaxis": "y"
        },
        {
         "customdata": [
          [
           "U5 "
          ]
         ],
         "hovertemplate": "Brand=Aiways <br>Fast Charging (Km/H)=%{x}<br>Range (Km)=%{y}<br>Model=%{customdata[0]}<extra></extra>",
         "legendgroup": "Aiways ",
         "marker": {
          "color": "#E76BF3",
          "opacity": 0.8,
          "size": 8,
          "symbol": "circle"
         },
         "mode": "markers",
         "name": "Aiways ",
         "orientation": "v",
         "showlegend": true,
         "type": "scatter",
         "x": [
          "350"
         ],
         "xaxis": "x",
         "y": [
          335
         ],
         "yaxis": "y"
        },
        {
         "customdata": [
          [
           "3 Crossback E-Tense"
          ]
         ],
         "hovertemplate": "Brand=DS <br>Fast Charging (Km/H)=%{x}<br>Range (Km)=%{y}<br>Model=%{customdata[0]}<extra></extra>",
         "legendgroup": "DS ",
         "marker": {
          "color": "#F8766D",
          "opacity": 0.8,
          "size": 8,
          "symbol": "circle"
         },
         "mode": "markers",
         "name": "DS ",
         "orientation": "v",
         "showlegend": true,
         "type": "scatter",
         "x": [
          "380"
         ],
         "xaxis": "x",
         "y": [
          250
         ],
         "yaxis": "y"
        },
        {
         "customdata": [
          [
           "e-C4 "
          ]
         ],
         "hovertemplate": "Brand=Citroen <br>Fast Charging (Km/H)=%{x}<br>Range (Km)=%{y}<br>Model=%{customdata[0]}<extra></extra>",
         "legendgroup": "Citroen ",
         "marker": {
          "color": "#A3A500",
          "opacity": 0.8,
          "size": 8,
          "symbol": "circle"
         },
         "mode": "markers",
         "name": "Citroen ",
         "orientation": "v",
         "showlegend": true,
         "type": "scatter",
         "x": [
          "380"
         ],
         "xaxis": "x",
         "y": [
          250
         ],
         "yaxis": "y"
        },
        {
         "customdata": [
          [
           "I-Pace "
          ]
         ],
         "hovertemplate": "Brand=Jaguar <br>Fast Charging (Km/H)=%{x}<br>Range (Km)=%{y}<br>Model=%{customdata[0]}<extra></extra>",
         "legendgroup": "Jaguar ",
         "marker": {
          "color": "#00BF7D",
          "opacity": 0.8,
          "size": 8,
          "symbol": "circle"
         },
         "mode": "markers",
         "name": "Jaguar ",
         "orientation": "v",
         "showlegend": true,
         "type": "scatter",
         "x": [
          "340"
         ],
         "xaxis": "x",
         "y": [
          365
         ],
         "yaxis": "y"
        },
        {
         "customdata": [
          [
           "Mustang Mach-E ER RWD"
          ],
          [
           "Mustang Mach-E ER AWD"
          ],
          [
           "Mustang Mach-E SR AWD"
          ],
          [
           "Mustang Mach-E SR RWD"
          ]
         ],
         "hovertemplate": "Brand=Ford <br>Fast Charging (Km/H)=%{x}<br>Range (Km)=%{y}<br>Model=%{customdata[0]}<extra></extra>",
         "legendgroup": "Ford ",
         "marker": {
          "color": "#00B0F6",
          "opacity": 0.8,
          "size": 8,
          "symbol": "circle"
         },
         "mode": "markers",
         "name": "Ford ",
         "orientation": "v",
         "showlegend": true,
         "type": "scatter",
         "x": [
          "430",
          "410",
          "360",
          "380"
         ],
         "xaxis": "x",
         "y": [
          450,
          430,
          340,
          360
         ],
         "yaxis": "y"
        },
        {
         "customdata": [
          [
           "M-Byte 95 kWh 4WD"
          ],
          [
           "M-Byte 72 kWh 2WD"
          ],
          [
           "M-Byte 95 kWh 2WD"
          ]
         ],
         "hovertemplate": "Brand=Byton <br>Fast Charging (Km/H)=%{x}<br>Range (Km)=%{y}<br>Model=%{customdata[0]}<extra></extra>",
         "legendgroup": "Byton ",
         "marker": {
          "color": "#E76BF3",
          "opacity": 0.8,
          "size": 8,
          "symbol": "circle"
         },
         "mode": "markers",
         "name": "Byton ",
         "orientation": "v",
         "showlegend": true,
         "type": "scatter",
         "x": [
          "460",
          "420",
          "480"
         ],
         "xaxis": "x",
         "y": [
          390,
          325,
          400
         ],
         "yaxis": "y"
        },
        {
         "customdata": [
          [
           "Sion "
          ]
         ],
         "hovertemplate": "Brand=Sono <br>Fast Charging (Km/H)=%{x}<br>Range (Km)=%{y}<br>Model=%{customdata[0]}<extra></extra>",
         "legendgroup": "Sono ",
         "marker": {
          "color": "#F8766D",
          "opacity": 0.8,
          "size": 8,
          "symbol": "circle"
         },
         "mode": "markers",
         "name": "Sono ",
         "orientation": "v",
         "showlegend": true,
         "type": "scatter",
         "x": [
          "270"
         ],
         "xaxis": "x",
         "y": [
          225
         ],
         "yaxis": "y"
        },
        {
         "customdata": [
          [
           "EQ forfour "
          ],
          [
           "EQ fortwo coupe"
          ],
          [
           "EQ fortwo cabrio"
          ]
         ],
         "hovertemplate": "Brand=Smart <br>Fast Charging (Km/H)=%{x}<br>Range (Km)=%{y}<br>Model=%{customdata[0]}<extra></extra>",
         "legendgroup": "Smart ",
         "marker": {
          "color": "#A3A500",
          "opacity": 0.8,
          "size": 8,
          "symbol": "circle"
         },
         "mode": "markers",
         "name": "Smart ",
         "orientation": "v",
         "showlegend": true,
         "type": "scatter",
         "x": [
          "-",
          "-",
          "-"
         ],
         "xaxis": "x",
         "y": [
          95,
          100,
          95
         ],
         "yaxis": "y"
        },
        {
         "customdata": [
          [
           "500e Hatchback"
          ],
          [
           "500e Convertible"
          ]
         ],
         "hovertemplate": "Brand=Fiat <br>Fast Charging (Km/H)=%{x}<br>Range (Km)=%{y}<br>Model=%{customdata[0]}<extra></extra>",
         "legendgroup": "Fiat ",
         "marker": {
          "color": "#00BF7D",
          "opacity": 0.8,
          "size": 8,
          "symbol": "circle"
         },
         "mode": "markers",
         "name": "Fiat ",
         "orientation": "v",
         "showlegend": true,
         "type": "scatter",
         "x": [
          "330",
          "330"
         ],
         "xaxis": "x",
         "y": [
          250,
          250
         ],
         "yaxis": "y"
        }
       ],
       "layout": {
        "height": 650,
        "legend": {
         "title": {
          "text": "Brand"
         },
         "tracegroupgap": 0
        },
        "template": {
         "data": {
          "bar": [
           {
            "error_x": {
             "color": "rgb(51,51,51)"
            },
            "error_y": {
             "color": "rgb(51,51,51)"
            },
            "marker": {
             "line": {
              "color": "rgb(237,237,237)",
              "width": 0.5
             },
             "pattern": {
              "fillmode": "overlay",
              "size": 10,
              "solidity": 0.2
             }
            },
            "type": "bar"
           }
          ],
          "barpolar": [
           {
            "marker": {
             "line": {
              "color": "rgb(237,237,237)",
              "width": 0.5
             },
             "pattern": {
              "fillmode": "overlay",
              "size": 10,
              "solidity": 0.2
             }
            },
            "type": "barpolar"
           }
          ],
          "carpet": [
           {
            "aaxis": {
             "endlinecolor": "rgb(51,51,51)",
             "gridcolor": "white",
             "linecolor": "white",
             "minorgridcolor": "white",
             "startlinecolor": "rgb(51,51,51)"
            },
            "baxis": {
             "endlinecolor": "rgb(51,51,51)",
             "gridcolor": "white",
             "linecolor": "white",
             "minorgridcolor": "white",
             "startlinecolor": "rgb(51,51,51)"
            },
            "type": "carpet"
           }
          ],
          "choropleth": [
           {
            "colorbar": {
             "outlinewidth": 0,
             "tickcolor": "rgb(237,237,237)",
             "ticklen": 6,
             "ticks": "inside"
            },
            "type": "choropleth"
           }
          ],
          "contour": [
           {
            "colorbar": {
             "outlinewidth": 0,
             "tickcolor": "rgb(237,237,237)",
             "ticklen": 6,
             "ticks": "inside"
            },
            "colorscale": [
             [
              0,
              "rgb(20,44,66)"
             ],
             [
              1,
              "rgb(90,179,244)"
             ]
            ],
            "type": "contour"
           }
          ],
          "contourcarpet": [
           {
            "colorbar": {
             "outlinewidth": 0,
             "tickcolor": "rgb(237,237,237)",
             "ticklen": 6,
             "ticks": "inside"
            },
            "type": "contourcarpet"
           }
          ],
          "heatmap": [
           {
            "colorbar": {
             "outlinewidth": 0,
             "tickcolor": "rgb(237,237,237)",
             "ticklen": 6,
             "ticks": "inside"
            },
            "colorscale": [
             [
              0,
              "rgb(20,44,66)"
             ],
             [
              1,
              "rgb(90,179,244)"
             ]
            ],
            "type": "heatmap"
           }
          ],
          "heatmapgl": [
           {
            "colorbar": {
             "outlinewidth": 0,
             "tickcolor": "rgb(237,237,237)",
             "ticklen": 6,
             "ticks": "inside"
            },
            "colorscale": [
             [
              0,
              "rgb(20,44,66)"
             ],
             [
              1,
              "rgb(90,179,244)"
             ]
            ],
            "type": "heatmapgl"
           }
          ],
          "histogram": [
           {
            "marker": {
             "pattern": {
              "fillmode": "overlay",
              "size": 10,
              "solidity": 0.2
             }
            },
            "type": "histogram"
           }
          ],
          "histogram2d": [
           {
            "colorbar": {
             "outlinewidth": 0,
             "tickcolor": "rgb(237,237,237)",
             "ticklen": 6,
             "ticks": "inside"
            },
            "colorscale": [
             [
              0,
              "rgb(20,44,66)"
             ],
             [
              1,
              "rgb(90,179,244)"
             ]
            ],
            "type": "histogram2d"
           }
          ],
          "histogram2dcontour": [
           {
            "colorbar": {
             "outlinewidth": 0,
             "tickcolor": "rgb(237,237,237)",
             "ticklen": 6,
             "ticks": "inside"
            },
            "colorscale": [
             [
              0,
              "rgb(20,44,66)"
             ],
             [
              1,
              "rgb(90,179,244)"
             ]
            ],
            "type": "histogram2dcontour"
           }
          ],
          "mesh3d": [
           {
            "colorbar": {
             "outlinewidth": 0,
             "tickcolor": "rgb(237,237,237)",
             "ticklen": 6,
             "ticks": "inside"
            },
            "type": "mesh3d"
           }
          ],
          "parcoords": [
           {
            "line": {
             "colorbar": {
              "outlinewidth": 0,
              "tickcolor": "rgb(237,237,237)",
              "ticklen": 6,
              "ticks": "inside"
             }
            },
            "type": "parcoords"
           }
          ],
          "pie": [
           {
            "automargin": true,
            "type": "pie"
           }
          ],
          "scatter": [
           {
            "marker": {
             "colorbar": {
              "outlinewidth": 0,
              "tickcolor": "rgb(237,237,237)",
              "ticklen": 6,
              "ticks": "inside"
             }
            },
            "type": "scatter"
           }
          ],
          "scatter3d": [
           {
            "line": {
             "colorbar": {
              "outlinewidth": 0,
              "tickcolor": "rgb(237,237,237)",
              "ticklen": 6,
              "ticks": "inside"
             }
            },
            "marker": {
             "colorbar": {
              "outlinewidth": 0,
              "tickcolor": "rgb(237,237,237)",
              "ticklen": 6,
              "ticks": "inside"
             }
            },
            "type": "scatter3d"
           }
          ],
          "scattercarpet": [
           {
            "marker": {
             "colorbar": {
              "outlinewidth": 0,
              "tickcolor": "rgb(237,237,237)",
              "ticklen": 6,
              "ticks": "inside"
             }
            },
            "type": "scattercarpet"
           }
          ],
          "scattergeo": [
           {
            "marker": {
             "colorbar": {
              "outlinewidth": 0,
              "tickcolor": "rgb(237,237,237)",
              "ticklen": 6,
              "ticks": "inside"
             }
            },
            "type": "scattergeo"
           }
          ],
          "scattergl": [
           {
            "marker": {
             "colorbar": {
              "outlinewidth": 0,
              "tickcolor": "rgb(237,237,237)",
              "ticklen": 6,
              "ticks": "inside"
             }
            },
            "type": "scattergl"
           }
          ],
          "scattermapbox": [
           {
            "marker": {
             "colorbar": {
              "outlinewidth": 0,
              "tickcolor": "rgb(237,237,237)",
              "ticklen": 6,
              "ticks": "inside"
             }
            },
            "type": "scattermapbox"
           }
          ],
          "scatterpolar": [
           {
            "marker": {
             "colorbar": {
              "outlinewidth": 0,
              "tickcolor": "rgb(237,237,237)",
              "ticklen": 6,
              "ticks": "inside"
             }
            },
            "type": "scatterpolar"
           }
          ],
          "scatterpolargl": [
           {
            "marker": {
             "colorbar": {
              "outlinewidth": 0,
              "tickcolor": "rgb(237,237,237)",
              "ticklen": 6,
              "ticks": "inside"
             }
            },
            "type": "scatterpolargl"
           }
          ],
          "scatterternary": [
           {
            "marker": {
             "colorbar": {
              "outlinewidth": 0,
              "tickcolor": "rgb(237,237,237)",
              "ticklen": 6,
              "ticks": "inside"
             }
            },
            "type": "scatterternary"
           }
          ],
          "surface": [
           {
            "colorbar": {
             "outlinewidth": 0,
             "tickcolor": "rgb(237,237,237)",
             "ticklen": 6,
             "ticks": "inside"
            },
            "colorscale": [
             [
              0,
              "rgb(20,44,66)"
             ],
             [
              1,
              "rgb(90,179,244)"
             ]
            ],
            "type": "surface"
           }
          ],
          "table": [
           {
            "cells": {
             "fill": {
              "color": "rgb(237,237,237)"
             },
             "line": {
              "color": "white"
             }
            },
            "header": {
             "fill": {
              "color": "rgb(217,217,217)"
             },
             "line": {
              "color": "white"
             }
            },
            "type": "table"
           }
          ]
         },
         "layout": {
          "annotationdefaults": {
           "arrowhead": 0,
           "arrowwidth": 1
          },
          "autotypenumbers": "strict",
          "coloraxis": {
           "colorbar": {
            "outlinewidth": 0,
            "tickcolor": "rgb(237,237,237)",
            "ticklen": 6,
            "ticks": "inside"
           }
          },
          "colorscale": {
           "sequential": [
            [
             0,
             "rgb(20,44,66)"
            ],
            [
             1,
             "rgb(90,179,244)"
            ]
           ],
           "sequentialminus": [
            [
             0,
             "rgb(20,44,66)"
            ],
            [
             1,
             "rgb(90,179,244)"
            ]
           ]
          },
          "colorway": [
           "#F8766D",
           "#A3A500",
           "#00BF7D",
           "#00B0F6",
           "#E76BF3"
          ],
          "font": {
           "color": "rgb(51,51,51)"
          },
          "geo": {
           "bgcolor": "white",
           "lakecolor": "white",
           "landcolor": "rgb(237,237,237)",
           "showlakes": true,
           "showland": true,
           "subunitcolor": "white"
          },
          "hoverlabel": {
           "align": "left"
          },
          "hovermode": "closest",
          "paper_bgcolor": "white",
          "plot_bgcolor": "rgb(237,237,237)",
          "polar": {
           "angularaxis": {
            "gridcolor": "white",
            "linecolor": "white",
            "showgrid": true,
            "tickcolor": "rgb(51,51,51)",
            "ticks": "outside"
           },
           "bgcolor": "rgb(237,237,237)",
           "radialaxis": {
            "gridcolor": "white",
            "linecolor": "white",
            "showgrid": true,
            "tickcolor": "rgb(51,51,51)",
            "ticks": "outside"
           }
          },
          "scene": {
           "xaxis": {
            "backgroundcolor": "rgb(237,237,237)",
            "gridcolor": "white",
            "gridwidth": 2,
            "linecolor": "white",
            "showbackground": true,
            "showgrid": true,
            "tickcolor": "rgb(51,51,51)",
            "ticks": "outside",
            "zerolinecolor": "white"
           },
           "yaxis": {
            "backgroundcolor": "rgb(237,237,237)",
            "gridcolor": "white",
            "gridwidth": 2,
            "linecolor": "white",
            "showbackground": true,
            "showgrid": true,
            "tickcolor": "rgb(51,51,51)",
            "ticks": "outside",
            "zerolinecolor": "white"
           },
           "zaxis": {
            "backgroundcolor": "rgb(237,237,237)",
            "gridcolor": "white",
            "gridwidth": 2,
            "linecolor": "white",
            "showbackground": true,
            "showgrid": true,
            "tickcolor": "rgb(51,51,51)",
            "ticks": "outside",
            "zerolinecolor": "white"
           }
          },
          "shapedefaults": {
           "fillcolor": "black",
           "line": {
            "width": 0
           },
           "opacity": 0.3
          },
          "ternary": {
           "aaxis": {
            "gridcolor": "white",
            "linecolor": "white",
            "showgrid": true,
            "tickcolor": "rgb(51,51,51)",
            "ticks": "outside"
           },
           "baxis": {
            "gridcolor": "white",
            "linecolor": "white",
            "showgrid": true,
            "tickcolor": "rgb(51,51,51)",
            "ticks": "outside"
           },
           "bgcolor": "rgb(237,237,237)",
           "caxis": {
            "gridcolor": "white",
            "linecolor": "white",
            "showgrid": true,
            "tickcolor": "rgb(51,51,51)",
            "ticks": "outside"
           }
          },
          "xaxis": {
           "automargin": true,
           "gridcolor": "white",
           "linecolor": "white",
           "showgrid": true,
           "tickcolor": "rgb(51,51,51)",
           "ticks": "outside",
           "title": {
            "standoff": 15
           },
           "zerolinecolor": "white"
          },
          "yaxis": {
           "automargin": true,
           "gridcolor": "white",
           "linecolor": "white",
           "showgrid": true,
           "tickcolor": "rgb(51,51,51)",
           "ticks": "outside",
           "title": {
            "standoff": 15
           },
           "zerolinecolor": "white"
          }
         }
        },
        "title": {
         "text": "Range and Fast Charging"
        },
        "width": 900,
        "xaxis": {
         "anchor": "y",
         "domain": [
          0,
          1
         ],
         "title": {
          "text": "Fast Charging (Km/H)"
         }
        },
        "yaxis": {
         "anchor": "x",
         "domain": [
          0,
          1
         ],
         "title": {
          "text": "Range (Km)"
         }
        }
       }
      },
      "text/html": [
       "<div>                            <div id=\"e111664c-223a-4681-b846-d90dea888623\" class=\"plotly-graph-div\" style=\"height:650px; width:900px;\"></div>            <script type=\"text/javascript\">                require([\"plotly\"], function(Plotly) {                    window.PLOTLYENV=window.PLOTLYENV || {};                                    if (document.getElementById(\"e111664c-223a-4681-b846-d90dea888623\")) {                    Plotly.newPlot(                        \"e111664c-223a-4681-b846-d90dea888623\",                        [{\"customdata\":[[\"Model 3 Long Range Dual Motor\"],[\"Model 3 Standard Range Plus\"],[\"Model Y Long Range Dual Motor\"],[\"Model 3 Long Range Performance\"],[\"Cybertruck Tri Motor\"],[\"Model S Long Range\"],[\"Roadster \"],[\"Model X Long Range\"],[\"Model S Performance\"],[\"Model Y Long Range Performance\"],[\"Cybertruck Dual Motor\"],[\"Model X Performance\"],[\"Cybertruck Single Motor\"]],\"hovertemplate\":\"Brand=Tesla <br>Fast Charging (Km/H)=%{x}<br>Range (Km)=%{y}<br>Model=%{customdata[0]}<extra></extra>\",\"legendgroup\":\"Tesla \",\"marker\":{\"color\":\"#F8766D\",\"opacity\":0.8,\"symbol\":\"circle\",\"size\":8},\"mode\":\"markers\",\"name\":\"Tesla \",\"orientation\":\"v\",\"showlegend\":true,\"x\":[\"940\",\"650\",\"930\",\"910\",\"710\",\"560\",\"920\",\"490\",\"550\",\"900\",\"710\",\"480\",\"740\"],\"xaxis\":\"x\",\"y\":[450,310,425,435,750,515,970,450,505,410,460,440,390],\"yaxis\":\"y\",\"type\":\"scatter\"},{\"customdata\":[[\"ID.3 Pure\"],[\"e-Golf \"],[\"ID.3 Pro S\"],[\"e-Up! \"],[\"ID.4 \"],[\"ID.3 Pro\"],[\"ID.3 1st\"],[\"ID.3 Pro Performance\"]],\"hovertemplate\":\"Brand=Volkswagen <br>Fast Charging (Km/H)=%{x}<br>Range (Km)=%{y}<br>Model=%{customdata[0]}<extra></extra>\",\"legendgroup\":\"Volkswagen \",\"marker\":{\"color\":\"#A3A500\",\"opacity\":0.8,\"symbol\":\"circle\",\"size\":8},\"mode\":\"markers\",\"name\":\"Volkswagen \",\"orientation\":\"v\",\"showlegend\":true,\"x\":[\"250\",\"220\",\"590\",\"170\",\"560\",\"490\",\"470\",\"470\"],\"xaxis\":\"x\",\"y\":[270,190,440,195,420,350,340,340],\"yaxis\":\"y\",\"type\":\"scatter\"},{\"customdata\":[[\"2\"]],\"hovertemplate\":\"Brand=Polestar <br>Fast Charging (Km/H)=%{x}<br>Range (Km)=%{y}<br>Model=%{customdata[0]}<extra></extra>\",\"legendgroup\":\"Polestar \",\"marker\":{\"color\":\"#00BF7D\",\"opacity\":0.8,\"symbol\":\"circle\",\"size\":8},\"mode\":\"markers\",\"name\":\"Polestar \",\"orientation\":\"v\",\"showlegend\":true,\"x\":[\"620\"],\"xaxis\":\"x\",\"y\":[400],\"yaxis\":\"y\",\"type\":\"scatter\"},{\"customdata\":[[\"iX3 \"],[\"i4 \"],[\"i3 120 Ah\"],[\"i3s 120 Ah\"]],\"hovertemplate\":\"Brand=BMW <br>Fast Charging (Km/H)=%{x}<br>Range (Km)=%{y}<br>Model=%{customdata[0]}<extra></extra>\",\"legendgroup\":\"BMW \",\"marker\":{\"color\":\"#00B0F6\",\"opacity\":0.8,\"symbol\":\"circle\",\"size\":8},\"mode\":\"markers\",\"name\":\"BMW \",\"orientation\":\"v\",\"showlegend\":true,\"x\":[\"560\",\"650\",\"270\",\"260\"],\"xaxis\":\"x\",\"y\":[360,450,235,230],\"yaxis\":\"y\",\"type\":\"scatter\"},{\"customdata\":[[\"e \"],[\"e Advance\"]],\"hovertemplate\":\"Brand=Honda <br>Fast Charging (Km/H)=%{x}<br>Range (Km)=%{y}<br>Model=%{customdata[0]}<extra></extra>\",\"legendgroup\":\"Honda \",\"marker\":{\"color\":\"#E76BF3\",\"opacity\":0.8,\"symbol\":\"circle\",\"size\":8},\"mode\":\"markers\",\"name\":\"Honda \",\"orientation\":\"v\",\"showlegend\":true,\"x\":[\"190\",\"190\"],\"xaxis\":\"x\",\"y\":[170,170],\"yaxis\":\"y\",\"type\":\"scatter\"},{\"customdata\":[[\"Air \"]],\"hovertemplate\":\"Brand=Lucid <br>Fast Charging (Km/H)=%{x}<br>Range (Km)=%{y}<br>Model=%{customdata[0]}<extra></extra>\",\"legendgroup\":\"Lucid \",\"marker\":{\"color\":\"#F8766D\",\"opacity\":0.8,\"symbol\":\"circle\",\"size\":8},\"mode\":\"markers\",\"name\":\"Lucid \",\"orientation\":\"v\",\"showlegend\":true,\"x\":[\"620\"],\"xaxis\":\"x\",\"y\":[610],\"yaxis\":\"y\",\"type\":\"scatter\"},{\"customdata\":[[\"e-208 \"],[\"e-2008 SUV \"]],\"hovertemplate\":\"Brand=Peugeot <br>Fast Charging (Km/H)=%{x}<br>Range (Km)=%{y}<br>Model=%{customdata[0]}<extra></extra>\",\"legendgroup\":\"Peugeot \",\"marker\":{\"color\":\"#A3A500\",\"opacity\":0.8,\"symbol\":\"circle\",\"size\":8},\"mode\":\"markers\",\"name\":\"Peugeot \",\"orientation\":\"v\",\"showlegend\":true,\"x\":[\"420\",\"380\"],\"xaxis\":\"x\",\"y\":[275,250],\"yaxis\":\"y\",\"type\":\"scatter\"},{\"customdata\":[[\"Q4 e-tron \"],[\"e-tron GT \"],[\"e-tron 50 quattro\"],[\"e-tron Sportback 55 quattro\"],[\"e-tron 55 quattro\"],[\"Q4 Sportback e-tron \"],[\"e-tron Sportback 50 quattro\"],[\"e-tron S 55 quattro\"],[\"e-tron S Sportback 55 quattro\"]],\"hovertemplate\":\"Brand=Audi <br>Fast Charging (Km/H)=%{x}<br>Range (Km)=%{y}<br>Model=%{customdata[0]}<extra></extra>\",\"legendgroup\":\"Audi \",\"marker\":{\"color\":\"#00BF7D\",\"opacity\":0.8,\"symbol\":\"circle\",\"size\":8},\"mode\":\"markers\",\"name\":\"Audi \",\"orientation\":\"v\",\"showlegend\":true,\"x\":[\"540\",\"850\",\"450\",\"610\",\"590\",\"550\",\"470\",\"510\",\"540\"],\"xaxis\":\"x\",\"y\":[400,425,280,380,365,410,295,320,335],\"yaxis\":\"y\",\"type\":\"scatter\"},{\"customdata\":[[\"EQC 400 4MATIC\"],[\"EQA \"],[\"EQV 300 Long\"]],\"hovertemplate\":\"Brand=Mercedes <br>Fast Charging (Km/H)=%{x}<br>Range (Km)=%{y}<br>Model=%{customdata[0]}<extra></extra>\",\"legendgroup\":\"Mercedes \",\"marker\":{\"color\":\"#00B0F6\",\"opacity\":0.8,\"symbol\":\"circle\",\"size\":8},\"mode\":\"markers\",\"name\":\"Mercedes \",\"orientation\":\"v\",\"showlegend\":true,\"x\":[\"440\",\"440\",\"290\"],\"xaxis\":\"x\",\"y\":[370,350,330],\"yaxis\":\"y\",\"type\":\"scatter\"},{\"customdata\":[[\"Leaf \"],[\"Leaf e+\"],[\"Ariya 87kWh\"],[\"e-NV200 Evalia \"],[\"Ariya e-4ORCE 87kWh\"],[\"Ariya 63kWh\"],[\"Ariya e-4ORCE 63kWh\"],[\"Ariya e-4ORCE 87kWh Performance\"]],\"hovertemplate\":\"Brand=Nissan <br>Fast Charging (Km/H)=%{x}<br>Range (Km)=%{y}<br>Model=%{customdata[0]}<extra></extra>\",\"legendgroup\":\"Nissan \",\"marker\":{\"color\":\"#E76BF3\",\"opacity\":0.8,\"symbol\":\"circle\",\"size\":8},\"mode\":\"markers\",\"name\":\"Nissan \",\"orientation\":\"v\",\"showlegend\":true,\"x\":[\"230\",\"390\",\"520\",\"190\",\"500\",\"440\",\"440\",\"450\"],\"xaxis\":\"x\",\"y\":[220,325,440,190,420,330,325,375],\"yaxis\":\"y\",\"type\":\"scatter\"},{\"customdata\":[[\"Kona Electric 64 kWh\"],[\"IONIQ Electric\"],[\"Kona Electric 39 kWh\"]],\"hovertemplate\":\"Brand=Hyundai <br>Fast Charging (Km/H)=%{x}<br>Range (Km)=%{y}<br>Model=%{customdata[0]}<extra></extra>\",\"legendgroup\":\"Hyundai \",\"marker\":{\"color\":\"#F8766D\",\"opacity\":0.8,\"symbol\":\"circle\",\"size\":8},\"mode\":\"markers\",\"name\":\"Hyundai \",\"orientation\":\"v\",\"showlegend\":true,\"x\":[\"380\",\"210\",\"210\"],\"xaxis\":\"x\",\"y\":[400,250,255],\"yaxis\":\"y\",\"type\":\"scatter\"},{\"customdata\":[[\"Taycan Turbo S\"],[\"Taycan 4S\"],[\"Taycan 4S Plus\"],[\"Taycan Cross Turismo \"],[\"Taycan Turbo\"]],\"hovertemplate\":\"Brand=Porsche <br>Fast Charging (Km/H)=%{x}<br>Range (Km)=%{y}<br>Model=%{customdata[0]}<extra></extra>\",\"legendgroup\":\"Porsche \",\"marker\":{\"color\":\"#A3A500\",\"opacity\":0.8,\"symbol\":\"circle\",\"size\":8},\"mode\":\"markers\",\"name\":\"Porsche \",\"orientation\":\"v\",\"showlegend\":true,\"x\":[\"780\",\"730\",\"890\",\"770\",\"810\"],\"xaxis\":\"x\",\"y\":[375,365,425,385,390],\"yaxis\":\"y\",\"type\":\"scatter\"},{\"customdata\":[[\"ZS EV\"]],\"hovertemplate\":\"Brand=MG <br>Fast Charging (Km/H)=%{x}<br>Range (Km)=%{y}<br>Model=%{customdata[0]}<extra></extra>\",\"legendgroup\":\"MG \",\"marker\":{\"color\":\"#00BF7D\",\"opacity\":0.8,\"symbol\":\"circle\",\"size\":8},\"mode\":\"markers\",\"name\":\"MG \",\"orientation\":\"v\",\"showlegend\":true,\"x\":[\"260\"],\"xaxis\":\"x\",\"y\":[220],\"yaxis\":\"y\",\"type\":\"scatter\"},{\"customdata\":[[\"Cooper SE \"]],\"hovertemplate\":\"Brand=Mini <br>Fast Charging (Km/H)=%{x}<br>Range (Km)=%{y}<br>Model=%{customdata[0]}<extra></extra>\",\"legendgroup\":\"Mini \",\"marker\":{\"color\":\"#00B0F6\",\"opacity\":0.8,\"symbol\":\"circle\",\"size\":8},\"mode\":\"markers\",\"name\":\"Mini \",\"orientation\":\"v\",\"showlegend\":true,\"x\":[\"260\"],\"xaxis\":\"x\",\"y\":[185],\"yaxis\":\"y\",\"type\":\"scatter\"},{\"customdata\":[[\"Corsa-e \"],[\"Ampera-e \"],[\"Mokka-e \"]],\"hovertemplate\":\"Brand=Opel <br>Fast Charging (Km/H)=%{x}<br>Range (Km)=%{y}<br>Model=%{customdata[0]}<extra></extra>\",\"legendgroup\":\"Opel \",\"marker\":{\"color\":\"#E76BF3\",\"opacity\":0.8,\"symbol\":\"circle\",\"size\":8},\"mode\":\"markers\",\"name\":\"Opel \",\"orientation\":\"v\",\"showlegend\":true,\"x\":[\"420\",\"210\",\"390\"],\"xaxis\":\"x\",\"y\":[275,335,255],\"yaxis\":\"y\",\"type\":\"scatter\"},{\"customdata\":[[\"Enyaq iV 50\"],[\"CITIGOe iV \"],[\"Enyaq iV 80\"],[\"Enyaq iV 80X\"],[\"Enyaq iV vRS\"],[\"Enyaq iV 60\"]],\"hovertemplate\":\"Brand=Skoda <br>Fast Charging (Km/H)=%{x}<br>Range (Km)=%{y}<br>Model=%{customdata[0]}<extra></extra>\",\"legendgroup\":\"Skoda \",\"marker\":{\"color\":\"#F8766D\",\"opacity\":0.8,\"symbol\":\"circle\",\"size\":8},\"mode\":\"markers\",\"name\":\"Skoda \",\"orientation\":\"v\",\"showlegend\":true,\"x\":[\"230\",\"170\",\"560\",\"540\",\"540\",\"440\"],\"xaxis\":\"x\",\"y\":[290,195,420,400,400,320],\"yaxis\":\"y\",\"type\":\"scatter\"},{\"customdata\":[[\"XC40 P8 AWD Recharge\"]],\"hovertemplate\":\"Brand=Volvo <br>Fast Charging (Km/H)=%{x}<br>Range (Km)=%{y}<br>Model=%{customdata[0]}<extra></extra>\",\"legendgroup\":\"Volvo \",\"marker\":{\"color\":\"#A3A500\",\"opacity\":0.8,\"symbol\":\"circle\",\"size\":8},\"mode\":\"markers\",\"name\":\"Volvo \",\"orientation\":\"v\",\"showlegend\":true,\"x\":[\"470\"],\"xaxis\":\"x\",\"y\":[375],\"yaxis\":\"y\",\"type\":\"scatter\"},{\"customdata\":[[\"e-Niro 64 kWh\"],[\"e-Soul 64 kWh\"],[\"e-Niro 39 kWh\"],[\"e-Soul 64 kWh\"],[\"e-Soul 39 kWh\"]],\"hovertemplate\":\"Brand=Kia <br>Fast Charging (Km/H)=%{x}<br>Range (Km)=%{y}<br>Model=%{customdata[0]}<extra></extra>\",\"legendgroup\":\"Kia \",\"marker\":{\"color\":\"#00BF7D\",\"opacity\":0.8,\"symbol\":\"circle\",\"size\":8},\"mode\":\"markers\",\"name\":\"Kia \",\"orientation\":\"v\",\"showlegend\":true,\"x\":[\"350\",\"340\",\"230\",\"320\",\"220\"],\"xaxis\":\"x\",\"y\":[370,365,235,365,230],\"yaxis\":\"y\",\"type\":\"scatter\"},{\"customdata\":[[\"Zoe ZE50 R110\"],[\"Zoe ZE50 R135\"],[\"Twingo ZE\"],[\"Zoe ZE40 R110\"],[\"Kangoo Maxi ZE 33\"]],\"hovertemplate\":\"Brand=Renault <br>Fast Charging (Km/H)=%{x}<br>Range (Km)=%{y}<br>Model=%{customdata[0]}<extra></extra>\",\"legendgroup\":\"Renault \",\"marker\":{\"color\":\"#00B0F6\",\"opacity\":0.8,\"symbol\":\"circle\",\"size\":8},\"mode\":\"markers\",\"name\":\"Renault \",\"orientation\":\"v\",\"showlegend\":true,\"x\":[\"230\",\"230\",\"-\",\"230\",\"-\"],\"xaxis\":\"x\",\"y\":[315,310,130,255,160],\"yaxis\":\"y\",\"type\":\"scatter\"},{\"customdata\":[[\"MX-30 \"]],\"hovertemplate\":\"Brand=Mazda <br>Fast Charging (Km/H)=%{x}<br>Range (Km)=%{y}<br>Model=%{customdata[0]}<extra></extra>\",\"legendgroup\":\"Mazda \",\"marker\":{\"color\":\"#E76BF3\",\"opacity\":0.8,\"symbol\":\"circle\",\"size\":8},\"mode\":\"markers\",\"name\":\"Mazda \",\"orientation\":\"v\",\"showlegend\":true,\"x\":[\"240\"],\"xaxis\":\"x\",\"y\":[180],\"yaxis\":\"y\",\"type\":\"scatter\"},{\"customdata\":[[\"UX 300e\"]],\"hovertemplate\":\"Brand=Lexus <br>Fast Charging (Km/H)=%{x}<br>Range (Km)=%{y}<br>Model=%{customdata[0]}<extra></extra>\",\"legendgroup\":\"Lexus \",\"marker\":{\"color\":\"#F8766D\",\"opacity\":0.8,\"symbol\":\"circle\",\"size\":8},\"mode\":\"markers\",\"name\":\"Lexus \",\"orientation\":\"v\",\"showlegend\":true,\"x\":[\"190\"],\"xaxis\":\"x\",\"y\":[270],\"yaxis\":\"y\",\"type\":\"scatter\"},{\"customdata\":[[\"el-Born \"]],\"hovertemplate\":\"Brand=CUPRA <br>Fast Charging (Km/H)=%{x}<br>Range (Km)=%{y}<br>Model=%{customdata[0]}<extra></extra>\",\"legendgroup\":\"CUPRA \",\"marker\":{\"color\":\"#A3A500\",\"opacity\":0.8,\"symbol\":\"circle\",\"size\":8},\"mode\":\"markers\",\"name\":\"CUPRA \",\"orientation\":\"v\",\"showlegend\":true,\"x\":[\"570\"],\"xaxis\":\"x\",\"y\":[425],\"yaxis\":\"y\",\"type\":\"scatter\"},{\"customdata\":[[\"Mii Electric \"]],\"hovertemplate\":\"Brand=SEAT <br>Fast Charging (Km/H)=%{x}<br>Range (Km)=%{y}<br>Model=%{customdata[0]}<extra></extra>\",\"legendgroup\":\"SEAT \",\"marker\":{\"color\":\"#00BF7D\",\"opacity\":0.8,\"symbol\":\"circle\",\"size\":8},\"mode\":\"markers\",\"name\":\"SEAT \",\"orientation\":\"v\",\"showlegend\":true,\"x\":[\"170\"],\"xaxis\":\"x\",\"y\":[195],\"yaxis\":\"y\",\"type\":\"scatter\"},{\"customdata\":[[\"One \"]],\"hovertemplate\":\"Brand=Lightyear <br>Fast Charging (Km/H)=%{x}<br>Range (Km)=%{y}<br>Model=%{customdata[0]}<extra></extra>\",\"legendgroup\":\"Lightyear \",\"marker\":{\"color\":\"#00B0F6\",\"opacity\":0.8,\"symbol\":\"circle\",\"size\":8},\"mode\":\"markers\",\"name\":\"Lightyear \",\"orientation\":\"v\",\"showlegend\":true,\"x\":[\"540\"],\"xaxis\":\"x\",\"y\":[575],\"yaxis\":\"y\",\"type\":\"scatter\"},{\"customdata\":[[\"U5 \"]],\"hovertemplate\":\"Brand=Aiways <br>Fast Charging (Km/H)=%{x}<br>Range (Km)=%{y}<br>Model=%{customdata[0]}<extra></extra>\",\"legendgroup\":\"Aiways \",\"marker\":{\"color\":\"#E76BF3\",\"opacity\":0.8,\"symbol\":\"circle\",\"size\":8},\"mode\":\"markers\",\"name\":\"Aiways \",\"orientation\":\"v\",\"showlegend\":true,\"x\":[\"350\"],\"xaxis\":\"x\",\"y\":[335],\"yaxis\":\"y\",\"type\":\"scatter\"},{\"customdata\":[[\"3 Crossback E-Tense\"]],\"hovertemplate\":\"Brand=DS <br>Fast Charging (Km/H)=%{x}<br>Range (Km)=%{y}<br>Model=%{customdata[0]}<extra></extra>\",\"legendgroup\":\"DS \",\"marker\":{\"color\":\"#F8766D\",\"opacity\":0.8,\"symbol\":\"circle\",\"size\":8},\"mode\":\"markers\",\"name\":\"DS \",\"orientation\":\"v\",\"showlegend\":true,\"x\":[\"380\"],\"xaxis\":\"x\",\"y\":[250],\"yaxis\":\"y\",\"type\":\"scatter\"},{\"customdata\":[[\"e-C4 \"]],\"hovertemplate\":\"Brand=Citroen <br>Fast Charging (Km/H)=%{x}<br>Range (Km)=%{y}<br>Model=%{customdata[0]}<extra></extra>\",\"legendgroup\":\"Citroen \",\"marker\":{\"color\":\"#A3A500\",\"opacity\":0.8,\"symbol\":\"circle\",\"size\":8},\"mode\":\"markers\",\"name\":\"Citroen \",\"orientation\":\"v\",\"showlegend\":true,\"x\":[\"380\"],\"xaxis\":\"x\",\"y\":[250],\"yaxis\":\"y\",\"type\":\"scatter\"},{\"customdata\":[[\"I-Pace \"]],\"hovertemplate\":\"Brand=Jaguar <br>Fast Charging (Km/H)=%{x}<br>Range (Km)=%{y}<br>Model=%{customdata[0]}<extra></extra>\",\"legendgroup\":\"Jaguar \",\"marker\":{\"color\":\"#00BF7D\",\"opacity\":0.8,\"symbol\":\"circle\",\"size\":8},\"mode\":\"markers\",\"name\":\"Jaguar \",\"orientation\":\"v\",\"showlegend\":true,\"x\":[\"340\"],\"xaxis\":\"x\",\"y\":[365],\"yaxis\":\"y\",\"type\":\"scatter\"},{\"customdata\":[[\"Mustang Mach-E ER RWD\"],[\"Mustang Mach-E ER AWD\"],[\"Mustang Mach-E SR AWD\"],[\"Mustang Mach-E SR RWD\"]],\"hovertemplate\":\"Brand=Ford <br>Fast Charging (Km/H)=%{x}<br>Range (Km)=%{y}<br>Model=%{customdata[0]}<extra></extra>\",\"legendgroup\":\"Ford \",\"marker\":{\"color\":\"#00B0F6\",\"opacity\":0.8,\"symbol\":\"circle\",\"size\":8},\"mode\":\"markers\",\"name\":\"Ford \",\"orientation\":\"v\",\"showlegend\":true,\"x\":[\"430\",\"410\",\"360\",\"380\"],\"xaxis\":\"x\",\"y\":[450,430,340,360],\"yaxis\":\"y\",\"type\":\"scatter\"},{\"customdata\":[[\"M-Byte 95 kWh 4WD\"],[\"M-Byte 72 kWh 2WD\"],[\"M-Byte 95 kWh 2WD\"]],\"hovertemplate\":\"Brand=Byton <br>Fast Charging (Km/H)=%{x}<br>Range (Km)=%{y}<br>Model=%{customdata[0]}<extra></extra>\",\"legendgroup\":\"Byton \",\"marker\":{\"color\":\"#E76BF3\",\"opacity\":0.8,\"symbol\":\"circle\",\"size\":8},\"mode\":\"markers\",\"name\":\"Byton \",\"orientation\":\"v\",\"showlegend\":true,\"x\":[\"460\",\"420\",\"480\"],\"xaxis\":\"x\",\"y\":[390,325,400],\"yaxis\":\"y\",\"type\":\"scatter\"},{\"customdata\":[[\"Sion \"]],\"hovertemplate\":\"Brand=Sono <br>Fast Charging (Km/H)=%{x}<br>Range (Km)=%{y}<br>Model=%{customdata[0]}<extra></extra>\",\"legendgroup\":\"Sono \",\"marker\":{\"color\":\"#F8766D\",\"opacity\":0.8,\"symbol\":\"circle\",\"size\":8},\"mode\":\"markers\",\"name\":\"Sono \",\"orientation\":\"v\",\"showlegend\":true,\"x\":[\"270\"],\"xaxis\":\"x\",\"y\":[225],\"yaxis\":\"y\",\"type\":\"scatter\"},{\"customdata\":[[\"EQ forfour \"],[\"EQ fortwo coupe\"],[\"EQ fortwo cabrio\"]],\"hovertemplate\":\"Brand=Smart <br>Fast Charging (Km/H)=%{x}<br>Range (Km)=%{y}<br>Model=%{customdata[0]}<extra></extra>\",\"legendgroup\":\"Smart \",\"marker\":{\"color\":\"#A3A500\",\"opacity\":0.8,\"symbol\":\"circle\",\"size\":8},\"mode\":\"markers\",\"name\":\"Smart \",\"orientation\":\"v\",\"showlegend\":true,\"x\":[\"-\",\"-\",\"-\"],\"xaxis\":\"x\",\"y\":[95,100,95],\"yaxis\":\"y\",\"type\":\"scatter\"},{\"customdata\":[[\"500e Hatchback\"],[\"500e Convertible\"]],\"hovertemplate\":\"Brand=Fiat <br>Fast Charging (Km/H)=%{x}<br>Range (Km)=%{y}<br>Model=%{customdata[0]}<extra></extra>\",\"legendgroup\":\"Fiat \",\"marker\":{\"color\":\"#00BF7D\",\"opacity\":0.8,\"symbol\":\"circle\",\"size\":8},\"mode\":\"markers\",\"name\":\"Fiat \",\"orientation\":\"v\",\"showlegend\":true,\"x\":[\"330\",\"330\"],\"xaxis\":\"x\",\"y\":[250,250],\"yaxis\":\"y\",\"type\":\"scatter\"}],                        {\"template\":{\"data\":{\"barpolar\":[{\"marker\":{\"line\":{\"color\":\"rgb(237,237,237)\",\"width\":0.5},\"pattern\":{\"fillmode\":\"overlay\",\"size\":10,\"solidity\":0.2}},\"type\":\"barpolar\"}],\"bar\":[{\"error_x\":{\"color\":\"rgb(51,51,51)\"},\"error_y\":{\"color\":\"rgb(51,51,51)\"},\"marker\":{\"line\":{\"color\":\"rgb(237,237,237)\",\"width\":0.5},\"pattern\":{\"fillmode\":\"overlay\",\"size\":10,\"solidity\":0.2}},\"type\":\"bar\"}],\"carpet\":[{\"aaxis\":{\"endlinecolor\":\"rgb(51,51,51)\",\"gridcolor\":\"white\",\"linecolor\":\"white\",\"minorgridcolor\":\"white\",\"startlinecolor\":\"rgb(51,51,51)\"},\"baxis\":{\"endlinecolor\":\"rgb(51,51,51)\",\"gridcolor\":\"white\",\"linecolor\":\"white\",\"minorgridcolor\":\"white\",\"startlinecolor\":\"rgb(51,51,51)\"},\"type\":\"carpet\"}],\"choropleth\":[{\"colorbar\":{\"outlinewidth\":0,\"tickcolor\":\"rgb(237,237,237)\",\"ticklen\":6,\"ticks\":\"inside\"},\"type\":\"choropleth\"}],\"contourcarpet\":[{\"colorbar\":{\"outlinewidth\":0,\"tickcolor\":\"rgb(237,237,237)\",\"ticklen\":6,\"ticks\":\"inside\"},\"type\":\"contourcarpet\"}],\"contour\":[{\"colorbar\":{\"outlinewidth\":0,\"tickcolor\":\"rgb(237,237,237)\",\"ticklen\":6,\"ticks\":\"inside\"},\"colorscale\":[[0,\"rgb(20,44,66)\"],[1,\"rgb(90,179,244)\"]],\"type\":\"contour\"}],\"heatmapgl\":[{\"colorbar\":{\"outlinewidth\":0,\"tickcolor\":\"rgb(237,237,237)\",\"ticklen\":6,\"ticks\":\"inside\"},\"colorscale\":[[0,\"rgb(20,44,66)\"],[1,\"rgb(90,179,244)\"]],\"type\":\"heatmapgl\"}],\"heatmap\":[{\"colorbar\":{\"outlinewidth\":0,\"tickcolor\":\"rgb(237,237,237)\",\"ticklen\":6,\"ticks\":\"inside\"},\"colorscale\":[[0,\"rgb(20,44,66)\"],[1,\"rgb(90,179,244)\"]],\"type\":\"heatmap\"}],\"histogram2dcontour\":[{\"colorbar\":{\"outlinewidth\":0,\"tickcolor\":\"rgb(237,237,237)\",\"ticklen\":6,\"ticks\":\"inside\"},\"colorscale\":[[0,\"rgb(20,44,66)\"],[1,\"rgb(90,179,244)\"]],\"type\":\"histogram2dcontour\"}],\"histogram2d\":[{\"colorbar\":{\"outlinewidth\":0,\"tickcolor\":\"rgb(237,237,237)\",\"ticklen\":6,\"ticks\":\"inside\"},\"colorscale\":[[0,\"rgb(20,44,66)\"],[1,\"rgb(90,179,244)\"]],\"type\":\"histogram2d\"}],\"histogram\":[{\"marker\":{\"pattern\":{\"fillmode\":\"overlay\",\"size\":10,\"solidity\":0.2}},\"type\":\"histogram\"}],\"mesh3d\":[{\"colorbar\":{\"outlinewidth\":0,\"tickcolor\":\"rgb(237,237,237)\",\"ticklen\":6,\"ticks\":\"inside\"},\"type\":\"mesh3d\"}],\"parcoords\":[{\"line\":{\"colorbar\":{\"outlinewidth\":0,\"tickcolor\":\"rgb(237,237,237)\",\"ticklen\":6,\"ticks\":\"inside\"}},\"type\":\"parcoords\"}],\"pie\":[{\"automargin\":true,\"type\":\"pie\"}],\"scatter3d\":[{\"line\":{\"colorbar\":{\"outlinewidth\":0,\"tickcolor\":\"rgb(237,237,237)\",\"ticklen\":6,\"ticks\":\"inside\"}},\"marker\":{\"colorbar\":{\"outlinewidth\":0,\"tickcolor\":\"rgb(237,237,237)\",\"ticklen\":6,\"ticks\":\"inside\"}},\"type\":\"scatter3d\"}],\"scattercarpet\":[{\"marker\":{\"colorbar\":{\"outlinewidth\":0,\"tickcolor\":\"rgb(237,237,237)\",\"ticklen\":6,\"ticks\":\"inside\"}},\"type\":\"scattercarpet\"}],\"scattergeo\":[{\"marker\":{\"colorbar\":{\"outlinewidth\":0,\"tickcolor\":\"rgb(237,237,237)\",\"ticklen\":6,\"ticks\":\"inside\"}},\"type\":\"scattergeo\"}],\"scattergl\":[{\"marker\":{\"colorbar\":{\"outlinewidth\":0,\"tickcolor\":\"rgb(237,237,237)\",\"ticklen\":6,\"ticks\":\"inside\"}},\"type\":\"scattergl\"}],\"scattermapbox\":[{\"marker\":{\"colorbar\":{\"outlinewidth\":0,\"tickcolor\":\"rgb(237,237,237)\",\"ticklen\":6,\"ticks\":\"inside\"}},\"type\":\"scattermapbox\"}],\"scatterpolargl\":[{\"marker\":{\"colorbar\":{\"outlinewidth\":0,\"tickcolor\":\"rgb(237,237,237)\",\"ticklen\":6,\"ticks\":\"inside\"}},\"type\":\"scatterpolargl\"}],\"scatterpolar\":[{\"marker\":{\"colorbar\":{\"outlinewidth\":0,\"tickcolor\":\"rgb(237,237,237)\",\"ticklen\":6,\"ticks\":\"inside\"}},\"type\":\"scatterpolar\"}],\"scatter\":[{\"marker\":{\"colorbar\":{\"outlinewidth\":0,\"tickcolor\":\"rgb(237,237,237)\",\"ticklen\":6,\"ticks\":\"inside\"}},\"type\":\"scatter\"}],\"scatterternary\":[{\"marker\":{\"colorbar\":{\"outlinewidth\":0,\"tickcolor\":\"rgb(237,237,237)\",\"ticklen\":6,\"ticks\":\"inside\"}},\"type\":\"scatterternary\"}],\"surface\":[{\"colorbar\":{\"outlinewidth\":0,\"tickcolor\":\"rgb(237,237,237)\",\"ticklen\":6,\"ticks\":\"inside\"},\"colorscale\":[[0,\"rgb(20,44,66)\"],[1,\"rgb(90,179,244)\"]],\"type\":\"surface\"}],\"table\":[{\"cells\":{\"fill\":{\"color\":\"rgb(237,237,237)\"},\"line\":{\"color\":\"white\"}},\"header\":{\"fill\":{\"color\":\"rgb(217,217,217)\"},\"line\":{\"color\":\"white\"}},\"type\":\"table\"}]},\"layout\":{\"annotationdefaults\":{\"arrowhead\":0,\"arrowwidth\":1},\"autotypenumbers\":\"strict\",\"coloraxis\":{\"colorbar\":{\"outlinewidth\":0,\"tickcolor\":\"rgb(237,237,237)\",\"ticklen\":6,\"ticks\":\"inside\"}},\"colorscale\":{\"sequential\":[[0,\"rgb(20,44,66)\"],[1,\"rgb(90,179,244)\"]],\"sequentialminus\":[[0,\"rgb(20,44,66)\"],[1,\"rgb(90,179,244)\"]]},\"colorway\":[\"#F8766D\",\"#A3A500\",\"#00BF7D\",\"#00B0F6\",\"#E76BF3\"],\"font\":{\"color\":\"rgb(51,51,51)\"},\"geo\":{\"bgcolor\":\"white\",\"lakecolor\":\"white\",\"landcolor\":\"rgb(237,237,237)\",\"showlakes\":true,\"showland\":true,\"subunitcolor\":\"white\"},\"hoverlabel\":{\"align\":\"left\"},\"hovermode\":\"closest\",\"paper_bgcolor\":\"white\",\"plot_bgcolor\":\"rgb(237,237,237)\",\"polar\":{\"angularaxis\":{\"gridcolor\":\"white\",\"linecolor\":\"white\",\"showgrid\":true,\"tickcolor\":\"rgb(51,51,51)\",\"ticks\":\"outside\"},\"bgcolor\":\"rgb(237,237,237)\",\"radialaxis\":{\"gridcolor\":\"white\",\"linecolor\":\"white\",\"showgrid\":true,\"tickcolor\":\"rgb(51,51,51)\",\"ticks\":\"outside\"}},\"scene\":{\"xaxis\":{\"backgroundcolor\":\"rgb(237,237,237)\",\"gridcolor\":\"white\",\"gridwidth\":2,\"linecolor\":\"white\",\"showbackground\":true,\"showgrid\":true,\"tickcolor\":\"rgb(51,51,51)\",\"ticks\":\"outside\",\"zerolinecolor\":\"white\"},\"yaxis\":{\"backgroundcolor\":\"rgb(237,237,237)\",\"gridcolor\":\"white\",\"gridwidth\":2,\"linecolor\":\"white\",\"showbackground\":true,\"showgrid\":true,\"tickcolor\":\"rgb(51,51,51)\",\"ticks\":\"outside\",\"zerolinecolor\":\"white\"},\"zaxis\":{\"backgroundcolor\":\"rgb(237,237,237)\",\"gridcolor\":\"white\",\"gridwidth\":2,\"linecolor\":\"white\",\"showbackground\":true,\"showgrid\":true,\"tickcolor\":\"rgb(51,51,51)\",\"ticks\":\"outside\",\"zerolinecolor\":\"white\"}},\"shapedefaults\":{\"fillcolor\":\"black\",\"line\":{\"width\":0},\"opacity\":0.3},\"ternary\":{\"aaxis\":{\"gridcolor\":\"white\",\"linecolor\":\"white\",\"showgrid\":true,\"tickcolor\":\"rgb(51,51,51)\",\"ticks\":\"outside\"},\"baxis\":{\"gridcolor\":\"white\",\"linecolor\":\"white\",\"showgrid\":true,\"tickcolor\":\"rgb(51,51,51)\",\"ticks\":\"outside\"},\"bgcolor\":\"rgb(237,237,237)\",\"caxis\":{\"gridcolor\":\"white\",\"linecolor\":\"white\",\"showgrid\":true,\"tickcolor\":\"rgb(51,51,51)\",\"ticks\":\"outside\"}},\"xaxis\":{\"automargin\":true,\"gridcolor\":\"white\",\"linecolor\":\"white\",\"showgrid\":true,\"tickcolor\":\"rgb(51,51,51)\",\"ticks\":\"outside\",\"title\":{\"standoff\":15},\"zerolinecolor\":\"white\"},\"yaxis\":{\"automargin\":true,\"gridcolor\":\"white\",\"linecolor\":\"white\",\"showgrid\":true,\"tickcolor\":\"rgb(51,51,51)\",\"ticks\":\"outside\",\"title\":{\"standoff\":15},\"zerolinecolor\":\"white\"}}},\"xaxis\":{\"anchor\":\"y\",\"domain\":[0.0,1.0],\"title\":{\"text\":\"Fast Charging (Km/H)\"}},\"yaxis\":{\"anchor\":\"x\",\"domain\":[0.0,1.0],\"title\":{\"text\":\"Range (Km)\"}},\"legend\":{\"title\":{\"text\":\"Brand\"},\"tracegroupgap\":0},\"title\":{\"text\":\"Range and Fast Charging\"},\"height\":650,\"width\":900},                        {\"responsive\": true}                    ).then(function(){\n",
       "                            \n",
       "var gd = document.getElementById('e111664c-223a-4681-b846-d90dea888623');\n",
       "var x = new MutationObserver(function (mutations, observer) {{\n",
       "        var display = window.getComputedStyle(gd).display;\n",
       "        if (!display || display === 'none') {{\n",
       "            console.log([gd, 'removed!']);\n",
       "            Plotly.purge(gd);\n",
       "            observer.disconnect();\n",
       "        }}\n",
       "}});\n",
       "\n",
       "// Listen for the removal of the full notebook cells\n",
       "var notebookContainer = gd.closest('#notebook-container');\n",
       "if (notebookContainer) {{\n",
       "    x.observe(notebookContainer, {childList: true});\n",
       "}}\n",
       "\n",
       "// Listen for the clearing of the current output cell\n",
       "var outputEl = gd.closest('.output');\n",
       "if (outputEl) {{\n",
       "    x.observe(outputEl, {childList: true});\n",
       "}}\n",
       "\n",
       "                        })                };                });            </script>        </div>"
      ]
     },
     "metadata": {},
     "output_type": "display_data"
    }
   ],
   "source": [
    "fig = ex.scatter(EV, x = 'FastCharge_KmH', y = 'Range_Km', color = 'Brand', hover_data=['Model'] ,\n",
    "           opacity=0.8 , title='Range and Fast Charging' , height=650 , width=900 , template='ggplot2' ,\n",
    "                labels=dict(Range_Km='Range (Km)', FastCharge_KmH='Fast Charging (Km/H)'))\n",
    "\n",
    "fig.update_traces(marker={'size': 8}) # adjusting the markers size\n",
    "fig.show()"
   ]
  },
  {
   "cell_type": "markdown",
   "id": "dcd263c1",
   "metadata": {},
   "source": [
    "We can see here that in general, Tesla and Porscha cars have the best charging rates ranging between 700-970 Km/H, with Tesla topping in the range with some of their cars that can go over 500 Km with a full battery."
   ]
  },
  {
   "cell_type": "markdown",
   "id": "a0265928",
   "metadata": {},
   "source": [
    "### Price and Range"
   ]
  },
  {
   "cell_type": "code",
   "execution_count": 370,
   "id": "3316f835",
   "metadata": {},
   "outputs": [
    {
     "data": {
      "application/vnd.plotly.v1+json": {
       "config": {
        "plotlyServerURL": "https://plot.ly"
       },
       "data": [
        {
         "alignmentgroup": "True",
         "bingroup": "x",
         "histfunc": "avg",
         "hovertemplate": "Brand=Tesla <br>Range (Km)=%{x}<br>avg of Price (€)=%{y}<extra></extra>",
         "legendgroup": "Tesla ",
         "marker": {
          "color": "#F8766D",
          "pattern": {
           "shape": ""
          }
         },
         "name": "Tesla ",
         "nbinsx": 10,
         "offsetgroup": "Tesla ",
         "orientation": "v",
         "showlegend": true,
         "type": "histogram",
         "x": [
          450,
          310,
          425,
          435,
          750,
          515,
          970,
          450,
          505,
          410,
          460,
          440,
          390
         ],
         "xaxis": "x",
         "y": [
          55480,
          46380,
          58620,
          61480,
          75000,
          79990,
          215000,
          85990,
          96990,
          65620,
          55000,
          102990,
          45000
         ],
         "yaxis": "y"
        },
        {
         "alignmentgroup": "True",
         "bingroup": "x",
         "histfunc": "avg",
         "hovertemplate": "Brand=Volkswagen <br>Range (Km)=%{x}<br>avg of Price (€)=%{y}<extra></extra>",
         "legendgroup": "Volkswagen ",
         "marker": {
          "color": "#A3A500",
          "pattern": {
           "shape": ""
          }
         },
         "name": "Volkswagen ",
         "nbinsx": 10,
         "offsetgroup": "Volkswagen ",
         "orientation": "v",
         "showlegend": true,
         "type": "histogram",
         "x": [
          270,
          190,
          440,
          195,
          420,
          350,
          340,
          340
         ],
         "xaxis": "x",
         "y": [
          30000,
          31900,
          40936,
          21421,
          45000,
          33000,
          38987,
          35575
         ],
         "yaxis": "y"
        },
        {
         "alignmentgroup": "True",
         "bingroup": "x",
         "histfunc": "avg",
         "hovertemplate": "Brand=Polestar <br>Range (Km)=%{x}<br>avg of Price (€)=%{y}<extra></extra>",
         "legendgroup": "Polestar ",
         "marker": {
          "color": "#00BF7D",
          "pattern": {
           "shape": ""
          }
         },
         "name": "Polestar ",
         "nbinsx": 10,
         "offsetgroup": "Polestar ",
         "orientation": "v",
         "showlegend": true,
         "type": "histogram",
         "x": [
          400
         ],
         "xaxis": "x",
         "y": [
          56440
         ],
         "yaxis": "y"
        },
        {
         "alignmentgroup": "True",
         "bingroup": "x",
         "histfunc": "avg",
         "hovertemplate": "Brand=BMW <br>Range (Km)=%{x}<br>avg of Price (€)=%{y}<extra></extra>",
         "legendgroup": "BMW ",
         "marker": {
          "color": "#00B0F6",
          "pattern": {
           "shape": ""
          }
         },
         "name": "BMW ",
         "nbinsx": 10,
         "offsetgroup": "BMW ",
         "orientation": "v",
         "showlegend": true,
         "type": "histogram",
         "x": [
          360,
          450,
          235,
          230
         ],
         "xaxis": "x",
         "y": [
          68040,
          65000,
          38017,
          41526
         ],
         "yaxis": "y"
        },
        {
         "alignmentgroup": "True",
         "bingroup": "x",
         "histfunc": "avg",
         "hovertemplate": "Brand=Honda <br>Range (Km)=%{x}<br>avg of Price (€)=%{y}<extra></extra>",
         "legendgroup": "Honda ",
         "marker": {
          "color": "#E76BF3",
          "pattern": {
           "shape": ""
          }
         },
         "name": "Honda ",
         "nbinsx": 10,
         "offsetgroup": "Honda ",
         "orientation": "v",
         "showlegend": true,
         "type": "histogram",
         "x": [
          170,
          170
         ],
         "xaxis": "x",
         "y": [
          32997,
          35921
         ],
         "yaxis": "y"
        },
        {
         "alignmentgroup": "True",
         "bingroup": "x",
         "histfunc": "avg",
         "hovertemplate": "Brand=Lucid <br>Range (Km)=%{x}<br>avg of Price (€)=%{y}<extra></extra>",
         "legendgroup": "Lucid ",
         "marker": {
          "color": "#F8766D",
          "pattern": {
           "shape": ""
          }
         },
         "name": "Lucid ",
         "nbinsx": 10,
         "offsetgroup": "Lucid ",
         "orientation": "v",
         "showlegend": true,
         "type": "histogram",
         "x": [
          610
         ],
         "xaxis": "x",
         "y": [
          105000
         ],
         "yaxis": "y"
        },
        {
         "alignmentgroup": "True",
         "bingroup": "x",
         "histfunc": "avg",
         "hovertemplate": "Brand=Peugeot <br>Range (Km)=%{x}<br>avg of Price (€)=%{y}<extra></extra>",
         "legendgroup": "Peugeot ",
         "marker": {
          "color": "#A3A500",
          "pattern": {
           "shape": ""
          }
         },
         "name": "Peugeot ",
         "nbinsx": 10,
         "offsetgroup": "Peugeot ",
         "orientation": "v",
         "showlegend": true,
         "type": "histogram",
         "x": [
          275,
          250
         ],
         "xaxis": "x",
         "y": [
          29682,
          34361
         ],
         "yaxis": "y"
        },
        {
         "alignmentgroup": "True",
         "bingroup": "x",
         "histfunc": "avg",
         "hovertemplate": "Brand=Audi <br>Range (Km)=%{x}<br>avg of Price (€)=%{y}<extra></extra>",
         "legendgroup": "Audi ",
         "marker": {
          "color": "#00BF7D",
          "pattern": {
           "shape": ""
          }
         },
         "name": "Audi ",
         "nbinsx": 10,
         "offsetgroup": "Audi ",
         "orientation": "v",
         "showlegend": true,
         "type": "histogram",
         "x": [
          400,
          425,
          280,
          380,
          365,
          410,
          295,
          320,
          335
         ],
         "xaxis": "x",
         "y": [
          55000,
          125000,
          67358,
          81639,
          79445,
          57500,
          69551,
          93800,
          96050
         ],
         "yaxis": "y"
        },
        {
         "alignmentgroup": "True",
         "bingroup": "x",
         "histfunc": "avg",
         "hovertemplate": "Brand=Mercedes <br>Range (Km)=%{x}<br>avg of Price (€)=%{y}<extra></extra>",
         "legendgroup": "Mercedes ",
         "marker": {
          "color": "#00B0F6",
          "pattern": {
           "shape": ""
          }
         },
         "name": "Mercedes ",
         "nbinsx": 10,
         "offsetgroup": "Mercedes ",
         "orientation": "v",
         "showlegend": true,
         "type": "histogram",
         "x": [
          370,
          350,
          330
         ],
         "xaxis": "x",
         "y": [
          69484,
          45000,
          70631
         ],
         "yaxis": "y"
        },
        {
         "alignmentgroup": "True",
         "bingroup": "x",
         "histfunc": "avg",
         "hovertemplate": "Brand=Nissan <br>Range (Km)=%{x}<br>avg of Price (€)=%{y}<extra></extra>",
         "legendgroup": "Nissan ",
         "marker": {
          "color": "#E76BF3",
          "pattern": {
           "shape": ""
          }
         },
         "name": "Nissan ",
         "nbinsx": 10,
         "offsetgroup": "Nissan ",
         "orientation": "v",
         "showlegend": true,
         "type": "histogram",
         "x": [
          220,
          325,
          440,
          190,
          420,
          330,
          325,
          375
         ],
         "xaxis": "x",
         "y": [
          29234,
          37237,
          50000,
          33246,
          57500,
          45000,
          50000,
          65000
         ],
         "yaxis": "y"
        },
        {
         "alignmentgroup": "True",
         "bingroup": "x",
         "histfunc": "avg",
         "hovertemplate": "Brand=Hyundai <br>Range (Km)=%{x}<br>avg of Price (€)=%{y}<extra></extra>",
         "legendgroup": "Hyundai ",
         "marker": {
          "color": "#F8766D",
          "pattern": {
           "shape": ""
          }
         },
         "name": "Hyundai ",
         "nbinsx": 10,
         "offsetgroup": "Hyundai ",
         "orientation": "v",
         "showlegend": true,
         "type": "histogram",
         "x": [
          400,
          250,
          255
         ],
         "xaxis": "x",
         "y": [
          40795,
          34459,
          33971
         ],
         "yaxis": "y"
        },
        {
         "alignmentgroup": "True",
         "bingroup": "x",
         "histfunc": "avg",
         "hovertemplate": "Brand=Porsche <br>Range (Km)=%{x}<br>avg of Price (€)=%{y}<extra></extra>",
         "legendgroup": "Porsche ",
         "marker": {
          "color": "#A3A500",
          "pattern": {
           "shape": ""
          }
         },
         "name": "Porsche ",
         "nbinsx": 10,
         "offsetgroup": "Porsche ",
         "orientation": "v",
         "showlegend": true,
         "type": "histogram",
         "x": [
          375,
          365,
          425,
          385,
          390
         ],
         "xaxis": "x",
         "y": [
          180781,
          102945,
          109302,
          150000,
          148301
         ],
         "yaxis": "y"
        },
        {
         "alignmentgroup": "True",
         "bingroup": "x",
         "histfunc": "avg",
         "hovertemplate": "Brand=MG <br>Range (Km)=%{x}<br>avg of Price (€)=%{y}<extra></extra>",
         "legendgroup": "MG ",
         "marker": {
          "color": "#00BF7D",
          "pattern": {
           "shape": ""
          }
         },
         "name": "MG ",
         "nbinsx": 10,
         "offsetgroup": "MG ",
         "orientation": "v",
         "showlegend": true,
         "type": "histogram",
         "x": [
          220
         ],
         "xaxis": "x",
         "y": [
          30000
         ],
         "yaxis": "y"
        },
        {
         "alignmentgroup": "True",
         "bingroup": "x",
         "histfunc": "avg",
         "hovertemplate": "Brand=Mini <br>Range (Km)=%{x}<br>avg of Price (€)=%{y}<extra></extra>",
         "legendgroup": "Mini ",
         "marker": {
          "color": "#00B0F6",
          "pattern": {
           "shape": ""
          }
         },
         "name": "Mini ",
         "nbinsx": 10,
         "offsetgroup": "Mini ",
         "orientation": "v",
         "showlegend": true,
         "type": "histogram",
         "x": [
          185
         ],
         "xaxis": "x",
         "y": [
          31681
         ],
         "yaxis": "y"
        },
        {
         "alignmentgroup": "True",
         "bingroup": "x",
         "histfunc": "avg",
         "hovertemplate": "Brand=Opel <br>Range (Km)=%{x}<br>avg of Price (€)=%{y}<extra></extra>",
         "legendgroup": "Opel ",
         "marker": {
          "color": "#E76BF3",
          "pattern": {
           "shape": ""
          }
         },
         "name": "Opel ",
         "nbinsx": 10,
         "offsetgroup": "Opel ",
         "orientation": "v",
         "showlegend": true,
         "type": "histogram",
         "x": [
          275,
          335,
          255
         ],
         "xaxis": "x",
         "y": [
          29146,
          41906,
          35000
         ],
         "yaxis": "y"
        },
        {
         "alignmentgroup": "True",
         "bingroup": "x",
         "histfunc": "avg",
         "hovertemplate": "Brand=Skoda <br>Range (Km)=%{x}<br>avg of Price (€)=%{y}<extra></extra>",
         "legendgroup": "Skoda ",
         "marker": {
          "color": "#F8766D",
          "pattern": {
           "shape": ""
          }
         },
         "name": "Skoda ",
         "nbinsx": 10,
         "offsetgroup": "Skoda ",
         "orientation": "v",
         "showlegend": true,
         "type": "histogram",
         "x": [
          290,
          195,
          420,
          400,
          400,
          320
         ],
         "xaxis": "x",
         "y": [
          35000,
          24534,
          40000,
          45000,
          47500,
          37500
         ],
         "yaxis": "y"
        },
        {
         "alignmentgroup": "True",
         "bingroup": "x",
         "histfunc": "avg",
         "hovertemplate": "Brand=Volvo <br>Range (Km)=%{x}<br>avg of Price (€)=%{y}<extra></extra>",
         "legendgroup": "Volvo ",
         "marker": {
          "color": "#A3A500",
          "pattern": {
           "shape": ""
          }
         },
         "name": "Volvo ",
         "nbinsx": 10,
         "offsetgroup": "Volvo ",
         "orientation": "v",
         "showlegend": true,
         "type": "histogram",
         "x": [
          375
         ],
         "xaxis": "x",
         "y": [
          60437
         ],
         "yaxis": "y"
        },
        {
         "alignmentgroup": "True",
         "bingroup": "x",
         "histfunc": "avg",
         "hovertemplate": "Brand=Kia <br>Range (Km)=%{x}<br>avg of Price (€)=%{y}<extra></extra>",
         "legendgroup": "Kia ",
         "marker": {
          "color": "#00BF7D",
          "pattern": {
           "shape": ""
          }
         },
         "name": "Kia ",
         "nbinsx": 10,
         "offsetgroup": "Kia ",
         "orientation": "v",
         "showlegend": true,
         "type": "histogram",
         "x": [
          370,
          365,
          235,
          365,
          230
         ],
         "xaxis": "x",
         "y": [
          38105,
          36837,
          34400,
          36837,
          33133
         ],
         "yaxis": "y"
        },
        {
         "alignmentgroup": "True",
         "bingroup": "x",
         "histfunc": "avg",
         "hovertemplate": "Brand=Renault <br>Range (Km)=%{x}<br>avg of Price (€)=%{y}<extra></extra>",
         "legendgroup": "Renault ",
         "marker": {
          "color": "#00B0F6",
          "pattern": {
           "shape": ""
          }
         },
         "name": "Renault ",
         "nbinsx": 10,
         "offsetgroup": "Renault ",
         "orientation": "v",
         "showlegend": true,
         "type": "histogram",
         "x": [
          315,
          310,
          130,
          255,
          160
         ],
         "xaxis": "x",
         "y": [
          31184,
          33133,
          24790,
          29234,
          38000
         ],
         "yaxis": "y"
        },
        {
         "alignmentgroup": "True",
         "bingroup": "x",
         "histfunc": "avg",
         "hovertemplate": "Brand=Mazda <br>Range (Km)=%{x}<br>avg of Price (€)=%{y}<extra></extra>",
         "legendgroup": "Mazda ",
         "marker": {
          "color": "#E76BF3",
          "pattern": {
           "shape": ""
          }
         },
         "name": "Mazda ",
         "nbinsx": 10,
         "offsetgroup": "Mazda ",
         "orientation": "v",
         "showlegend": true,
         "type": "histogram",
         "x": [
          180
         ],
         "xaxis": "x",
         "y": [
          32646
         ],
         "yaxis": "y"
        },
        {
         "alignmentgroup": "True",
         "bingroup": "x",
         "histfunc": "avg",
         "hovertemplate": "Brand=Lexus <br>Range (Km)=%{x}<br>avg of Price (€)=%{y}<extra></extra>",
         "legendgroup": "Lexus ",
         "marker": {
          "color": "#F8766D",
          "pattern": {
           "shape": ""
          }
         },
         "name": "Lexus ",
         "nbinsx": 10,
         "offsetgroup": "Lexus ",
         "orientation": "v",
         "showlegend": true,
         "type": "histogram",
         "x": [
          270
         ],
         "xaxis": "x",
         "y": [
          50000
         ],
         "yaxis": "y"
        },
        {
         "alignmentgroup": "True",
         "bingroup": "x",
         "histfunc": "avg",
         "hovertemplate": "Brand=CUPRA <br>Range (Km)=%{x}<br>avg of Price (€)=%{y}<extra></extra>",
         "legendgroup": "CUPRA ",
         "marker": {
          "color": "#A3A500",
          "pattern": {
           "shape": ""
          }
         },
         "name": "CUPRA ",
         "nbinsx": 10,
         "offsetgroup": "CUPRA ",
         "orientation": "v",
         "showlegend": true,
         "type": "histogram",
         "x": [
          425
         ],
         "xaxis": "x",
         "y": [
          45000
         ],
         "yaxis": "y"
        },
        {
         "alignmentgroup": "True",
         "bingroup": "x",
         "histfunc": "avg",
         "hovertemplate": "Brand=SEAT <br>Range (Km)=%{x}<br>avg of Price (€)=%{y}<extra></extra>",
         "legendgroup": "SEAT ",
         "marker": {
          "color": "#00BF7D",
          "pattern": {
           "shape": ""
          }
         },
         "name": "SEAT ",
         "nbinsx": 10,
         "offsetgroup": "SEAT ",
         "orientation": "v",
         "showlegend": true,
         "type": "histogram",
         "x": [
          195
         ],
         "xaxis": "x",
         "y": [
          20129
         ],
         "yaxis": "y"
        },
        {
         "alignmentgroup": "True",
         "bingroup": "x",
         "histfunc": "avg",
         "hovertemplate": "Brand=Lightyear <br>Range (Km)=%{x}<br>avg of Price (€)=%{y}<extra></extra>",
         "legendgroup": "Lightyear ",
         "marker": {
          "color": "#00B0F6",
          "pattern": {
           "shape": ""
          }
         },
         "name": "Lightyear ",
         "nbinsx": 10,
         "offsetgroup": "Lightyear ",
         "orientation": "v",
         "showlegend": true,
         "type": "histogram",
         "x": [
          575
         ],
         "xaxis": "x",
         "y": [
          149000
         ],
         "yaxis": "y"
        },
        {
         "alignmentgroup": "True",
         "bingroup": "x",
         "histfunc": "avg",
         "hovertemplate": "Brand=Aiways <br>Range (Km)=%{x}<br>avg of Price (€)=%{y}<extra></extra>",
         "legendgroup": "Aiways ",
         "marker": {
          "color": "#E76BF3",
          "pattern": {
           "shape": ""
          }
         },
         "name": "Aiways ",
         "nbinsx": 10,
         "offsetgroup": "Aiways ",
         "orientation": "v",
         "showlegend": true,
         "type": "histogram",
         "x": [
          335
         ],
         "xaxis": "x",
         "y": [
          36057
         ],
         "yaxis": "y"
        },
        {
         "alignmentgroup": "True",
         "bingroup": "x",
         "histfunc": "avg",
         "hovertemplate": "Brand=DS <br>Range (Km)=%{x}<br>avg of Price (€)=%{y}<extra></extra>",
         "legendgroup": "DS ",
         "marker": {
          "color": "#F8766D",
          "pattern": {
           "shape": ""
          }
         },
         "name": "DS ",
         "nbinsx": 10,
         "offsetgroup": "DS ",
         "orientation": "v",
         "showlegend": true,
         "type": "histogram",
         "x": [
          250
         ],
         "xaxis": "x",
         "y": [
          37422
         ],
         "yaxis": "y"
        },
        {
         "alignmentgroup": "True",
         "bingroup": "x",
         "histfunc": "avg",
         "hovertemplate": "Brand=Citroen <br>Range (Km)=%{x}<br>avg of Price (€)=%{y}<extra></extra>",
         "legendgroup": "Citroen ",
         "marker": {
          "color": "#A3A500",
          "pattern": {
           "shape": ""
          }
         },
         "name": "Citroen ",
         "nbinsx": 10,
         "offsetgroup": "Citroen ",
         "orientation": "v",
         "showlegend": true,
         "type": "histogram",
         "x": [
          250
         ],
         "xaxis": "x",
         "y": [
          40000
         ],
         "yaxis": "y"
        },
        {
         "alignmentgroup": "True",
         "bingroup": "x",
         "histfunc": "avg",
         "hovertemplate": "Brand=Jaguar <br>Range (Km)=%{x}<br>avg of Price (€)=%{y}<extra></extra>",
         "legendgroup": "Jaguar ",
         "marker": {
          "color": "#00BF7D",
          "pattern": {
           "shape": ""
          }
         },
         "name": "Jaguar ",
         "nbinsx": 10,
         "offsetgroup": "Jaguar ",
         "orientation": "v",
         "showlegend": true,
         "type": "histogram",
         "x": [
          365
         ],
         "xaxis": "x",
         "y": [
          75351
         ],
         "yaxis": "y"
        },
        {
         "alignmentgroup": "True",
         "bingroup": "x",
         "histfunc": "avg",
         "hovertemplate": "Brand=Ford <br>Range (Km)=%{x}<br>avg of Price (€)=%{y}<extra></extra>",
         "legendgroup": "Ford ",
         "marker": {
          "color": "#00B0F6",
          "pattern": {
           "shape": ""
          }
         },
         "name": "Ford ",
         "nbinsx": 10,
         "offsetgroup": "Ford ",
         "orientation": "v",
         "showlegend": true,
         "type": "histogram",
         "x": [
          450,
          430,
          340,
          360
         ],
         "xaxis": "x",
         "y": [
          54475,
          62900,
          54000,
          46900
         ],
         "yaxis": "y"
        },
        {
         "alignmentgroup": "True",
         "bingroup": "x",
         "histfunc": "avg",
         "hovertemplate": "Brand=Byton <br>Range (Km)=%{x}<br>avg of Price (€)=%{y}<extra></extra>",
         "legendgroup": "Byton ",
         "marker": {
          "color": "#E76BF3",
          "pattern": {
           "shape": ""
          }
         },
         "name": "Byton ",
         "nbinsx": 10,
         "offsetgroup": "Byton ",
         "orientation": "v",
         "showlegend": true,
         "type": "histogram",
         "x": [
          390,
          325,
          400
         ],
         "xaxis": "x",
         "y": [
          64000,
          53500,
          62000
         ],
         "yaxis": "y"
        },
        {
         "alignmentgroup": "True",
         "bingroup": "x",
         "histfunc": "avg",
         "hovertemplate": "Brand=Sono <br>Range (Km)=%{x}<br>avg of Price (€)=%{y}<extra></extra>",
         "legendgroup": "Sono ",
         "marker": {
          "color": "#F8766D",
          "pattern": {
           "shape": ""
          }
         },
         "name": "Sono ",
         "nbinsx": 10,
         "offsetgroup": "Sono ",
         "orientation": "v",
         "showlegend": true,
         "type": "histogram",
         "x": [
          225
         ],
         "xaxis": "x",
         "y": [
          25500
         ],
         "yaxis": "y"
        },
        {
         "alignmentgroup": "True",
         "bingroup": "x",
         "histfunc": "avg",
         "hovertemplate": "Brand=Smart <br>Range (Km)=%{x}<br>avg of Price (€)=%{y}<extra></extra>",
         "legendgroup": "Smart ",
         "marker": {
          "color": "#A3A500",
          "pattern": {
           "shape": ""
          }
         },
         "name": "Smart ",
         "nbinsx": 10,
         "offsetgroup": "Smart ",
         "orientation": "v",
         "showlegend": true,
         "type": "histogram",
         "x": [
          95,
          100,
          95
         ],
         "xaxis": "x",
         "y": [
          22030,
          21387,
          24565
         ],
         "yaxis": "y"
        },
        {
         "alignmentgroup": "True",
         "bingroup": "x",
         "histfunc": "avg",
         "hovertemplate": "Brand=Fiat <br>Range (Km)=%{x}<br>avg of Price (€)=%{y}<extra></extra>",
         "legendgroup": "Fiat ",
         "marker": {
          "color": "#00BF7D",
          "pattern": {
           "shape": ""
          }
         },
         "name": "Fiat ",
         "nbinsx": 10,
         "offsetgroup": "Fiat ",
         "orientation": "v",
         "showlegend": true,
         "type": "histogram",
         "x": [
          250,
          250
         ],
         "xaxis": "x",
         "y": [
          34900,
          37900
         ],
         "yaxis": "y"
        }
       ],
       "layout": {
        "barmode": "group",
        "height": 400,
        "legend": {
         "title": {
          "text": "Brand"
         },
         "tracegroupgap": 0
        },
        "template": {
         "data": {
          "bar": [
           {
            "error_x": {
             "color": "rgb(51,51,51)"
            },
            "error_y": {
             "color": "rgb(51,51,51)"
            },
            "marker": {
             "line": {
              "color": "rgb(237,237,237)",
              "width": 0.5
             },
             "pattern": {
              "fillmode": "overlay",
              "size": 10,
              "solidity": 0.2
             }
            },
            "type": "bar"
           }
          ],
          "barpolar": [
           {
            "marker": {
             "line": {
              "color": "rgb(237,237,237)",
              "width": 0.5
             },
             "pattern": {
              "fillmode": "overlay",
              "size": 10,
              "solidity": 0.2
             }
            },
            "type": "barpolar"
           }
          ],
          "carpet": [
           {
            "aaxis": {
             "endlinecolor": "rgb(51,51,51)",
             "gridcolor": "white",
             "linecolor": "white",
             "minorgridcolor": "white",
             "startlinecolor": "rgb(51,51,51)"
            },
            "baxis": {
             "endlinecolor": "rgb(51,51,51)",
             "gridcolor": "white",
             "linecolor": "white",
             "minorgridcolor": "white",
             "startlinecolor": "rgb(51,51,51)"
            },
            "type": "carpet"
           }
          ],
          "choropleth": [
           {
            "colorbar": {
             "outlinewidth": 0,
             "tickcolor": "rgb(237,237,237)",
             "ticklen": 6,
             "ticks": "inside"
            },
            "type": "choropleth"
           }
          ],
          "contour": [
           {
            "colorbar": {
             "outlinewidth": 0,
             "tickcolor": "rgb(237,237,237)",
             "ticklen": 6,
             "ticks": "inside"
            },
            "colorscale": [
             [
              0,
              "rgb(20,44,66)"
             ],
             [
              1,
              "rgb(90,179,244)"
             ]
            ],
            "type": "contour"
           }
          ],
          "contourcarpet": [
           {
            "colorbar": {
             "outlinewidth": 0,
             "tickcolor": "rgb(237,237,237)",
             "ticklen": 6,
             "ticks": "inside"
            },
            "type": "contourcarpet"
           }
          ],
          "heatmap": [
           {
            "colorbar": {
             "outlinewidth": 0,
             "tickcolor": "rgb(237,237,237)",
             "ticklen": 6,
             "ticks": "inside"
            },
            "colorscale": [
             [
              0,
              "rgb(20,44,66)"
             ],
             [
              1,
              "rgb(90,179,244)"
             ]
            ],
            "type": "heatmap"
           }
          ],
          "heatmapgl": [
           {
            "colorbar": {
             "outlinewidth": 0,
             "tickcolor": "rgb(237,237,237)",
             "ticklen": 6,
             "ticks": "inside"
            },
            "colorscale": [
             [
              0,
              "rgb(20,44,66)"
             ],
             [
              1,
              "rgb(90,179,244)"
             ]
            ],
            "type": "heatmapgl"
           }
          ],
          "histogram": [
           {
            "marker": {
             "pattern": {
              "fillmode": "overlay",
              "size": 10,
              "solidity": 0.2
             }
            },
            "type": "histogram"
           }
          ],
          "histogram2d": [
           {
            "colorbar": {
             "outlinewidth": 0,
             "tickcolor": "rgb(237,237,237)",
             "ticklen": 6,
             "ticks": "inside"
            },
            "colorscale": [
             [
              0,
              "rgb(20,44,66)"
             ],
             [
              1,
              "rgb(90,179,244)"
             ]
            ],
            "type": "histogram2d"
           }
          ],
          "histogram2dcontour": [
           {
            "colorbar": {
             "outlinewidth": 0,
             "tickcolor": "rgb(237,237,237)",
             "ticklen": 6,
             "ticks": "inside"
            },
            "colorscale": [
             [
              0,
              "rgb(20,44,66)"
             ],
             [
              1,
              "rgb(90,179,244)"
             ]
            ],
            "type": "histogram2dcontour"
           }
          ],
          "mesh3d": [
           {
            "colorbar": {
             "outlinewidth": 0,
             "tickcolor": "rgb(237,237,237)",
             "ticklen": 6,
             "ticks": "inside"
            },
            "type": "mesh3d"
           }
          ],
          "parcoords": [
           {
            "line": {
             "colorbar": {
              "outlinewidth": 0,
              "tickcolor": "rgb(237,237,237)",
              "ticklen": 6,
              "ticks": "inside"
             }
            },
            "type": "parcoords"
           }
          ],
          "pie": [
           {
            "automargin": true,
            "type": "pie"
           }
          ],
          "scatter": [
           {
            "marker": {
             "colorbar": {
              "outlinewidth": 0,
              "tickcolor": "rgb(237,237,237)",
              "ticklen": 6,
              "ticks": "inside"
             }
            },
            "type": "scatter"
           }
          ],
          "scatter3d": [
           {
            "line": {
             "colorbar": {
              "outlinewidth": 0,
              "tickcolor": "rgb(237,237,237)",
              "ticklen": 6,
              "ticks": "inside"
             }
            },
            "marker": {
             "colorbar": {
              "outlinewidth": 0,
              "tickcolor": "rgb(237,237,237)",
              "ticklen": 6,
              "ticks": "inside"
             }
            },
            "type": "scatter3d"
           }
          ],
          "scattercarpet": [
           {
            "marker": {
             "colorbar": {
              "outlinewidth": 0,
              "tickcolor": "rgb(237,237,237)",
              "ticklen": 6,
              "ticks": "inside"
             }
            },
            "type": "scattercarpet"
           }
          ],
          "scattergeo": [
           {
            "marker": {
             "colorbar": {
              "outlinewidth": 0,
              "tickcolor": "rgb(237,237,237)",
              "ticklen": 6,
              "ticks": "inside"
             }
            },
            "type": "scattergeo"
           }
          ],
          "scattergl": [
           {
            "marker": {
             "colorbar": {
              "outlinewidth": 0,
              "tickcolor": "rgb(237,237,237)",
              "ticklen": 6,
              "ticks": "inside"
             }
            },
            "type": "scattergl"
           }
          ],
          "scattermapbox": [
           {
            "marker": {
             "colorbar": {
              "outlinewidth": 0,
              "tickcolor": "rgb(237,237,237)",
              "ticklen": 6,
              "ticks": "inside"
             }
            },
            "type": "scattermapbox"
           }
          ],
          "scatterpolar": [
           {
            "marker": {
             "colorbar": {
              "outlinewidth": 0,
              "tickcolor": "rgb(237,237,237)",
              "ticklen": 6,
              "ticks": "inside"
             }
            },
            "type": "scatterpolar"
           }
          ],
          "scatterpolargl": [
           {
            "marker": {
             "colorbar": {
              "outlinewidth": 0,
              "tickcolor": "rgb(237,237,237)",
              "ticklen": 6,
              "ticks": "inside"
             }
            },
            "type": "scatterpolargl"
           }
          ],
          "scatterternary": [
           {
            "marker": {
             "colorbar": {
              "outlinewidth": 0,
              "tickcolor": "rgb(237,237,237)",
              "ticklen": 6,
              "ticks": "inside"
             }
            },
            "type": "scatterternary"
           }
          ],
          "surface": [
           {
            "colorbar": {
             "outlinewidth": 0,
             "tickcolor": "rgb(237,237,237)",
             "ticklen": 6,
             "ticks": "inside"
            },
            "colorscale": [
             [
              0,
              "rgb(20,44,66)"
             ],
             [
              1,
              "rgb(90,179,244)"
             ]
            ],
            "type": "surface"
           }
          ],
          "table": [
           {
            "cells": {
             "fill": {
              "color": "rgb(237,237,237)"
             },
             "line": {
              "color": "white"
             }
            },
            "header": {
             "fill": {
              "color": "rgb(217,217,217)"
             },
             "line": {
              "color": "white"
             }
            },
            "type": "table"
           }
          ]
         },
         "layout": {
          "annotationdefaults": {
           "arrowhead": 0,
           "arrowwidth": 1
          },
          "autotypenumbers": "strict",
          "coloraxis": {
           "colorbar": {
            "outlinewidth": 0,
            "tickcolor": "rgb(237,237,237)",
            "ticklen": 6,
            "ticks": "inside"
           }
          },
          "colorscale": {
           "sequential": [
            [
             0,
             "rgb(20,44,66)"
            ],
            [
             1,
             "rgb(90,179,244)"
            ]
           ],
           "sequentialminus": [
            [
             0,
             "rgb(20,44,66)"
            ],
            [
             1,
             "rgb(90,179,244)"
            ]
           ]
          },
          "colorway": [
           "#F8766D",
           "#A3A500",
           "#00BF7D",
           "#00B0F6",
           "#E76BF3"
          ],
          "font": {
           "color": "rgb(51,51,51)"
          },
          "geo": {
           "bgcolor": "white",
           "lakecolor": "white",
           "landcolor": "rgb(237,237,237)",
           "showlakes": true,
           "showland": true,
           "subunitcolor": "white"
          },
          "hoverlabel": {
           "align": "left"
          },
          "hovermode": "closest",
          "paper_bgcolor": "white",
          "plot_bgcolor": "rgb(237,237,237)",
          "polar": {
           "angularaxis": {
            "gridcolor": "white",
            "linecolor": "white",
            "showgrid": true,
            "tickcolor": "rgb(51,51,51)",
            "ticks": "outside"
           },
           "bgcolor": "rgb(237,237,237)",
           "radialaxis": {
            "gridcolor": "white",
            "linecolor": "white",
            "showgrid": true,
            "tickcolor": "rgb(51,51,51)",
            "ticks": "outside"
           }
          },
          "scene": {
           "xaxis": {
            "backgroundcolor": "rgb(237,237,237)",
            "gridcolor": "white",
            "gridwidth": 2,
            "linecolor": "white",
            "showbackground": true,
            "showgrid": true,
            "tickcolor": "rgb(51,51,51)",
            "ticks": "outside",
            "zerolinecolor": "white"
           },
           "yaxis": {
            "backgroundcolor": "rgb(237,237,237)",
            "gridcolor": "white",
            "gridwidth": 2,
            "linecolor": "white",
            "showbackground": true,
            "showgrid": true,
            "tickcolor": "rgb(51,51,51)",
            "ticks": "outside",
            "zerolinecolor": "white"
           },
           "zaxis": {
            "backgroundcolor": "rgb(237,237,237)",
            "gridcolor": "white",
            "gridwidth": 2,
            "linecolor": "white",
            "showbackground": true,
            "showgrid": true,
            "tickcolor": "rgb(51,51,51)",
            "ticks": "outside",
            "zerolinecolor": "white"
           }
          },
          "shapedefaults": {
           "fillcolor": "black",
           "line": {
            "width": 0
           },
           "opacity": 0.3
          },
          "ternary": {
           "aaxis": {
            "gridcolor": "white",
            "linecolor": "white",
            "showgrid": true,
            "tickcolor": "rgb(51,51,51)",
            "ticks": "outside"
           },
           "baxis": {
            "gridcolor": "white",
            "linecolor": "white",
            "showgrid": true,
            "tickcolor": "rgb(51,51,51)",
            "ticks": "outside"
           },
           "bgcolor": "rgb(237,237,237)",
           "caxis": {
            "gridcolor": "white",
            "linecolor": "white",
            "showgrid": true,
            "tickcolor": "rgb(51,51,51)",
            "ticks": "outside"
           }
          },
          "xaxis": {
           "automargin": true,
           "gridcolor": "white",
           "linecolor": "white",
           "showgrid": true,
           "tickcolor": "rgb(51,51,51)",
           "ticks": "outside",
           "title": {
            "standoff": 15
           },
           "zerolinecolor": "white"
          },
          "yaxis": {
           "automargin": true,
           "gridcolor": "white",
           "linecolor": "white",
           "showgrid": true,
           "tickcolor": "rgb(51,51,51)",
           "ticks": "outside",
           "title": {
            "standoff": 15
           },
           "zerolinecolor": "white"
          }
         }
        },
        "title": {
         "text": "Average Price and Range"
        },
        "width": 1000,
        "xaxis": {
         "anchor": "y",
         "domain": [
          0,
          1
         ],
         "title": {
          "text": "Range (Km)"
         }
        },
        "yaxis": {
         "anchor": "x",
         "domain": [
          0,
          1
         ],
         "title": {
          "text": "avg of Price (€)"
         }
        }
       }
      },
      "text/html": [
       "<div>                            <div id=\"55aabc26-9c38-4ef3-9f84-92f6e36a3ee6\" class=\"plotly-graph-div\" style=\"height:400px; width:1000px;\"></div>            <script type=\"text/javascript\">                require([\"plotly\"], function(Plotly) {                    window.PLOTLYENV=window.PLOTLYENV || {};                                    if (document.getElementById(\"55aabc26-9c38-4ef3-9f84-92f6e36a3ee6\")) {                    Plotly.newPlot(                        \"55aabc26-9c38-4ef3-9f84-92f6e36a3ee6\",                        [{\"alignmentgroup\":\"True\",\"bingroup\":\"x\",\"histfunc\":\"avg\",\"hovertemplate\":\"Brand=Tesla <br>Range (Km)=%{x}<br>avg of Price (\\u20ac)=%{y}<extra></extra>\",\"legendgroup\":\"Tesla \",\"marker\":{\"color\":\"#F8766D\",\"pattern\":{\"shape\":\"\"}},\"name\":\"Tesla \",\"nbinsx\":10,\"offsetgroup\":\"Tesla \",\"orientation\":\"v\",\"showlegend\":true,\"x\":[450,310,425,435,750,515,970,450,505,410,460,440,390],\"xaxis\":\"x\",\"y\":[55480,46380,58620,61480,75000,79990,215000,85990,96990,65620,55000,102990,45000],\"yaxis\":\"y\",\"type\":\"histogram\"},{\"alignmentgroup\":\"True\",\"bingroup\":\"x\",\"histfunc\":\"avg\",\"hovertemplate\":\"Brand=Volkswagen <br>Range (Km)=%{x}<br>avg of Price (\\u20ac)=%{y}<extra></extra>\",\"legendgroup\":\"Volkswagen \",\"marker\":{\"color\":\"#A3A500\",\"pattern\":{\"shape\":\"\"}},\"name\":\"Volkswagen \",\"nbinsx\":10,\"offsetgroup\":\"Volkswagen \",\"orientation\":\"v\",\"showlegend\":true,\"x\":[270,190,440,195,420,350,340,340],\"xaxis\":\"x\",\"y\":[30000,31900,40936,21421,45000,33000,38987,35575],\"yaxis\":\"y\",\"type\":\"histogram\"},{\"alignmentgroup\":\"True\",\"bingroup\":\"x\",\"histfunc\":\"avg\",\"hovertemplate\":\"Brand=Polestar <br>Range (Km)=%{x}<br>avg of Price (\\u20ac)=%{y}<extra></extra>\",\"legendgroup\":\"Polestar \",\"marker\":{\"color\":\"#00BF7D\",\"pattern\":{\"shape\":\"\"}},\"name\":\"Polestar \",\"nbinsx\":10,\"offsetgroup\":\"Polestar \",\"orientation\":\"v\",\"showlegend\":true,\"x\":[400],\"xaxis\":\"x\",\"y\":[56440],\"yaxis\":\"y\",\"type\":\"histogram\"},{\"alignmentgroup\":\"True\",\"bingroup\":\"x\",\"histfunc\":\"avg\",\"hovertemplate\":\"Brand=BMW <br>Range (Km)=%{x}<br>avg of Price (\\u20ac)=%{y}<extra></extra>\",\"legendgroup\":\"BMW \",\"marker\":{\"color\":\"#00B0F6\",\"pattern\":{\"shape\":\"\"}},\"name\":\"BMW \",\"nbinsx\":10,\"offsetgroup\":\"BMW \",\"orientation\":\"v\",\"showlegend\":true,\"x\":[360,450,235,230],\"xaxis\":\"x\",\"y\":[68040,65000,38017,41526],\"yaxis\":\"y\",\"type\":\"histogram\"},{\"alignmentgroup\":\"True\",\"bingroup\":\"x\",\"histfunc\":\"avg\",\"hovertemplate\":\"Brand=Honda <br>Range (Km)=%{x}<br>avg of Price (\\u20ac)=%{y}<extra></extra>\",\"legendgroup\":\"Honda \",\"marker\":{\"color\":\"#E76BF3\",\"pattern\":{\"shape\":\"\"}},\"name\":\"Honda \",\"nbinsx\":10,\"offsetgroup\":\"Honda \",\"orientation\":\"v\",\"showlegend\":true,\"x\":[170,170],\"xaxis\":\"x\",\"y\":[32997,35921],\"yaxis\":\"y\",\"type\":\"histogram\"},{\"alignmentgroup\":\"True\",\"bingroup\":\"x\",\"histfunc\":\"avg\",\"hovertemplate\":\"Brand=Lucid <br>Range (Km)=%{x}<br>avg of Price (\\u20ac)=%{y}<extra></extra>\",\"legendgroup\":\"Lucid \",\"marker\":{\"color\":\"#F8766D\",\"pattern\":{\"shape\":\"\"}},\"name\":\"Lucid \",\"nbinsx\":10,\"offsetgroup\":\"Lucid \",\"orientation\":\"v\",\"showlegend\":true,\"x\":[610],\"xaxis\":\"x\",\"y\":[105000],\"yaxis\":\"y\",\"type\":\"histogram\"},{\"alignmentgroup\":\"True\",\"bingroup\":\"x\",\"histfunc\":\"avg\",\"hovertemplate\":\"Brand=Peugeot <br>Range (Km)=%{x}<br>avg of Price (\\u20ac)=%{y}<extra></extra>\",\"legendgroup\":\"Peugeot \",\"marker\":{\"color\":\"#A3A500\",\"pattern\":{\"shape\":\"\"}},\"name\":\"Peugeot \",\"nbinsx\":10,\"offsetgroup\":\"Peugeot \",\"orientation\":\"v\",\"showlegend\":true,\"x\":[275,250],\"xaxis\":\"x\",\"y\":[29682,34361],\"yaxis\":\"y\",\"type\":\"histogram\"},{\"alignmentgroup\":\"True\",\"bingroup\":\"x\",\"histfunc\":\"avg\",\"hovertemplate\":\"Brand=Audi <br>Range (Km)=%{x}<br>avg of Price (\\u20ac)=%{y}<extra></extra>\",\"legendgroup\":\"Audi \",\"marker\":{\"color\":\"#00BF7D\",\"pattern\":{\"shape\":\"\"}},\"name\":\"Audi \",\"nbinsx\":10,\"offsetgroup\":\"Audi \",\"orientation\":\"v\",\"showlegend\":true,\"x\":[400,425,280,380,365,410,295,320,335],\"xaxis\":\"x\",\"y\":[55000,125000,67358,81639,79445,57500,69551,93800,96050],\"yaxis\":\"y\",\"type\":\"histogram\"},{\"alignmentgroup\":\"True\",\"bingroup\":\"x\",\"histfunc\":\"avg\",\"hovertemplate\":\"Brand=Mercedes <br>Range (Km)=%{x}<br>avg of Price (\\u20ac)=%{y}<extra></extra>\",\"legendgroup\":\"Mercedes \",\"marker\":{\"color\":\"#00B0F6\",\"pattern\":{\"shape\":\"\"}},\"name\":\"Mercedes \",\"nbinsx\":10,\"offsetgroup\":\"Mercedes \",\"orientation\":\"v\",\"showlegend\":true,\"x\":[370,350,330],\"xaxis\":\"x\",\"y\":[69484,45000,70631],\"yaxis\":\"y\",\"type\":\"histogram\"},{\"alignmentgroup\":\"True\",\"bingroup\":\"x\",\"histfunc\":\"avg\",\"hovertemplate\":\"Brand=Nissan <br>Range (Km)=%{x}<br>avg of Price (\\u20ac)=%{y}<extra></extra>\",\"legendgroup\":\"Nissan \",\"marker\":{\"color\":\"#E76BF3\",\"pattern\":{\"shape\":\"\"}},\"name\":\"Nissan \",\"nbinsx\":10,\"offsetgroup\":\"Nissan \",\"orientation\":\"v\",\"showlegend\":true,\"x\":[220,325,440,190,420,330,325,375],\"xaxis\":\"x\",\"y\":[29234,37237,50000,33246,57500,45000,50000,65000],\"yaxis\":\"y\",\"type\":\"histogram\"},{\"alignmentgroup\":\"True\",\"bingroup\":\"x\",\"histfunc\":\"avg\",\"hovertemplate\":\"Brand=Hyundai <br>Range (Km)=%{x}<br>avg of Price (\\u20ac)=%{y}<extra></extra>\",\"legendgroup\":\"Hyundai \",\"marker\":{\"color\":\"#F8766D\",\"pattern\":{\"shape\":\"\"}},\"name\":\"Hyundai \",\"nbinsx\":10,\"offsetgroup\":\"Hyundai \",\"orientation\":\"v\",\"showlegend\":true,\"x\":[400,250,255],\"xaxis\":\"x\",\"y\":[40795,34459,33971],\"yaxis\":\"y\",\"type\":\"histogram\"},{\"alignmentgroup\":\"True\",\"bingroup\":\"x\",\"histfunc\":\"avg\",\"hovertemplate\":\"Brand=Porsche <br>Range (Km)=%{x}<br>avg of Price (\\u20ac)=%{y}<extra></extra>\",\"legendgroup\":\"Porsche \",\"marker\":{\"color\":\"#A3A500\",\"pattern\":{\"shape\":\"\"}},\"name\":\"Porsche \",\"nbinsx\":10,\"offsetgroup\":\"Porsche \",\"orientation\":\"v\",\"showlegend\":true,\"x\":[375,365,425,385,390],\"xaxis\":\"x\",\"y\":[180781,102945,109302,150000,148301],\"yaxis\":\"y\",\"type\":\"histogram\"},{\"alignmentgroup\":\"True\",\"bingroup\":\"x\",\"histfunc\":\"avg\",\"hovertemplate\":\"Brand=MG <br>Range (Km)=%{x}<br>avg of Price (\\u20ac)=%{y}<extra></extra>\",\"legendgroup\":\"MG \",\"marker\":{\"color\":\"#00BF7D\",\"pattern\":{\"shape\":\"\"}},\"name\":\"MG \",\"nbinsx\":10,\"offsetgroup\":\"MG \",\"orientation\":\"v\",\"showlegend\":true,\"x\":[220],\"xaxis\":\"x\",\"y\":[30000],\"yaxis\":\"y\",\"type\":\"histogram\"},{\"alignmentgroup\":\"True\",\"bingroup\":\"x\",\"histfunc\":\"avg\",\"hovertemplate\":\"Brand=Mini <br>Range (Km)=%{x}<br>avg of Price (\\u20ac)=%{y}<extra></extra>\",\"legendgroup\":\"Mini \",\"marker\":{\"color\":\"#00B0F6\",\"pattern\":{\"shape\":\"\"}},\"name\":\"Mini \",\"nbinsx\":10,\"offsetgroup\":\"Mini \",\"orientation\":\"v\",\"showlegend\":true,\"x\":[185],\"xaxis\":\"x\",\"y\":[31681],\"yaxis\":\"y\",\"type\":\"histogram\"},{\"alignmentgroup\":\"True\",\"bingroup\":\"x\",\"histfunc\":\"avg\",\"hovertemplate\":\"Brand=Opel <br>Range (Km)=%{x}<br>avg of Price (\\u20ac)=%{y}<extra></extra>\",\"legendgroup\":\"Opel \",\"marker\":{\"color\":\"#E76BF3\",\"pattern\":{\"shape\":\"\"}},\"name\":\"Opel \",\"nbinsx\":10,\"offsetgroup\":\"Opel \",\"orientation\":\"v\",\"showlegend\":true,\"x\":[275,335,255],\"xaxis\":\"x\",\"y\":[29146,41906,35000],\"yaxis\":\"y\",\"type\":\"histogram\"},{\"alignmentgroup\":\"True\",\"bingroup\":\"x\",\"histfunc\":\"avg\",\"hovertemplate\":\"Brand=Skoda <br>Range (Km)=%{x}<br>avg of Price (\\u20ac)=%{y}<extra></extra>\",\"legendgroup\":\"Skoda \",\"marker\":{\"color\":\"#F8766D\",\"pattern\":{\"shape\":\"\"}},\"name\":\"Skoda \",\"nbinsx\":10,\"offsetgroup\":\"Skoda \",\"orientation\":\"v\",\"showlegend\":true,\"x\":[290,195,420,400,400,320],\"xaxis\":\"x\",\"y\":[35000,24534,40000,45000,47500,37500],\"yaxis\":\"y\",\"type\":\"histogram\"},{\"alignmentgroup\":\"True\",\"bingroup\":\"x\",\"histfunc\":\"avg\",\"hovertemplate\":\"Brand=Volvo <br>Range (Km)=%{x}<br>avg of Price (\\u20ac)=%{y}<extra></extra>\",\"legendgroup\":\"Volvo \",\"marker\":{\"color\":\"#A3A500\",\"pattern\":{\"shape\":\"\"}},\"name\":\"Volvo \",\"nbinsx\":10,\"offsetgroup\":\"Volvo \",\"orientation\":\"v\",\"showlegend\":true,\"x\":[375],\"xaxis\":\"x\",\"y\":[60437],\"yaxis\":\"y\",\"type\":\"histogram\"},{\"alignmentgroup\":\"True\",\"bingroup\":\"x\",\"histfunc\":\"avg\",\"hovertemplate\":\"Brand=Kia <br>Range (Km)=%{x}<br>avg of Price (\\u20ac)=%{y}<extra></extra>\",\"legendgroup\":\"Kia \",\"marker\":{\"color\":\"#00BF7D\",\"pattern\":{\"shape\":\"\"}},\"name\":\"Kia \",\"nbinsx\":10,\"offsetgroup\":\"Kia \",\"orientation\":\"v\",\"showlegend\":true,\"x\":[370,365,235,365,230],\"xaxis\":\"x\",\"y\":[38105,36837,34400,36837,33133],\"yaxis\":\"y\",\"type\":\"histogram\"},{\"alignmentgroup\":\"True\",\"bingroup\":\"x\",\"histfunc\":\"avg\",\"hovertemplate\":\"Brand=Renault <br>Range (Km)=%{x}<br>avg of Price (\\u20ac)=%{y}<extra></extra>\",\"legendgroup\":\"Renault \",\"marker\":{\"color\":\"#00B0F6\",\"pattern\":{\"shape\":\"\"}},\"name\":\"Renault \",\"nbinsx\":10,\"offsetgroup\":\"Renault \",\"orientation\":\"v\",\"showlegend\":true,\"x\":[315,310,130,255,160],\"xaxis\":\"x\",\"y\":[31184,33133,24790,29234,38000],\"yaxis\":\"y\",\"type\":\"histogram\"},{\"alignmentgroup\":\"True\",\"bingroup\":\"x\",\"histfunc\":\"avg\",\"hovertemplate\":\"Brand=Mazda <br>Range (Km)=%{x}<br>avg of Price (\\u20ac)=%{y}<extra></extra>\",\"legendgroup\":\"Mazda \",\"marker\":{\"color\":\"#E76BF3\",\"pattern\":{\"shape\":\"\"}},\"name\":\"Mazda \",\"nbinsx\":10,\"offsetgroup\":\"Mazda \",\"orientation\":\"v\",\"showlegend\":true,\"x\":[180],\"xaxis\":\"x\",\"y\":[32646],\"yaxis\":\"y\",\"type\":\"histogram\"},{\"alignmentgroup\":\"True\",\"bingroup\":\"x\",\"histfunc\":\"avg\",\"hovertemplate\":\"Brand=Lexus <br>Range (Km)=%{x}<br>avg of Price (\\u20ac)=%{y}<extra></extra>\",\"legendgroup\":\"Lexus \",\"marker\":{\"color\":\"#F8766D\",\"pattern\":{\"shape\":\"\"}},\"name\":\"Lexus \",\"nbinsx\":10,\"offsetgroup\":\"Lexus \",\"orientation\":\"v\",\"showlegend\":true,\"x\":[270],\"xaxis\":\"x\",\"y\":[50000],\"yaxis\":\"y\",\"type\":\"histogram\"},{\"alignmentgroup\":\"True\",\"bingroup\":\"x\",\"histfunc\":\"avg\",\"hovertemplate\":\"Brand=CUPRA <br>Range (Km)=%{x}<br>avg of Price (\\u20ac)=%{y}<extra></extra>\",\"legendgroup\":\"CUPRA \",\"marker\":{\"color\":\"#A3A500\",\"pattern\":{\"shape\":\"\"}},\"name\":\"CUPRA \",\"nbinsx\":10,\"offsetgroup\":\"CUPRA \",\"orientation\":\"v\",\"showlegend\":true,\"x\":[425],\"xaxis\":\"x\",\"y\":[45000],\"yaxis\":\"y\",\"type\":\"histogram\"},{\"alignmentgroup\":\"True\",\"bingroup\":\"x\",\"histfunc\":\"avg\",\"hovertemplate\":\"Brand=SEAT <br>Range (Km)=%{x}<br>avg of Price (\\u20ac)=%{y}<extra></extra>\",\"legendgroup\":\"SEAT \",\"marker\":{\"color\":\"#00BF7D\",\"pattern\":{\"shape\":\"\"}},\"name\":\"SEAT \",\"nbinsx\":10,\"offsetgroup\":\"SEAT \",\"orientation\":\"v\",\"showlegend\":true,\"x\":[195],\"xaxis\":\"x\",\"y\":[20129],\"yaxis\":\"y\",\"type\":\"histogram\"},{\"alignmentgroup\":\"True\",\"bingroup\":\"x\",\"histfunc\":\"avg\",\"hovertemplate\":\"Brand=Lightyear <br>Range (Km)=%{x}<br>avg of Price (\\u20ac)=%{y}<extra></extra>\",\"legendgroup\":\"Lightyear \",\"marker\":{\"color\":\"#00B0F6\",\"pattern\":{\"shape\":\"\"}},\"name\":\"Lightyear \",\"nbinsx\":10,\"offsetgroup\":\"Lightyear \",\"orientation\":\"v\",\"showlegend\":true,\"x\":[575],\"xaxis\":\"x\",\"y\":[149000],\"yaxis\":\"y\",\"type\":\"histogram\"},{\"alignmentgroup\":\"True\",\"bingroup\":\"x\",\"histfunc\":\"avg\",\"hovertemplate\":\"Brand=Aiways <br>Range (Km)=%{x}<br>avg of Price (\\u20ac)=%{y}<extra></extra>\",\"legendgroup\":\"Aiways \",\"marker\":{\"color\":\"#E76BF3\",\"pattern\":{\"shape\":\"\"}},\"name\":\"Aiways \",\"nbinsx\":10,\"offsetgroup\":\"Aiways \",\"orientation\":\"v\",\"showlegend\":true,\"x\":[335],\"xaxis\":\"x\",\"y\":[36057],\"yaxis\":\"y\",\"type\":\"histogram\"},{\"alignmentgroup\":\"True\",\"bingroup\":\"x\",\"histfunc\":\"avg\",\"hovertemplate\":\"Brand=DS <br>Range (Km)=%{x}<br>avg of Price (\\u20ac)=%{y}<extra></extra>\",\"legendgroup\":\"DS \",\"marker\":{\"color\":\"#F8766D\",\"pattern\":{\"shape\":\"\"}},\"name\":\"DS \",\"nbinsx\":10,\"offsetgroup\":\"DS \",\"orientation\":\"v\",\"showlegend\":true,\"x\":[250],\"xaxis\":\"x\",\"y\":[37422],\"yaxis\":\"y\",\"type\":\"histogram\"},{\"alignmentgroup\":\"True\",\"bingroup\":\"x\",\"histfunc\":\"avg\",\"hovertemplate\":\"Brand=Citroen <br>Range (Km)=%{x}<br>avg of Price (\\u20ac)=%{y}<extra></extra>\",\"legendgroup\":\"Citroen \",\"marker\":{\"color\":\"#A3A500\",\"pattern\":{\"shape\":\"\"}},\"name\":\"Citroen \",\"nbinsx\":10,\"offsetgroup\":\"Citroen \",\"orientation\":\"v\",\"showlegend\":true,\"x\":[250],\"xaxis\":\"x\",\"y\":[40000],\"yaxis\":\"y\",\"type\":\"histogram\"},{\"alignmentgroup\":\"True\",\"bingroup\":\"x\",\"histfunc\":\"avg\",\"hovertemplate\":\"Brand=Jaguar <br>Range (Km)=%{x}<br>avg of Price (\\u20ac)=%{y}<extra></extra>\",\"legendgroup\":\"Jaguar \",\"marker\":{\"color\":\"#00BF7D\",\"pattern\":{\"shape\":\"\"}},\"name\":\"Jaguar \",\"nbinsx\":10,\"offsetgroup\":\"Jaguar \",\"orientation\":\"v\",\"showlegend\":true,\"x\":[365],\"xaxis\":\"x\",\"y\":[75351],\"yaxis\":\"y\",\"type\":\"histogram\"},{\"alignmentgroup\":\"True\",\"bingroup\":\"x\",\"histfunc\":\"avg\",\"hovertemplate\":\"Brand=Ford <br>Range (Km)=%{x}<br>avg of Price (\\u20ac)=%{y}<extra></extra>\",\"legendgroup\":\"Ford \",\"marker\":{\"color\":\"#00B0F6\",\"pattern\":{\"shape\":\"\"}},\"name\":\"Ford \",\"nbinsx\":10,\"offsetgroup\":\"Ford \",\"orientation\":\"v\",\"showlegend\":true,\"x\":[450,430,340,360],\"xaxis\":\"x\",\"y\":[54475,62900,54000,46900],\"yaxis\":\"y\",\"type\":\"histogram\"},{\"alignmentgroup\":\"True\",\"bingroup\":\"x\",\"histfunc\":\"avg\",\"hovertemplate\":\"Brand=Byton <br>Range (Km)=%{x}<br>avg of Price (\\u20ac)=%{y}<extra></extra>\",\"legendgroup\":\"Byton \",\"marker\":{\"color\":\"#E76BF3\",\"pattern\":{\"shape\":\"\"}},\"name\":\"Byton \",\"nbinsx\":10,\"offsetgroup\":\"Byton \",\"orientation\":\"v\",\"showlegend\":true,\"x\":[390,325,400],\"xaxis\":\"x\",\"y\":[64000,53500,62000],\"yaxis\":\"y\",\"type\":\"histogram\"},{\"alignmentgroup\":\"True\",\"bingroup\":\"x\",\"histfunc\":\"avg\",\"hovertemplate\":\"Brand=Sono <br>Range (Km)=%{x}<br>avg of Price (\\u20ac)=%{y}<extra></extra>\",\"legendgroup\":\"Sono \",\"marker\":{\"color\":\"#F8766D\",\"pattern\":{\"shape\":\"\"}},\"name\":\"Sono \",\"nbinsx\":10,\"offsetgroup\":\"Sono \",\"orientation\":\"v\",\"showlegend\":true,\"x\":[225],\"xaxis\":\"x\",\"y\":[25500],\"yaxis\":\"y\",\"type\":\"histogram\"},{\"alignmentgroup\":\"True\",\"bingroup\":\"x\",\"histfunc\":\"avg\",\"hovertemplate\":\"Brand=Smart <br>Range (Km)=%{x}<br>avg of Price (\\u20ac)=%{y}<extra></extra>\",\"legendgroup\":\"Smart \",\"marker\":{\"color\":\"#A3A500\",\"pattern\":{\"shape\":\"\"}},\"name\":\"Smart \",\"nbinsx\":10,\"offsetgroup\":\"Smart \",\"orientation\":\"v\",\"showlegend\":true,\"x\":[95,100,95],\"xaxis\":\"x\",\"y\":[22030,21387,24565],\"yaxis\":\"y\",\"type\":\"histogram\"},{\"alignmentgroup\":\"True\",\"bingroup\":\"x\",\"histfunc\":\"avg\",\"hovertemplate\":\"Brand=Fiat <br>Range (Km)=%{x}<br>avg of Price (\\u20ac)=%{y}<extra></extra>\",\"legendgroup\":\"Fiat \",\"marker\":{\"color\":\"#00BF7D\",\"pattern\":{\"shape\":\"\"}},\"name\":\"Fiat \",\"nbinsx\":10,\"offsetgroup\":\"Fiat \",\"orientation\":\"v\",\"showlegend\":true,\"x\":[250,250],\"xaxis\":\"x\",\"y\":[34900,37900],\"yaxis\":\"y\",\"type\":\"histogram\"}],                        {\"template\":{\"data\":{\"barpolar\":[{\"marker\":{\"line\":{\"color\":\"rgb(237,237,237)\",\"width\":0.5},\"pattern\":{\"fillmode\":\"overlay\",\"size\":10,\"solidity\":0.2}},\"type\":\"barpolar\"}],\"bar\":[{\"error_x\":{\"color\":\"rgb(51,51,51)\"},\"error_y\":{\"color\":\"rgb(51,51,51)\"},\"marker\":{\"line\":{\"color\":\"rgb(237,237,237)\",\"width\":0.5},\"pattern\":{\"fillmode\":\"overlay\",\"size\":10,\"solidity\":0.2}},\"type\":\"bar\"}],\"carpet\":[{\"aaxis\":{\"endlinecolor\":\"rgb(51,51,51)\",\"gridcolor\":\"white\",\"linecolor\":\"white\",\"minorgridcolor\":\"white\",\"startlinecolor\":\"rgb(51,51,51)\"},\"baxis\":{\"endlinecolor\":\"rgb(51,51,51)\",\"gridcolor\":\"white\",\"linecolor\":\"white\",\"minorgridcolor\":\"white\",\"startlinecolor\":\"rgb(51,51,51)\"},\"type\":\"carpet\"}],\"choropleth\":[{\"colorbar\":{\"outlinewidth\":0,\"tickcolor\":\"rgb(237,237,237)\",\"ticklen\":6,\"ticks\":\"inside\"},\"type\":\"choropleth\"}],\"contourcarpet\":[{\"colorbar\":{\"outlinewidth\":0,\"tickcolor\":\"rgb(237,237,237)\",\"ticklen\":6,\"ticks\":\"inside\"},\"type\":\"contourcarpet\"}],\"contour\":[{\"colorbar\":{\"outlinewidth\":0,\"tickcolor\":\"rgb(237,237,237)\",\"ticklen\":6,\"ticks\":\"inside\"},\"colorscale\":[[0,\"rgb(20,44,66)\"],[1,\"rgb(90,179,244)\"]],\"type\":\"contour\"}],\"heatmapgl\":[{\"colorbar\":{\"outlinewidth\":0,\"tickcolor\":\"rgb(237,237,237)\",\"ticklen\":6,\"ticks\":\"inside\"},\"colorscale\":[[0,\"rgb(20,44,66)\"],[1,\"rgb(90,179,244)\"]],\"type\":\"heatmapgl\"}],\"heatmap\":[{\"colorbar\":{\"outlinewidth\":0,\"tickcolor\":\"rgb(237,237,237)\",\"ticklen\":6,\"ticks\":\"inside\"},\"colorscale\":[[0,\"rgb(20,44,66)\"],[1,\"rgb(90,179,244)\"]],\"type\":\"heatmap\"}],\"histogram2dcontour\":[{\"colorbar\":{\"outlinewidth\":0,\"tickcolor\":\"rgb(237,237,237)\",\"ticklen\":6,\"ticks\":\"inside\"},\"colorscale\":[[0,\"rgb(20,44,66)\"],[1,\"rgb(90,179,244)\"]],\"type\":\"histogram2dcontour\"}],\"histogram2d\":[{\"colorbar\":{\"outlinewidth\":0,\"tickcolor\":\"rgb(237,237,237)\",\"ticklen\":6,\"ticks\":\"inside\"},\"colorscale\":[[0,\"rgb(20,44,66)\"],[1,\"rgb(90,179,244)\"]],\"type\":\"histogram2d\"}],\"histogram\":[{\"marker\":{\"pattern\":{\"fillmode\":\"overlay\",\"size\":10,\"solidity\":0.2}},\"type\":\"histogram\"}],\"mesh3d\":[{\"colorbar\":{\"outlinewidth\":0,\"tickcolor\":\"rgb(237,237,237)\",\"ticklen\":6,\"ticks\":\"inside\"},\"type\":\"mesh3d\"}],\"parcoords\":[{\"line\":{\"colorbar\":{\"outlinewidth\":0,\"tickcolor\":\"rgb(237,237,237)\",\"ticklen\":6,\"ticks\":\"inside\"}},\"type\":\"parcoords\"}],\"pie\":[{\"automargin\":true,\"type\":\"pie\"}],\"scatter3d\":[{\"line\":{\"colorbar\":{\"outlinewidth\":0,\"tickcolor\":\"rgb(237,237,237)\",\"ticklen\":6,\"ticks\":\"inside\"}},\"marker\":{\"colorbar\":{\"outlinewidth\":0,\"tickcolor\":\"rgb(237,237,237)\",\"ticklen\":6,\"ticks\":\"inside\"}},\"type\":\"scatter3d\"}],\"scattercarpet\":[{\"marker\":{\"colorbar\":{\"outlinewidth\":0,\"tickcolor\":\"rgb(237,237,237)\",\"ticklen\":6,\"ticks\":\"inside\"}},\"type\":\"scattercarpet\"}],\"scattergeo\":[{\"marker\":{\"colorbar\":{\"outlinewidth\":0,\"tickcolor\":\"rgb(237,237,237)\",\"ticklen\":6,\"ticks\":\"inside\"}},\"type\":\"scattergeo\"}],\"scattergl\":[{\"marker\":{\"colorbar\":{\"outlinewidth\":0,\"tickcolor\":\"rgb(237,237,237)\",\"ticklen\":6,\"ticks\":\"inside\"}},\"type\":\"scattergl\"}],\"scattermapbox\":[{\"marker\":{\"colorbar\":{\"outlinewidth\":0,\"tickcolor\":\"rgb(237,237,237)\",\"ticklen\":6,\"ticks\":\"inside\"}},\"type\":\"scattermapbox\"}],\"scatterpolargl\":[{\"marker\":{\"colorbar\":{\"outlinewidth\":0,\"tickcolor\":\"rgb(237,237,237)\",\"ticklen\":6,\"ticks\":\"inside\"}},\"type\":\"scatterpolargl\"}],\"scatterpolar\":[{\"marker\":{\"colorbar\":{\"outlinewidth\":0,\"tickcolor\":\"rgb(237,237,237)\",\"ticklen\":6,\"ticks\":\"inside\"}},\"type\":\"scatterpolar\"}],\"scatter\":[{\"marker\":{\"colorbar\":{\"outlinewidth\":0,\"tickcolor\":\"rgb(237,237,237)\",\"ticklen\":6,\"ticks\":\"inside\"}},\"type\":\"scatter\"}],\"scatterternary\":[{\"marker\":{\"colorbar\":{\"outlinewidth\":0,\"tickcolor\":\"rgb(237,237,237)\",\"ticklen\":6,\"ticks\":\"inside\"}},\"type\":\"scatterternary\"}],\"surface\":[{\"colorbar\":{\"outlinewidth\":0,\"tickcolor\":\"rgb(237,237,237)\",\"ticklen\":6,\"ticks\":\"inside\"},\"colorscale\":[[0,\"rgb(20,44,66)\"],[1,\"rgb(90,179,244)\"]],\"type\":\"surface\"}],\"table\":[{\"cells\":{\"fill\":{\"color\":\"rgb(237,237,237)\"},\"line\":{\"color\":\"white\"}},\"header\":{\"fill\":{\"color\":\"rgb(217,217,217)\"},\"line\":{\"color\":\"white\"}},\"type\":\"table\"}]},\"layout\":{\"annotationdefaults\":{\"arrowhead\":0,\"arrowwidth\":1},\"autotypenumbers\":\"strict\",\"coloraxis\":{\"colorbar\":{\"outlinewidth\":0,\"tickcolor\":\"rgb(237,237,237)\",\"ticklen\":6,\"ticks\":\"inside\"}},\"colorscale\":{\"sequential\":[[0,\"rgb(20,44,66)\"],[1,\"rgb(90,179,244)\"]],\"sequentialminus\":[[0,\"rgb(20,44,66)\"],[1,\"rgb(90,179,244)\"]]},\"colorway\":[\"#F8766D\",\"#A3A500\",\"#00BF7D\",\"#00B0F6\",\"#E76BF3\"],\"font\":{\"color\":\"rgb(51,51,51)\"},\"geo\":{\"bgcolor\":\"white\",\"lakecolor\":\"white\",\"landcolor\":\"rgb(237,237,237)\",\"showlakes\":true,\"showland\":true,\"subunitcolor\":\"white\"},\"hoverlabel\":{\"align\":\"left\"},\"hovermode\":\"closest\",\"paper_bgcolor\":\"white\",\"plot_bgcolor\":\"rgb(237,237,237)\",\"polar\":{\"angularaxis\":{\"gridcolor\":\"white\",\"linecolor\":\"white\",\"showgrid\":true,\"tickcolor\":\"rgb(51,51,51)\",\"ticks\":\"outside\"},\"bgcolor\":\"rgb(237,237,237)\",\"radialaxis\":{\"gridcolor\":\"white\",\"linecolor\":\"white\",\"showgrid\":true,\"tickcolor\":\"rgb(51,51,51)\",\"ticks\":\"outside\"}},\"scene\":{\"xaxis\":{\"backgroundcolor\":\"rgb(237,237,237)\",\"gridcolor\":\"white\",\"gridwidth\":2,\"linecolor\":\"white\",\"showbackground\":true,\"showgrid\":true,\"tickcolor\":\"rgb(51,51,51)\",\"ticks\":\"outside\",\"zerolinecolor\":\"white\"},\"yaxis\":{\"backgroundcolor\":\"rgb(237,237,237)\",\"gridcolor\":\"white\",\"gridwidth\":2,\"linecolor\":\"white\",\"showbackground\":true,\"showgrid\":true,\"tickcolor\":\"rgb(51,51,51)\",\"ticks\":\"outside\",\"zerolinecolor\":\"white\"},\"zaxis\":{\"backgroundcolor\":\"rgb(237,237,237)\",\"gridcolor\":\"white\",\"gridwidth\":2,\"linecolor\":\"white\",\"showbackground\":true,\"showgrid\":true,\"tickcolor\":\"rgb(51,51,51)\",\"ticks\":\"outside\",\"zerolinecolor\":\"white\"}},\"shapedefaults\":{\"fillcolor\":\"black\",\"line\":{\"width\":0},\"opacity\":0.3},\"ternary\":{\"aaxis\":{\"gridcolor\":\"white\",\"linecolor\":\"white\",\"showgrid\":true,\"tickcolor\":\"rgb(51,51,51)\",\"ticks\":\"outside\"},\"baxis\":{\"gridcolor\":\"white\",\"linecolor\":\"white\",\"showgrid\":true,\"tickcolor\":\"rgb(51,51,51)\",\"ticks\":\"outside\"},\"bgcolor\":\"rgb(237,237,237)\",\"caxis\":{\"gridcolor\":\"white\",\"linecolor\":\"white\",\"showgrid\":true,\"tickcolor\":\"rgb(51,51,51)\",\"ticks\":\"outside\"}},\"xaxis\":{\"automargin\":true,\"gridcolor\":\"white\",\"linecolor\":\"white\",\"showgrid\":true,\"tickcolor\":\"rgb(51,51,51)\",\"ticks\":\"outside\",\"title\":{\"standoff\":15},\"zerolinecolor\":\"white\"},\"yaxis\":{\"automargin\":true,\"gridcolor\":\"white\",\"linecolor\":\"white\",\"showgrid\":true,\"tickcolor\":\"rgb(51,51,51)\",\"ticks\":\"outside\",\"title\":{\"standoff\":15},\"zerolinecolor\":\"white\"}}},\"xaxis\":{\"anchor\":\"y\",\"domain\":[0.0,1.0],\"title\":{\"text\":\"Range (Km)\"}},\"yaxis\":{\"anchor\":\"x\",\"domain\":[0.0,1.0],\"title\":{\"text\":\"avg of Price (\\u20ac)\"}},\"legend\":{\"title\":{\"text\":\"Brand\"},\"tracegroupgap\":0},\"title\":{\"text\":\"Average Price and Range\"},\"barmode\":\"group\",\"height\":400,\"width\":1000},                        {\"responsive\": true}                    ).then(function(){\n",
       "                            \n",
       "var gd = document.getElementById('55aabc26-9c38-4ef3-9f84-92f6e36a3ee6');\n",
       "var x = new MutationObserver(function (mutations, observer) {{\n",
       "        var display = window.getComputedStyle(gd).display;\n",
       "        if (!display || display === 'none') {{\n",
       "            console.log([gd, 'removed!']);\n",
       "            Plotly.purge(gd);\n",
       "            observer.disconnect();\n",
       "        }}\n",
       "}});\n",
       "\n",
       "// Listen for the removal of the full notebook cells\n",
       "var notebookContainer = gd.closest('#notebook-container');\n",
       "if (notebookContainer) {{\n",
       "    x.observe(notebookContainer, {childList: true});\n",
       "}}\n",
       "\n",
       "// Listen for the clearing of the current output cell\n",
       "var outputEl = gd.closest('.output');\n",
       "if (outputEl) {{\n",
       "    x.observe(outputEl, {childList: true});\n",
       "}}\n",
       "\n",
       "                        })                };                });            </script>        </div>"
      ]
     },
     "metadata": {},
     "output_type": "display_data"
    }
   ],
   "source": [
    "fig = ex.histogram(EV, x='Range_Km', y='PriceEuro', color='Brand', barmode='group', histfunc='avg', \n",
    "                   height=400 , width=1000 , nbins=10 , template='ggplot2' , title='Average Price and Range' ,\n",
    "                    labels=dict(PriceEuro='Price (€)', Range_Km='Range (Km)'))\n",
    "\n",
    "fig.show()"
   ]
  },
  {
   "cell_type": "markdown",
   "id": "0932497e",
   "metadata": {},
   "source": [
    "This histogram shows the average price of each brand's cars in a certain range. We can see on here that most of the cars ranging 200-500 Km with their price going between 25-150k Euro depending on the brand. Some cars can go between 100-200 Km with a single charge and priced between 20k-35k Euro which make them slightly cheeper than the others."
   ]
  },
  {
   "cell_type": "markdown",
   "id": "0a22cb5a",
   "metadata": {},
   "source": [
    "### Model with highest acceleration"
   ]
  },
  {
   "cell_type": "code",
   "execution_count": 136,
   "id": "62dc3afb",
   "metadata": {},
   "outputs": [
    {
     "data": {
      "text/html": [
       "<div>\n",
       "<style scoped>\n",
       "    .dataframe tbody tr th:only-of-type {\n",
       "        vertical-align: middle;\n",
       "    }\n",
       "\n",
       "    .dataframe tbody tr th {\n",
       "        vertical-align: top;\n",
       "    }\n",
       "\n",
       "    .dataframe thead th {\n",
       "        text-align: right;\n",
       "    }\n",
       "</style>\n",
       "<table border=\"1\" class=\"dataframe\">\n",
       "  <thead>\n",
       "    <tr style=\"text-align: right;\">\n",
       "      <th></th>\n",
       "      <th>Model</th>\n",
       "      <th>AccelSec</th>\n",
       "    </tr>\n",
       "  </thead>\n",
       "  <tbody>\n",
       "    <tr>\n",
       "      <th>68</th>\n",
       "      <td>Kangoo Maxi ZE 33</td>\n",
       "      <td>22.4</td>\n",
       "    </tr>\n",
       "  </tbody>\n",
       "</table>\n",
       "</div>"
      ],
      "text/plain": [
       "                Model  AccelSec\n",
       "68  Kangoo Maxi ZE 33      22.4"
      ]
     },
     "execution_count": 136,
     "metadata": {},
     "output_type": "execute_result"
    }
   ],
   "source": [
    "df = EV.sort_values(by=['AccelSec'], ascending=False)\n",
    "df[['Model','AccelSec']].head(n=1)"
   ]
  },
  {
   "cell_type": "markdown",
   "id": "ae8b6c0a",
   "metadata": {},
   "source": [
    "### Brand with highest acceleration"
   ]
  },
  {
   "cell_type": "code",
   "execution_count": 137,
   "id": "2b525205",
   "metadata": {},
   "outputs": [
    {
     "data": {
      "text/html": [
       "<div>\n",
       "<style scoped>\n",
       "    .dataframe tbody tr th:only-of-type {\n",
       "        vertical-align: middle;\n",
       "    }\n",
       "\n",
       "    .dataframe tbody tr th {\n",
       "        vertical-align: top;\n",
       "    }\n",
       "\n",
       "    .dataframe thead th {\n",
       "        text-align: right;\n",
       "    }\n",
       "</style>\n",
       "<table border=\"1\" class=\"dataframe\">\n",
       "  <thead>\n",
       "    <tr style=\"text-align: right;\">\n",
       "      <th></th>\n",
       "      <th>Brand</th>\n",
       "      <th>AccelSec</th>\n",
       "    </tr>\n",
       "  </thead>\n",
       "  <tbody>\n",
       "    <tr>\n",
       "      <th>68</th>\n",
       "      <td>Renault</td>\n",
       "      <td>22.4</td>\n",
       "    </tr>\n",
       "  </tbody>\n",
       "</table>\n",
       "</div>"
      ],
      "text/plain": [
       "       Brand  AccelSec\n",
       "68  Renault       22.4"
      ]
     },
     "execution_count": 137,
     "metadata": {},
     "output_type": "execute_result"
    }
   ],
   "source": [
    "df = EV.sort_values(by=['AccelSec'], ascending=False)\n",
    "df[['Brand','AccelSec']].head(n=1)"
   ]
  },
  {
   "cell_type": "markdown",
   "id": "a1a20ecc",
   "metadata": {},
   "source": [
    "### Model with highest Speed\n"
   ]
  },
  {
   "cell_type": "code",
   "execution_count": 138,
   "id": "234c8825",
   "metadata": {},
   "outputs": [
    {
     "data": {
      "text/html": [
       "<div>\n",
       "<style scoped>\n",
       "    .dataframe tbody tr th:only-of-type {\n",
       "        vertical-align: middle;\n",
       "    }\n",
       "\n",
       "    .dataframe tbody tr th {\n",
       "        vertical-align: top;\n",
       "    }\n",
       "\n",
       "    .dataframe thead th {\n",
       "        text-align: right;\n",
       "    }\n",
       "</style>\n",
       "<table border=\"1\" class=\"dataframe\">\n",
       "  <thead>\n",
       "    <tr style=\"text-align: right;\">\n",
       "      <th></th>\n",
       "      <th>Model</th>\n",
       "      <th>TopSpeed_KmH</th>\n",
       "    </tr>\n",
       "  </thead>\n",
       "  <tbody>\n",
       "    <tr>\n",
       "      <th>51</th>\n",
       "      <td>Roadster</td>\n",
       "      <td>410</td>\n",
       "    </tr>\n",
       "  </tbody>\n",
       "</table>\n",
       "</div>"
      ],
      "text/plain": [
       "        Model  TopSpeed_KmH\n",
       "51  Roadster            410"
      ]
     },
     "execution_count": 138,
     "metadata": {},
     "output_type": "execute_result"
    }
   ],
   "source": [
    "df = EV.sort_values(by=['TopSpeed_KmH'], ascending=False)\n",
    "df[['Model','TopSpeed_KmH']].head(n=1)"
   ]
  },
  {
   "cell_type": "markdown",
   "id": "7013989d",
   "metadata": {},
   "source": [
    "### Brand with highest Speed"
   ]
  },
  {
   "cell_type": "code",
   "execution_count": 139,
   "id": "832df509",
   "metadata": {},
   "outputs": [
    {
     "data": {
      "text/html": [
       "<div>\n",
       "<style scoped>\n",
       "    .dataframe tbody tr th:only-of-type {\n",
       "        vertical-align: middle;\n",
       "    }\n",
       "\n",
       "    .dataframe tbody tr th {\n",
       "        vertical-align: top;\n",
       "    }\n",
       "\n",
       "    .dataframe thead th {\n",
       "        text-align: right;\n",
       "    }\n",
       "</style>\n",
       "<table border=\"1\" class=\"dataframe\">\n",
       "  <thead>\n",
       "    <tr style=\"text-align: right;\">\n",
       "      <th></th>\n",
       "      <th>Brand</th>\n",
       "      <th>TopSpeed_KmH</th>\n",
       "    </tr>\n",
       "  </thead>\n",
       "  <tbody>\n",
       "    <tr>\n",
       "      <th>51</th>\n",
       "      <td>Tesla</td>\n",
       "      <td>410</td>\n",
       "    </tr>\n",
       "  </tbody>\n",
       "</table>\n",
       "</div>"
      ],
      "text/plain": [
       "     Brand  TopSpeed_KmH\n",
       "51  Tesla            410"
      ]
     },
     "execution_count": 139,
     "metadata": {},
     "output_type": "execute_result"
    }
   ],
   "source": [
    "df = EV.sort_values(by=['TopSpeed_KmH'], ascending=False)\n",
    "df[['Brand','TopSpeed_KmH']].head(n=1)"
   ]
  },
  {
   "cell_type": "markdown",
   "id": "c887bf32",
   "metadata": {},
   "source": [
    "### Model with maximum efficiency"
   ]
  },
  {
   "cell_type": "code",
   "execution_count": 140,
   "id": "99354045",
   "metadata": {},
   "outputs": [
    {
     "data": {
      "text/html": [
       "<div>\n",
       "<style scoped>\n",
       "    .dataframe tbody tr th:only-of-type {\n",
       "        vertical-align: middle;\n",
       "    }\n",
       "\n",
       "    .dataframe tbody tr th {\n",
       "        vertical-align: top;\n",
       "    }\n",
       "\n",
       "    .dataframe thead th {\n",
       "        text-align: right;\n",
       "    }\n",
       "</style>\n",
       "<table border=\"1\" class=\"dataframe\">\n",
       "  <thead>\n",
       "    <tr style=\"text-align: right;\">\n",
       "      <th></th>\n",
       "      <th>Model</th>\n",
       "      <th>Efficiency_WhKm</th>\n",
       "    </tr>\n",
       "  </thead>\n",
       "  <tbody>\n",
       "    <tr>\n",
       "      <th>84</th>\n",
       "      <td>EQV 300 Long</td>\n",
       "      <td>273</td>\n",
       "    </tr>\n",
       "  </tbody>\n",
       "</table>\n",
       "</div>"
      ],
      "text/plain": [
       "           Model  Efficiency_WhKm\n",
       "84  EQV 300 Long              273"
      ]
     },
     "execution_count": 140,
     "metadata": {},
     "output_type": "execute_result"
    }
   ],
   "source": [
    "df = EV.sort_values(by=['Efficiency_WhKm'], ascending=False)\n",
    "df[['Model','Efficiency_WhKm']].head(n=1)"
   ]
  },
  {
   "cell_type": "markdown",
   "id": "e33ec463",
   "metadata": {},
   "source": [
    "### Brand with maximum efficiency"
   ]
  },
  {
   "cell_type": "code",
   "execution_count": 141,
   "id": "5a6e9253",
   "metadata": {},
   "outputs": [
    {
     "data": {
      "text/html": [
       "<div>\n",
       "<style scoped>\n",
       "    .dataframe tbody tr th:only-of-type {\n",
       "        vertical-align: middle;\n",
       "    }\n",
       "\n",
       "    .dataframe tbody tr th {\n",
       "        vertical-align: top;\n",
       "    }\n",
       "\n",
       "    .dataframe thead th {\n",
       "        text-align: right;\n",
       "    }\n",
       "</style>\n",
       "<table border=\"1\" class=\"dataframe\">\n",
       "  <thead>\n",
       "    <tr style=\"text-align: right;\">\n",
       "      <th></th>\n",
       "      <th>Brand</th>\n",
       "      <th>Efficiency_WhKm</th>\n",
       "    </tr>\n",
       "  </thead>\n",
       "  <tbody>\n",
       "    <tr>\n",
       "      <th>84</th>\n",
       "      <td>Mercedes</td>\n",
       "      <td>273</td>\n",
       "    </tr>\n",
       "  </tbody>\n",
       "</table>\n",
       "</div>"
      ],
      "text/plain": [
       "        Brand  Efficiency_WhKm\n",
       "84  Mercedes               273"
      ]
     },
     "execution_count": 141,
     "metadata": {},
     "output_type": "execute_result"
    }
   ],
   "source": [
    "df = EV.sort_values(by=['Efficiency_WhKm'], ascending=False)\n",
    "df[['Brand','Efficiency_WhKm']].head(n=1)"
   ]
  },
  {
   "cell_type": "markdown",
   "id": "68f07ea2",
   "metadata": {},
   "source": [
    "### Distribution of PowerTrain wrt Range, Speed and Efficiency"
   ]
  },
  {
   "cell_type": "code",
   "execution_count": 142,
   "id": "8746457a",
   "metadata": {},
   "outputs": [
    {
     "data": {
      "image/png": "[encoded data removed]",
      "text/plain": [
       "<Figure size 576x432 with 1 Axes>"
      ]
     },
     "metadata": {
      "needs_background": "light"
     },
     "output_type": "display_data"
    },
    {
     "data": {
      "image/png": "[encoded data removed]",
      "text/plain": [
       "<Figure size 576x432 with 1 Axes>"
      ]
     },
     "metadata": {
      "needs_background": "light"
     },
     "output_type": "display_data"
    },
    {
     "data": {
      "image/png": "[encoded data removed]",
      "text/plain": [
       "<Figure size 576x432 with 1 Axes>"
      ]
     },
     "metadata": {
      "needs_background": "light"
     },
     "output_type": "display_data"
    }
   ],
   "source": [
    "for col in ['Range_Km','TopSpeed_KmH','Efficiency_WhKm']:\n",
    "    fig=plt.figure(figsize=(8,6))\n",
    "    sns.scatterplot(data=EV,hue='PowerTrain',y=col,x='PriceEuro')\n",
    "    plt.show()"
   ]
  },
  {
   "cell_type": "code",
   "execution_count": 143,
   "id": "f830df8c",
   "metadata": {},
   "outputs": [
    {
     "data": {
      "image/png": "[encoded data removed]",
      "text/plain": [
       "<Figure size 720x360 with 1 Axes>"
      ]
     },
     "metadata": {
      "needs_background": "light"
     },
     "output_type": "display_data"
    },
    {
     "data": {
      "image/png": "[encoded data removed]",
      "text/plain": [
       "<Figure size 720x360 with 1 Axes>"
      ]
     },
     "metadata": {
      "needs_background": "light"
     },
     "output_type": "display_data"
    },
    {
     "data": {
      "image/png": "[encoded data removed]",
      "text/plain": [
       "<Figure size 720x360 with 1 Axes>"
      ]
     },
     "metadata": {
      "needs_background": "light"
     },
     "output_type": "display_data"
    }
   ],
   "source": [
    "for col in ['Range_Km','TopSpeed_KmH','Efficiency_WhKm']:\n",
    "    sns.catplot(x=col,y='PowerTrain',data=EV,kind='point',aspect=2,)\n",
    "    plt.ylim(0,1)"
   ]
  },
  {
   "cell_type": "code",
   "execution_count": 144,
   "id": "3cee9d15",
   "metadata": {},
   "outputs": [
    {
     "data": {
      "image/png": "[encoded data removed]",
      "text/plain": [
       "<Figure size 432x288 with 1 Axes>"
      ]
     },
     "metadata": {
      "needs_background": "light"
     },
     "output_type": "display_data"
    },
    {
     "data": {
      "image/png": "[encoded data removed]",
      "text/plain": [
       "<Figure size 432x288 with 1 Axes>"
      ]
     },
     "metadata": {
      "needs_background": "light"
     },
     "output_type": "display_data"
    },
    {
     "data": {
      "image/png": "[encoded data removed]",
      "text/plain": [
       "<Figure size 432x288 with 1 Axes>"
      ]
     },
     "metadata": {
      "needs_background": "light"
     },
     "output_type": "display_data"
    }
   ],
   "source": [
    "for col in ['Range_Km','TopSpeed_KmH','Efficiency_WhKm']:\n",
    "    plt.bar(EV['PowerTrain'],EV[col],label='Top Speed')\n",
    "    plt.show()"
   ]
  },
  {
   "cell_type": "code",
   "execution_count": 145,
   "id": "67754cfe",
   "metadata": {},
   "outputs": [
    {
     "data": {
      "image/png": "[encoded data removed]",
      "text/plain": [
       "<Figure size 576x432 with 1 Axes>"
      ]
     },
     "metadata": {
      "needs_background": "light"
     },
     "output_type": "display_data"
    },
    {
     "data": {
      "image/png": "[encoded data removed]",
      "text/plain": [
       "<Figure size 576x432 with 1 Axes>"
      ]
     },
     "metadata": {
      "needs_background": "light"
     },
     "output_type": "display_data"
    },
    {
     "data": {
      "image/png": "[encoded data removed]",
      "text/plain": [
       "<Figure size 576x432 with 1 Axes>"
      ]
     },
     "metadata": {
      "needs_background": "light"
     },
     "output_type": "display_data"
    }
   ],
   "source": [
    "for col in ['Range_Km','TopSpeed_KmH','Efficiency_WhKm']:\n",
    "    fig=plt.figure(figsize=(8,6))\n",
    "    sns.scatterplot(data=EV,hue='BodyStyle',y=col,x='PriceEuro')\n",
    "    plt.show()"
   ]
  },
  {
   "cell_type": "code",
   "execution_count": 146,
   "id": "7fbd4857",
   "metadata": {},
   "outputs": [
    {
     "data": {
      "image/png": "[encoded data removed]",
      "text/plain": [
       "<Figure size 720x360 with 1 Axes>"
      ]
     },
     "metadata": {
      "needs_background": "light"
     },
     "output_type": "display_data"
    },
    {
     "data": {
      "image/png": "[encoded data removed]",
      "text/plain": [
       "<Figure size 720x360 with 1 Axes>"
      ]
     },
     "metadata": {
      "needs_background": "light"
     },
     "output_type": "display_data"
    },
    {
     "data": {
      "image/png": "[encoded data removed]",
      "text/plain": [
       "<Figure size 720x360 with 1 Axes>"
      ]
     },
     "metadata": {
      "needs_background": "light"
     },
     "output_type": "display_data"
    }
   ],
   "source": [
    "for col in ['Range_Km','TopSpeed_KmH','Efficiency_WhKm']:\n",
    "    sns.catplot(x=col,y='BodyStyle',data=EV,kind='point',aspect=2,)\n",
    "    plt.ylim(0,1)"
   ]
  },
  {
   "cell_type": "code",
   "execution_count": 147,
   "id": "5d975f91",
   "metadata": {},
   "outputs": [
    {
     "data": {
      "image/png": "[encoded data removed]",
      "text/plain": [
       "<Figure size 432x288 with 1 Axes>"
      ]
     },
     "metadata": {
      "needs_background": "light"
     },
     "output_type": "display_data"
    },
    {
     "data": {
      "image/png": "[encoded data removed]",
      "text/plain": [
       "<Figure size 432x288 with 1 Axes>"
      ]
     },
     "metadata": {
      "needs_background": "light"
     },
     "output_type": "display_data"
    },
    {
     "data": {
      "image/png": "[encoded data removed]",
      "text/plain": [
       "<Figure size 432x288 with 1 Axes>"
      ]
     },
     "metadata": {
      "needs_background": "light"
     },
     "output_type": "display_data"
    }
   ],
   "source": [
    "for col in ['Range_Km','TopSpeed_KmH','Efficiency_WhKm']:\n",
    "    plt.bar(EV['BodyStyle'],EV[col],label='Top Speed')\n",
    "    plt.show()"
   ]
  },
  {
   "cell_type": "markdown",
   "id": "14c1ef59",
   "metadata": {},
   "source": [
    "### Total number of models wrt brands"
   ]
  },
  {
   "cell_type": "code",
   "execution_count": 148,
   "id": "a8ea7b6d",
   "metadata": {},
   "outputs": [
    {
     "data": {
      "image/png": "[encoded data removed]",
      "text/plain": [
       "<Figure size 1080x432 with 1 Axes>"
      ]
     },
     "metadata": {
      "needs_background": "light"
     },
     "output_type": "display_data"
    },
    {
     "name": "stdout",
     "output_type": "stream",
     "text": [
      "Brand with most number of vehicles\n"
     ]
    },
    {
     "data": {
      "text/plain": [
       "Brand\n",
       "Tesla     13\n",
       "Name: Model, dtype: int64"
      ]
     },
     "execution_count": 148,
     "metadata": {},
     "output_type": "execute_result"
    }
   ],
   "source": [
    "plt.figure(figsize=(15,6))\n",
    "plt.xticks(rotation = 90)\n",
    "plt.grid(axis=\"x\")\n",
    "plt.xlabel(\"Brand Name\")\n",
    "plt.ylabel(\"No. of EV Models\")\n",
    "plt.title('No. of EVs',fontsize=20)\n",
    "plt.plot(df['Brand'].value_counts(), label='No. of Models')\n",
    "plt.show()\n",
    "\n",
    "print('Brand with most number of vehicles')\n",
    "EV.groupby('Brand')['Model'].count().nlargest(n=1)"
   ]
  },
  {
   "cell_type": "markdown",
   "id": "2eb4405a",
   "metadata": {},
   "source": [
    "### PowerTrain wrt Range_Km"
   ]
  },
  {
   "cell_type": "code",
   "execution_count": 149,
   "id": "2a24cdd8",
   "metadata": {},
   "outputs": [
    {
     "data": {
      "image/png": "[encoded data removed]",
      "text/plain": [
       "<Figure size 576x432 with 1 Axes>"
      ]
     },
     "metadata": {
      "needs_background": "light"
     },
     "output_type": "display_data"
    }
   ],
   "source": [
    "fig=plt.figure(figsize=(8,6))\n",
    "sns.boxplot(data=EV,x='PowerTrain',y=\"Range_Km\")\n",
    "plt.show()"
   ]
  },
  {
   "cell_type": "markdown",
   "id": "989f30e4",
   "metadata": {},
   "source": [
    "### Brand wrt Range_km"
   ]
  },
  {
   "cell_type": "code",
   "execution_count": 150,
   "id": "b0705f1a",
   "metadata": {},
   "outputs": [
    {
     "data": {
      "image/png": "[encoded data removed]",
      "text/plain": [
       "<Figure size 2304x1368 with 1 Axes>"
      ]
     },
     "metadata": {
      "needs_background": "light"
     },
     "output_type": "display_data"
    }
   ],
   "source": [
    "fig=plt.figure(figsize=(32,19))\n",
    "sns.boxplot(data=EV,x='Brand',y=\"Range_Km\")\n",
    "plt.show()"
   ]
  },
  {
   "cell_type": "markdown",
   "id": "dea9381a",
   "metadata": {},
   "source": [
    "### TopSpeed wrt BodyStyle"
   ]
  },
  {
   "cell_type": "code",
   "execution_count": 151,
   "id": "1fafd389",
   "metadata": {},
   "outputs": [
    {
     "data": {
      "image/png": "[encoded data removed]",
      "text/plain": [
       "<Figure size 1296x720 with 1 Axes>"
      ]
     },
     "metadata": {
      "needs_background": "light"
     },
     "output_type": "display_data"
    }
   ],
   "source": [
    "fig=plt.figure(figsize=(18,10))\n",
    "sns.boxplot(data=EV,x='TopSpeed_KmH',y=\"BodyStyle\")\n",
    "plt.show()"
   ]
  },
  {
   "cell_type": "code",
   "execution_count": 152,
   "id": "2e3c51cc",
   "metadata": {},
   "outputs": [
    {
     "data": {
      "text/plain": [
       "Index(['Brand', 'Model', 'AccelSec', 'TopSpeed_KmH', 'Range_Km',\n",
       "       'Efficiency_WhKm', 'FastCharge_KmH', 'RapidCharge', 'PowerTrain',\n",
       "       'PlugType', 'BodyStyle', 'Segment', 'Seats', 'PriceEuro'],\n",
       "      dtype='object')"
      ]
     },
     "execution_count": 152,
     "metadata": {},
     "output_type": "execute_result"
    }
   ],
   "source": [
    "EV.columns"
   ]
  },
  {
   "cell_type": "code",
   "execution_count": 153,
   "id": "8cdc421c",
   "metadata": {},
   "outputs": [
    {
     "data": {
      "text/html": [
       "<div>\n",
       "<style scoped>\n",
       "    .dataframe tbody tr th:only-of-type {\n",
       "        vertical-align: middle;\n",
       "    }\n",
       "\n",
       "    .dataframe tbody tr th {\n",
       "        vertical-align: top;\n",
       "    }\n",
       "\n",
       "    .dataframe thead th {\n",
       "        text-align: right;\n",
       "    }\n",
       "</style>\n",
       "<table border=\"1\" class=\"dataframe\">\n",
       "  <thead>\n",
       "    <tr style=\"text-align: right;\">\n",
       "      <th></th>\n",
       "      <th>Brand</th>\n",
       "      <th>Model</th>\n",
       "      <th>RapidCharge</th>\n",
       "      <th>PowerTrain</th>\n",
       "      <th>PlugType</th>\n",
       "      <th>BodyStyle</th>\n",
       "      <th>Segment</th>\n",
       "    </tr>\n",
       "  </thead>\n",
       "  <tbody>\n",
       "    <tr>\n",
       "      <th>0</th>\n",
       "      <td>Tesla</td>\n",
       "      <td>Model 3 Long Range Dual Motor</td>\n",
       "      <td>Yes</td>\n",
       "      <td>AWD</td>\n",
       "      <td>Type 2 CCS</td>\n",
       "      <td>Sedan</td>\n",
       "      <td>D</td>\n",
       "    </tr>\n",
       "    <tr>\n",
       "      <th>1</th>\n",
       "      <td>Volkswagen</td>\n",
       "      <td>ID.3 Pure</td>\n",
       "      <td>Yes</td>\n",
       "      <td>RWD</td>\n",
       "      <td>Type 2 CCS</td>\n",
       "      <td>Hatchback</td>\n",
       "      <td>C</td>\n",
       "    </tr>\n",
       "    <tr>\n",
       "      <th>2</th>\n",
       "      <td>Polestar</td>\n",
       "      <td>2</td>\n",
       "      <td>Yes</td>\n",
       "      <td>AWD</td>\n",
       "      <td>Type 2 CCS</td>\n",
       "      <td>Liftback</td>\n",
       "      <td>D</td>\n",
       "    </tr>\n",
       "    <tr>\n",
       "      <th>3</th>\n",
       "      <td>BMW</td>\n",
       "      <td>iX3</td>\n",
       "      <td>Yes</td>\n",
       "      <td>RWD</td>\n",
       "      <td>Type 2 CCS</td>\n",
       "      <td>SUV</td>\n",
       "      <td>D</td>\n",
       "    </tr>\n",
       "    <tr>\n",
       "      <th>4</th>\n",
       "      <td>Honda</td>\n",
       "      <td>e</td>\n",
       "      <td>Yes</td>\n",
       "      <td>RWD</td>\n",
       "      <td>Type 2 CCS</td>\n",
       "      <td>Hatchback</td>\n",
       "      <td>B</td>\n",
       "    </tr>\n",
       "    <tr>\n",
       "      <th>...</th>\n",
       "      <td>...</td>\n",
       "      <td>...</td>\n",
       "      <td>...</td>\n",
       "      <td>...</td>\n",
       "      <td>...</td>\n",
       "      <td>...</td>\n",
       "      <td>...</td>\n",
       "    </tr>\n",
       "    <tr>\n",
       "      <th>98</th>\n",
       "      <td>Nissan</td>\n",
       "      <td>Ariya 63kWh</td>\n",
       "      <td>Yes</td>\n",
       "      <td>FWD</td>\n",
       "      <td>Type 2 CCS</td>\n",
       "      <td>Hatchback</td>\n",
       "      <td>C</td>\n",
       "    </tr>\n",
       "    <tr>\n",
       "      <th>99</th>\n",
       "      <td>Audi</td>\n",
       "      <td>e-tron S Sportback 55 quattro</td>\n",
       "      <td>Yes</td>\n",
       "      <td>AWD</td>\n",
       "      <td>Type 2 CCS</td>\n",
       "      <td>SUV</td>\n",
       "      <td>E</td>\n",
       "    </tr>\n",
       "    <tr>\n",
       "      <th>100</th>\n",
       "      <td>Nissan</td>\n",
       "      <td>Ariya e-4ORCE 63kWh</td>\n",
       "      <td>Yes</td>\n",
       "      <td>AWD</td>\n",
       "      <td>Type 2 CCS</td>\n",
       "      <td>Hatchback</td>\n",
       "      <td>C</td>\n",
       "    </tr>\n",
       "    <tr>\n",
       "      <th>101</th>\n",
       "      <td>Nissan</td>\n",
       "      <td>Ariya e-4ORCE 87kWh Performance</td>\n",
       "      <td>Yes</td>\n",
       "      <td>AWD</td>\n",
       "      <td>Type 2 CCS</td>\n",
       "      <td>Hatchback</td>\n",
       "      <td>C</td>\n",
       "    </tr>\n",
       "    <tr>\n",
       "      <th>102</th>\n",
       "      <td>Byton</td>\n",
       "      <td>M-Byte 95 kWh 2WD</td>\n",
       "      <td>Yes</td>\n",
       "      <td>AWD</td>\n",
       "      <td>Type 2 CCS</td>\n",
       "      <td>SUV</td>\n",
       "      <td>E</td>\n",
       "    </tr>\n",
       "  </tbody>\n",
       "</table>\n",
       "<p>103 rows × 7 columns</p>\n",
       "</div>"
      ],
      "text/plain": [
       "           Brand                            Model RapidCharge PowerTrain  \\\n",
       "0         Tesla     Model 3 Long Range Dual Motor         Yes        AWD   \n",
       "1    Volkswagen                         ID.3 Pure         Yes        RWD   \n",
       "2      Polestar                                 2         Yes        AWD   \n",
       "3           BMW                              iX3          Yes        RWD   \n",
       "4         Honda                                e          Yes        RWD   \n",
       "..           ...                              ...         ...        ...   \n",
       "98       Nissan                       Ariya 63kWh         Yes        FWD   \n",
       "99         Audi     e-tron S Sportback 55 quattro         Yes        AWD   \n",
       "100      Nissan               Ariya e-4ORCE 63kWh         Yes        AWD   \n",
       "101      Nissan   Ariya e-4ORCE 87kWh Performance         Yes        AWD   \n",
       "102       Byton                 M-Byte 95 kWh 2WD         Yes        AWD   \n",
       "\n",
       "       PlugType  BodyStyle Segment  \n",
       "0    Type 2 CCS      Sedan       D  \n",
       "1    Type 2 CCS  Hatchback       C  \n",
       "2    Type 2 CCS   Liftback       D  \n",
       "3    Type 2 CCS        SUV       D  \n",
       "4    Type 2 CCS  Hatchback       B  \n",
       "..          ...        ...     ...  \n",
       "98   Type 2 CCS  Hatchback       C  \n",
       "99   Type 2 CCS        SUV       E  \n",
       "100  Type 2 CCS  Hatchback       C  \n",
       "101  Type 2 CCS  Hatchback       C  \n",
       "102  Type 2 CCS        SUV       E  \n",
       "\n",
       "[103 rows x 7 columns]"
      ]
     },
     "execution_count": 153,
     "metadata": {},
     "output_type": "execute_result"
    }
   ],
   "source": [
    "EV_df = EV[['Brand', 'Model', 'RapidCharge', 'PowerTrain', 'PlugType', 'BodyStyle', 'Segment']]\n",
    "EV_df"
   ]
  },
  {
   "cell_type": "code",
   "execution_count": 154,
   "id": "a5a672a9",
   "metadata": {},
   "outputs": [
    {
     "name": "stdout",
     "output_type": "stream",
     "text": [
      "           Brand                            Model RapidCharge PowerTrain  \\\n",
      "0         Tesla     Model 3 Long Range Dual Motor         Yes        AWD   \n",
      "1    Volkswagen                         ID.3 Pure         Yes        RWD   \n",
      "2      Polestar                                 2         Yes        AWD   \n",
      "3           BMW                              iX3          Yes        RWD   \n",
      "4         Honda                                e          Yes        RWD   \n",
      "..           ...                              ...         ...        ...   \n",
      "98       Nissan                       Ariya 63kWh         Yes        FWD   \n",
      "99         Audi     e-tron S Sportback 55 quattro         Yes        AWD   \n",
      "100      Nissan               Ariya e-4ORCE 63kWh         Yes        AWD   \n",
      "101      Nissan   Ariya e-4ORCE 87kWh Performance         Yes        AWD   \n",
      "102       Byton                 M-Byte 95 kWh 2WD         Yes        AWD   \n",
      "\n",
      "       PlugType  BodyStyle Segment  \n",
      "0    Type 2 CCS      Sedan       D  \n",
      "1    Type 2 CCS  Hatchback       C  \n",
      "2    Type 2 CCS   Liftback       D  \n",
      "3    Type 2 CCS        SUV       D  \n",
      "4    Type 2 CCS  Hatchback       B  \n",
      "..          ...        ...     ...  \n",
      "98   Type 2 CCS  Hatchback       C  \n",
      "99   Type 2 CCS        SUV       E  \n",
      "100  Type 2 CCS  Hatchback       C  \n",
      "101  Type 2 CCS  Hatchback       C  \n",
      "102  Type 2 CCS        SUV       E  \n",
      "\n",
      "[103 rows x 7 columns]\n",
      "[[ 30.  46.   1.   0.   2.   7.   3.]\n",
      " [ 31.  33.   1.   2.   2.   1.   2.]\n",
      " [ 23.   0.   1.   0.   2.   2.   3.]\n",
      " [  2. 101.   1.   2.   2.   6.   3.]\n",
      " [  9.  78.   1.   2.   2.   1.   1.]\n",
      " [ 15.   4.   1.   0.   2.   7.   5.]\n",
      " [ 31.  83.   1.   1.   2.   1.   2.]\n",
      " [ 22.  81.   1.   1.   2.   1.   1.]\n",
      " [ 30.  48.   1.   2.   2.   7.   3.]\n",
      " [  1.  62.   1.   0.   2.   6.   3.]\n",
      " [ 18.  21.   1.   0.   2.   6.   3.]\n",
      " [ 20.  39.   1.   1.   3.   1.   2.]\n",
      " [ 10.  38.   1.   1.   2.   6.   1.]\n",
      " [  2. 100.   1.   2.   2.   7.   3.]\n",
      " [ 10.  35.   1.   1.   2.   2.   2.]\n",
      " [ 31.  32.   1.   2.   2.   1.   2.]\n",
      " [ 24.  69.   1.   0.   2.   7.   5.]\n",
      " [ 31.  89.   1.   1.   2.   1.   0.]\n",
      " [ 16.  74.   1.   1.   2.   6.   1.]\n",
      " [ 19.  12.   1.   1.   2.   1.   1.]\n",
      " [ 21.  13.   1.   1.   2.   1.   1.]\n",
      " [ 30.  53.   1.   0.   2.   6.   3.]\n",
      " [ 27.  23.   1.   2.   2.   6.   2.]\n",
      " [  1.  92.   1.   0.   2.   7.   5.]\n",
      " [ 30.  47.   1.   0.   2.   7.   3.]\n",
      " [ 31.  34.   1.   2.   2.   6.   2.]\n",
      " [ 31.  30.   1.   2.   2.   1.   2.]\n",
      " [ 32.  73.   1.   0.   2.   6.   2.]\n",
      " [  2.  98.   1.   2.   2.   1.   1.]\n",
      " [ 22.  80.   1.   1.   2.   6.   1.]\n",
      " [  1.  90.   1.   0.   2.   6.   4.]\n",
      " [ 12.  86.   1.   1.   2.   6.   2.]\n",
      " [ 25.  76.   1.   1.   2.   1.   1.]\n",
      " [ 30.  16.   1.   0.   2.   4.   6.]\n",
      " [ 17.  44.   1.   1.   2.   6.   2.]\n",
      " [ 20.  40.   1.   1.   3.   1.   2.]\n",
      " [ 13.  72.   1.   1.   3.   6.   2.]\n",
      " [  4.  97.   1.   2.   2.   1.   2.]\n",
      " [ 25.  77.   1.   1.   2.   1.   1.]\n",
      " [ 18.  20.   1.   0.   2.   6.   2.]\n",
      " [ 30.  49.   1.   0.   1.   2.   5.]\n",
      " [ 10.  37.   1.   1.   2.   6.   1.]\n",
      " [  1.  96.   1.   0.   2.   6.   4.]\n",
      " [ 27.  11.   1.   1.   2.   1.   0.]\n",
      " [ 26.  45.   1.   1.   2.   1.   0.]\n",
      " [ 12.  88.   1.   1.   2.   6.   1.]\n",
      " [ 21.   5.   1.   1.   2.   3.   1.]\n",
      " [ 24.  65.   1.   0.   2.   7.   5.]\n",
      " [ 14.  60.   1.   0.   2.   2.   5.]\n",
      " [  0.  71.   1.   1.   2.   6.   2.]\n",
      " [  1.  91.   1.   0.   2.   6.   4.]\n",
      " [ 30.  63.   1.   0.   2.   0.   7.]\n",
      " [ 21.  55.   1.   1.   2.   6.   1.]\n",
      " [ 27.  25.   1.   2.   2.   6.   2.]\n",
      " [ 30.  51.   1.   0.   1.   6.   5.]\n",
      " [  9.  79.   1.   2.   2.   1.   1.]\n",
      " [  6.   1.   1.   1.   2.   6.   1.]\n",
      " [ 25.  70.   0.   2.   1.   1.   0.]\n",
      " [  5.  82.   1.   1.   2.   6.   2.]\n",
      " [ 30.  50.   1.   0.   1.   2.   5.]\n",
      " [ 25.  75.   1.   1.   2.   1.   1.]\n",
      " [ 30.  54.   1.   0.   2.   6.   3.]\n",
      " [ 20.   7.   1.   1.   2.   1.   2.]\n",
      " [ 11.  28.   1.   0.   2.   6.   4.]\n",
      " [  8.  57.   1.   2.   2.   6.   3.]\n",
      " [ 24.  66.   1.   0.   2.   7.   5.]\n",
      " [ 20.  84.   1.   1.   0.   5.   6.]\n",
      " [ 30.  14.   1.   0.   2.   4.   6.]\n",
      " [ 25.  36.   0.   1.   1.   5.   6.]\n",
      " [  8.  56.   1.   0.   2.   6.   3.]\n",
      " [  2.  99.   1.   2.   2.   1.   1.]\n",
      " [ 27.  26.   1.   0.   2.   6.   2.]\n",
      " [ 24.  67.   1.   0.   2.   8.   5.]\n",
      " [  3.  43.   1.   0.   2.   6.   4.]\n",
      " [ 29.  64.   1.   1.   2.   1.   2.]\n",
      " [ 12.  85.   1.   1.   2.   6.   2.]\n",
      " [  1.  61.   1.   0.   2.   6.   3.]\n",
      " [ 28.  17.   0.   2.   1.   1.   0.]\n",
      " [  8.  58.   1.   0.   2.   6.   3.]\n",
      " [ 24.  68.   1.   0.   2.   7.   5.]\n",
      " [ 31.  29.   1.   2.   2.   1.   2.]\n",
      " [ 30.  52.   1.   0.   1.   6.   5.]\n",
      " [ 28.  19.   0.   2.   1.   1.   0.]\n",
      " [  8.  59.   1.   2.   2.   6.   3.]\n",
      " [ 18.  22.   1.   1.   2.   5.   6.]\n",
      " [  7.   3.   1.   1.   2.   1.   1.]\n",
      " [ 30.  15.   1.   2.   2.   4.   6.]\n",
      " [  1.  95.   1.   0.   2.   6.   4.]\n",
      " [ 27.  27.   1.   0.   2.   6.   2.]\n",
      " [ 27.  24.   1.   2.   2.   6.   2.]\n",
      " [  1.  93.   1.   0.   2.   6.   4.]\n",
      " [ 28.  18.   0.   2.   1.   0.   0.]\n",
      " [ 12.  88.   1.   1.   2.   6.   1.]\n",
      " [ 20.   9.   1.   0.   2.   1.   2.]\n",
      " [  7.   2.   1.   1.   2.   0.   1.]\n",
      " [ 31.  31.   1.   2.   2.   1.   2.]\n",
      " [ 12.  87.   1.   1.   2.   6.   1.]\n",
      " [  3.  41.   1.   2.   2.   6.   4.]\n",
      " [ 20.   6.   1.   1.   2.   1.   2.]\n",
      " [  1.  94.   1.   0.   2.   6.   4.]\n",
      " [ 20.   8.   1.   0.   2.   1.   2.]\n",
      " [ 20.  10.   1.   0.   2.   1.   2.]\n",
      " [  3.  42.   1.   0.   2.   6.   4.]]\n"
     ]
    }
   ],
   "source": [
    "from numpy import asarray\n",
    "from sklearn.preprocessing import OrdinalEncoder\n",
    "\n",
    "print(EV_df)\n",
    "\n",
    "# define ordinal encoding\n",
    "encoder = OrdinalEncoder()\n",
    "# transform data\n",
    "result = encoder.fit_transform(EV_df)\n",
    "print(result)"
   ]
  },
  {
   "cell_type": "code",
   "execution_count": 155,
   "id": "340efc8b",
   "metadata": {},
   "outputs": [],
   "source": [
    "temp = ['Brand', 'Model', 'RapidCharge', 'PowerTrain', 'PlugType', 'BodyStyle', 'Segment']\n",
    "EV.drop(temp,axis=1,inplace=True)\n"
   ]
  },
  {
   "cell_type": "code",
   "execution_count": 156,
   "id": "1625d034",
   "metadata": {},
   "outputs": [],
   "source": [
    "result = pd.DataFrame(result)"
   ]
  },
  {
   "cell_type": "code",
   "execution_count": 157,
   "id": "9c72e055",
   "metadata": {},
   "outputs": [
    {
     "data": {
      "text/html": [
       "<div>\n",
       "<style scoped>\n",
       "    .dataframe tbody tr th:only-of-type {\n",
       "        vertical-align: middle;\n",
       "    }\n",
       "\n",
       "    .dataframe tbody tr th {\n",
       "        vertical-align: top;\n",
       "    }\n",
       "\n",
       "    .dataframe thead th {\n",
       "        text-align: right;\n",
       "    }\n",
       "</style>\n",
       "<table border=\"1\" class=\"dataframe\">\n",
       "  <thead>\n",
       "    <tr style=\"text-align: right;\">\n",
       "      <th></th>\n",
       "      <th>Brand</th>\n",
       "      <th>Model</th>\n",
       "      <th>RapidCharge</th>\n",
       "      <th>PowerTrain</th>\n",
       "      <th>PlugType</th>\n",
       "      <th>BodyStyle</th>\n",
       "      <th>Segment</th>\n",
       "    </tr>\n",
       "  </thead>\n",
       "  <tbody>\n",
       "    <tr>\n",
       "      <th>1</th>\n",
       "      <td>30.0</td>\n",
       "      <td>46.0</td>\n",
       "      <td>1.0</td>\n",
       "      <td>0.0</td>\n",
       "      <td>2.0</td>\n",
       "      <td>7.0</td>\n",
       "      <td>3.0</td>\n",
       "    </tr>\n",
       "    <tr>\n",
       "      <th>2</th>\n",
       "      <td>31.0</td>\n",
       "      <td>33.0</td>\n",
       "      <td>1.0</td>\n",
       "      <td>2.0</td>\n",
       "      <td>2.0</td>\n",
       "      <td>1.0</td>\n",
       "      <td>2.0</td>\n",
       "    </tr>\n",
       "    <tr>\n",
       "      <th>3</th>\n",
       "      <td>23.0</td>\n",
       "      <td>0.0</td>\n",
       "      <td>1.0</td>\n",
       "      <td>0.0</td>\n",
       "      <td>2.0</td>\n",
       "      <td>2.0</td>\n",
       "      <td>3.0</td>\n",
       "    </tr>\n",
       "    <tr>\n",
       "      <th>4</th>\n",
       "      <td>2.0</td>\n",
       "      <td>101.0</td>\n",
       "      <td>1.0</td>\n",
       "      <td>2.0</td>\n",
       "      <td>2.0</td>\n",
       "      <td>6.0</td>\n",
       "      <td>3.0</td>\n",
       "    </tr>\n",
       "    <tr>\n",
       "      <th>5</th>\n",
       "      <td>9.0</td>\n",
       "      <td>78.0</td>\n",
       "      <td>1.0</td>\n",
       "      <td>2.0</td>\n",
       "      <td>2.0</td>\n",
       "      <td>1.0</td>\n",
       "      <td>1.0</td>\n",
       "    </tr>\n",
       "    <tr>\n",
       "      <th>...</th>\n",
       "      <td>...</td>\n",
       "      <td>...</td>\n",
       "      <td>...</td>\n",
       "      <td>...</td>\n",
       "      <td>...</td>\n",
       "      <td>...</td>\n",
       "      <td>...</td>\n",
       "    </tr>\n",
       "    <tr>\n",
       "      <th>99</th>\n",
       "      <td>20.0</td>\n",
       "      <td>6.0</td>\n",
       "      <td>1.0</td>\n",
       "      <td>1.0</td>\n",
       "      <td>2.0</td>\n",
       "      <td>1.0</td>\n",
       "      <td>2.0</td>\n",
       "    </tr>\n",
       "    <tr>\n",
       "      <th>100</th>\n",
       "      <td>1.0</td>\n",
       "      <td>94.0</td>\n",
       "      <td>1.0</td>\n",
       "      <td>0.0</td>\n",
       "      <td>2.0</td>\n",
       "      <td>6.0</td>\n",
       "      <td>4.0</td>\n",
       "    </tr>\n",
       "    <tr>\n",
       "      <th>101</th>\n",
       "      <td>20.0</td>\n",
       "      <td>8.0</td>\n",
       "      <td>1.0</td>\n",
       "      <td>0.0</td>\n",
       "      <td>2.0</td>\n",
       "      <td>1.0</td>\n",
       "      <td>2.0</td>\n",
       "    </tr>\n",
       "    <tr>\n",
       "      <th>102</th>\n",
       "      <td>20.0</td>\n",
       "      <td>10.0</td>\n",
       "      <td>1.0</td>\n",
       "      <td>0.0</td>\n",
       "      <td>2.0</td>\n",
       "      <td>1.0</td>\n",
       "      <td>2.0</td>\n",
       "    </tr>\n",
       "    <tr>\n",
       "      <th>103</th>\n",
       "      <td>3.0</td>\n",
       "      <td>42.0</td>\n",
       "      <td>1.0</td>\n",
       "      <td>0.0</td>\n",
       "      <td>2.0</td>\n",
       "      <td>6.0</td>\n",
       "      <td>4.0</td>\n",
       "    </tr>\n",
       "  </tbody>\n",
       "</table>\n",
       "<p>103 rows × 7 columns</p>\n",
       "</div>"
      ],
      "text/plain": [
       "     Brand  Model  RapidCharge  PowerTrain  PlugType  BodyStyle  Segment\n",
       "1     30.0   46.0          1.0         0.0       2.0        7.0      3.0\n",
       "2     31.0   33.0          1.0         2.0       2.0        1.0      2.0\n",
       "3     23.0    0.0          1.0         0.0       2.0        2.0      3.0\n",
       "4      2.0  101.0          1.0         2.0       2.0        6.0      3.0\n",
       "5      9.0   78.0          1.0         2.0       2.0        1.0      1.0\n",
       "..     ...    ...          ...         ...       ...        ...      ...\n",
       "99    20.0    6.0          1.0         1.0       2.0        1.0      2.0\n",
       "100    1.0   94.0          1.0         0.0       2.0        6.0      4.0\n",
       "101   20.0    8.0          1.0         0.0       2.0        1.0      2.0\n",
       "102   20.0   10.0          1.0         0.0       2.0        1.0      2.0\n",
       "103    3.0   42.0          1.0         0.0       2.0        6.0      4.0\n",
       "\n",
       "[103 rows x 7 columns]"
      ]
     },
     "execution_count": 157,
     "metadata": {},
     "output_type": "execute_result"
    }
   ],
   "source": [
    "result.columns=[\"Brand\", \"Model\", \"RapidCharge\", \"PowerTrain\", \"PlugType\", \"BodyStyle\", \"Segment\"]\n",
    "result.index+=1\n",
    "result"
   ]
  },
  {
   "cell_type": "code",
   "execution_count": 164,
   "id": "fd3d2caf",
   "metadata": {},
   "outputs": [],
   "source": [
    "EV_df = EV\n",
    "EV_df.index+=1"
   ]
  },
  {
   "cell_type": "code",
   "execution_count": 172,
   "id": "99c00349",
   "metadata": {},
   "outputs": [],
   "source": [
    "EV_df[['Brand', 'Model', 'RapidCharge', 'PowerTrain', 'PlugType', 'BodyStyle', 'Segment']] = result[['Brand', 'Model', 'RapidCharge', 'PowerTrain', 'PlugType', 'BodyStyle', 'Segment']]\n"
   ]
  },
  {
   "cell_type": "code",
   "execution_count": 173,
   "id": "a1ce1a25",
   "metadata": {},
   "outputs": [
    {
     "data": {
      "text/html": [
       "<div>\n",
       "<style scoped>\n",
       "    .dataframe tbody tr th:only-of-type {\n",
       "        vertical-align: middle;\n",
       "    }\n",
       "\n",
       "    .dataframe tbody tr th {\n",
       "        vertical-align: top;\n",
       "    }\n",
       "\n",
       "    .dataframe thead th {\n",
       "        text-align: right;\n",
       "    }\n",
       "</style>\n",
       "<table border=\"1\" class=\"dataframe\">\n",
       "  <thead>\n",
       "    <tr style=\"text-align: right;\">\n",
       "      <th></th>\n",
       "      <th>AccelSec</th>\n",
       "      <th>TopSpeed_KmH</th>\n",
       "      <th>Range_Km</th>\n",
       "      <th>Efficiency_WhKm</th>\n",
       "      <th>FastCharge_KmH</th>\n",
       "      <th>Seats</th>\n",
       "      <th>PriceEuro</th>\n",
       "      <th>Brand</th>\n",
       "      <th>Model</th>\n",
       "      <th>RapidCharge</th>\n",
       "      <th>PowerTrain</th>\n",
       "      <th>PlugType</th>\n",
       "      <th>BodyStyle</th>\n",
       "      <th>Segment</th>\n",
       "    </tr>\n",
       "  </thead>\n",
       "  <tbody>\n",
       "    <tr>\n",
       "      <th>1</th>\n",
       "      <td>4.6</td>\n",
       "      <td>233</td>\n",
       "      <td>450</td>\n",
       "      <td>161</td>\n",
       "      <td>940</td>\n",
       "      <td>5</td>\n",
       "      <td>55480</td>\n",
       "      <td>30.0</td>\n",
       "      <td>46.0</td>\n",
       "      <td>1.0</td>\n",
       "      <td>0.0</td>\n",
       "      <td>2.0</td>\n",
       "      <td>7.0</td>\n",
       "      <td>3.0</td>\n",
       "    </tr>\n",
       "    <tr>\n",
       "      <th>2</th>\n",
       "      <td>10.0</td>\n",
       "      <td>160</td>\n",
       "      <td>270</td>\n",
       "      <td>167</td>\n",
       "      <td>250</td>\n",
       "      <td>5</td>\n",
       "      <td>30000</td>\n",
       "      <td>31.0</td>\n",
       "      <td>33.0</td>\n",
       "      <td>1.0</td>\n",
       "      <td>2.0</td>\n",
       "      <td>2.0</td>\n",
       "      <td>1.0</td>\n",
       "      <td>2.0</td>\n",
       "    </tr>\n",
       "    <tr>\n",
       "      <th>3</th>\n",
       "      <td>4.7</td>\n",
       "      <td>210</td>\n",
       "      <td>400</td>\n",
       "      <td>181</td>\n",
       "      <td>620</td>\n",
       "      <td>5</td>\n",
       "      <td>56440</td>\n",
       "      <td>23.0</td>\n",
       "      <td>0.0</td>\n",
       "      <td>1.0</td>\n",
       "      <td>0.0</td>\n",
       "      <td>2.0</td>\n",
       "      <td>2.0</td>\n",
       "      <td>3.0</td>\n",
       "    </tr>\n",
       "    <tr>\n",
       "      <th>4</th>\n",
       "      <td>6.8</td>\n",
       "      <td>180</td>\n",
       "      <td>360</td>\n",
       "      <td>206</td>\n",
       "      <td>560</td>\n",
       "      <td>5</td>\n",
       "      <td>68040</td>\n",
       "      <td>2.0</td>\n",
       "      <td>101.0</td>\n",
       "      <td>1.0</td>\n",
       "      <td>2.0</td>\n",
       "      <td>2.0</td>\n",
       "      <td>6.0</td>\n",
       "      <td>3.0</td>\n",
       "    </tr>\n",
       "    <tr>\n",
       "      <th>5</th>\n",
       "      <td>9.5</td>\n",
       "      <td>145</td>\n",
       "      <td>170</td>\n",
       "      <td>168</td>\n",
       "      <td>190</td>\n",
       "      <td>4</td>\n",
       "      <td>32997</td>\n",
       "      <td>9.0</td>\n",
       "      <td>78.0</td>\n",
       "      <td>1.0</td>\n",
       "      <td>2.0</td>\n",
       "      <td>2.0</td>\n",
       "      <td>1.0</td>\n",
       "      <td>1.0</td>\n",
       "    </tr>\n",
       "    <tr>\n",
       "      <th>...</th>\n",
       "      <td>...</td>\n",
       "      <td>...</td>\n",
       "      <td>...</td>\n",
       "      <td>...</td>\n",
       "      <td>...</td>\n",
       "      <td>...</td>\n",
       "      <td>...</td>\n",
       "      <td>...</td>\n",
       "      <td>...</td>\n",
       "      <td>...</td>\n",
       "      <td>...</td>\n",
       "      <td>...</td>\n",
       "      <td>...</td>\n",
       "      <td>...</td>\n",
       "    </tr>\n",
       "    <tr>\n",
       "      <th>99</th>\n",
       "      <td>7.5</td>\n",
       "      <td>160</td>\n",
       "      <td>330</td>\n",
       "      <td>191</td>\n",
       "      <td>440</td>\n",
       "      <td>5</td>\n",
       "      <td>45000</td>\n",
       "      <td>20.0</td>\n",
       "      <td>6.0</td>\n",
       "      <td>1.0</td>\n",
       "      <td>1.0</td>\n",
       "      <td>2.0</td>\n",
       "      <td>1.0</td>\n",
       "      <td>2.0</td>\n",
       "    </tr>\n",
       "    <tr>\n",
       "      <th>100</th>\n",
       "      <td>4.5</td>\n",
       "      <td>210</td>\n",
       "      <td>335</td>\n",
       "      <td>258</td>\n",
       "      <td>540</td>\n",
       "      <td>5</td>\n",
       "      <td>96050</td>\n",
       "      <td>1.0</td>\n",
       "      <td>94.0</td>\n",
       "      <td>1.0</td>\n",
       "      <td>0.0</td>\n",
       "      <td>2.0</td>\n",
       "      <td>6.0</td>\n",
       "      <td>4.0</td>\n",
       "    </tr>\n",
       "    <tr>\n",
       "      <th>101</th>\n",
       "      <td>5.9</td>\n",
       "      <td>200</td>\n",
       "      <td>325</td>\n",
       "      <td>194</td>\n",
       "      <td>440</td>\n",
       "      <td>5</td>\n",
       "      <td>50000</td>\n",
       "      <td>20.0</td>\n",
       "      <td>8.0</td>\n",
       "      <td>1.0</td>\n",
       "      <td>0.0</td>\n",
       "      <td>2.0</td>\n",
       "      <td>1.0</td>\n",
       "      <td>2.0</td>\n",
       "    </tr>\n",
       "    <tr>\n",
       "      <th>102</th>\n",
       "      <td>5.1</td>\n",
       "      <td>200</td>\n",
       "      <td>375</td>\n",
       "      <td>232</td>\n",
       "      <td>450</td>\n",
       "      <td>5</td>\n",
       "      <td>65000</td>\n",
       "      <td>20.0</td>\n",
       "      <td>10.0</td>\n",
       "      <td>1.0</td>\n",
       "      <td>0.0</td>\n",
       "      <td>2.0</td>\n",
       "      <td>1.0</td>\n",
       "      <td>2.0</td>\n",
       "    </tr>\n",
       "    <tr>\n",
       "      <th>103</th>\n",
       "      <td>7.5</td>\n",
       "      <td>190</td>\n",
       "      <td>400</td>\n",
       "      <td>238</td>\n",
       "      <td>480</td>\n",
       "      <td>5</td>\n",
       "      <td>62000</td>\n",
       "      <td>3.0</td>\n",
       "      <td>42.0</td>\n",
       "      <td>1.0</td>\n",
       "      <td>0.0</td>\n",
       "      <td>2.0</td>\n",
       "      <td>6.0</td>\n",
       "      <td>4.0</td>\n",
       "    </tr>\n",
       "  </tbody>\n",
       "</table>\n",
       "<p>103 rows × 14 columns</p>\n",
       "</div>"
      ],
      "text/plain": [
       "     AccelSec  TopSpeed_KmH  Range_Km  Efficiency_WhKm FastCharge_KmH  Seats  \\\n",
       "1         4.6           233       450              161            940      5   \n",
       "2        10.0           160       270              167            250      5   \n",
       "3         4.7           210       400              181            620      5   \n",
       "4         6.8           180       360              206            560      5   \n",
       "5         9.5           145       170              168            190      4   \n",
       "..        ...           ...       ...              ...            ...    ...   \n",
       "99        7.5           160       330              191            440      5   \n",
       "100       4.5           210       335              258            540      5   \n",
       "101       5.9           200       325              194            440      5   \n",
       "102       5.1           200       375              232            450      5   \n",
       "103       7.5           190       400              238            480      5   \n",
       "\n",
       "     PriceEuro  Brand  Model  RapidCharge  PowerTrain  PlugType  BodyStyle  \\\n",
       "1        55480   30.0   46.0          1.0         0.0       2.0        7.0   \n",
       "2        30000   31.0   33.0          1.0         2.0       2.0        1.0   \n",
       "3        56440   23.0    0.0          1.0         0.0       2.0        2.0   \n",
       "4        68040    2.0  101.0          1.0         2.0       2.0        6.0   \n",
       "5        32997    9.0   78.0          1.0         2.0       2.0        1.0   \n",
       "..         ...    ...    ...          ...         ...       ...        ...   \n",
       "99       45000   20.0    6.0          1.0         1.0       2.0        1.0   \n",
       "100      96050    1.0   94.0          1.0         0.0       2.0        6.0   \n",
       "101      50000   20.0    8.0          1.0         0.0       2.0        1.0   \n",
       "102      65000   20.0   10.0          1.0         0.0       2.0        1.0   \n",
       "103      62000    3.0   42.0          1.0         0.0       2.0        6.0   \n",
       "\n",
       "     Segment  \n",
       "1        3.0  \n",
       "2        2.0  \n",
       "3        3.0  \n",
       "4        3.0  \n",
       "5        1.0  \n",
       "..       ...  \n",
       "99       2.0  \n",
       "100      4.0  \n",
       "101      2.0  \n",
       "102      2.0  \n",
       "103      4.0  \n",
       "\n",
       "[103 rows x 14 columns]"
      ]
     },
     "execution_count": 173,
     "metadata": {},
     "output_type": "execute_result"
    }
   ],
   "source": [
    "EV_df"
   ]
  },
  {
   "cell_type": "code",
   "execution_count": 174,
   "id": "7cba6061",
   "metadata": {},
   "outputs": [
    {
     "data": {
      "text/html": [
       "<div>\n",
       "<style scoped>\n",
       "    .dataframe tbody tr th:only-of-type {\n",
       "        vertical-align: middle;\n",
       "    }\n",
       "\n",
       "    .dataframe tbody tr th {\n",
       "        vertical-align: top;\n",
       "    }\n",
       "\n",
       "    .dataframe thead th {\n",
       "        text-align: right;\n",
       "    }\n",
       "</style>\n",
       "<table border=\"1\" class=\"dataframe\">\n",
       "  <thead>\n",
       "    <tr style=\"text-align: right;\">\n",
       "      <th></th>\n",
       "      <th>AccelSec</th>\n",
       "      <th>TopSpeed_KmH</th>\n",
       "      <th>Range_Km</th>\n",
       "      <th>Efficiency_WhKm</th>\n",
       "      <th>Seats</th>\n",
       "      <th>PriceEuro</th>\n",
       "      <th>Brand</th>\n",
       "      <th>Model</th>\n",
       "      <th>RapidCharge</th>\n",
       "      <th>PowerTrain</th>\n",
       "      <th>PlugType</th>\n",
       "      <th>BodyStyle</th>\n",
       "      <th>Segment</th>\n",
       "    </tr>\n",
       "  </thead>\n",
       "  <tbody>\n",
       "    <tr>\n",
       "      <th>AccelSec</th>\n",
       "      <td>1.000000</td>\n",
       "      <td>-0.786195</td>\n",
       "      <td>-0.677062</td>\n",
       "      <td>-0.382904</td>\n",
       "      <td>-0.175335</td>\n",
       "      <td>-0.627174</td>\n",
       "      <td>0.062730</td>\n",
       "      <td>-0.050635</td>\n",
       "      <td>-0.514820</td>\n",
       "      <td>0.521011</td>\n",
       "      <td>-0.259657</td>\n",
       "      <td>-0.347164</td>\n",
       "      <td>-0.451568</td>\n",
       "    </tr>\n",
       "    <tr>\n",
       "      <th>TopSpeed_KmH</th>\n",
       "      <td>-0.786195</td>\n",
       "      <td>1.000000</td>\n",
       "      <td>0.746662</td>\n",
       "      <td>0.355675</td>\n",
       "      <td>0.126470</td>\n",
       "      <td>0.829057</td>\n",
       "      <td>0.101759</td>\n",
       "      <td>0.067814</td>\n",
       "      <td>0.251054</td>\n",
       "      <td>-0.560538</td>\n",
       "      <td>-0.010110</td>\n",
       "      <td>0.339230</td>\n",
       "      <td>0.670403</td>\n",
       "    </tr>\n",
       "    <tr>\n",
       "      <th>Range_Km</th>\n",
       "      <td>-0.677062</td>\n",
       "      <td>0.746662</td>\n",
       "      <td>1.000000</td>\n",
       "      <td>0.313077</td>\n",
       "      <td>0.300163</td>\n",
       "      <td>0.674844</td>\n",
       "      <td>0.088316</td>\n",
       "      <td>-0.066035</td>\n",
       "      <td>0.401290</td>\n",
       "      <td>-0.451495</td>\n",
       "      <td>0.131297</td>\n",
       "      <td>0.227477</td>\n",
       "      <td>0.628597</td>\n",
       "    </tr>\n",
       "    <tr>\n",
       "      <th>Efficiency_WhKm</th>\n",
       "      <td>-0.382904</td>\n",
       "      <td>0.355675</td>\n",
       "      <td>0.313077</td>\n",
       "      <td>1.000000</td>\n",
       "      <td>0.301230</td>\n",
       "      <td>0.396705</td>\n",
       "      <td>-0.195901</td>\n",
       "      <td>0.010976</td>\n",
       "      <td>0.105673</td>\n",
       "      <td>-0.394721</td>\n",
       "      <td>-0.028761</td>\n",
       "      <td>0.373146</td>\n",
       "      <td>0.623263</td>\n",
       "    </tr>\n",
       "    <tr>\n",
       "      <th>Seats</th>\n",
       "      <td>-0.175335</td>\n",
       "      <td>0.126470</td>\n",
       "      <td>0.300163</td>\n",
       "      <td>0.301230</td>\n",
       "      <td>1.000000</td>\n",
       "      <td>0.020920</td>\n",
       "      <td>0.089589</td>\n",
       "      <td>-0.018943</td>\n",
       "      <td>0.423111</td>\n",
       "      <td>-0.278882</td>\n",
       "      <td>-0.029570</td>\n",
       "      <td>0.342489</td>\n",
       "      <td>0.416744</td>\n",
       "    </tr>\n",
       "    <tr>\n",
       "      <th>PriceEuro</th>\n",
       "      <td>-0.627174</td>\n",
       "      <td>0.829057</td>\n",
       "      <td>0.674844</td>\n",
       "      <td>0.396705</td>\n",
       "      <td>0.020920</td>\n",
       "      <td>1.000000</td>\n",
       "      <td>-0.036023</td>\n",
       "      <td>0.169003</td>\n",
       "      <td>0.197208</td>\n",
       "      <td>-0.561584</td>\n",
       "      <td>-0.000193</td>\n",
       "      <td>0.321713</td>\n",
       "      <td>0.737106</td>\n",
       "    </tr>\n",
       "    <tr>\n",
       "      <th>Brand</th>\n",
       "      <td>0.062730</td>\n",
       "      <td>0.101759</td>\n",
       "      <td>0.088316</td>\n",
       "      <td>-0.195901</td>\n",
       "      <td>0.089589</td>\n",
       "      <td>-0.036023</td>\n",
       "      <td>1.000000</td>\n",
       "      <td>-0.401572</td>\n",
       "      <td>-0.188137</td>\n",
       "      <td>0.056464</td>\n",
       "      <td>-0.231104</td>\n",
       "      <td>-0.275860</td>\n",
       "      <td>-0.002040</td>\n",
       "    </tr>\n",
       "    <tr>\n",
       "      <th>Model</th>\n",
       "      <td>-0.050635</td>\n",
       "      <td>0.067814</td>\n",
       "      <td>-0.066035</td>\n",
       "      <td>0.010976</td>\n",
       "      <td>-0.018943</td>\n",
       "      <td>0.169003</td>\n",
       "      <td>-0.401572</td>\n",
       "      <td>1.000000</td>\n",
       "      <td>0.144293</td>\n",
       "      <td>-0.007609</td>\n",
       "      <td>0.023750</td>\n",
       "      <td>0.261255</td>\n",
       "      <td>0.068414</td>\n",
       "    </tr>\n",
       "    <tr>\n",
       "      <th>RapidCharge</th>\n",
       "      <td>-0.514820</td>\n",
       "      <td>0.251054</td>\n",
       "      <td>0.401290</td>\n",
       "      <td>0.105673</td>\n",
       "      <td>0.423111</td>\n",
       "      <td>0.197208</td>\n",
       "      <td>-0.188137</td>\n",
       "      <td>0.144293</td>\n",
       "      <td>1.000000</td>\n",
       "      <td>-0.274797</td>\n",
       "      <td>0.539160</td>\n",
       "      <td>0.223577</td>\n",
       "      <td>0.189954</td>\n",
       "    </tr>\n",
       "    <tr>\n",
       "      <th>PowerTrain</th>\n",
       "      <td>0.521011</td>\n",
       "      <td>-0.560538</td>\n",
       "      <td>-0.451495</td>\n",
       "      <td>-0.394721</td>\n",
       "      <td>-0.278882</td>\n",
       "      <td>-0.561584</td>\n",
       "      <td>0.056464</td>\n",
       "      <td>-0.007609</td>\n",
       "      <td>-0.274797</td>\n",
       "      <td>1.000000</td>\n",
       "      <td>-0.039763</td>\n",
       "      <td>-0.349484</td>\n",
       "      <td>-0.497850</td>\n",
       "    </tr>\n",
       "    <tr>\n",
       "      <th>PlugType</th>\n",
       "      <td>-0.259657</td>\n",
       "      <td>-0.010110</td>\n",
       "      <td>0.131297</td>\n",
       "      <td>-0.028761</td>\n",
       "      <td>-0.029570</td>\n",
       "      <td>-0.000193</td>\n",
       "      <td>-0.231104</td>\n",
       "      <td>0.023750</td>\n",
       "      <td>0.539160</td>\n",
       "      <td>-0.039763</td>\n",
       "      <td>1.000000</td>\n",
       "      <td>0.066463</td>\n",
       "      <td>-0.163959</td>\n",
       "    </tr>\n",
       "    <tr>\n",
       "      <th>BodyStyle</th>\n",
       "      <td>-0.347164</td>\n",
       "      <td>0.339230</td>\n",
       "      <td>0.227477</td>\n",
       "      <td>0.373146</td>\n",
       "      <td>0.342489</td>\n",
       "      <td>0.321713</td>\n",
       "      <td>-0.275860</td>\n",
       "      <td>0.261255</td>\n",
       "      <td>0.223577</td>\n",
       "      <td>-0.349484</td>\n",
       "      <td>0.066463</td>\n",
       "      <td>1.000000</td>\n",
       "      <td>0.415428</td>\n",
       "    </tr>\n",
       "    <tr>\n",
       "      <th>Segment</th>\n",
       "      <td>-0.451568</td>\n",
       "      <td>0.670403</td>\n",
       "      <td>0.628597</td>\n",
       "      <td>0.623263</td>\n",
       "      <td>0.416744</td>\n",
       "      <td>0.737106</td>\n",
       "      <td>-0.002040</td>\n",
       "      <td>0.068414</td>\n",
       "      <td>0.189954</td>\n",
       "      <td>-0.497850</td>\n",
       "      <td>-0.163959</td>\n",
       "      <td>0.415428</td>\n",
       "      <td>1.000000</td>\n",
       "    </tr>\n",
       "  </tbody>\n",
       "</table>\n",
       "</div>"
      ],
      "text/plain": [
       "                 AccelSec  TopSpeed_KmH  Range_Km  Efficiency_WhKm     Seats  \\\n",
       "AccelSec         1.000000     -0.786195 -0.677062        -0.382904 -0.175335   \n",
       "TopSpeed_KmH    -0.786195      1.000000  0.746662         0.355675  0.126470   \n",
       "Range_Km        -0.677062      0.746662  1.000000         0.313077  0.300163   \n",
       "Efficiency_WhKm -0.382904      0.355675  0.313077         1.000000  0.301230   \n",
       "Seats           -0.175335      0.126470  0.300163         0.301230  1.000000   \n",
       "PriceEuro       -0.627174      0.829057  0.674844         0.396705  0.020920   \n",
       "Brand            0.062730      0.101759  0.088316        -0.195901  0.089589   \n",
       "Model           -0.050635      0.067814 -0.066035         0.010976 -0.018943   \n",
       "RapidCharge     -0.514820      0.251054  0.401290         0.105673  0.423111   \n",
       "PowerTrain       0.521011     -0.560538 -0.451495        -0.394721 -0.278882   \n",
       "PlugType        -0.259657     -0.010110  0.131297        -0.028761 -0.029570   \n",
       "BodyStyle       -0.347164      0.339230  0.227477         0.373146  0.342489   \n",
       "Segment         -0.451568      0.670403  0.628597         0.623263  0.416744   \n",
       "\n",
       "                 PriceEuro     Brand     Model  RapidCharge  PowerTrain  \\\n",
       "AccelSec         -0.627174  0.062730 -0.050635    -0.514820    0.521011   \n",
       "TopSpeed_KmH      0.829057  0.101759  0.067814     0.251054   -0.560538   \n",
       "Range_Km          0.674844  0.088316 -0.066035     0.401290   -0.451495   \n",
       "Efficiency_WhKm   0.396705 -0.195901  0.010976     0.105673   -0.394721   \n",
       "Seats             0.020920  0.089589 -0.018943     0.423111   -0.278882   \n",
       "PriceEuro         1.000000 -0.036023  0.169003     0.197208   -0.561584   \n",
       "Brand            -0.036023  1.000000 -0.401572    -0.188137    0.056464   \n",
       "Model             0.169003 -0.401572  1.000000     0.144293   -0.007609   \n",
       "RapidCharge       0.197208 -0.188137  0.144293     1.000000   -0.274797   \n",
       "PowerTrain       -0.561584  0.056464 -0.007609    -0.274797    1.000000   \n",
       "PlugType         -0.000193 -0.231104  0.023750     0.539160   -0.039763   \n",
       "BodyStyle         0.321713 -0.275860  0.261255     0.223577   -0.349484   \n",
       "Segment           0.737106 -0.002040  0.068414     0.189954   -0.497850   \n",
       "\n",
       "                 PlugType  BodyStyle   Segment  \n",
       "AccelSec        -0.259657  -0.347164 -0.451568  \n",
       "TopSpeed_KmH    -0.010110   0.339230  0.670403  \n",
       "Range_Km         0.131297   0.227477  0.628597  \n",
       "Efficiency_WhKm -0.028761   0.373146  0.623263  \n",
       "Seats           -0.029570   0.342489  0.416744  \n",
       "PriceEuro       -0.000193   0.321713  0.737106  \n",
       "Brand           -0.231104  -0.275860 -0.002040  \n",
       "Model            0.023750   0.261255  0.068414  \n",
       "RapidCharge      0.539160   0.223577  0.189954  \n",
       "PowerTrain      -0.039763  -0.349484 -0.497850  \n",
       "PlugType         1.000000   0.066463 -0.163959  \n",
       "BodyStyle        0.066463   1.000000  0.415428  \n",
       "Segment         -0.163959   0.415428  1.000000  "
      ]
     },
     "execution_count": 174,
     "metadata": {},
     "output_type": "execute_result"
    }
   ],
   "source": [
    "EV_df.corr()"
   ]
  },
  {
   "cell_type": "markdown",
   "id": "eda7f07d",
   "metadata": {},
   "source": [
    "## Train- Test Split"
   ]
  },
  {
   "cell_type": "code",
   "execution_count": 304,
   "id": "107331ce",
   "metadata": {},
   "outputs": [],
   "source": [
    "X=EV_df[['AccelSec','TopSpeed_KmH','Range_Km','Segment','Efficiency_WhKm']]\n",
    "y=EV_df['PriceEuro']"
   ]
  },
  {
   "cell_type": "code",
   "execution_count": 305,
   "id": "9fbd8c64",
   "metadata": {},
   "outputs": [
    {
     "data": {
      "text/html": [
       "<div>\n",
       "<style scoped>\n",
       "    .dataframe tbody tr th:only-of-type {\n",
       "        vertical-align: middle;\n",
       "    }\n",
       "\n",
       "    .dataframe tbody tr th {\n",
       "        vertical-align: top;\n",
       "    }\n",
       "\n",
       "    .dataframe thead th {\n",
       "        text-align: right;\n",
       "    }\n",
       "</style>\n",
       "<table border=\"1\" class=\"dataframe\">\n",
       "  <thead>\n",
       "    <tr style=\"text-align: right;\">\n",
       "      <th></th>\n",
       "      <th>AccelSec</th>\n",
       "      <th>TopSpeed_KmH</th>\n",
       "      <th>Range_Km</th>\n",
       "      <th>Segment</th>\n",
       "      <th>Efficiency_WhKm</th>\n",
       "    </tr>\n",
       "  </thead>\n",
       "  <tbody>\n",
       "    <tr>\n",
       "      <th>1</th>\n",
       "      <td>4.6</td>\n",
       "      <td>233</td>\n",
       "      <td>450</td>\n",
       "      <td>3.0</td>\n",
       "      <td>161</td>\n",
       "    </tr>\n",
       "    <tr>\n",
       "      <th>2</th>\n",
       "      <td>10.0</td>\n",
       "      <td>160</td>\n",
       "      <td>270</td>\n",
       "      <td>2.0</td>\n",
       "      <td>167</td>\n",
       "    </tr>\n",
       "    <tr>\n",
       "      <th>3</th>\n",
       "      <td>4.7</td>\n",
       "      <td>210</td>\n",
       "      <td>400</td>\n",
       "      <td>3.0</td>\n",
       "      <td>181</td>\n",
       "    </tr>\n",
       "    <tr>\n",
       "      <th>4</th>\n",
       "      <td>6.8</td>\n",
       "      <td>180</td>\n",
       "      <td>360</td>\n",
       "      <td>3.0</td>\n",
       "      <td>206</td>\n",
       "    </tr>\n",
       "    <tr>\n",
       "      <th>5</th>\n",
       "      <td>9.5</td>\n",
       "      <td>145</td>\n",
       "      <td>170</td>\n",
       "      <td>1.0</td>\n",
       "      <td>168</td>\n",
       "    </tr>\n",
       "    <tr>\n",
       "      <th>...</th>\n",
       "      <td>...</td>\n",
       "      <td>...</td>\n",
       "      <td>...</td>\n",
       "      <td>...</td>\n",
       "      <td>...</td>\n",
       "    </tr>\n",
       "    <tr>\n",
       "      <th>99</th>\n",
       "      <td>7.5</td>\n",
       "      <td>160</td>\n",
       "      <td>330</td>\n",
       "      <td>2.0</td>\n",
       "      <td>191</td>\n",
       "    </tr>\n",
       "    <tr>\n",
       "      <th>100</th>\n",
       "      <td>4.5</td>\n",
       "      <td>210</td>\n",
       "      <td>335</td>\n",
       "      <td>4.0</td>\n",
       "      <td>258</td>\n",
       "    </tr>\n",
       "    <tr>\n",
       "      <th>101</th>\n",
       "      <td>5.9</td>\n",
       "      <td>200</td>\n",
       "      <td>325</td>\n",
       "      <td>2.0</td>\n",
       "      <td>194</td>\n",
       "    </tr>\n",
       "    <tr>\n",
       "      <th>102</th>\n",
       "      <td>5.1</td>\n",
       "      <td>200</td>\n",
       "      <td>375</td>\n",
       "      <td>2.0</td>\n",
       "      <td>232</td>\n",
       "    </tr>\n",
       "    <tr>\n",
       "      <th>103</th>\n",
       "      <td>7.5</td>\n",
       "      <td>190</td>\n",
       "      <td>400</td>\n",
       "      <td>4.0</td>\n",
       "      <td>238</td>\n",
       "    </tr>\n",
       "  </tbody>\n",
       "</table>\n",
       "<p>103 rows × 5 columns</p>\n",
       "</div>"
      ],
      "text/plain": [
       "     AccelSec  TopSpeed_KmH  Range_Km  Segment  Efficiency_WhKm\n",
       "1         4.6           233       450      3.0              161\n",
       "2        10.0           160       270      2.0              167\n",
       "3         4.7           210       400      3.0              181\n",
       "4         6.8           180       360      3.0              206\n",
       "5         9.5           145       170      1.0              168\n",
       "..        ...           ...       ...      ...              ...\n",
       "99        7.5           160       330      2.0              191\n",
       "100       4.5           210       335      4.0              258\n",
       "101       5.9           200       325      2.0              194\n",
       "102       5.1           200       375      2.0              232\n",
       "103       7.5           190       400      4.0              238\n",
       "\n",
       "[103 rows x 5 columns]"
      ]
     },
     "execution_count": 305,
     "metadata": {},
     "output_type": "execute_result"
    }
   ],
   "source": [
    "X"
   ]
  },
  {
   "cell_type": "code",
   "execution_count": 306,
   "id": "31d829a1",
   "metadata": {},
   "outputs": [
    {
     "data": {
      "text/plain": [
       "1      55480\n",
       "2      30000\n",
       "3      56440\n",
       "4      68040\n",
       "5      32997\n",
       "       ...  \n",
       "99     45000\n",
       "100    96050\n",
       "101    50000\n",
       "102    65000\n",
       "103    62000\n",
       "Name: PriceEuro, Length: 103, dtype: int64"
      ]
     },
     "execution_count": 306,
     "metadata": {},
     "output_type": "execute_result"
    }
   ],
   "source": [
    "y"
   ]
  },
  {
   "cell_type": "code",
   "execution_count": 307,
   "id": "930e9164",
   "metadata": {},
   "outputs": [],
   "source": [
    "from sklearn.model_selection import train_test_split\n",
    "X_train,X_test,y_train,y_test = train_test_split(X,y,test_size=0.3,random_state=100)"
   ]
  },
  {
   "cell_type": "code",
   "execution_count": 308,
   "id": "bed3ca8d",
   "metadata": {},
   "outputs": [],
   "source": [
    "from sklearn.linear_model import LogisticRegression\n",
    "\n",
    "model = LogisticRegression(max_iter=3000)"
   ]
  },
  {
   "cell_type": "code",
   "execution_count": 309,
   "id": "6904a426",
   "metadata": {},
   "outputs": [
    {
     "name": "stderr",
     "output_type": "stream",
     "text": [
      "C:\\Users\\HP\\anaconda3\\lib\\site-packages\\sklearn\\linear_model\\_logistic.py:814: ConvergenceWarning:\n",
      "\n",
      "lbfgs failed to converge (status=1):\n",
      "STOP: TOTAL NO. of ITERATIONS REACHED LIMIT.\n",
      "\n",
      "Increase the number of iterations (max_iter) or scale the data as shown in:\n",
      "    https://scikit-learn.org/stable/modules/preprocessing.html\n",
      "Please also refer to the documentation for alternative solver options:\n",
      "    https://scikit-learn.org/stable/modules/linear_model.html#logistic-regression\n",
      "\n"
     ]
    },
    {
     "data": {
      "text/plain": [
       "LogisticRegression(max_iter=3000)"
      ]
     },
     "execution_count": 309,
     "metadata": {},
     "output_type": "execute_result"
    }
   ],
   "source": [
    "model.fit(X_train,y_train)"
   ]
  },
  {
   "cell_type": "code",
   "execution_count": 310,
   "id": "895d4e5d",
   "metadata": {},
   "outputs": [],
   "source": [
    "pred = model.predict(X_test)"
   ]
  },
  {
   "cell_type": "code",
   "execution_count": 311,
   "id": "f22700ac",
   "metadata": {},
   "outputs": [
    {
     "name": "stdout",
     "output_type": "stream",
     "text": [
      "Prediction of Price is:\n",
      "74.79694678548962\n"
     ]
    }
   ],
   "source": [
    "from sklearn.metrics import r2_score\n",
    "r2=(r2_score(y_test,pred))\n",
    "print('Prediction of Price is:')\n",
    "print(abs(r2*100))"
   ]
  },
  {
   "cell_type": "code",
   "execution_count": 312,
   "id": "3bfa5298",
   "metadata": {},
   "outputs": [
    {
     "data": {
      "text/plain": [
       "array([ 56440,  32997,  40000,  45000,  30000,  62900,  62900,  75351,\n",
       "        40000,  20129,  45000, 102990,  37900,  30000,  62900,  36837,\n",
       "        40000,  30000,  79990,  22030,  30000,  62900,  33133,  36057,\n",
       "        45000,  30000,  33133, 102990,  93800,  57500,  33133],\n",
       "      dtype=int64)"
      ]
     },
     "execution_count": 312,
     "metadata": {},
     "output_type": "execute_result"
    }
   ],
   "source": [
    "pred"
   ]
  },
  {
   "cell_type": "markdown",
   "id": "6eabf7d9",
   "metadata": {},
   "source": [
    "#### Rate of prediction of EV price is 74.79%"
   ]
  },
  {
   "cell_type": "code",
   "execution_count": 330,
   "id": "931c4a76",
   "metadata": {},
   "outputs": [],
   "source": [
    "X=EV_df[['AccelSec','TopSpeed_KmH','Range_Km','Segment','Efficiency_WhKm']]\n",
    "y=EV_df['FastCharge_KmH']"
   ]
  },
  {
   "cell_type": "code",
   "execution_count": 331,
   "id": "84d4b16c",
   "metadata": {},
   "outputs": [
    {
     "data": {
      "text/html": [
       "<div>\n",
       "<style scoped>\n",
       "    .dataframe tbody tr th:only-of-type {\n",
       "        vertical-align: middle;\n",
       "    }\n",
       "\n",
       "    .dataframe tbody tr th {\n",
       "        vertical-align: top;\n",
       "    }\n",
       "\n",
       "    .dataframe thead th {\n",
       "        text-align: right;\n",
       "    }\n",
       "</style>\n",
       "<table border=\"1\" class=\"dataframe\">\n",
       "  <thead>\n",
       "    <tr style=\"text-align: right;\">\n",
       "      <th></th>\n",
       "      <th>AccelSec</th>\n",
       "      <th>TopSpeed_KmH</th>\n",
       "      <th>Range_Km</th>\n",
       "      <th>Segment</th>\n",
       "      <th>Efficiency_WhKm</th>\n",
       "    </tr>\n",
       "  </thead>\n",
       "  <tbody>\n",
       "    <tr>\n",
       "      <th>1</th>\n",
       "      <td>4.6</td>\n",
       "      <td>233</td>\n",
       "      <td>450</td>\n",
       "      <td>3.0</td>\n",
       "      <td>161</td>\n",
       "    </tr>\n",
       "    <tr>\n",
       "      <th>2</th>\n",
       "      <td>10.0</td>\n",
       "      <td>160</td>\n",
       "      <td>270</td>\n",
       "      <td>2.0</td>\n",
       "      <td>167</td>\n",
       "    </tr>\n",
       "    <tr>\n",
       "      <th>3</th>\n",
       "      <td>4.7</td>\n",
       "      <td>210</td>\n",
       "      <td>400</td>\n",
       "      <td>3.0</td>\n",
       "      <td>181</td>\n",
       "    </tr>\n",
       "    <tr>\n",
       "      <th>4</th>\n",
       "      <td>6.8</td>\n",
       "      <td>180</td>\n",
       "      <td>360</td>\n",
       "      <td>3.0</td>\n",
       "      <td>206</td>\n",
       "    </tr>\n",
       "    <tr>\n",
       "      <th>5</th>\n",
       "      <td>9.5</td>\n",
       "      <td>145</td>\n",
       "      <td>170</td>\n",
       "      <td>1.0</td>\n",
       "      <td>168</td>\n",
       "    </tr>\n",
       "    <tr>\n",
       "      <th>...</th>\n",
       "      <td>...</td>\n",
       "      <td>...</td>\n",
       "      <td>...</td>\n",
       "      <td>...</td>\n",
       "      <td>...</td>\n",
       "    </tr>\n",
       "    <tr>\n",
       "      <th>99</th>\n",
       "      <td>7.5</td>\n",
       "      <td>160</td>\n",
       "      <td>330</td>\n",
       "      <td>2.0</td>\n",
       "      <td>191</td>\n",
       "    </tr>\n",
       "    <tr>\n",
       "      <th>100</th>\n",
       "      <td>4.5</td>\n",
       "      <td>210</td>\n",
       "      <td>335</td>\n",
       "      <td>4.0</td>\n",
       "      <td>258</td>\n",
       "    </tr>\n",
       "    <tr>\n",
       "      <th>101</th>\n",
       "      <td>5.9</td>\n",
       "      <td>200</td>\n",
       "      <td>325</td>\n",
       "      <td>2.0</td>\n",
       "      <td>194</td>\n",
       "    </tr>\n",
       "    <tr>\n",
       "      <th>102</th>\n",
       "      <td>5.1</td>\n",
       "      <td>200</td>\n",
       "      <td>375</td>\n",
       "      <td>2.0</td>\n",
       "      <td>232</td>\n",
       "    </tr>\n",
       "    <tr>\n",
       "      <th>103</th>\n",
       "      <td>7.5</td>\n",
       "      <td>190</td>\n",
       "      <td>400</td>\n",
       "      <td>4.0</td>\n",
       "      <td>238</td>\n",
       "    </tr>\n",
       "  </tbody>\n",
       "</table>\n",
       "<p>103 rows × 5 columns</p>\n",
       "</div>"
      ],
      "text/plain": [
       "     AccelSec  TopSpeed_KmH  Range_Km  Segment  Efficiency_WhKm\n",
       "1         4.6           233       450      3.0              161\n",
       "2        10.0           160       270      2.0              167\n",
       "3         4.7           210       400      3.0              181\n",
       "4         6.8           180       360      3.0              206\n",
       "5         9.5           145       170      1.0              168\n",
       "..        ...           ...       ...      ...              ...\n",
       "99        7.5           160       330      2.0              191\n",
       "100       4.5           210       335      4.0              258\n",
       "101       5.9           200       325      2.0              194\n",
       "102       5.1           200       375      2.0              232\n",
       "103       7.5           190       400      4.0              238\n",
       "\n",
       "[103 rows x 5 columns]"
      ]
     },
     "execution_count": 331,
     "metadata": {},
     "output_type": "execute_result"
    }
   ],
   "source": [
    "X"
   ]
  },
  {
   "cell_type": "code",
   "execution_count": 332,
   "id": "653d3ede",
   "metadata": {},
   "outputs": [
    {
     "data": {
      "text/plain": [
       "1      940\n",
       "2      250\n",
       "3      620\n",
       "4      560\n",
       "5      190\n",
       "      ... \n",
       "99     440\n",
       "100    540\n",
       "101    440\n",
       "102    450\n",
       "103    480\n",
       "Name: FastCharge_KmH, Length: 103, dtype: object"
      ]
     },
     "execution_count": 332,
     "metadata": {},
     "output_type": "execute_result"
    }
   ],
   "source": [
    "y"
   ]
  },
  {
   "cell_type": "code",
   "execution_count": 342,
   "id": "15380fdc",
   "metadata": {},
   "outputs": [
    {
     "name": "stderr",
     "output_type": "stream",
     "text": [
      "C:\\Users\\HP\\anaconda3\\lib\\site-packages\\sklearn\\linear_model\\_logistic.py:814: ConvergenceWarning:\n",
      "\n",
      "lbfgs failed to converge (status=1):\n",
      "STOP: TOTAL NO. of ITERATIONS REACHED LIMIT.\n",
      "\n",
      "Increase the number of iterations (max_iter) or scale the data as shown in:\n",
      "    https://scikit-learn.org/stable/modules/preprocessing.html\n",
      "Please also refer to the documentation for alternative solver options:\n",
      "    https://scikit-learn.org/stable/modules/linear_model.html#logistic-regression\n",
      "\n"
     ]
    },
    {
     "data": {
      "text/plain": [
       "LogisticRegression(max_iter=3500)"
      ]
     },
     "execution_count": 342,
     "metadata": {},
     "output_type": "execute_result"
    }
   ],
   "source": [
    "from sklearn.model_selection import train_test_split\n",
    "X_train,X_test,y_train,y_test = train_test_split(X,y,test_size=0.3,random_state=140)\n",
    "from sklearn.linear_model import LogisticRegression\n",
    "\n",
    "model = LogisticRegression(max_iter=3500)\n",
    "model.fit(X_train,y_train)"
   ]
  },
  {
   "cell_type": "code",
   "execution_count": 343,
   "id": "d9cbc3ec",
   "metadata": {},
   "outputs": [],
   "source": [
    "\n",
    "pred = model.predict(X_test)"
   ]
  },
  {
   "cell_type": "code",
   "execution_count": 344,
   "id": "0500d38a",
   "metadata": {},
   "outputs": [
    {
     "name": "stdout",
     "output_type": "stream",
     "text": [
      "74.79694678548962\n"
     ]
    }
   ],
   "source": [
    "from sklearn.metrics import r2_score\n",
    "#r2=(r2_score(y_test,pred))\n",
    "print(abs(r2*100))"
   ]
  },
  {
   "cell_type": "code",
   "execution_count": 345,
   "id": "6b1bfcee",
   "metadata": {},
   "outputs": [
    {
     "data": {
      "text/plain": [
       "array(['230', '230', '380', '470', '440', '230', '540', '540', '320',\n",
       "       '470', '230', '650', '170', '480', '470', '270', '230', '470',\n",
       "       '270', '650', '770', '560', '240', '540', '350', '470', '230',\n",
       "       '380', '540', '440', '850'], dtype=object)"
      ]
     },
     "execution_count": 345,
     "metadata": {},
     "output_type": "execute_result"
    }
   ],
   "source": [
    "pred"
   ]
  },
  {
   "cell_type": "code",
   "execution_count": null,
   "id": "5cf5f762",
   "metadata": {},
   "outputs": [],
   "source": [
    "\n"
   ]
  },
  {
   "cell_type": "code",
   "execution_count": null,
   "id": "07d39691",
   "metadata": {},
   "outputs": [],
   "source": []
  },
  {
   "cell_type": "code",
   "execution_count": 377,
   "id": "ea0e88e6",
   "metadata": {},
   "outputs": [],
   "source": [
    "from sklearn.linear_model import LinearRegression\n",
    "lm=LinearRegression()"
   ]
  },
  {
   "cell_type": "code",
   "execution_count": 378,
   "id": "7209d145",
   "metadata": {},
   "outputs": [],
   "source": [
    "X=EV_df[['AccelSec','TopSpeed_KmH','Range_Km','Segment','Efficiency_WhKm']]\n",
    "Y=EV_df.PriceEuro"
   ]
  },
  {
   "cell_type": "code",
   "execution_count": 379,
   "id": "4ad6baaa",
   "metadata": {},
   "outputs": [
    {
     "data": {
      "text/plain": [
       "array([ 85394.99276634,  42962.96753036,  73630.68467492,  58275.15107149,\n",
       "        28352.72023318, 107761.21034618,  37867.04796709,  31724.3434183 ,\n",
       "        81050.28459899,  59250.71899548,  58066.81784643,  35761.0457057 ,\n",
       "        40529.72053832,  69680.97880946,  45807.18486786,  44026.81957833,\n",
       "       108547.51180115,  14413.02800416,  25379.97281197,  31578.47487745,\n",
       "        31724.3434183 ,  77417.7633564 ,  42519.49230828, 101012.83642416,\n",
       "        97837.47047114,  43545.59269939,  43697.00821931,  51786.23157172,\n",
       "        31686.88198129,  30720.51542247,  68147.61886464,  46817.17568394,\n",
       "        24753.15285506,  93472.39029831,  37383.30571567,  42077.14553491,\n",
       "        42003.27622882,  43800.57799122,  27071.18942998,  62076.48131398,\n",
       "       106775.57039745,  34116.71189272,  73665.28909321,  14364.05397794,\n",
       "        14364.05397794,  39553.18514794,  31806.32857627, 105160.08310741,\n",
       "        65000.48920201,  37987.12867258,  73121.58699526, 195885.28516695,\n",
       "        30950.43326149,  43386.42711419, 104905.78559691,  28499.64231183,\n",
       "        30696.02840937,  16233.96107769,  37692.79014698, 111656.25229277,\n",
       "        24525.69671772,  88071.41288788,  42943.82255168,  73475.19758606,\n",
       "        59176.05394072, 105484.90685747,  52007.36157936,  82412.45548644,\n",
       "        54233.21576184,  58719.60429475,  36039.22613458,  42979.24171429,\n",
       "       104290.98735449,  68447.91246559,  34237.70501163,  40474.53226547,\n",
       "        59564.50325442,  13124.58961681,  58232.36866966, 108993.55606652,\n",
       "        43591.36357179, 104812.38445595,  13732.60505972,  58883.84376093,\n",
       "        57634.88669931,  31243.50356604,  77385.15983117,  68837.37238168,\n",
       "        52143.76569888,  42755.65544249,  75878.58790798,  13222.53766924,\n",
       "        39553.18514794,  60730.71632901,  31243.50356604,  43591.36357179,\n",
       "        34068.51551632,  68816.71209811,  42522.83520432,  76568.34142501,\n",
       "        60670.64914085,  59270.43868721,  68565.5103998 ])"
      ]
     },
     "execution_count": 379,
     "metadata": {},
     "output_type": "execute_result"
    }
   ],
   "source": [
    "lm.fit(X,Y)\n",
    "yhat=lm.predict(X)\n",
    "yhat"
   ]
  },
  {
   "cell_type": "code",
   "execution_count": 380,
   "id": "6c49082c",
   "metadata": {},
   "outputs": [
    {
     "data": {
      "text/plain": [
       "array([-1.22435066e+02,  4.53328797e+02,  7.03652271e+00,  7.11919680e+03,\n",
       "       -4.86838064e+01])"
      ]
     },
     "execution_count": 380,
     "metadata": {},
     "output_type": "execute_result"
    }
   ],
   "source": [
    "lm.coef_"
   ]
  },
  {
   "cell_type": "code",
   "execution_count": 381,
   "id": "0fa5abb3",
   "metadata": {},
   "outputs": [
    {
     "data": {
      "text/plain": [
       "-36353.348347978324"
      ]
     },
     "execution_count": 381,
     "metadata": {},
     "output_type": "execute_result"
    }
   ],
   "source": [
    "lm.intercept_"
   ]
  },
  {
   "cell_type": "code",
   "execution_count": 382,
   "id": "d71843f0",
   "metadata": {},
   "outputs": [
    {
     "data": {
      "text/plain": [
       "array([ 85394.99276634,  42962.96753036,  73630.68467492,  58275.15107149,\n",
       "        28352.72023318, 107761.21034618,  37867.04796709,  31724.3434183 ,\n",
       "        81050.28459899,  59250.71899548,  58066.81784643,  35761.0457057 ,\n",
       "        40529.72053832,  69680.97880946,  45807.18486786,  44026.81957833,\n",
       "       108547.51180115,  14413.02800416,  25379.97281197,  31578.47487745,\n",
       "        31724.3434183 ,  77417.7633564 ,  42519.49230828, 101012.83642416,\n",
       "        97837.47047114,  43545.59269939,  43697.00821931,  51786.23157172,\n",
       "        31686.88198129,  30720.51542247,  68147.61886464,  46817.17568394,\n",
       "        24753.15285506,  93472.39029831,  37383.30571567,  42077.14553491,\n",
       "        42003.27622882,  43800.57799122,  27071.18942998,  62076.48131398,\n",
       "       106775.57039745,  34116.71189272,  73665.28909321,  14364.05397794,\n",
       "        14364.05397794,  39553.18514794,  31806.32857627, 105160.08310741,\n",
       "        65000.48920201,  37987.12867258,  73121.58699526, 195885.28516695,\n",
       "        30950.43326149,  43386.42711419, 104905.78559691,  28499.64231183,\n",
       "        30696.02840937,  16233.96107769,  37692.79014698, 111656.25229277,\n",
       "        24525.69671772,  88071.41288788,  42943.82255168,  73475.19758606,\n",
       "        59176.05394072, 105484.90685747,  52007.36157936,  82412.45548644,\n",
       "        54233.21576184,  58719.60429475,  36039.22613458,  42979.24171429,\n",
       "       104290.98735449,  68447.91246559,  34237.70501163,  40474.53226547,\n",
       "        59564.50325442,  13124.58961681,  58232.36866966, 108993.55606652,\n",
       "        43591.36357179, 104812.38445595,  13732.60505972,  58883.84376093,\n",
       "        57634.88669931,  31243.50356604,  77385.15983117,  68837.37238168,\n",
       "        52143.76569888,  42755.65544249,  75878.58790798,  13222.53766924,\n",
       "        39553.18514794,  60730.71632901,  31243.50356604,  43591.36357179,\n",
       "        34068.51551632,  68816.71209811,  42522.83520432,  76568.34142501,\n",
       "        60670.64914085,  59270.43868721,  68565.5103998 ])"
      ]
     },
     "execution_count": 382,
     "metadata": {},
     "output_type": "execute_result"
    }
   ],
   "source": [
    "yhat=lm.predict(X)\n",
    "yhat"
   ]
  },
  {
   "cell_type": "code",
   "execution_count": 384,
   "id": "01519be8",
   "metadata": {},
   "outputs": [
    {
     "name": "stderr",
     "output_type": "stream",
     "text": [
      "C:\\Users\\HP\\anaconda3\\lib\\site-packages\\seaborn\\distributions.py:2619: FutureWarning:\n",
      "\n",
      "`distplot` is a deprecated function and will be removed in a future version. Please adapt your code to use either `displot` (a figure-level function with similar flexibility) or `kdeplot` (an axes-level function for kernel density plots).\n",
      "\n",
      "C:\\Users\\HP\\anaconda3\\lib\\site-packages\\seaborn\\distributions.py:2619: FutureWarning:\n",
      "\n",
      "`distplot` is a deprecated function and will be removed in a future version. Please adapt your code to use either `displot` (a figure-level function with similar flexibility) or `kdeplot` (an axes-level function for kernel density plots).\n",
      "\n"
     ]
    },
    {
     "data": {
      "image/png": "[encoded data removed]",
      "text/plain": [
       "<Figure size 432x288 with 1 Axes>"
      ]
     },
     "metadata": {
      "needs_background": "light"
     },
     "output_type": "display_data"
    }
   ],
   "source": [
    "ax1 = sns.distplot(EV[\"PriceEuro\"], hist=False, color=\"r\", label=\"Actual Value\")\n",
    "sns.distplot(yhat, hist=False, color=\"b\", label=\"Fitted Values\" , ax=ax1)\n",
    "\n",
    "\n",
    "plt.title('Actual vs Fitted Values for Price')\n",
    "plt.xlabel('Price (in dollars)')\n",
    "plt.ylabel('Proportion of Cars')\n",
    "\n",
    "plt.show()\n",
    "plt.close()"
   ]
  },
  {
   "cell_type": "code",
   "execution_count": 385,
   "id": "346445d1",
   "metadata": {},
   "outputs": [
    {
     "data": {
      "text/plain": [
       "0.7484471670432014"
      ]
     },
     "execution_count": 385,
     "metadata": {},
     "output_type": "execute_result"
    }
   ],
   "source": [
    "lm.score(X,Y)"
   ]
  }
 ],
 "metadata": {
  "kernelspec": {
   "display_name": "Python 3 (ipykernel)",
   "language": "python",
   "name": "python3"
  },
  "language_info": {
   "codemirror_mode": {
    "name": "ipython",
    "version": 3
   },
   "file_extension": ".py",
   "mimetype": "text/x-python",
   "name": "python",
   "nbconvert_exporter": "python",
   "pygments_lexer": "ipython3",
   "version": "3.9.12"
  }
 },
 "nbformat": 4,
 "nbformat_minor": 5
}
